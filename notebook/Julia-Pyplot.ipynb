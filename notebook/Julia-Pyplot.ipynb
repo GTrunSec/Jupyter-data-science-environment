{
 "cells": [
  {
   "cell_type": "markdown",
   "metadata": {},
   "source": [
    "Pkg.add(\"Plots\");\n",
    "import Pkg; Pkg.add(\"PyPlot\");"
   ]
  },
  {
   "cell_type": "code",
   "execution_count": null,
   "metadata": {},
   "outputs": [],
   "source": [
    "using Plots; pyplot()\n",
    "\n",
    "function hailLength(x::Int)\n",
    "    n = 0\n",
    "    while x != 1\n",
    "        if x % 2 == 0\n",
    "            x = Int(x/2)\n",
    "        else\n",
    "            x = 3x +1\n",
    "        end\n",
    "        n += 1\n",
    "    end\n",
    "    return n\n",
    "end\n",
    "\n",
    "lengths = [hailLength(x0) for x0 in 2:10^7]\n",
    "\n",
    "histogram(lengths, bins=1000, normed=:true, \n",
    "    fill=(:blue, true), la=0, legend=:none,\n",
    "    xlims=(0, 500), ylims=(0, 0.012),\n",
    "    xlabel=\"Length\", ylabel=\"Frequency\")"
   ]
  },
  {
   "cell_type": "code",
   "execution_count": null,
   "metadata": {},
   "outputs": [],
   "source": [
    "using Pkg"
   ]
  },
  {
   "cell_type": "code",
   "execution_count": null,
   "metadata": {},
   "outputs": [],
   "source": [
    "using IJulia"
   ]
  },
  {
   "cell_type": "raw",
   "metadata": {},
   "source": []
  }
 ],
 "metadata": {
  "kernelspec": {
   "display_name": "Julia - Julia-data-env",
   "language": "julia",
   "name": "ijulia-data-env"
  },
  "language_info": {
   "file_extension": ".jl",
   "mimetype": "application/julia",
   "name": "julia",
   "version": "1.5.3"
  }
 },
 "nbformat": 4,
 "nbformat_minor": 4
}
