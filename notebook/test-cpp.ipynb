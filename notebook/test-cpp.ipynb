{
 "cells": [
  {
   "cell_type": "code",
   "execution_count": 1,
   "metadata": {},
   "outputs": [],
   "source": [
    "// C++ implementation to find the sum of\n",
    "// nodes of the Linked List\n",
    "#include <bits/stdc++.h>\n",
    "using namespace std;\n",
    "\n",
    "/* A Linked list node */\n",
    "struct Node {\n",
    "    int data;\n",
    "    struct Node* next;\n",
    "};\n"
   ]
  },
  {
   "cell_type": "code",
   "execution_count": 2,
   "metadata": {},
   "outputs": [],
   "source": [
    "void push(struct Node** head_ref, int new_data)\n",
    "{\n",
    "    /* allocate node */\n",
    "    struct Node* new_node = new Node;\n",
    "\n",
    "    /* put in the data */\n",
    "    new_node->data = new_data;\n",
    "\n",
    "    /* link the old list to the new node */\n",
    "    new_node->next = (*head_ref);\n",
    "\n",
    "    /* move the head to point to the new node */\n",
    "    (*head_ref) = new_node;\n",
    "}"
   ]
  },
  {
   "cell_type": "code",
   "execution_count": 3,
   "metadata": {},
   "outputs": [],
   "source": [
    "void sumOfNodes(struct Node* head, int* sum)\n",
    "{\n",
    "    // if head = NULL\n",
    "    if (!head)\n",
    "        return;\n",
    "\n",
    "    // recursively traverse the remaining nodes\n",
    "    sumOfNodes(head->next, sum);\n",
    "\n",
    "    // accumulate sum\n",
    "    *sum = *sum + head->data;\n",
    "}\n"
   ]
  },
  {
   "cell_type": "code",
   "execution_count": 4,
   "metadata": {},
   "outputs": [],
   "source": [
    "int sumOfNodesUtil(struct Node* head)\n",
    "{\n",
    "\n",
    "    int sum = 0;\n",
    "\n",
    "    // find the sum of  nodes\n",
    "    sumOfNodes(head, &sum);\n",
    "\n",
    "    // required sum\n",
    "    return sum;\n",
    "}\n"
   ]
  },
  {
   "cell_type": "code",
   "execution_count": 5,
   "metadata": {},
   "outputs": [
    {
     "name": "stdout",
     "output_type": "stream",
     "text": [
      "Sum of nodes = 26\n"
     ]
    }
   ],
   "source": [
    "struct Node* head = NULL;\n",
    "// create linked list 7->6->8->4->1\n",
    "push(&head, 7);\n",
    "push(&head, 6);\n",
    "push(&head, 8);\n",
    "push(&head, 4);\n",
    "push(&head, 1);\n",
    "\n",
    "std::cout << \"Sum of nodes = \" << sumOfNodesUtil(head)<< std::endl;"
   ]
  },
  {
   "cell_type": "code",
   "execution_count": 6,
   "metadata": {},
   "outputs": [
    {
     "name": "stdout",
     "output_type": "stream",
     "text": [
      "some output\n"
     ]
    }
   ],
   "source": [
    "std::cout << \"some output\" << std::endl;"
   ]
  },
  {
   "cell_type": "code",
   "execution_count": null,
   "metadata": {},
   "outputs": [],
   "source": []
  }
 ],
 "metadata": {
  "kernelspec": {
   "display_name": "C++ - cxx-kernel",
   "language": "C++17",
   "name": "xeuscling_cxx-kernel"
  },
  "language_info": {
   "codemirror_mode": "text/x-c++src",
   "file_extension": ".cpp",
   "mimetype": "text/x-c++src",
   "name": "c++",
   "version": "17"
  }
 },
 "nbformat": 4,
 "nbformat_minor": 4
}
