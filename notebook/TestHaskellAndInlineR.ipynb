{
 "cells": [
  {
   "cell_type": "raw",
   "metadata": {},
   "source": [
    ":set -fno-ghci-sandbox"
   ]
  },
  {
   "cell_type": "raw",
   "metadata": {},
   "source": [
    "{-# LANGUAGE TemplateHaskell #-}\n",
    "{-# LANGUAGE QuasiQuotes #-}"
   ]
  },
  {
   "cell_type": "code",
   "execution_count": 3,
   "metadata": {},
   "outputs": [
    {
     "ename": "",
     "evalue": "",
     "header": "MessageHeader {mhIdentifiers = [\"b2f1a146-31d7-4df1-bc0d-85e900ffd746\"], mhParentHeader = Just (MessageHeader {mhIdentifiers = [\"b2f1a146-31d7-4df1-bc0d-85e900ffd746\"], mhParentHeader = Nothing, mhMetadata = Metadata (fromList [(\"recordTiming\",Bool False),(\"deletedCells\",Array []),(\"cellId\",String \"c62d3cdb-20ee-4d70-80d7-8982172b631c\")]), mhMessageId = UUID {uuidToString = \"e387832a-e031-46aa-9b5f-64c479e6daf1\"}, mhSessionId = UUID {uuidToString = \"b2f1a146-31d7-4df1-bc0d-85e900ffd746\"}, mhUsername = \"\", mhMsgType = ExecuteRequestMessage, mhBuffers = []}), mhMetadata = Metadata (fromList []), mhMessageId = UUID {uuidToString = \"313db783-cf81-4b3b-9703-94b36823a0e4\"}, mhSessionId = UUID {uuidToString = \"b2f1a146-31d7-4df1-bc0d-85e900ffd746\"}, mhUsername = \"\", mhMsgType = ExecuteErrorMessage, mhBuffers = []}",
     "output_type": "error",
     "traceback": [
      "Parse error (line 1, column 1): Unknown directive: 'show'."
     ]
    }
   ],
   "source": [
    ":show modules"
   ]
  },
  {
   "cell_type": "code",
   "execution_count": 4,
   "metadata": {},
   "outputs": [],
   "source": [
    "import qualified Language.R as R\n",
    "import Language.R.QQ"
   ]
  },
  {
   "cell_type": "code",
   "execution_count": 5,
   "metadata": {},
   "outputs": [
    {
     "data": {
      "text/html": [
       "<style>/* Styles used for the Hoogle display in the pager */\n",
       ".hoogle-doc {\n",
       "display: block;\n",
       "padding-bottom: 1.3em;\n",
       "padding-left: 0.4em;\n",
       "}\n",
       ".hoogle-code {\n",
       "display: block;\n",
       "font-family: monospace;\n",
       "white-space: pre;\n",
       "}\n",
       ".hoogle-text {\n",
       "display: block;\n",
       "}\n",
       ".hoogle-name {\n",
       "color: green;\n",
       "font-weight: bold;\n",
       "}\n",
       ".hoogle-head {\n",
       "font-weight: bold;\n",
       "}\n",
       ".hoogle-sub {\n",
       "display: block;\n",
       "margin-left: 0.4em;\n",
       "}\n",
       ".hoogle-package {\n",
       "font-weight: bold;\n",
       "font-style: italic;\n",
       "}\n",
       ".hoogle-module {\n",
       "font-weight: bold;\n",
       "}\n",
       ".hoogle-class {\n",
       "font-weight: bold;\n",
       "}\n",
       ".get-type {\n",
       "color: green;\n",
       "font-weight: bold;\n",
       "font-family: monospace;\n",
       "display: block;\n",
       "white-space: pre-wrap;\n",
       "}\n",
       ".show-type {\n",
       "color: green;\n",
       "font-weight: bold;\n",
       "font-family: monospace;\n",
       "margin-left: 1em;\n",
       "}\n",
       ".mono {\n",
       "font-family: monospace;\n",
       "display: block;\n",
       "}\n",
       ".err-msg {\n",
       "color: red;\n",
       "font-style: italic;\n",
       "font-family: monospace;\n",
       "white-space: pre;\n",
       "display: block;\n",
       "}\n",
       "#unshowable {\n",
       "color: red;\n",
       "font-weight: bold;\n",
       "}\n",
       ".err-msg.in.collapse {\n",
       "padding-top: 0.7em;\n",
       "}\n",
       ".highlight-code {\n",
       "white-space: pre;\n",
       "font-family: monospace;\n",
       "}\n",
       ".suggestion-warning { \n",
       "font-weight: bold;\n",
       "color: rgb(200, 130, 0);\n",
       "}\n",
       ".suggestion-error { \n",
       "font-weight: bold;\n",
       "color: red;\n",
       "}\n",
       ".suggestion-name {\n",
       "font-weight: bold;\n",
       "}\n",
       "</style><span class='get-type'>R.runRegion :: forall a. NFData a => (forall s. R s a) -> IO a</span>"
      ],
      "text/plain": [
       "R.runRegion :: forall a. NFData a => (forall s. R s a) -> IO a"
      ]
     },
     "metadata": {},
     "output_type": "display_data"
    }
   ],
   "source": [
    ":t R.runRegion"
   ]
  },
  {
   "cell_type": "code",
   "execution_count": 6,
   "metadata": {},
   "outputs": [
    {
     "data": {
      "text/html": [
       "<style>/* Styles used for the Hoogle display in the pager */\n",
       ".hoogle-doc {\n",
       "display: block;\n",
       "padding-bottom: 1.3em;\n",
       "padding-left: 0.4em;\n",
       "}\n",
       ".hoogle-code {\n",
       "display: block;\n",
       "font-family: monospace;\n",
       "white-space: pre;\n",
       "}\n",
       ".hoogle-text {\n",
       "display: block;\n",
       "}\n",
       ".hoogle-name {\n",
       "color: green;\n",
       "font-weight: bold;\n",
       "}\n",
       ".hoogle-head {\n",
       "font-weight: bold;\n",
       "}\n",
       ".hoogle-sub {\n",
       "display: block;\n",
       "margin-left: 0.4em;\n",
       "}\n",
       ".hoogle-package {\n",
       "font-weight: bold;\n",
       "font-style: italic;\n",
       "}\n",
       ".hoogle-module {\n",
       "font-weight: bold;\n",
       "}\n",
       ".hoogle-class {\n",
       "font-weight: bold;\n",
       "}\n",
       ".get-type {\n",
       "color: green;\n",
       "font-weight: bold;\n",
       "font-family: monospace;\n",
       "display: block;\n",
       "white-space: pre-wrap;\n",
       "}\n",
       ".show-type {\n",
       "color: green;\n",
       "font-weight: bold;\n",
       "font-family: monospace;\n",
       "margin-left: 1em;\n",
       "}\n",
       ".mono {\n",
       "font-family: monospace;\n",
       "display: block;\n",
       "}\n",
       ".err-msg {\n",
       "color: red;\n",
       "font-style: italic;\n",
       "font-family: monospace;\n",
       "white-space: pre;\n",
       "display: block;\n",
       "}\n",
       "#unshowable {\n",
       "color: red;\n",
       "font-weight: bold;\n",
       "}\n",
       ".err-msg.in.collapse {\n",
       "padding-top: 0.7em;\n",
       "}\n",
       ".highlight-code {\n",
       "white-space: pre;\n",
       "font-family: monospace;\n",
       "}\n",
       ".suggestion-warning { \n",
       "font-weight: bold;\n",
       "color: rgb(200, 130, 0);\n",
       "}\n",
       ".suggestion-error { \n",
       "font-weight: bold;\n",
       "color: red;\n",
       "}\n",
       ".suggestion-name {\n",
       "font-weight: bold;\n",
       "}\n",
       "</style><span class='get-type'>[r| print(pi) |] :: forall (m :: * -> *). MonadR m => m (SomeSEXP (PrimState m))</span>"
      ],
      "text/plain": [
       "[r| print(pi) |] :: forall (m :: * -> *). MonadR m => m (SomeSEXP (PrimState m))"
      ]
     },
     "metadata": {},
     "output_type": "display_data"
    }
   ],
   "source": [
    ":t [r| print(pi) |]"
   ]
  },
  {
   "cell_type": "code",
   "execution_count": 7,
   "metadata": {},
   "outputs": [
    {
     "data": {
      "text/plain": [
       "[1] 3.141593"
      ]
     },
     "metadata": {},
     "output_type": "display_data"
    }
   ],
   "source": [
    "(R.runRegion $ do _ <- [r| print(pi) |]; return ())"
   ]
  },
  {
   "cell_type": "code",
   "execution_count": 8,
   "metadata": {},
   "outputs": [
    {
     "data": {
      "text/plain": [
       "[1] \"compiler\"  \"graphics\"  \"utils\"     \"grDevices\" \"stats\"     \"datasets\" \n",
       "[7] \"methods\"   \"base\""
      ]
     },
     "metadata": {},
     "output_type": "display_data"
    }
   ],
   "source": [
    "R.runRegion $ do x <- [r| loadedNamespaces() |]; [r| print(x_hs) |]; return ()"
   ]
  },
  {
   "cell_type": "code",
   "execution_count": 9,
   "metadata": {},
   "outputs": [
    {
     "data": {
      "text/plain": [
       "[1] \"cmaes\"     \"stats\"     \"graphics\"  \"grDevices\" \"utils\"     \"datasets\" \n",
       "[7] \"methods\"   \"base\""
      ]
     },
     "metadata": {},
     "output_type": "display_data"
    }
   ],
   "source": [
    "R.runRegion $ do x <- [r| library(cmaes) |]; [r| print(x_hs) |]; return ()"
   ]
  },
  {
   "cell_type": "code",
   "execution_count": 10,
   "metadata": {},
   "outputs": [
    {
     "data": {
      "text/plain": [
       "[1] \"compiler\"  \"graphics\"  \"utils\"     \"grDevices\" \"stats\"     \"datasets\" \n",
       "[7] \"cmaes\"     \"methods\"   \"base\""
      ]
     },
     "metadata": {},
     "output_type": "display_data"
    }
   ],
   "source": [
    "R.runRegion $ do x <- [r| loadedNamespaces() |]; [r| print(x_hs) |]; return ()"
   ]
  },
  {
   "cell_type": "code",
   "execution_count": 11,
   "metadata": {},
   "outputs": [
    {
     "data": {
      "text/plain": [
       "$par\n",
       "[1] -0.0001348102  0.0011991684\n",
       "\n",
       "$value\n",
       "[1] 1.456179e-06\n",
       "\n",
       "$counts\n",
       "function gradient \n",
       "     150       NA \n",
       "\n",
       "$convergence\n",
       "[1] 0\n",
       "\n",
       "$message\n",
       "[1] \"Stop fitness reached.\"\n",
       "\n",
       "$constr.violations\n",
       "[1] 0\n",
       "\n",
       "$diagnostic\n",
       "list()\n",
       "\n",
       "attr(,\"class\")\n",
       "[1] \"cma_es.result\""
      ]
     },
     "metadata": {},
     "output_type": "display_data"
    }
   ],
   "source": [
    "R.runRegion $ do x <- [r| cma_es(c(0, 0), function(x, ...) drop(crossprod(x)), lower=rep(-10, 2), upper=rep(10, 2), control=list(stopfitness=1e-5, maxit=400)) |]; [r| print(x_hs) |]; return ()"
   ]
  },
  {
   "cell_type": "code",
   "execution_count": 12,
   "metadata": {},
   "outputs": [],
   "source": [
    ":set -XLambdaCase\n",
    ":set -XDataKinds\n",
    ":set -XGADTs\n",
    ":set -XFlexibleContexts\n",
    ":set -XScopedTypeVariables"
   ]
  },
  {
   "cell_type": "code",
   "execution_count": 13,
   "metadata": {},
   "outputs": [],
   "source": [
    "import qualified Language.R.Matcher as M\n",
    "import qualified Data.Vector.SEXP as V\n",
    "import qualified Language.R.HExp as H\n",
    "import           Language.R (R)"
   ]
  },
  {
   "cell_type": "code",
   "execution_count": 14,
   "metadata": {},
   "outputs": [],
   "source": [
    "int2limVV :: forall s . ([Double] -> Double) -> [Double] -> [Double] -> R s Double\n",
    "int2limVV g l h = do\n",
    "  ss <- [r| hcubature (function (x) matrix(f_hs(x)),\n",
    "                       lowerLimit = l_hs,\n",
    "                       upperLimit = h_hs,\n",
    "                       maxEval = 0,\n",
    "                       vectorInterface=TRUE) |]\n",
    "  R.fromSEXP . R.cast R.SReal <$> [r| ss_hs$integral |]\n",
    "  where\n",
    "    f :: R.SEXP s 'R.Real -> R s [Double]\n",
    "    f w = M.matchOnly go (R.SomeSEXP w) >>= \\case\n",
    "            Left e -> error (show e)\n",
    "            Right xss -> pure $ map g xss\n",
    "      where\n",
    "        go = do\n",
    "           M.hexp R.SReal $ \\(H.Real v) -> do\n",
    "              foo <- M.dim\n",
    "              case foo of\n",
    "                [n,m] -> pure $ map (\\jj -> map (\\ii -> v V.! (jj * n + ii)) [0..n-1]) [0..m-1]\n",
    "                otherwise -> error \"foo\""
   ]
  },
  {
   "cell_type": "code",
   "execution_count": 15,
   "metadata": {},
   "outputs": [],
   "source": [
    "r0 = R.runRegion $ do\n",
    "  _ <- [r| require(cubature) |]\n",
    "  let g :: [Double] -> Double\n",
    "      g [a, b] = exp(negate (a*a + b*b) / 2) / (2 * pi)\n",
    "      g xs     = error $ show xs\n",
    "  int2limVV g [(-3.0), (-3.0)] [3.0, 3.0]"
   ]
  },
  {
   "cell_type": "code",
   "execution_count": 16,
   "metadata": {},
   "outputs": [
    {
     "data": {
      "text/plain": [
       "Loading required package: cubature\n",
       "0.9946063639261128"
      ]
     },
     "metadata": {},
     "output_type": "display_data"
    }
   ],
   "source": [
    "r0"
   ]
  },
  {
   "cell_type": "code",
   "execution_count": 17,
   "metadata": {},
   "outputs": [],
   "source": [
    "cmaes :: forall s . ([Double] -> Double) -> [Double] -> [Double] -> [Double] -> R s (Double, [Double])\n",
    "cmaes g i l h = do\n",
    "  ss <- [r| cma_es (function (x) f_hs(x),\n",
    "                       par = i_hs,\n",
    "                       lower = l_hs,\n",
    "                       upper = h_hs,\n",
    "                       control=list(stopfitness=1e-5, maxit=400)) |]\n",
    "  pars :: [Double] <- R.dynSEXP <$> [r| ss_hs$par |]\n",
    "  value :: Double <- R.dynSEXP <$> [r| ss_hs$value |]\n",
    "  return (value, pars)\n",
    "  where\n",
    "    f :: R.SEXP s 'R.Real -> R s Double\n",
    "    f w = M.matchOnly go (R.SomeSEXP w) >>= \\case\n",
    "            Left e -> error (\"You are here: \" ++ show e)\n",
    "            Right xs -> pure $ g xs\n",
    "      where\n",
    "        go :: M.Matcher s [Double]\n",
    "        go = do\n",
    "           M.hexp R.SReal $ \\(H.Real v) -> do\n",
    "              return $ V.toList v"
   ]
  },
  {
   "cell_type": "code",
   "execution_count": 18,
   "metadata": {},
   "outputs": [
    {
     "data": {
      "text/plain": [
       "(1.4421873591480634e-6,[-7.158460228092666e-4,-9.642363977657234e-4])"
      ]
     },
     "metadata": {},
     "output_type": "display_data"
    }
   ],
   "source": [
    "  r0 <- R.runRegion $ do\n",
    "    baz <- [r| require(cmaes) |]\n",
    "    let g :: [Double] -> Double\n",
    "        g [a, b] = a*a + b*b\n",
    "        g xs     = error $ show xs\n",
    "    cmaes g [0.0, 0.0] [(-10.0), (-10.0)] [10.0, 10.0]\n",
    "  print r0"
   ]
  },
  {
   "cell_type": "code",
   "execution_count": 19,
   "metadata": {},
   "outputs": [
    {
     "data": {
      "text/plain": [
       "(3.5229358577225328e-6,[1.7184266828725384e-3,-7.522983850872661e-4,6.3188077271814e-5])"
      ]
     },
     "metadata": {},
     "output_type": "display_data"
    }
   ],
   "source": [
    "  r1 <- R.runRegion $ do\n",
    "    _ <- [r| require(cmaes) |]\n",
    "    let g :: [Double] -> Double\n",
    "        g [a, b, c] = a*a + b*b + c*c\n",
    "        g xs     = error $ show xs\n",
    "    cmaes g [0.0, 0.0, 0.0] [(-10.0), (-10.0), (-10.0)] [10.0, 10.0, 10.0]\n",
    "  print r1"
   ]
  },
  {
   "cell_type": "markdown",
   "metadata": {},
   "source": [
    "# Example"
   ]
  },
  {
   "cell_type": "code",
   "execution_count": 20,
   "metadata": {},
   "outputs": [
    {
     "ename": "",
     "evalue": "",
     "header": "MessageHeader {mhIdentifiers = [\"b2f1a146-31d7-4df1-bc0d-85e900ffd746\"], mhParentHeader = Just (MessageHeader {mhIdentifiers = [\"b2f1a146-31d7-4df1-bc0d-85e900ffd746\"], mhParentHeader = Nothing, mhMetadata = Metadata (fromList [(\"recordTiming\",Bool False),(\"deletedCells\",Array []),(\"cellId\",String \"5b6adc26-3b19-4d0e-8179-ae7de5ac3d19\")]), mhMessageId = UUID {uuidToString = \"abd3cd1d-407f-4d91-b925-943d35d38ea9\"}, mhSessionId = UUID {uuidToString = \"b2f1a146-31d7-4df1-bc0d-85e900ffd746\"}, mhUsername = \"\", mhMsgType = ExecuteRequestMessage, mhBuffers = []}), mhMetadata = Metadata (fromList []), mhMessageId = UUID {uuidToString = \"62d41478-91da-4316-a76e-f0a439ecadd0\"}, mhSessionId = UUID {uuidToString = \"b2f1a146-31d7-4df1-bc0d-85e900ffd746\"}, mhUsername = \"\", mhMsgType = ExecuteErrorMessage, mhBuffers = []}",
     "output_type": "error",
     "traceback": [
      "Parse error (line 1, column 165): parse error on input ‘of’"
     ]
    }
   ],
   "source": [
    "We wish to see if when we are given enough samples from a multivariate normal distribution together with their probability density then we can infer the parameters of the generating distribution using CMAES."
   ]
  },
  {
   "cell_type": "markdown",
   "metadata": {},
   "source": [
    "We need to have a well formed covariance matrix"
   ]
  },
  {
   "cell_type": "markdown",
   "metadata": {},
   "source": [
    "$$\\mathrm{K}_{\\mathrm{XX}}=\\operatorname{cov}[\\mathbf{X}, \\mathbf{X}]=\\mathrm{E}\\left[\\left(\\mathbf{X}-\\mu_{\\mathbf{X}}\\right)\\left(\\mathbf{X}-\\mu_{\\mathbf{X}}\\right)^{\\mathrm{T}}\\right]=\\mathbf{E}\\left[\\mathbf{X} \\mathbf{X}^{T}\\right]-\\mu_{\\mathbf{X}} \\mu_{\\mathbf{X}}^{T}$$"
   ]
  },
  {
   "cell_type": "markdown",
   "metadata": {},
   "source": [
    "We can generate one of these from a vector of variances and a\n",
    " correlation matrix. Recall that in a correlation matrix all the\n",
    " diaganols are $1$ and the other entries are in $[-1,1]$."
   ]
  },
  {
   "cell_type": "markdown",
   "metadata": {},
   "source": [
    "$$\\operatorname{corr}(\\mathbf{X})=\\left(\\operatorname{diag}\\left(\\mathbf{K}_{\\mathbf{X} \\mathbf{X}}\\right)\\right)^{-\\frac{1}{2}} \\mathbf{K}_{\\mathbf{X X}}\\left(\\operatorname{diag}\\left(\\mathbf{K}_{\\mathbf{X} \\mathbf{X}}\\right)\\right)^{-\\frac{1}{2}}$$"
   ]
  },
  {
   "cell_type": "markdown",
   "metadata": {},
   "source": [
    "$$\\sigma^2 = \\operatorname{diag}(\\mathbf{K}_{\\mathbf{XX}})$$"
   ]
  },
  {
   "cell_type": "markdown",
   "metadata": {},
   "source": [
    "$$\\rho = \\operatorname{corr}(\\mathbf{X})$$"
   ]
  },
  {
   "cell_type": "markdown",
   "metadata": {},
   "source": [
    "$$\\rho = \\left(\\operatorname{diag}\\left(\\sigma^2\\right)^{-\\frac{1}{2}}\\right)\n",
    "         \\mathbf{K}_{\\mathbf{X X}}\n",
    "         \\left(\\operatorname{diag}\\left(\\sigma^2)\\right)^{-\\frac{1}{2}}\\right)$$"
   ]
  },
  {
   "cell_type": "markdown",
   "metadata": {},
   "source": [
    "$$\\mathbf{K}_{\\mathbf{XX}} = \\operatorname{diag}(\\mathbf{\\sigma})\\operatorname{corr}(\\mathbf{X})\\operatorname{diag}(\\mathbf{\\sigma})$$"
   ]
  },
  {
   "cell_type": "code",
   "execution_count": 21,
   "metadata": {},
   "outputs": [],
   "source": [
    "import GHC.TypeLits\n",
    "import Data.Proxy"
   ]
  },
  {
   "cell_type": "code",
   "execution_count": 22,
   "metadata": {},
   "outputs": [],
   "source": [
    "import qualified Numeric.LinearAlgebra.Static as LS\n",
    "import Prelude hiding ((<>))\n",
    "import Numeric.LinearAlgebra.Static ((<>))"
   ]
  },
  {
   "cell_type": "code",
   "execution_count": 23,
   "metadata": {},
   "outputs": [],
   "source": [
    "corrToCov :: KnownNat n => LS.R n -> LS.Sq n -> LS.Sq n\n",
    "corrToCov sigma rho = kHalf <> rho <> kHalf\n",
    "  where\n",
    "    kHalf = LS.diag sigma"
   ]
  },
  {
   "cell_type": "markdown",
   "metadata": {},
   "source": [
    "Now we can create example samples from a bivariate normal. Note that\n",
    " we fix the means to be $0$ but this could be generalized\n",
    " straightforwardly."
   ]
  },
  {
   "cell_type": "code",
   "execution_count": 24,
   "metadata": {},
   "outputs": [],
   "source": [
    ":set -XDataKinds"
   ]
  },
  {
   "cell_type": "code",
   "execution_count": 25,
   "metadata": {},
   "outputs": [
    {
     "ename": "",
     "evalue": "",
     "header": "MessageHeader {mhIdentifiers = [\"b2f1a146-31d7-4df1-bc0d-85e900ffd746\"], mhParentHeader = Just (MessageHeader {mhIdentifiers = [\"b2f1a146-31d7-4df1-bc0d-85e900ffd746\"], mhParentHeader = Nothing, mhMetadata = Metadata (fromList [(\"recordTiming\",Bool False),(\"deletedCells\",Array []),(\"cellId\",String \"6f648d8a-0683-4144-a9c3-61b7b29d6c3b\")]), mhMessageId = UUID {uuidToString = \"42a9b2e3-e667-4412-8c7b-728b83b83e71\"}, mhSessionId = UUID {uuidToString = \"b2f1a146-31d7-4df1-bc0d-85e900ffd746\"}, mhUsername = \"\", mhMsgType = ExecuteRequestMessage, mhBuffers = []}), mhMetadata = Metadata (fromList []), mhMessageId = UUID {uuidToString = \"8f48a980-48ca-4656-85dc-94a790725f25\"}, mhSessionId = UUID {uuidToString = \"b2f1a146-31d7-4df1-bc0d-85e900ffd746\"}, mhUsername = \"\", mhMsgType = ExecuteErrorMessage, mhBuffers = []}",
     "output_type": "error",
     "traceback": [
      "<interactive>:1:1: error:\n    Could not find module ‘Data.Random.Distribution.Static.MultivariateNormal’\n    Use -v (or `:set -v` in ghci) to see a list of the files searched for."
     ]
    }
   ],
   "source": [
    "import qualified Data.Random as R\n",
    "import Data.Random.Source.PureMT\n",
    "import Control.Monad.State\n",
    "import Data.Random.Distribution.Static.MultivariateNormal"
   ]
  },
  {
   "cell_type": "code",
   "execution_count": 26,
   "metadata": {},
   "outputs": [
    {
     "ename": "",
     "evalue": "",
     "header": "MessageHeader {mhIdentifiers = [\"b2f1a146-31d7-4df1-bc0d-85e900ffd746\"], mhParentHeader = Just (MessageHeader {mhIdentifiers = [\"b2f1a146-31d7-4df1-bc0d-85e900ffd746\"], mhParentHeader = Nothing, mhMetadata = Metadata (fromList [(\"recordTiming\",Bool False),(\"deletedCells\",Array []),(\"cellId\",String \"4dce07e4-748c-4d08-90c9-0dba15bbe98e\")]), mhMessageId = UUID {uuidToString = \"1baf9a3a-b63e-469e-a66d-2fbcb44d1d5e\"}, mhSessionId = UUID {uuidToString = \"b2f1a146-31d7-4df1-bc0d-85e900ffd746\"}, mhUsername = \"\", mhMsgType = ExecuteRequestMessage, mhBuffers = []}), mhMetadata = Metadata (fromList []), mhMessageId = UUID {uuidToString = \"6c1e9302-a41e-4f7a-88e3-fd1fab81aaca\"}, mhSessionId = UUID {uuidToString = \"b2f1a146-31d7-4df1-bc0d-85e900ffd746\"}, mhUsername = \"\", mhMsgType = ExecuteErrorMessage, mhBuffers = []}",
     "output_type": "error",
     "traceback": [
      "<interactive>:8:27: error:\n    • Data constructor not in scope: Normal :: LS.R n0 -> LS.Sym n1 -> d0 (LS.R 2)\n    • Perhaps you meant one of these: ‘R.Normal’ (imported from Data.Random), ‘IHaskellTH.NormalB’ (imported from Language.Haskell.TH), ‘IHaskellTH.NormalC’ (imported from Language.Haskell.TH)"
     ]
    }
   ],
   "source": [
    "nSamples :: Int\n",
    "nSamples = 1000\n",
    "\n",
    "sigma1, sigma2, rho12 :: Double\n",
    "sigma1 = 3.0\n",
    "sigma2 = 1.0\n",
    "rho12 = 0.5\n",
    "\n",
    "singleSample :: R.RVarT (State PureMT) (LS.R 2)\n",
    "singleSample = R.sample $ Normal (LS.vector [0.0, 0.0])\n",
    "               (LS.sym $ LS.matrix [ sigma1, rho12 * sqrt sigma1 * sqrt sigma2\n",
    "                                   , rho12 * sqrt sigma1 * sqrt sigma2, sigma2])\n",
    "\n",
    "multiSamples :: [LS.R 2]\n",
    "multiSamples = evalState (replicateM nSamples $ R.sample singleSample) (pureMT 3)"
   ]
  },
  {
   "cell_type": "markdown",
   "metadata": {},
   "source": [
    "We can generalize this to arbitrary dimensions."
   ]
  },
  {
   "cell_type": "code",
   "execution_count": 27,
   "metadata": {},
   "outputs": [],
   "source": [
    "import qualified Numeric.LinearAlgebra as LA\n",
    "import Data.Maybe ( fromJust )"
   ]
  },
  {
   "cell_type": "code",
   "execution_count": 28,
   "metadata": {},
   "outputs": [
    {
     "ename": "",
     "evalue": "",
     "header": "MessageHeader {mhIdentifiers = [\"b2f1a146-31d7-4df1-bc0d-85e900ffd746\"], mhParentHeader = Just (MessageHeader {mhIdentifiers = [\"b2f1a146-31d7-4df1-bc0d-85e900ffd746\"], mhParentHeader = Nothing, mhMetadata = Metadata (fromList [(\"recordTiming\",Bool False),(\"deletedCells\",Array []),(\"cellId\",String \"65828ec6-a506-41ab-a07d-0ed492ca17b8\")]), mhMessageId = UUID {uuidToString = \"792d7f8d-f54b-41cc-9bcb-2794eabfbd28\"}, mhSessionId = UUID {uuidToString = \"b2f1a146-31d7-4df1-bc0d-85e900ffd746\"}, mhUsername = \"\", mhMsgType = ExecuteRequestMessage, mhBuffers = []}), mhMetadata = Metadata (fromList []), mhMessageId = UUID {uuidToString = \"a8781e7a-8d5d-45ab-9f0c-d72c921d522a\"}, mhSessionId = UUID {uuidToString = \"b2f1a146-31d7-4df1-bc0d-85e900ffd746\"}, mhUsername = \"\", mhMsgType = ExecuteErrorMessage, mhBuffers = []}",
     "output_type": "error",
     "traceback": [
      "<interactive>:3:39: error:\n    • Data constructor not in scope: Normal :: LS.R n0 -> LS.Sym n -> d0 (LS.R n)\n    • Perhaps you meant one of these: ‘R.Normal’ (imported from Data.Random), ‘IHaskellTH.NormalB’ (imported from Language.Haskell.TH), ‘IHaskellTH.NormalC’ (imported from Language.Haskell.TH)\n<interactive>:13:43: error: Variable not in scope: nSamples :: Int"
     ]
    }
   ],
   "source": [
    "singleSampleN :: forall n . KnownNat n =>\n",
    "                 LS.R n -> LS.Sq n -> R.RVarT (State PureMT) (LS.R n)\n",
    "singleSampleN vars corrs = R.sample $ Normal (LS.vector ds) es\n",
    "  where\n",
    "    sigmas :: LS.R n\n",
    "    sigmas = fromJust $ LS.create $ LA.cmap sqrt $ LS.extract vars\n",
    "\n",
    "    es :: LS.Sym n\n",
    "    es = LS.sym $ corrToCov sigmas corrs\n",
    "    ds = replicate (fromIntegral $ natVal (Proxy :: Proxy n)) 0.0\n",
    "\n",
    "multiSamplesN :: forall n . KnownNat n =>\n",
    "                  LS.R n -> LS.Sq n -> [LS.R n]\n",
    "multiSamplesN x y = evalState (replicateM nSamples $ R.sample (singleSampleN x y)) (pureMT 3)"
   ]
  },
  {
   "cell_type": "markdown",
   "metadata": {},
   "source": [
    "We can generate some samples from the bivariate normal using our specialised function."
   ]
  },
  {
   "cell_type": "code",
   "execution_count": 29,
   "metadata": {},
   "outputs": [
    {
     "ename": "",
     "evalue": "",
     "header": "MessageHeader {mhIdentifiers = [\"b2f1a146-31d7-4df1-bc0d-85e900ffd746\"], mhParentHeader = Just (MessageHeader {mhIdentifiers = [\"b2f1a146-31d7-4df1-bc0d-85e900ffd746\"], mhParentHeader = Nothing, mhMetadata = Metadata (fromList [(\"recordTiming\",Bool False),(\"deletedCells\",Array []),(\"cellId\",String \"88b0341c-cbde-4769-ba60-a5c9857c0755\")]), mhMessageId = UUID {uuidToString = \"9262dd66-30e4-4fad-aded-a857ba661295\"}, mhSessionId = UUID {uuidToString = \"b2f1a146-31d7-4df1-bc0d-85e900ffd746\"}, mhUsername = \"\", mhMsgType = ExecuteRequestMessage, mhBuffers = []}), mhMetadata = Metadata (fromList []), mhMessageId = UUID {uuidToString = \"f3bf8369-941f-4441-9d8e-52e572820725\"}, mhSessionId = UUID {uuidToString = \"b2f1a146-31d7-4df1-bc0d-85e900ffd746\"}, mhUsername = \"\", mhMsgType = ExecuteErrorMessage, mhBuffers = []}",
     "output_type": "error",
     "traceback": [
      "<interactive>:2:13: error: Variable not in scope: multiSamples :: [LS.R n0]"
     ]
    }
   ],
   "source": [
    "pts :: [(Double, Double)]\n",
    "pts = map f multiSamples\n",
    "  where\n",
    "    f z = (x, y)\n",
    "      where\n",
    "        (x, t) = LS.headTail z\n",
    "        (y, _) = LS.headTail t"
   ]
  },
  {
   "cell_type": "markdown",
   "metadata": {},
   "source": [
    "Let's check our generalized function matches."
   ]
  },
  {
   "cell_type": "code",
   "execution_count": 30,
   "metadata": {},
   "outputs": [
    {
     "data": {
      "text/html": [
       "<style>/* Styles used for the Hoogle display in the pager */\n",
       ".hoogle-doc {\n",
       "display: block;\n",
       "padding-bottom: 1.3em;\n",
       "padding-left: 0.4em;\n",
       "}\n",
       ".hoogle-code {\n",
       "display: block;\n",
       "font-family: monospace;\n",
       "white-space: pre;\n",
       "}\n",
       ".hoogle-text {\n",
       "display: block;\n",
       "}\n",
       ".hoogle-name {\n",
       "color: green;\n",
       "font-weight: bold;\n",
       "}\n",
       ".hoogle-head {\n",
       "font-weight: bold;\n",
       "}\n",
       ".hoogle-sub {\n",
       "display: block;\n",
       "margin-left: 0.4em;\n",
       "}\n",
       ".hoogle-package {\n",
       "font-weight: bold;\n",
       "font-style: italic;\n",
       "}\n",
       ".hoogle-module {\n",
       "font-weight: bold;\n",
       "}\n",
       ".hoogle-class {\n",
       "font-weight: bold;\n",
       "}\n",
       ".get-type {\n",
       "color: green;\n",
       "font-weight: bold;\n",
       "font-family: monospace;\n",
       "display: block;\n",
       "white-space: pre-wrap;\n",
       "}\n",
       ".show-type {\n",
       "color: green;\n",
       "font-weight: bold;\n",
       "font-family: monospace;\n",
       "margin-left: 1em;\n",
       "}\n",
       ".mono {\n",
       "font-family: monospace;\n",
       "display: block;\n",
       "}\n",
       ".err-msg {\n",
       "color: red;\n",
       "font-style: italic;\n",
       "font-family: monospace;\n",
       "white-space: pre;\n",
       "display: block;\n",
       "}\n",
       "#unshowable {\n",
       "color: red;\n",
       "font-weight: bold;\n",
       "}\n",
       ".err-msg.in.collapse {\n",
       "padding-top: 0.7em;\n",
       "}\n",
       ".highlight-code {\n",
       "white-space: pre;\n",
       "font-family: monospace;\n",
       "}\n",
       ".suggestion-warning { \n",
       "font-weight: bold;\n",
       "color: rgb(200, 130, 0);\n",
       "}\n",
       ".suggestion-error { \n",
       "font-weight: bold;\n",
       "color: red;\n",
       "}\n",
       ".suggestion-name {\n",
       "font-weight: bold;\n",
       "}\n",
       "</style><div class=\"suggestion-name\" style=\"clear:both;\">Redundant bracket</div><div class=\"suggestion-row\" style=\"float: left;\"><div class=\"suggestion-warning\">Found:</div><div class=\"highlight-code\" id=\"haskell\">  (multiSamplesN\n",
       "     (LS.vector [sigma1, sigma2])\n",
       "     (LS.matrix [1.0, rho12, rho12, 1.0])) ::\n",
       "    [LS.R 2]</div></div><div class=\"suggestion-row\" style=\"float: left;\"><div class=\"suggestion-warning\">Why Not:</div><div class=\"highlight-code\" id=\"haskell\">  multiSamplesN\n",
       "    (LS.vector [sigma1, sigma2])\n",
       "    (LS.matrix [1.0, rho12, rho12, 1.0]) ::\n",
       "    [LS.R 2]</div></div>"
      ],
      "text/plain": [
       "Line 2: Redundant bracket\n",
       "Found:\n",
       "  (multiSamplesN\n",
       "     (LS.vector [sigma1, sigma2])\n",
       "     (LS.matrix [1.0, rho12, rho12, 1.0])) ::\n",
       "    [LS.R 2]\n",
       "Why not:\n",
       "  multiSamplesN\n",
       "    (LS.vector [sigma1, sigma2])\n",
       "    (LS.matrix [1.0, rho12, rho12, 1.0]) ::\n",
       "    [LS.R 2]"
      ]
     },
     "metadata": {},
     "output_type": "display_data"
    },
    {
     "ename": "",
     "evalue": "",
     "header": "MessageHeader {mhIdentifiers = [\"b2f1a146-31d7-4df1-bc0d-85e900ffd746\"], mhParentHeader = Just (MessageHeader {mhIdentifiers = [\"b2f1a146-31d7-4df1-bc0d-85e900ffd746\"], mhParentHeader = Nothing, mhMetadata = Metadata (fromList [(\"recordTiming\",Bool False),(\"deletedCells\",Array []),(\"cellId\",String \"7988ec1b-68b8-409a-b307-75dccb2677df\")]), mhMessageId = UUID {uuidToString = \"daa5cb07-bf9f-4227-a04f-8fe61cb612d1\"}, mhSessionId = UUID {uuidToString = \"b2f1a146-31d7-4df1-bc0d-85e900ffd746\"}, mhUsername = \"\", mhMsgType = ExecuteRequestMessage, mhBuffers = []}), mhMetadata = Metadata (fromList []), mhMessageId = UUID {uuidToString = \"58a6816c-b1dd-430d-9e4f-992d84ccf148\"}, mhSessionId = UUID {uuidToString = \"b2f1a146-31d7-4df1-bc0d-85e900ffd746\"}, mhUsername = \"\", mhMsgType = ExecuteErrorMessage, mhBuffers = []}",
     "output_type": "error",
     "traceback": [
      "<interactive>:2:17: error: Variable not in scope: multiSamplesN :: LS.R n0 -> LS.L m0 n1 -> [LS.R 2]\n<interactive>:2:43: error: Variable not in scope: sigma1 :: LS.ℝ\n<interactive>:2:51: error: Variable not in scope: sigma2 :: LS.ℝ\n<interactive>:2:77: error: Variable not in scope: rho12 :: LS.ℝ\n<interactive>:2:84: error: Variable not in scope: rho12 :: LS.ℝ"
     ]
    }
   ],
   "source": [
    "pts2' :: [(Double, Double)]\n",
    "pts2' = map f ((multiSamplesN (LS.vector [sigma1, sigma2]) (LS.matrix [1.0, rho12, rho12, 1.0])) :: [LS.R 2])\n",
    "  where\n",
    "    f z = (x, y)\n",
    "      where\n",
    "        (x, t) = LS.headTail z\n",
    "        (y, _) = LS.headTail t"
   ]
  },
  {
   "cell_type": "code",
   "execution_count": 31,
   "metadata": {},
   "outputs": [
    {
     "ename": "",
     "evalue": "",
     "header": "MessageHeader {mhIdentifiers = [\"b2f1a146-31d7-4df1-bc0d-85e900ffd746\"], mhParentHeader = Just (MessageHeader {mhIdentifiers = [\"b2f1a146-31d7-4df1-bc0d-85e900ffd746\"], mhParentHeader = Nothing, mhMetadata = Metadata (fromList [(\"recordTiming\",Bool False),(\"deletedCells\",Array []),(\"cellId\",String \"3f559078-b2bc-4bfa-b251-a11adb22ab26\")]), mhMessageId = UUID {uuidToString = \"5522030b-4091-4eac-b6d1-33d86bfdbe15\"}, mhSessionId = UUID {uuidToString = \"b2f1a146-31d7-4df1-bc0d-85e900ffd746\"}, mhUsername = \"\", mhMsgType = ExecuteRequestMessage, mhBuffers = []}), mhMetadata = Metadata (fromList []), mhMessageId = UUID {uuidToString = \"7da4bc10-f8f9-4fa0-93a9-51421cbe93ea\"}, mhSessionId = UUID {uuidToString = \"b2f1a146-31d7-4df1-bc0d-85e900ffd746\"}, mhUsername = \"\", mhMsgType = ExecuteErrorMessage, mhBuffers = []}",
     "output_type": "error",
     "traceback": [
      "<interactive>:1:6: error: Variable not in scope: pts :: [a]"
     ]
    }
   ],
   "source": [
    "last pts"
   ]
  },
  {
   "cell_type": "code",
   "execution_count": 32,
   "metadata": {},
   "outputs": [
    {
     "ename": "",
     "evalue": "",
     "header": "MessageHeader {mhIdentifiers = [\"b2f1a146-31d7-4df1-bc0d-85e900ffd746\"], mhParentHeader = Just (MessageHeader {mhIdentifiers = [\"b2f1a146-31d7-4df1-bc0d-85e900ffd746\"], mhParentHeader = Nothing, mhMetadata = Metadata (fromList [(\"recordTiming\",Bool False),(\"deletedCells\",Array []),(\"cellId\",String \"5b15b4bc-1946-4169-8577-b182a8a6feee\")]), mhMessageId = UUID {uuidToString = \"bab8b3b9-ae2a-478e-b271-b26675f8a717\"}, mhSessionId = UUID {uuidToString = \"b2f1a146-31d7-4df1-bc0d-85e900ffd746\"}, mhUsername = \"\", mhMsgType = ExecuteRequestMessage, mhBuffers = []}), mhMetadata = Metadata (fromList []), mhMessageId = UUID {uuidToString = \"a067ee3d-7fec-4994-9645-8a9983ce99c2\"}, mhSessionId = UUID {uuidToString = \"b2f1a146-31d7-4df1-bc0d-85e900ffd746\"}, mhUsername = \"\", mhMsgType = ExecuteErrorMessage, mhBuffers = []}",
     "output_type": "error",
     "traceback": [
      "<interactive>:1:6: error: Variable not in scope: pts2' :: [a]"
     ]
    }
   ],
   "source": [
    "last pts2'"
   ]
  },
  {
   "cell_type": "markdown",
   "metadata": {},
   "source": [
    "We also need to calculate the probability density for each sample."
   ]
  },
  {
   "cell_type": "code",
   "execution_count": 33,
   "metadata": {},
   "outputs": [],
   "source": [
    "import Data.Random.Distribution"
   ]
  },
  {
   "cell_type": "code",
   "execution_count": 34,
   "metadata": {},
   "outputs": [
    {
     "ename": "",
     "evalue": "",
     "header": "MessageHeader {mhIdentifiers = [\"b2f1a146-31d7-4df1-bc0d-85e900ffd746\"], mhParentHeader = Just (MessageHeader {mhIdentifiers = [\"b2f1a146-31d7-4df1-bc0d-85e900ffd746\"], mhParentHeader = Nothing, mhMetadata = Metadata (fromList [(\"recordTiming\",Bool False),(\"deletedCells\",Array []),(\"cellId\",String \"8de08cf5-dba9-41ca-bfdf-0449044e8d1f\")]), mhMessageId = UUID {uuidToString = \"10571a8b-0d4b-4423-8f74-a4bccc2ee9d4\"}, mhSessionId = UUID {uuidToString = \"b2f1a146-31d7-4df1-bc0d-85e900ffd746\"}, mhUsername = \"\", mhMsgType = ExecuteRequestMessage, mhBuffers = []}), mhMetadata = Metadata (fromList []), mhMessageId = UUID {uuidToString = \"35ddfe24-7d23-4ae0-a903-5276d4fe13f6\"}, mhSessionId = UUID {uuidToString = \"b2f1a146-31d7-4df1-bc0d-85e900ffd746\"}, mhUsername = \"\", mhMsgType = ExecuteErrorMessage, mhBuffers = []}",
     "output_type": "error",
     "traceback": [
      "<interactive>:2:18: error:\n    • Data constructor not in scope: Normal :: t1 -> LS.Sym n0 -> d0 t0\n    • Perhaps you meant one of these: ‘R.Normal’ (imported from Data.Random), ‘IHaskellTH.NormalB’ (imported from Language.Haskell.TH), ‘IHaskellTH.NormalC’ (imported from Language.Haskell.TH)\n<interactive>:3:47: error: Variable not in scope: sigma1 :: LS.ℝ\n<interactive>:3:55: error: Variable not in scope: rho12 :: LS.ℝ\n<interactive>:3:68: error: Variable not in scope: sigma1 :: LS.ℝ\n<interactive>:3:82: error: Variable not in scope: sigma2 :: LS.ℝ\n<interactive>:4:47: error: Variable not in scope: rho12 :: LS.ℝ\n<interactive>:4:60: error: Variable not in scope: sigma1 :: LS.ℝ\n<interactive>:4:74: error: Variable not in scope: sigma2 :: LS.ℝ\n<interactive>:4:82: error: Variable not in scope: sigma2 :: LS.ℝ\n<interactive>:4:93: error: Variable not in scope: multiSamples :: [t0]"
     ]
    }
   ],
   "source": [
    "pdfs :: [Double]\n",
    "pdfs = map (pdf (Normal (LS.fromList [0.0, 0.0])\n",
    "                        (LS.sym $ LS.matrix [ sigma1, rho12 * sqrt sigma1 * sqrt sigma2\n",
    "                                            , rho12 * sqrt sigma1 * sqrt sigma2, sigma2]))) multiSamples"
   ]
  },
  {
   "cell_type": "markdown",
   "metadata": {},
   "source": [
    "So the density for $\\texttt{last pts2'}$ is $\\texttt{last pdfs}$."
   ]
  },
  {
   "cell_type": "code",
   "execution_count": 35,
   "metadata": {},
   "outputs": [
    {
     "ename": "",
     "evalue": "",
     "header": "MessageHeader {mhIdentifiers = [\"b2f1a146-31d7-4df1-bc0d-85e900ffd746\"], mhParentHeader = Just (MessageHeader {mhIdentifiers = [\"b2f1a146-31d7-4df1-bc0d-85e900ffd746\"], mhParentHeader = Nothing, mhMetadata = Metadata (fromList [(\"recordTiming\",Bool False),(\"deletedCells\",Array []),(\"cellId\",String \"fa9dfc56-be0b-4fd5-9b5a-c639f496cbf9\")]), mhMessageId = UUID {uuidToString = \"c4eddeb9-e905-4fff-9cdf-ff2c5343da5d\"}, mhSessionId = UUID {uuidToString = \"b2f1a146-31d7-4df1-bc0d-85e900ffd746\"}, mhUsername = \"\", mhMsgType = ExecuteRequestMessage, mhBuffers = []}), mhMetadata = Metadata (fromList []), mhMessageId = UUID {uuidToString = \"0f418b0e-c555-44fb-ab51-2557b2f07e22\"}, mhSessionId = UUID {uuidToString = \"b2f1a146-31d7-4df1-bc0d-85e900ffd746\"}, mhUsername = \"\", mhMsgType = ExecuteErrorMessage, mhBuffers = []}",
     "output_type": "error",
     "traceback": [
      "<interactive>:1:6: error:\n    • Variable not in scope: pdfs :: [a]\n    • Perhaps you meant ‘pdf’ (imported from Data.Random.Distribution)"
     ]
    }
   ],
   "source": [
    "last pdfs"
   ]
  },
  {
   "cell_type": "markdown",
   "metadata": {},
   "source": [
    "Let's check a few more things. First let's create the covariance\n",
    " matrix from the correlation matrix rather than doing it by hand as\n",
    " above."
   ]
  },
  {
   "cell_type": "code",
   "execution_count": 36,
   "metadata": {},
   "outputs": [
    {
     "ename": "",
     "evalue": "",
     "header": "MessageHeader {mhIdentifiers = [\"b2f1a146-31d7-4df1-bc0d-85e900ffd746\"], mhParentHeader = Just (MessageHeader {mhIdentifiers = [\"b2f1a146-31d7-4df1-bc0d-85e900ffd746\"], mhParentHeader = Nothing, mhMetadata = Metadata (fromList [(\"recordTiming\",Bool False),(\"deletedCells\",Array []),(\"cellId\",String \"75f27ff7-04c9-49db-aee2-a77450eb4d7d\")]), mhMessageId = UUID {uuidToString = \"2770c0e3-7bd9-4bfb-9204-37d32f0407ee\"}, mhSessionId = UUID {uuidToString = \"b2f1a146-31d7-4df1-bc0d-85e900ffd746\"}, mhUsername = \"\", mhMsgType = ExecuteRequestMessage, mhBuffers = []}), mhMetadata = Metadata (fromList []), mhMessageId = UUID {uuidToString = \"1be3c4f6-2117-4ede-babe-5ed0a4bda94f\"}, mhSessionId = UUID {uuidToString = \"b2f1a146-31d7-4df1-bc0d-85e900ffd746\"}, mhUsername = \"\", mhMsgType = ExecuteErrorMessage, mhBuffers = []}",
     "output_type": "error",
     "traceback": [
      "<interactive>:2:35: error: Variable not in scope: sigma1 :: LS.ℝ\n<interactive>:2:48: error: Variable not in scope: sigma2 :: LS.ℝ\n<interactive>:3:35: error: Variable not in scope: rho12 :: LS.ℝ\n<interactive>:3:42: error: Variable not in scope: rho12 :: LS.ℝ"
     ]
    }
   ],
   "source": [
    "covv :: LS.Sq 2\n",
    "covv = corrToCov (LS.vector [sqrt sigma1, sqrt sigma2])\n",
    "                 (LS.matrix [1.0, rho12, rho12, 1.0])"
   ]
  },
  {
   "cell_type": "markdown",
   "metadata": {},
   "source": [
    "The covariance matrix is"
   ]
  },
  {
   "cell_type": "code",
   "execution_count": 37,
   "metadata": {},
   "outputs": [
    {
     "ename": "",
     "evalue": "",
     "header": "MessageHeader {mhIdentifiers = [\"b2f1a146-31d7-4df1-bc0d-85e900ffd746\"], mhParentHeader = Just (MessageHeader {mhIdentifiers = [\"b2f1a146-31d7-4df1-bc0d-85e900ffd746\"], mhParentHeader = Nothing, mhMetadata = Metadata (fromList [(\"recordTiming\",Bool False),(\"deletedCells\",Array []),(\"cellId\",String \"54b9f971-acb0-46df-8386-78dd525b0d7b\")]), mhMessageId = UUID {uuidToString = \"d9f46e67-9837-457d-a244-eba460edb456\"}, mhSessionId = UUID {uuidToString = \"b2f1a146-31d7-4df1-bc0d-85e900ffd746\"}, mhUsername = \"\", mhMsgType = ExecuteRequestMessage, mhBuffers = []}), mhMetadata = Metadata (fromList []), mhMessageId = UUID {uuidToString = \"621d62ba-8e41-44a1-a57f-38cb359d6901\"}, mhSessionId = UUID {uuidToString = \"b2f1a146-31d7-4df1-bc0d-85e900ffd746\"}, mhUsername = \"\", mhMsgType = ExecuteErrorMessage, mhBuffers = []}",
     "output_type": "error",
     "traceback": [
      "<interactive>:1:1: error:\n    • Variable not in scope: covv\n    • Perhaps you meant ‘LA.conv’ (imported from Numeric.LinearAlgebra)"
     ]
    }
   ],
   "source": [
    "covv"
   ]
  },
  {
   "cell_type": "markdown",
   "metadata": {},
   "source": [
    "Let's check it gives the same answer."
   ]
  },
  {
   "cell_type": "code",
   "execution_count": 38,
   "metadata": {},
   "outputs": [
    {
     "ename": "",
     "evalue": "",
     "header": "MessageHeader {mhIdentifiers = [\"b2f1a146-31d7-4df1-bc0d-85e900ffd746\"], mhParentHeader = Just (MessageHeader {mhIdentifiers = [\"b2f1a146-31d7-4df1-bc0d-85e900ffd746\"], mhParentHeader = Nothing, mhMetadata = Metadata (fromList [(\"recordTiming\",Bool False),(\"deletedCells\",Array []),(\"cellId\",String \"d855d5d1-b2ed-4e31-b3a0-f94db2ef2759\")]), mhMessageId = UUID {uuidToString = \"0acb80f2-9bbb-4b09-8e25-09c11ad1935d\"}, mhSessionId = UUID {uuidToString = \"b2f1a146-31d7-4df1-bc0d-85e900ffd746\"}, mhUsername = \"\", mhMsgType = ExecuteRequestMessage, mhBuffers = []}), mhMetadata = Metadata (fromList []), mhMessageId = UUID {uuidToString = \"a2a93c96-3948-463a-884b-144cf6aefc6b\"}, mhSessionId = UUID {uuidToString = \"b2f1a146-31d7-4df1-bc0d-85e900ffd746\"}, mhUsername = \"\", mhMsgType = ExecuteErrorMessage, mhBuffers = []}",
     "output_type": "error",
     "traceback": [
      "<interactive>:2:19: error:\n    • Data constructor not in scope: Normal :: t1 -> LS.Sym n0 -> d0 t0\n    • Perhaps you meant one of these: ‘R.Normal’ (imported from Data.Random), ‘IHaskellTH.NormalB’ (imported from Language.Haskell.TH), ‘IHaskellTH.NormalC’ (imported from Language.Haskell.TH)\n<interactive>:2:59: error:\n    • Variable not in scope: covv :: LS.Sq n0\n    • Perhaps you meant ‘LA.conv’ (imported from Numeric.LinearAlgebra)\n<interactive>:2:67: error: Variable not in scope: multiSamples :: [t0]"
     ]
    }
   ],
   "source": [
    "pdfs' :: [Double]\n",
    "pdfs' = map (pdf (Normal (LS.fromList [0.0, 0.0]) (LS.sym covv))) multiSamples"
   ]
  },
  {
   "cell_type": "code",
   "execution_count": 39,
   "metadata": {},
   "outputs": [
    {
     "ename": "",
     "evalue": "",
     "header": "MessageHeader {mhIdentifiers = [\"b2f1a146-31d7-4df1-bc0d-85e900ffd746\"], mhParentHeader = Just (MessageHeader {mhIdentifiers = [\"b2f1a146-31d7-4df1-bc0d-85e900ffd746\"], mhParentHeader = Nothing, mhMetadata = Metadata (fromList [(\"recordTiming\",Bool False),(\"deletedCells\",Array []),(\"cellId\",String \"32715c90-40d8-4df6-9aa6-fe0c3d029ec3\")]), mhMessageId = UUID {uuidToString = \"40eb00e0-726f-457f-9e07-0edc7846ca60\"}, mhSessionId = UUID {uuidToString = \"b2f1a146-31d7-4df1-bc0d-85e900ffd746\"}, mhUsername = \"\", mhMsgType = ExecuteRequestMessage, mhBuffers = []}), mhMetadata = Metadata (fromList []), mhMessageId = UUID {uuidToString = \"6fdba958-03a3-4ad4-956f-ef89fd43ca3a\"}, mhSessionId = UUID {uuidToString = \"b2f1a146-31d7-4df1-bc0d-85e900ffd746\"}, mhUsername = \"\", mhMsgType = ExecuteErrorMessage, mhBuffers = []}",
     "output_type": "error",
     "traceback": [
      "<interactive>:1:6: error:\n    • Variable not in scope: pdfs :: [a]\n    • Perhaps you meant ‘pdf’ (imported from Data.Random.Distribution)"
     ]
    }
   ],
   "source": [
    "last pdfs"
   ]
  },
  {
   "cell_type": "code",
   "execution_count": 40,
   "metadata": {},
   "outputs": [
    {
     "ename": "",
     "evalue": "",
     "header": "MessageHeader {mhIdentifiers = [\"b2f1a146-31d7-4df1-bc0d-85e900ffd746\"], mhParentHeader = Just (MessageHeader {mhIdentifiers = [\"b2f1a146-31d7-4df1-bc0d-85e900ffd746\"], mhParentHeader = Nothing, mhMetadata = Metadata (fromList [(\"recordTiming\",Bool False),(\"deletedCells\",Array []),(\"cellId\",String \"dcac6793-0d9a-44ca-866e-dd81ad4d73bf\")]), mhMessageId = UUID {uuidToString = \"3978f4d2-3a27-486a-a488-eb892c5777e3\"}, mhSessionId = UUID {uuidToString = \"b2f1a146-31d7-4df1-bc0d-85e900ffd746\"}, mhUsername = \"\", mhMsgType = ExecuteRequestMessage, mhBuffers = []}), mhMetadata = Metadata (fromList []), mhMessageId = UUID {uuidToString = \"26c3a903-4afb-484e-a4a7-8b7fe86d867e\"}, mhSessionId = UUID {uuidToString = \"b2f1a146-31d7-4df1-bc0d-85e900ffd746\"}, mhUsername = \"\", mhMsgType = ExecuteErrorMessage, mhBuffers = []}",
     "output_type": "error",
     "traceback": [
      "<interactive>:1:6: error: Variable not in scope: pdfs' :: [a]"
     ]
    }
   ],
   "source": [
    "last pdfs'"
   ]
  },
  {
   "cell_type": "markdown",
   "metadata": {},
   "source": [
    "Again we can generalize this."
   ]
  },
  {
   "cell_type": "code",
   "execution_count": 41,
   "metadata": {},
   "outputs": [
    {
     "ename": "",
     "evalue": "",
     "header": "MessageHeader {mhIdentifiers = [\"b2f1a146-31d7-4df1-bc0d-85e900ffd746\"], mhParentHeader = Just (MessageHeader {mhIdentifiers = [\"b2f1a146-31d7-4df1-bc0d-85e900ffd746\"], mhParentHeader = Nothing, mhMetadata = Metadata (fromList [(\"recordTiming\",Bool False),(\"deletedCells\",Array []),(\"cellId\",String \"1cba59f8-34df-45a0-91ce-d6ba89eed82d\")]), mhMessageId = UUID {uuidToString = \"8314d989-4a69-4853-9ff3-92b37073973f\"}, mhSessionId = UUID {uuidToString = \"b2f1a146-31d7-4df1-bc0d-85e900ffd746\"}, mhUsername = \"\", mhMsgType = ExecuteRequestMessage, mhBuffers = []}), mhMetadata = Metadata (fromList []), mhMessageId = UUID {uuidToString = \"4462d7be-a29d-4490-9f0a-c499338157ca\"}, mhSessionId = UUID {uuidToString = \"b2f1a146-31d7-4df1-bc0d-85e900ffd746\"}, mhUsername = \"\", mhMsgType = ExecuteErrorMessage, mhBuffers = []}",
     "output_type": "error",
     "traceback": [
      "<interactive>:3:27: error:\n    • Data constructor not in scope: Normal :: t1 -> LS.Sym n -> d0 t0\n    • Perhaps you meant one of these: ‘R.Normal’ (imported from Data.Random), ‘IHaskellTH.NormalB’ (imported from Language.Haskell.TH), ‘IHaskellTH.NormalC’ (imported from Language.Haskell.TH)\n<interactive>:3:58: error: Variable not in scope: multiSamplesN :: LS.R n -> LS.Sq n -> [t0]"
     ]
    }
   ],
   "source": [
    "pdfsN :: forall n . KnownNat n =>\n",
    "          LS.R n -> LS.Sq n ->  LS.Sym n -> [Double]\n",
    "pdfsN x y cov = map (pdf (Normal (LS.fromList ds) cov)) (multiSamplesN x y)\n",
    "  where\n",
    "    ds = replicate (fromIntegral $ natVal (Proxy :: Proxy n)) 0.0"
   ]
  },
  {
   "cell_type": "markdown",
   "metadata": {},
   "source": [
    "And test that this also gives the same answer when specialized."
   ]
  },
  {
   "cell_type": "code",
   "execution_count": 42,
   "metadata": {},
   "outputs": [
    {
     "ename": "",
     "evalue": "",
     "header": "MessageHeader {mhIdentifiers = [\"b2f1a146-31d7-4df1-bc0d-85e900ffd746\"], mhParentHeader = Just (MessageHeader {mhIdentifiers = [\"b2f1a146-31d7-4df1-bc0d-85e900ffd746\"], mhParentHeader = Nothing, mhMetadata = Metadata (fromList [(\"recordTiming\",Bool False),(\"deletedCells\",Array []),(\"cellId\",String \"fbc7347d-3152-446c-8c7f-b57c94f39edd\")]), mhMessageId = UUID {uuidToString = \"1bb727f7-cbc8-408b-b56e-52da2f1fc6a1\"}, mhSessionId = UUID {uuidToString = \"b2f1a146-31d7-4df1-bc0d-85e900ffd746\"}, mhUsername = \"\", mhMsgType = ExecuteRequestMessage, mhBuffers = []}), mhMetadata = Metadata (fromList []), mhMessageId = UUID {uuidToString = \"9b905ed6-eb20-4057-8d61-6f885de37052\"}, mhSessionId = UUID {uuidToString = \"b2f1a146-31d7-4df1-bc0d-85e900ffd746\"}, mhUsername = \"\", mhMsgType = ExecuteErrorMessage, mhBuffers = []}",
     "output_type": "error",
     "traceback": [
      "<interactive>:5:9: error: Variable not in scope: pdfs'\n<interactive>:4:9: error: Variable not in scope: pdfsN :: t1 -> LS.L m0 n0 -> LS.Sym n1 -> t\n<interactive>:4:29: error: Variable not in scope: sigma1\n<interactive>:4:37: error: Variable not in scope: sigma2\n<interactive>:4:63: error: Variable not in scope: rho12 :: LS.ℝ\n<interactive>:4:70: error: Variable not in scope: rho12 :: LS.ℝ\n<interactive>:4:91: error:\n    • Variable not in scope: covv :: LS.Sq n1\n    • Perhaps you meant ‘LA.conv’ (imported from Numeric.LinearAlgebra)"
     ]
    }
   ],
   "source": [
    "test :: [Double]\n",
    "test = zipWith (-) a b\n",
    "  where\n",
    "    a = pdfsN (LS.fromList [sigma1, sigma2]) (LS.matrix [1.0, rho12, rho12, 1.0]) (LS.sym covv)\n",
    "    b = pdfs'"
   ]
  },
  {
   "cell_type": "code",
   "execution_count": 43,
   "metadata": {},
   "outputs": [
    {
     "ename": "",
     "evalue": "",
     "header": "MessageHeader {mhIdentifiers = [\"b2f1a146-31d7-4df1-bc0d-85e900ffd746\"], mhParentHeader = Just (MessageHeader {mhIdentifiers = [\"b2f1a146-31d7-4df1-bc0d-85e900ffd746\"], mhParentHeader = Nothing, mhMetadata = Metadata (fromList [(\"recordTiming\",Bool False),(\"deletedCells\",Array []),(\"cellId\",String \"3db78af5-6aec-4545-b7ea-3323b3eae4cf\")]), mhMessageId = UUID {uuidToString = \"a7d602df-ce84-47e5-9ae4-cc31044f32e1\"}, mhSessionId = UUID {uuidToString = \"b2f1a146-31d7-4df1-bc0d-85e900ffd746\"}, mhUsername = \"\", mhMsgType = ExecuteRequestMessage, mhBuffers = []}), mhMetadata = Metadata (fromList []), mhMessageId = UUID {uuidToString = \"32a57a5e-5107-4d36-940b-b5c6da48d14a\"}, mhSessionId = UUID {uuidToString = \"b2f1a146-31d7-4df1-bc0d-85e900ffd746\"}, mhUsername = \"\", mhMsgType = ExecuteErrorMessage, mhBuffers = []}",
     "output_type": "error",
     "traceback": [
      "<interactive>:1:19: error: Variable not in scope: test :: [a]"
     ]
    }
   ],
   "source": [
    "maximum $ map abs test"
   ]
  },
  {
   "cell_type": "code",
   "execution_count": 44,
   "metadata": {},
   "outputs": [
    {
     "data": {
      "text/html": [
       "<style>/* Styles used for the Hoogle display in the pager */\n",
       ".hoogle-doc {\n",
       "display: block;\n",
       "padding-bottom: 1.3em;\n",
       "padding-left: 0.4em;\n",
       "}\n",
       ".hoogle-code {\n",
       "display: block;\n",
       "font-family: monospace;\n",
       "white-space: pre;\n",
       "}\n",
       ".hoogle-text {\n",
       "display: block;\n",
       "}\n",
       ".hoogle-name {\n",
       "color: green;\n",
       "font-weight: bold;\n",
       "}\n",
       ".hoogle-head {\n",
       "font-weight: bold;\n",
       "}\n",
       ".hoogle-sub {\n",
       "display: block;\n",
       "margin-left: 0.4em;\n",
       "}\n",
       ".hoogle-package {\n",
       "font-weight: bold;\n",
       "font-style: italic;\n",
       "}\n",
       ".hoogle-module {\n",
       "font-weight: bold;\n",
       "}\n",
       ".hoogle-class {\n",
       "font-weight: bold;\n",
       "}\n",
       ".get-type {\n",
       "color: green;\n",
       "font-weight: bold;\n",
       "font-family: monospace;\n",
       "display: block;\n",
       "white-space: pre-wrap;\n",
       "}\n",
       ".show-type {\n",
       "color: green;\n",
       "font-weight: bold;\n",
       "font-family: monospace;\n",
       "margin-left: 1em;\n",
       "}\n",
       ".mono {\n",
       "font-family: monospace;\n",
       "display: block;\n",
       "}\n",
       ".err-msg {\n",
       "color: red;\n",
       "font-style: italic;\n",
       "font-family: monospace;\n",
       "white-space: pre;\n",
       "display: block;\n",
       "}\n",
       "#unshowable {\n",
       "color: red;\n",
       "font-weight: bold;\n",
       "}\n",
       ".err-msg.in.collapse {\n",
       "padding-top: 0.7em;\n",
       "}\n",
       ".highlight-code {\n",
       "white-space: pre;\n",
       "font-family: monospace;\n",
       "}\n",
       ".suggestion-warning { \n",
       "font-weight: bold;\n",
       "color: rgb(200, 130, 0);\n",
       "}\n",
       ".suggestion-error { \n",
       "font-weight: bold;\n",
       "color: red;\n",
       "}\n",
       ".suggestion-name {\n",
       "font-weight: bold;\n",
       "}\n",
       "</style><div class=\"suggestion-name\" style=\"clear:both;\">Use map once</div><div class=\"suggestion-row\" style=\"float: left;\"><div class=\"suggestion-warning\">Found:</div><div class=\"highlight-code\" id=\"haskell\">map cost1 \\$ map (\\ (x, y) -> LS.fromList [x, y]) obs</div></div><div class=\"suggestion-row\" style=\"float: left;\"><div class=\"suggestion-warning\">Why Not:</div><div class=\"highlight-code\" id=\"haskell\">map (cost1 . (\\ (x, y) -> LS.fromList [x, y])) obs</div></div>"
      ],
      "text/plain": [
       "Line 12: Use map once\n",
       "Found:\n",
       "map cost1 $ map (\\ (x, y) -> LS.fromList [x, y]) obs\n",
       "Why not:\n",
       "map (cost1 . (\\ (x, y) -> LS.fromList [x, y])) obs"
      ]
     },
     "metadata": {},
     "output_type": "display_data"
    },
    {
     "ename": "",
     "evalue": "",
     "header": "MessageHeader {mhIdentifiers = [\"b2f1a146-31d7-4df1-bc0d-85e900ffd746\"], mhParentHeader = Just (MessageHeader {mhIdentifiers = [\"b2f1a146-31d7-4df1-bc0d-85e900ffd746\"], mhParentHeader = Nothing, mhMetadata = Metadata (fromList [(\"recordTiming\",Bool False),(\"deletedCells\",Array []),(\"cellId\",String \"171c8863-a4e3-4447-9969-2abdc4099d1d\")]), mhMessageId = UUID {uuidToString = \"fecb9f5a-221e-4acd-84d9-513815795dfa\"}, mhSessionId = UUID {uuidToString = \"b2f1a146-31d7-4df1-bc0d-85e900ffd746\"}, mhUsername = \"\", mhMsgType = ExecuteRequestMessage, mhBuffers = []}), mhMetadata = Metadata (fromList []), mhMessageId = UUID {uuidToString = \"ab0446e1-7159-457f-8fa6-6398467f23af\"}, mhSessionId = UUID {uuidToString = \"b2f1a146-31d7-4df1-bc0d-85e900ffd746\"}, mhUsername = \"\", mhMsgType = ExecuteErrorMessage, mhBuffers = []}",
     "output_type": "error",
     "traceback": [
      "<interactive>:9:18: error:\n    • Data constructor not in scope: Normal :: t0 -> LS.Sym 2 -> d1 (LS.R 2)\n    • Perhaps you meant one of these: ‘R.Normal’ (imported from Data.Random), ‘IHaskellTH.NormalB’ (imported from Language.Haskell.TH), ‘IHaskellTH.NormalC’ (imported from Language.Haskell.TH)\n<interactive>:3:55: error:\n    • Variable not in scope: pdfs :: [Double]\n    • Perhaps you meant ‘pdf’ (imported from Data.Random.Distribution)"
     ]
    }
   ],
   "source": [
    "costNorm :: [(Double, Double)] -> (Double, Double) -> (Double, Double) -> Double -> Double\n",
    "costNorm obs (muX, muY) (varX, varY) tau =\n",
    "  sum $ zipWith (\\x y -> (x - y) * (x - y)) pdfsOfObs pdfs\n",
    "  where\n",
    "    t2 :: LS.Sym 2\n",
    "    t2 = LS.sym $ corrToCov (LS.fromList [sqrt varX, sqrt varY]) (LS.matrix [1.0, tau, tau, 1.0])\n",
    "\n",
    "    cost1 :: LS.R 2 -> Double\n",
    "    cost1 = pdf (Normal (LS.fromList [muX, muY]) t2)\n",
    "\n",
    "    pdfsOfObs :: [Double]\n",
    "    pdfsOfObs = map cost1 $ map (\\(x, y) -> LS.fromList [x, y]) obs"
   ]
  },
  {
   "cell_type": "code",
   "execution_count": 45,
   "metadata": {},
   "outputs": [
    {
     "ename": "",
     "evalue": "",
     "header": "MessageHeader {mhIdentifiers = [\"b2f1a146-31d7-4df1-bc0d-85e900ffd746\"], mhParentHeader = Just (MessageHeader {mhIdentifiers = [\"b2f1a146-31d7-4df1-bc0d-85e900ffd746\"], mhParentHeader = Nothing, mhMetadata = Metadata (fromList [(\"recordTiming\",Bool False),(\"deletedCells\",Array []),(\"cellId\",String \"4ea4f063-d295-4f02-96cc-304384070eca\")]), mhMessageId = UUID {uuidToString = \"227f9bee-137e-4dea-937c-25787daae818\"}, mhSessionId = UUID {uuidToString = \"b2f1a146-31d7-4df1-bc0d-85e900ffd746\"}, mhUsername = \"\", mhMsgType = ExecuteRequestMessage, mhBuffers = []}), mhMetadata = Metadata (fromList []), mhMessageId = UUID {uuidToString = \"42f1e7af-dc15-4a4e-a32c-7b0f5f6de63e\"}, mhSessionId = UUID {uuidToString = \"b2f1a146-31d7-4df1-bc0d-85e900ffd746\"}, mhUsername = \"\", mhMsgType = ExecuteErrorMessage, mhBuffers = []}",
     "output_type": "error",
     "traceback": [
      "<interactive>:12:19: error:\n    • Data constructor not in scope: Normal :: LS.R 2 -> LS.Sym 2 -> d0 (LS.R 2)\n    • Perhaps you meant one of these: ‘R.Normal’ (imported from Data.Random), ‘IHaskellTH.NormalB’ (imported from Language.Haskell.TH), ‘IHaskellTH.NormalC’ (imported from Language.Haskell.TH)\n<interactive>:3:55: error:\n    • Variable not in scope: pdfs :: [Double]\n    • Perhaps you meant ‘pdf’ (imported from Data.Random.Distribution)"
     ]
    }
   ],
   "source": [
    "costNorm2 :: [LS.R 2] -> LS.R 2 -> LS.R 2 -> LS.Sym 2 -> Double\n",
    "costNorm2 obs mus vars corr =\n",
    "  sum $ zipWith (\\x y -> (x - y) * (x - y)) pdfsOfObs pdfs\n",
    "  where\n",
    "    sigmas :: LS.R 2\n",
    "    sigmas = fromJust $ LS.create $ LA.cmap sqrt $ LS.extract vars\n",
    "\n",
    "    t2 :: LS.Sym 2\n",
    "    t2 = LS.sym $ corrToCov sigmas (LS.unSym corr)\n",
    "\n",
    "    getPdf :: LS.R 2 -> Double\n",
    "    getPdf = pdf (Normal mus t2)\n",
    "\n",
    "    pdfsOfObs :: [Double]\n",
    "    pdfsOfObs = map getPdf obs"
   ]
  },
  {
   "cell_type": "markdown",
   "metadata": {},
   "source": [
    "And then generalize fully."
   ]
  },
  {
   "cell_type": "code",
   "execution_count": 46,
   "metadata": {},
   "outputs": [
    {
     "ename": "",
     "evalue": "",
     "header": "MessageHeader {mhIdentifiers = [\"b2f1a146-31d7-4df1-bc0d-85e900ffd746\"], mhParentHeader = Just (MessageHeader {mhIdentifiers = [\"b2f1a146-31d7-4df1-bc0d-85e900ffd746\"], mhParentHeader = Nothing, mhMetadata = Metadata (fromList [(\"recordTiming\",Bool False),(\"deletedCells\",Array []),(\"cellId\",String \"ab9b668d-3b24-4845-8ecf-e7b49c0ac095\")]), mhMessageId = UUID {uuidToString = \"0c10c18b-687b-4423-a6e4-eff55a78c8ab\"}, mhSessionId = UUID {uuidToString = \"b2f1a146-31d7-4df1-bc0d-85e900ffd746\"}, mhUsername = \"\", mhMsgType = ExecuteRequestMessage, mhBuffers = []}), mhMetadata = Metadata (fromList []), mhMessageId = UUID {uuidToString = \"c2de8a3d-2e65-4380-9d83-57b4ae0655e9\"}, mhSessionId = UUID {uuidToString = \"b2f1a146-31d7-4df1-bc0d-85e900ffd746\"}, mhUsername = \"\", mhMsgType = ExecuteErrorMessage, mhBuffers = []}",
     "output_type": "error",
     "traceback": [
      "<interactive>:20:17: error: Variable not in scope: pdfsN :: LS.R n -> LS.Sq n -> LS.Sym n -> [Double]\n<interactive>:15:19: error:\n    • Data constructor not in scope: Normal :: LS.R n -> LS.Sym n -> d0 (LS.R n)\n    • Perhaps you meant one of these: ‘R.Normal’ (imported from Data.Random), ‘IHaskellTH.NormalB’ (imported from Language.Haskell.TH), ‘IHaskellTH.NormalC’ (imported from Language.Haskell.TH)"
     ]
    }
   ],
   "source": [
    "costNormN :: forall n . KnownNat n =>\n",
    "             [LS.R n] -> LS.R n ->\n",
    "             LS.R n -> LS.Sym n ->\n",
    "             LS.R n -> LS.Sym n -> Double\n",
    "costNormN obs mus possVars possCorrs genVars genCorrs =\n",
    "  sum $ zipWith (\\x y -> (x - y) * (x - y)) pdfsOfObs pdfsOfGen\n",
    "  where\n",
    "    sigmas :: LS.R n\n",
    "    sigmas = fromJust $ LS.create $ LA.cmap sqrt $ LS.extract possVars\n",
    "\n",
    "    t2 :: LS.Sym n\n",
    "    t2 = LS.sym $ corrToCov sigmas (LS.unSym possCorrs)\n",
    "\n",
    "    getPdf :: LS.R n -> Double\n",
    "    getPdf = pdf (Normal mus t2)\n",
    "\n",
    "    pdfsOfObs :: [Double]\n",
    "    pdfsOfObs = map getPdf obs\n",
    "\n",
    "    pdfsOfGen = pdfsN genVars (LS.unSym genCorrs) cov\n",
    "\n",
    "    taus :: LS.R n\n",
    "    taus = fromJust $ LS.create $ LA.cmap sqrt $ LS.extract genVars\n",
    "\n",
    "    cov :: LS.Sym n\n",
    "    cov = LS.sym $ corrToCov taus (LS.unSym genCorrs)"
   ]
  },
  {
   "cell_type": "code",
   "execution_count": 47,
   "metadata": {},
   "outputs": [
    {
     "data": {
      "text/html": [
       "<style>/* Styles used for the Hoogle display in the pager */\n",
       ".hoogle-doc {\n",
       "display: block;\n",
       "padding-bottom: 1.3em;\n",
       "padding-left: 0.4em;\n",
       "}\n",
       ".hoogle-code {\n",
       "display: block;\n",
       "font-family: monospace;\n",
       "white-space: pre;\n",
       "}\n",
       ".hoogle-text {\n",
       "display: block;\n",
       "}\n",
       ".hoogle-name {\n",
       "color: green;\n",
       "font-weight: bold;\n",
       "}\n",
       ".hoogle-head {\n",
       "font-weight: bold;\n",
       "}\n",
       ".hoogle-sub {\n",
       "display: block;\n",
       "margin-left: 0.4em;\n",
       "}\n",
       ".hoogle-package {\n",
       "font-weight: bold;\n",
       "font-style: italic;\n",
       "}\n",
       ".hoogle-module {\n",
       "font-weight: bold;\n",
       "}\n",
       ".hoogle-class {\n",
       "font-weight: bold;\n",
       "}\n",
       ".get-type {\n",
       "color: green;\n",
       "font-weight: bold;\n",
       "font-family: monospace;\n",
       "display: block;\n",
       "white-space: pre-wrap;\n",
       "}\n",
       ".show-type {\n",
       "color: green;\n",
       "font-weight: bold;\n",
       "font-family: monospace;\n",
       "margin-left: 1em;\n",
       "}\n",
       ".mono {\n",
       "font-family: monospace;\n",
       "display: block;\n",
       "}\n",
       ".err-msg {\n",
       "color: red;\n",
       "font-style: italic;\n",
       "font-family: monospace;\n",
       "white-space: pre;\n",
       "display: block;\n",
       "}\n",
       "#unshowable {\n",
       "color: red;\n",
       "font-weight: bold;\n",
       "}\n",
       ".err-msg.in.collapse {\n",
       "padding-top: 0.7em;\n",
       "}\n",
       ".highlight-code {\n",
       "white-space: pre;\n",
       "font-family: monospace;\n",
       "}\n",
       ".suggestion-warning { \n",
       "font-weight: bold;\n",
       "color: rgb(200, 130, 0);\n",
       "}\n",
       ".suggestion-error { \n",
       "font-weight: bold;\n",
       "color: red;\n",
       "}\n",
       ".suggestion-name {\n",
       "font-weight: bold;\n",
       "}\n",
       "</style><div class=\"suggestion-name\" style=\"clear:both;\">Redundant bracket</div><div class=\"suggestion-row\" style=\"float: left;\"><div class=\"suggestion-warning\">Found:</div><div class=\"highlight-code\" id=\"haskell\">[(- 1.0), (- 1.0), log 1.0, log 1.0, 0.1]</div></div><div class=\"suggestion-row\" style=\"float: left;\"><div class=\"suggestion-warning\">Why Not:</div><div class=\"highlight-code\" id=\"haskell\">[- 1.0, (- 1.0), log 1.0, log 1.0, 0.1]</div></div><div class=\"suggestion-name\" style=\"clear:both;\">Redundant bracket</div><div class=\"suggestion-row\" style=\"float: left;\"><div class=\"suggestion-warning\">Found:</div><div class=\"highlight-code\" id=\"haskell\">[(- 1.0), (- 1.0), log 1.0, log 1.0, 0.1]</div></div><div class=\"suggestion-row\" style=\"float: left;\"><div class=\"suggestion-warning\">Why Not:</div><div class=\"highlight-code\" id=\"haskell\">[(- 1.0), - 1.0, log 1.0, log 1.0, 0.1]</div></div><div class=\"suggestion-name\" style=\"clear:both;\">Redundant bracket</div><div class=\"suggestion-row\" style=\"float: left;\"><div class=\"suggestion-warning\">Found:</div><div class=\"highlight-code\" id=\"haskell\">[1.0, ((2 / pi) * atan x5), ((2 / pi) * atan x5), 1.0]</div></div><div class=\"suggestion-row\" style=\"float: left;\"><div class=\"suggestion-warning\">Why Not:</div><div class=\"highlight-code\" id=\"haskell\">[1.0, (2 / pi) * atan x5, ((2 / pi) * atan x5), 1.0]</div></div><div class=\"suggestion-name\" style=\"clear:both;\">Redundant bracket</div><div class=\"suggestion-row\" style=\"float: left;\"><div class=\"suggestion-warning\">Found:</div><div class=\"highlight-code\" id=\"haskell\">[1.0, ((2 / pi) * atan x5), ((2 / pi) * atan x5), 1.0]</div></div><div class=\"suggestion-row\" style=\"float: left;\"><div class=\"suggestion-warning\">Why Not:</div><div class=\"highlight-code\" id=\"haskell\">[1.0, ((2 / pi) * atan x5), (2 / pi) * atan x5, 1.0]</div></div>"
      ],
      "text/plain": [
       "Line 2: Redundant bracket\n",
       "Found:\n",
       "[(- 1.0), (- 1.0), log 1.0, log 1.0, 0.1]\n",
       "Why not:\n",
       "[- 1.0, (- 1.0), log 1.0, log 1.0, 0.1]Line 2: Redundant bracket\n",
       "Found:\n",
       "[(- 1.0), (- 1.0), log 1.0, log 1.0, 0.1]\n",
       "Why not:\n",
       "[(- 1.0), - 1.0, log 1.0, log 1.0, 0.1]Line 14: Redundant bracket\n",
       "Found:\n",
       "[1.0, ((2 / pi) * atan x5), ((2 / pi) * atan x5), 1.0]\n",
       "Why not:\n",
       "[1.0, (2 / pi) * atan x5, ((2 / pi) * atan x5), 1.0]Line 14: Redundant bracket\n",
       "Found:\n",
       "[1.0, ((2 / pi) * atan x5), ((2 / pi) * atan x5), 1.0]\n",
       "Why not:\n",
       "[1.0, ((2 / pi) * atan x5), (2 / pi) * atan x5, 1.0]"
      ]
     },
     "metadata": {},
     "output_type": "display_data"
    },
    {
     "ename": "",
     "evalue": "",
     "header": "MessageHeader {mhIdentifiers = [\"b2f1a146-31d7-4df1-bc0d-85e900ffd746\"], mhParentHeader = Just (MessageHeader {mhIdentifiers = [\"b2f1a146-31d7-4df1-bc0d-85e900ffd746\"], mhParentHeader = Nothing, mhMetadata = Metadata (fromList [(\"recordTiming\",Bool False),(\"deletedCells\",Array []),(\"cellId\",String \"d7bcd937-2797-4599-8eb3-1626a6228871\")]), mhMessageId = UUID {uuidToString = \"06928ff9-22a6-4e24-af72-4ec3b49f519e\"}, mhSessionId = UUID {uuidToString = \"b2f1a146-31d7-4df1-bc0d-85e900ffd746\"}, mhUsername = \"\", mhMsgType = ExecuteRequestMessage, mhBuffers = []}), mhMetadata = Metadata (fromList []), mhMessageId = UUID {uuidToString = \"a152f82f-2140-4cb1-a522-18c7bbfd0813\"}, mhSessionId = UUID {uuidToString = \"b2f1a146-31d7-4df1-bc0d-85e900ffd746\"}, mhUsername = \"\", mhMsgType = ExecuteErrorMessage, mhBuffers = []}",
     "output_type": "error",
     "traceback": [
      "<interactive>:5:7: error: Variable not in scope: costNorm2 :: [b0] -> t0 -> LS.R 2 -> LS.Sym 2 -> Double"
     ]
    }
   ],
   "source": [
    "infer2 :: [(Double, Double)] -> R s (Double, [Double])\n",
    "infer2 obs = cmaes co[0.0, 0.0, log 3.0, log 1.5, 0.5] [(-1.0), (-1.0), log 1.0, log 1.0, 0.1] [1.0, 1.0, log 5.0, log 3.0, 0.9]\n",
    "  where\n",
    "    co [x1, x2, x3, x4, x5] =\n",
    "      costNorm2 (map (\\(x, y) -> LS.fromList [x, y]) obs)\n",
    "                 (LS.fromList [x1, x2])\n",
    "                 varV\n",
    "                 corrM\n",
    "      where\n",
    "        varV :: LS.R 2\n",
    "        varV   = LS.fromList [exp x3, exp x4]\n",
    "        corrM :: LS.Sym 2\n",
    "        corrM  = LS.sym $\n",
    "                 LS.matrix [1.0, ((2 / pi) * atan x5),\n",
    "                            ((2 / pi) * atan x5), 1.0]\n",
    "    co _                    =\n",
    "      error \"infer2 wrong number of elements\""
   ]
  },
  {
   "cell_type": "code",
   "execution_count": 48,
   "metadata": {},
   "outputs": [
    {
     "ename": "",
     "evalue": "",
     "header": "MessageHeader {mhIdentifiers = [\"b2f1a146-31d7-4df1-bc0d-85e900ffd746\"], mhParentHeader = Just (MessageHeader {mhIdentifiers = [\"b2f1a146-31d7-4df1-bc0d-85e900ffd746\"], mhParentHeader = Nothing, mhMetadata = Metadata (fromList [(\"recordTiming\",Bool False),(\"deletedCells\",Array []),(\"cellId\",String \"eb7d711f-695d-4760-84d4-1f1f342000ae\")]), mhMessageId = UUID {uuidToString = \"7115550b-c540-4e20-8751-7ffb175966cb\"}, mhSessionId = UUID {uuidToString = \"b2f1a146-31d7-4df1-bc0d-85e900ffd746\"}, mhUsername = \"\", mhMsgType = ExecuteRequestMessage, mhBuffers = []}), mhMetadata = Metadata (fromList []), mhMessageId = UUID {uuidToString = \"c1f6c828-38cd-4794-b9b9-755684e11138\"}, mhSessionId = UUID {uuidToString = \"b2f1a146-31d7-4df1-bc0d-85e900ffd746\"}, mhUsername = \"\", mhMsgType = ExecuteErrorMessage, mhBuffers = []}",
     "output_type": "error",
     "traceback": [
      "<interactive>:1:24: error:\n    • Variable not in scope: infer2 :: t0 -> R s a0\n    • Perhaps you meant one of these: ‘IHaskellTH.inferR’ (imported from Language.Haskell.TH), data constructor ‘IHaskellTH.InferR’ (imported from Language.Haskell.TH)\n<interactive>:1:31: error: Variable not in scope: pts"
     ]
    }
   ],
   "source": [
    "result <- R.runRegion (infer2 pts)"
   ]
  },
  {
   "cell_type": "code",
   "execution_count": 49,
   "metadata": {},
   "outputs": [
    {
     "data": {
      "text/html": [
       "<style>/* Styles used for the Hoogle display in the pager */\n",
       ".hoogle-doc {\n",
       "display: block;\n",
       "padding-bottom: 1.3em;\n",
       "padding-left: 0.4em;\n",
       "}\n",
       ".hoogle-code {\n",
       "display: block;\n",
       "font-family: monospace;\n",
       "white-space: pre;\n",
       "}\n",
       ".hoogle-text {\n",
       "display: block;\n",
       "}\n",
       ".hoogle-name {\n",
       "color: green;\n",
       "font-weight: bold;\n",
       "}\n",
       ".hoogle-head {\n",
       "font-weight: bold;\n",
       "}\n",
       ".hoogle-sub {\n",
       "display: block;\n",
       "margin-left: 0.4em;\n",
       "}\n",
       ".hoogle-package {\n",
       "font-weight: bold;\n",
       "font-style: italic;\n",
       "}\n",
       ".hoogle-module {\n",
       "font-weight: bold;\n",
       "}\n",
       ".hoogle-class {\n",
       "font-weight: bold;\n",
       "}\n",
       ".get-type {\n",
       "color: green;\n",
       "font-weight: bold;\n",
       "font-family: monospace;\n",
       "display: block;\n",
       "white-space: pre-wrap;\n",
       "}\n",
       ".show-type {\n",
       "color: green;\n",
       "font-weight: bold;\n",
       "font-family: monospace;\n",
       "margin-left: 1em;\n",
       "}\n",
       ".mono {\n",
       "font-family: monospace;\n",
       "display: block;\n",
       "}\n",
       ".err-msg {\n",
       "color: red;\n",
       "font-style: italic;\n",
       "font-family: monospace;\n",
       "white-space: pre;\n",
       "display: block;\n",
       "}\n",
       "#unshowable {\n",
       "color: red;\n",
       "font-weight: bold;\n",
       "}\n",
       ".err-msg.in.collapse {\n",
       "padding-top: 0.7em;\n",
       "}\n",
       ".highlight-code {\n",
       "white-space: pre;\n",
       "font-family: monospace;\n",
       "}\n",
       ".suggestion-warning { \n",
       "font-weight: bold;\n",
       "color: rgb(200, 130, 0);\n",
       "}\n",
       ".suggestion-error { \n",
       "font-weight: bold;\n",
       "color: red;\n",
       "}\n",
       ".suggestion-name {\n",
       "font-weight: bold;\n",
       "}\n",
       "</style><div class=\"suggestion-name\" style=\"clear:both;\">Redundant bracket</div><div class=\"suggestion-row\" style=\"float: left;\"><div class=\"suggestion-warning\">Found:</div><div class=\"highlight-code\" id=\"haskell\">(snd result) !! 2</div></div><div class=\"suggestion-row\" style=\"float: left;\"><div class=\"suggestion-warning\">Why Not:</div><div class=\"highlight-code\" id=\"haskell\">snd result !! 2</div></div>"
      ],
      "text/plain": [
       "Line 1: Redundant bracket\n",
       "Found:\n",
       "(snd result) !! 2\n",
       "Why not:\n",
       "snd result !! 2"
      ]
     },
     "metadata": {},
     "output_type": "display_data"
    },
    {
     "ename": "",
     "evalue": "",
     "header": "MessageHeader {mhIdentifiers = [\"b2f1a146-31d7-4df1-bc0d-85e900ffd746\"], mhParentHeader = Just (MessageHeader {mhIdentifiers = [\"b2f1a146-31d7-4df1-bc0d-85e900ffd746\"], mhParentHeader = Nothing, mhMetadata = Metadata (fromList [(\"recordTiming\",Bool False),(\"deletedCells\",Array []),(\"cellId\",String \"cb68f320-b7e4-4e84-91d4-0a5685cceb81\")]), mhMessageId = UUID {uuidToString = \"ad1c960a-a7df-46ef-a765-d15884801e5e\"}, mhSessionId = UUID {uuidToString = \"b2f1a146-31d7-4df1-bc0d-85e900ffd746\"}, mhUsername = \"\", mhMsgType = ExecuteRequestMessage, mhBuffers = []}), mhMetadata = Metadata (fromList []), mhMessageId = UUID {uuidToString = \"02998d85-fdd0-4a84-904d-e4c16d3d07b6\"}, mhSessionId = UUID {uuidToString = \"b2f1a146-31d7-4df1-bc0d-85e900ffd746\"}, mhUsername = \"\", mhMsgType = ExecuteErrorMessage, mhBuffers = []}",
     "output_type": "error",
     "traceback": [
      "<interactive>:1:11: error: Variable not in scope: result :: (a0, [a])"
     ]
    }
   ],
   "source": [
    "exp ((snd result)!!2)"
   ]
  },
  {
   "cell_type": "code",
   "execution_count": 50,
   "metadata": {},
   "outputs": [
    {
     "data": {
      "text/html": [
       "<style>/* Styles used for the Hoogle display in the pager */\n",
       ".hoogle-doc {\n",
       "display: block;\n",
       "padding-bottom: 1.3em;\n",
       "padding-left: 0.4em;\n",
       "}\n",
       ".hoogle-code {\n",
       "display: block;\n",
       "font-family: monospace;\n",
       "white-space: pre;\n",
       "}\n",
       ".hoogle-text {\n",
       "display: block;\n",
       "}\n",
       ".hoogle-name {\n",
       "color: green;\n",
       "font-weight: bold;\n",
       "}\n",
       ".hoogle-head {\n",
       "font-weight: bold;\n",
       "}\n",
       ".hoogle-sub {\n",
       "display: block;\n",
       "margin-left: 0.4em;\n",
       "}\n",
       ".hoogle-package {\n",
       "font-weight: bold;\n",
       "font-style: italic;\n",
       "}\n",
       ".hoogle-module {\n",
       "font-weight: bold;\n",
       "}\n",
       ".hoogle-class {\n",
       "font-weight: bold;\n",
       "}\n",
       ".get-type {\n",
       "color: green;\n",
       "font-weight: bold;\n",
       "font-family: monospace;\n",
       "display: block;\n",
       "white-space: pre-wrap;\n",
       "}\n",
       ".show-type {\n",
       "color: green;\n",
       "font-weight: bold;\n",
       "font-family: monospace;\n",
       "margin-left: 1em;\n",
       "}\n",
       ".mono {\n",
       "font-family: monospace;\n",
       "display: block;\n",
       "}\n",
       ".err-msg {\n",
       "color: red;\n",
       "font-style: italic;\n",
       "font-family: monospace;\n",
       "white-space: pre;\n",
       "display: block;\n",
       "}\n",
       "#unshowable {\n",
       "color: red;\n",
       "font-weight: bold;\n",
       "}\n",
       ".err-msg.in.collapse {\n",
       "padding-top: 0.7em;\n",
       "}\n",
       ".highlight-code {\n",
       "white-space: pre;\n",
       "font-family: monospace;\n",
       "}\n",
       ".suggestion-warning { \n",
       "font-weight: bold;\n",
       "color: rgb(200, 130, 0);\n",
       "}\n",
       ".suggestion-error { \n",
       "font-weight: bold;\n",
       "color: red;\n",
       "}\n",
       ".suggestion-name {\n",
       "font-weight: bold;\n",
       "}\n",
       "</style><div class=\"suggestion-name\" style=\"clear:both;\">Redundant bracket</div><div class=\"suggestion-row\" style=\"float: left;\"><div class=\"suggestion-warning\">Found:</div><div class=\"highlight-code\" id=\"haskell\">(snd result) !! 3</div></div><div class=\"suggestion-row\" style=\"float: left;\"><div class=\"suggestion-warning\">Why Not:</div><div class=\"highlight-code\" id=\"haskell\">snd result !! 3</div></div>"
      ],
      "text/plain": [
       "Line 1: Redundant bracket\n",
       "Found:\n",
       "(snd result) !! 3\n",
       "Why not:\n",
       "snd result !! 3"
      ]
     },
     "metadata": {},
     "output_type": "display_data"
    },
    {
     "ename": "",
     "evalue": "",
     "header": "MessageHeader {mhIdentifiers = [\"b2f1a146-31d7-4df1-bc0d-85e900ffd746\"], mhParentHeader = Just (MessageHeader {mhIdentifiers = [\"b2f1a146-31d7-4df1-bc0d-85e900ffd746\"], mhParentHeader = Nothing, mhMetadata = Metadata (fromList [(\"recordTiming\",Bool False),(\"deletedCells\",Array []),(\"cellId\",String \"a8de24bd-b893-4eaa-98fc-d381ac918620\")]), mhMessageId = UUID {uuidToString = \"aa6d0e85-8292-41a8-be86-b29bfc06dee8\"}, mhSessionId = UUID {uuidToString = \"b2f1a146-31d7-4df1-bc0d-85e900ffd746\"}, mhUsername = \"\", mhMsgType = ExecuteRequestMessage, mhBuffers = []}), mhMetadata = Metadata (fromList []), mhMessageId = UUID {uuidToString = \"1ccd5e59-a0e8-4865-bcba-7b04479357e9\"}, mhSessionId = UUID {uuidToString = \"b2f1a146-31d7-4df1-bc0d-85e900ffd746\"}, mhUsername = \"\", mhMsgType = ExecuteErrorMessage, mhBuffers = []}",
     "output_type": "error",
     "traceback": [
      "<interactive>:1:11: error: Variable not in scope: result :: (a0, [a])"
     ]
    }
   ],
   "source": [
    "exp ((snd result)!!3)"
   ]
  },
  {
   "cell_type": "code",
   "execution_count": 51,
   "metadata": {},
   "outputs": [
    {
     "data": {
      "text/html": [
       "<style>/* Styles used for the Hoogle display in the pager */\n",
       ".hoogle-doc {\n",
       "display: block;\n",
       "padding-bottom: 1.3em;\n",
       "padding-left: 0.4em;\n",
       "}\n",
       ".hoogle-code {\n",
       "display: block;\n",
       "font-family: monospace;\n",
       "white-space: pre;\n",
       "}\n",
       ".hoogle-text {\n",
       "display: block;\n",
       "}\n",
       ".hoogle-name {\n",
       "color: green;\n",
       "font-weight: bold;\n",
       "}\n",
       ".hoogle-head {\n",
       "font-weight: bold;\n",
       "}\n",
       ".hoogle-sub {\n",
       "display: block;\n",
       "margin-left: 0.4em;\n",
       "}\n",
       ".hoogle-package {\n",
       "font-weight: bold;\n",
       "font-style: italic;\n",
       "}\n",
       ".hoogle-module {\n",
       "font-weight: bold;\n",
       "}\n",
       ".hoogle-class {\n",
       "font-weight: bold;\n",
       "}\n",
       ".get-type {\n",
       "color: green;\n",
       "font-weight: bold;\n",
       "font-family: monospace;\n",
       "display: block;\n",
       "white-space: pre-wrap;\n",
       "}\n",
       ".show-type {\n",
       "color: green;\n",
       "font-weight: bold;\n",
       "font-family: monospace;\n",
       "margin-left: 1em;\n",
       "}\n",
       ".mono {\n",
       "font-family: monospace;\n",
       "display: block;\n",
       "}\n",
       ".err-msg {\n",
       "color: red;\n",
       "font-style: italic;\n",
       "font-family: monospace;\n",
       "white-space: pre;\n",
       "display: block;\n",
       "}\n",
       "#unshowable {\n",
       "color: red;\n",
       "font-weight: bold;\n",
       "}\n",
       ".err-msg.in.collapse {\n",
       "padding-top: 0.7em;\n",
       "}\n",
       ".highlight-code {\n",
       "white-space: pre;\n",
       "font-family: monospace;\n",
       "}\n",
       ".suggestion-warning { \n",
       "font-weight: bold;\n",
       "color: rgb(200, 130, 0);\n",
       "}\n",
       ".suggestion-error { \n",
       "font-weight: bold;\n",
       "color: red;\n",
       "}\n",
       ".suggestion-name {\n",
       "font-weight: bold;\n",
       "}\n",
       "</style><div class=\"suggestion-name\" style=\"clear:both;\">Redundant bracket</div><div class=\"suggestion-row\" style=\"float: left;\"><div class=\"suggestion-warning\">Found:</div><div class=\"highlight-code\" id=\"haskell\">(atan ((snd result) !! 4)) * 2</div></div><div class=\"suggestion-row\" style=\"float: left;\"><div class=\"suggestion-warning\">Why Not:</div><div class=\"highlight-code\" id=\"haskell\">atan ((snd result) !! 4) * 2</div></div><div class=\"suggestion-name\" style=\"clear:both;\">Redundant bracket</div><div class=\"suggestion-row\" style=\"float: left;\"><div class=\"suggestion-warning\">Found:</div><div class=\"highlight-code\" id=\"haskell\">(snd result) !! 4</div></div><div class=\"suggestion-row\" style=\"float: left;\"><div class=\"suggestion-warning\">Why Not:</div><div class=\"highlight-code\" id=\"haskell\">snd result !! 4</div></div>"
      ],
      "text/plain": [
       "Line 1: Redundant bracket\n",
       "Found:\n",
       "(atan ((snd result) !! 4)) * 2\n",
       "Why not:\n",
       "atan ((snd result) !! 4) * 2Line 1: Redundant bracket\n",
       "Found:\n",
       "(snd result) !! 4\n",
       "Why not:\n",
       "snd result !! 4"
      ]
     },
     "metadata": {},
     "output_type": "display_data"
    },
    {
     "ename": "",
     "evalue": "",
     "header": "MessageHeader {mhIdentifiers = [\"b2f1a146-31d7-4df1-bc0d-85e900ffd746\"], mhParentHeader = Just (MessageHeader {mhIdentifiers = [\"b2f1a146-31d7-4df1-bc0d-85e900ffd746\"], mhParentHeader = Nothing, mhMetadata = Metadata (fromList [(\"recordTiming\",Bool False),(\"deletedCells\",Array []),(\"cellId\",String \"efe2ccf9-17c7-4f7a-bae0-bf400a941176\")]), mhMessageId = UUID {uuidToString = \"917db71b-2379-41ba-ba5f-b5ef7acd4db3\"}, mhSessionId = UUID {uuidToString = \"b2f1a146-31d7-4df1-bc0d-85e900ffd746\"}, mhUsername = \"\", mhMsgType = ExecuteRequestMessage, mhBuffers = []}), mhMetadata = Metadata (fromList []), mhMessageId = UUID {uuidToString = \"099d0586-64fb-42fe-8940-a2831084d9c1\"}, mhSessionId = UUID {uuidToString = \"b2f1a146-31d7-4df1-bc0d-85e900ffd746\"}, mhUsername = \"\", mhMsgType = ExecuteErrorMessage, mhBuffers = []}",
     "output_type": "error",
     "traceback": [
      "<interactive>:1:13: error: Variable not in scope: result :: (a0, [a])"
     ]
    }
   ],
   "source": [
    "(atan ((snd result)!!4)) * 2 / pi"
   ]
  }
 ],
 "metadata": {
  "kernelspec": {
   "display_name": "Haskell - ihaskell-data-env",
   "language": "haskell",
   "name": "ihaskell_ihaskell-data-env"
  },
  "language_info": {
   "codemirror_mode": "ihaskell",
   "file_extension": ".hs",
   "name": "haskell",
   "pygments_lexer": "Haskell",
   "version": "8.8.3"
  }
 },
 "nbformat": 4,
 "nbformat_minor": 4
}
