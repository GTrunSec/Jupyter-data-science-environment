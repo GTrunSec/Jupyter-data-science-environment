{
 "cells": [
  {
   "cell_type": "code",
   "execution_count": 1,
   "metadata": {},
   "outputs": [
    {
     "name": "stdout",
     "output_type": "stream",
     "text": [
      "builtins.currentSystem\n",
      "\u001b[33m\"x86_64-linux\"\u001b[0m\n",
      "\n"
     ]
    }
   ],
   "source": [
    "builtins.currentSystem"
   ]
  },
  {
   "cell_type": "code",
   "execution_count": 2,
   "metadata": {},
   "outputs": [
    {
     "name": "stdout",
     "output_type": "stream",
     "text": [
      "d = derivation { name = \"myname\"; builder = \"mybuilder\"; system = \"mysystem\"; }\n",
      "\n"
     ]
    }
   ],
   "source": [
    "d = derivation { name = \"myname\"; builder = \"mybuilder\"; system = \"mysystem\"; }"
   ]
  },
  {
   "cell_type": "code",
   "execution_count": 3,
   "metadata": {},
   "outputs": [
    {
     "name": "stdout",
     "output_type": "stream",
     "text": [
      "d\n",
      "«derivation /nix/store/z3hhlxbckx4g3n9sw91nnvlkjvyw754p-myname.drv»\n",
      "\n"
     ]
    }
   ],
   "source": [
    "d"
   ]
  },
  {
   "cell_type": "code",
   "execution_count": 4,
   "metadata": {},
   "outputs": [
    {
     "name": "stdout",
     "output_type": "stream",
     "text": [
      "trimLeft = s: with builtins; head (match \"[ \\n\\t\\r]*(.*?)\" s)\n",
      "\n"
     ]
    }
   ],
   "source": [
    "trimLeft = s: with builtins; head (match \"[ \\n\\t\\r]*(.*?)\" s)"
   ]
  },
  {
   "cell_type": "code",
   "execution_count": 5,
   "metadata": {},
   "outputs": [
    {
     "name": "stdout",
     "output_type": "stream",
     "text": [
      "trimRight = s: builtins.head (builtins.match \"(([ \\n\\t\\r]*[^ \\n\\t\\r]+)*).*\" s)\n",
      "\n"
     ]
    }
   ],
   "source": [
    "trimRight = s: builtins.head (builtins.match \"(([ \\n\\t\\r]*[^ \\n\\t\\r]+)*).*\" s)"
   ]
  },
  {
   "cell_type": "code",
   "execution_count": 6,
   "metadata": {},
   "outputs": [
    {
     "name": "stdout",
     "output_type": "stream",
     "text": [
      "trim = s: trimLeft (trimRight s)\n",
      "\n"
     ]
    }
   ],
   "source": [
    "trim = s: trimLeft (trimRight s)"
   ]
  },
  {
   "cell_type": "code",
   "execution_count": 7,
   "metadata": {},
   "outputs": [
    {
     "name": "stdout",
     "output_type": "stream",
     "text": [
      "trim\"  dfd sdsd \"\n",
      "\u001b[33m\"dfd sdsd\"\u001b[0m\n",
      "\n"
     ]
    }
   ],
   "source": [
    "trim\"  dfd sdsd \""
   ]
  },
  {
   "cell_type": "code",
   "execution_count": 26,
   "metadata": {},
   "outputs": [
    {
     "name": "stdout",
     "output_type": "stream",
     "text": [
      "test1 = s: (builtins.concatStringsSep \":\" s)\n",
      "\n"
     ]
    }
   ],
   "source": [
    "test1 = s: (builtins.concatStringsSep \":\" s)"
   ]
  },
  {
   "cell_type": "code",
   "execution_count": 27,
   "metadata": {},
   "outputs": [
    {
     "name": "stdout",
     "output_type": "stream",
     "text": [
      "test1[\"sdsd sdsds\" \"sdsd\"]\n",
      "\u001b[33m\"sdsd sdsds:sdsd\"\u001b[0m\n",
      "\n"
     ]
    }
   ],
   "source": [
    "test1[\"sdsd sdsds\" \"sdsd\"]\n"
   ]
  },
  {
   "cell_type": "code",
   "execution_count": null,
   "metadata": {},
   "outputs": [],
   "source": []
  },
  {
   "cell_type": "code",
   "execution_count": null,
   "metadata": {},
   "outputs": [],
   "source": []
  },
  {
   "cell_type": "code",
   "execution_count": null,
   "metadata": {},
   "outputs": [],
   "source": []
  },
  {
   "cell_type": "code",
   "execution_count": null,
   "metadata": {},
   "outputs": [],
   "source": []
  },
  {
   "cell_type": "code",
   "execution_count": null,
   "metadata": {},
   "outputs": [],
   "source": []
  },
  {
   "cell_type": "code",
   "execution_count": null,
   "metadata": {},
   "outputs": [],
   "source": []
  },
  {
   "cell_type": "code",
   "execution_count": null,
   "metadata": {},
   "outputs": [],
   "source": []
  },
  {
   "cell_type": "code",
   "execution_count": null,
   "metadata": {},
   "outputs": [],
   "source": []
  },
  {
   "cell_type": "code",
   "execution_count": null,
   "metadata": {},
   "outputs": [],
   "source": []
  },
  {
   "cell_type": "code",
   "execution_count": null,
   "metadata": {},
   "outputs": [],
   "source": []
  },
  {
   "cell_type": "code",
   "execution_count": null,
   "metadata": {},
   "outputs": [],
   "source": []
  },
  {
   "cell_type": "code",
   "execution_count": null,
   "metadata": {},
   "outputs": [],
   "source": []
  },
  {
   "cell_type": "code",
   "execution_count": null,
   "metadata": {},
   "outputs": [],
   "source": []
  }
 ],
 "metadata": {
  "kernelspec": {
   "display_name": "Nix - nix-kernel",
   "language": "Nix",
   "name": "inix_nix-kernel"
  },
  "language_info": {
   "file_extension": ".nix",
   "mimetype": "text/nix",
   "name": "nix"
  }
 },
 "nbformat": 4,
 "nbformat_minor": 4
}
