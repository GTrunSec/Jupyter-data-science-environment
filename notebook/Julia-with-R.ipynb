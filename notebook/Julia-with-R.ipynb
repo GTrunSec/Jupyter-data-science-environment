{
 "cells": [
  {
   "cell_type": "code",
   "execution_count": 1,
   "metadata": {},
   "outputs": [],
   "source": [
    "using Pkg"
   ]
  },
  {
   "cell_type": "code",
   "execution_count": 2,
   "metadata": {},
   "outputs": [
    {
     "name": "stderr",
     "output_type": "stream",
     "text": [
      "\u001b[32m\u001b[1m   Updating\u001b[22m\u001b[39m registry at `~/data/Jupyter-data-science-environment/.julia_pkgs/registries/General`\n",
      "\u001b[32m\u001b[1m  Resolving\u001b[22m\u001b[39m package versions...\n",
      "\u001b[32m\u001b[1m   Updating\u001b[22m\u001b[39m `~/data/Jupyter-data-science-environment/.julia_pkgs/environments/v1.4/Project.toml`\n",
      "\u001b[90m [no changes]\u001b[39m\n",
      "\u001b[32m\u001b[1m   Updating\u001b[22m\u001b[39m `~/data/Jupyter-data-science-environment/.julia_pkgs/environments/v1.4/Manifest.toml`\n",
      "\u001b[90m [no changes]\u001b[39m\n"
     ]
    }
   ],
   "source": [
    "Pkg.add(\"Plots\");"
   ]
  },
  {
   "cell_type": "code",
   "execution_count": 3,
   "metadata": {},
   "outputs": [
    {
     "name": "stderr",
     "output_type": "stream",
     "text": [
      "\u001b[32m\u001b[1m  Resolving\u001b[22m\u001b[39m package versions...\n",
      "\u001b[32m\u001b[1m   Updating\u001b[22m\u001b[39m `~/data/Jupyter-data-science-environment/.julia_pkgs/environments/v1.4/Project.toml`\n",
      "\u001b[90m [no changes]\u001b[39m\n",
      "\u001b[32m\u001b[1m   Updating\u001b[22m\u001b[39m `~/data/Jupyter-data-science-environment/.julia_pkgs/environments/v1.4/Manifest.toml`\n",
      "\u001b[90m [no changes]\u001b[39m\n",
      "\u001b[32m\u001b[1m   Building\u001b[22m\u001b[39m Conda → `~/data/Jupyter-data-science-environment/.julia_pkgs/packages/Conda/3rPhK/deps/build.log`\n",
      "\u001b[32m\u001b[1m   Building\u001b[22m\u001b[39m RCall → `~/data/Jupyter-data-science-environment/.julia_pkgs/packages/RCall/Qzssx/deps/build.log`\n"
     ]
    }
   ],
   "source": [
    "Pkg.add(\"RCall\")\n",
    "Pkg.build(\"RCall\")"
   ]
  },
  {
   "cell_type": "code",
   "execution_count": 4,
   "metadata": {},
   "outputs": [
    {
     "name": "stderr",
     "output_type": "stream",
     "text": [
      "┌ Info: Precompiling RCall [6f49c342-dc21-5d91-9882-a32aef131414]\n",
      "└ @ Base loading.jl:1260\n"
     ]
    }
   ],
   "source": [
    "using RCall"
   ]
  },
  {
   "cell_type": "code",
   "execution_count": 5,
   "metadata": {},
   "outputs": [
    {
     "data": {
      "text/plain": [
       "1"
      ]
     },
     "execution_count": 5,
     "metadata": {},
     "output_type": "execute_result"
    }
   ],
   "source": [
    "z = 1"
   ]
  },
  {
   "cell_type": "code",
   "execution_count": 6,
   "metadata": {},
   "outputs": [
    {
     "data": {
      "text/plain": [
       "1"
      ]
     },
     "execution_count": 6,
     "metadata": {},
     "output_type": "execute_result"
    }
   ],
   "source": [
    "@rput z"
   ]
  },
  {
   "cell_type": "code",
   "execution_count": 7,
   "metadata": {},
   "outputs": [
    {
     "data": {
      "text/plain": [
       "RObject{RealSxp}\n",
       " [1] -0.03903900  1.10887162 -0.05071839 -0.25992156 -0.30123067  0.13890034\n",
       " [7] -0.74582903  0.19744705  1.98762147  0.69460537\n"
      ]
     },
     "execution_count": 7,
     "metadata": {},
     "output_type": "execute_result"
    }
   ],
   "source": [
    "R\"rnorm(10)\""
   ]
  },
  {
   "cell_type": "code",
   "execution_count": 8,
   "metadata": {},
   "outputs": [
    {
     "data": {
      "text/plain": [
       "10-element Array{Float64,1}:\n",
       " -0.6362351300407042\n",
       "  1.5751856264531718\n",
       " -0.904697691230928\n",
       " -0.49777290794497947\n",
       " -0.5492277581318749\n",
       " -1.0432496959451674\n",
       "  0.9848463526075178\n",
       "  0.5995188410902887\n",
       " -1.3272666853576252\n",
       "  0.4690337216972202"
      ]
     },
     "execution_count": 8,
     "metadata": {},
     "output_type": "execute_result"
    }
   ],
   "source": [
    "x = randn(10)"
   ]
  },
  {
   "cell_type": "code",
   "execution_count": 9,
   "metadata": {},
   "outputs": [
    {
     "data": {
      "text/plain": [
       "RObject{VecSxp}\n",
       "\n",
       "\tOne Sample t-test\n",
       "\n",
       "data:  `#JL`$x\n",
       "t = -0.43333, df = 9, p-value = 0.675\n",
       "alternative hypothesis: true mean is not equal to 0\n",
       "95 percent confidence interval:\n",
       " -0.8272228  0.5612497\n",
       "sample estimates:\n",
       " mean of x \n",
       "-0.1329865 \n",
       "\n"
      ]
     },
     "execution_count": 9,
     "metadata": {},
     "output_type": "execute_result"
    }
   ],
   "source": [
    "R\"t.test($x)\""
   ]
  },
  {
   "cell_type": "code",
   "execution_count": 10,
   "metadata": {},
   "outputs": [
    {
     "data": {
      "text/plain": [
       "RObject{VecSxp}\n",
       "$par\n",
       "[1] -1.56343\n",
       "\n",
       "$value\n",
       "[1] -1.570796\n",
       "\n",
       "$counts\n",
       "function gradient \n",
       "      14       13 \n",
       "\n",
       "$convergence\n",
       "[1] 0\n",
       "\n",
       "$message\n",
       "NULL\n",
       "\n"
      ]
     },
     "execution_count": 10,
     "metadata": {},
     "output_type": "execute_result"
    }
   ],
   "source": [
    "R\"optim(0, $(x -> x-cos(x)), method='BFGS')\""
   ]
  },
  {
   "cell_type": "code",
   "execution_count": 11,
   "metadata": {},
   "outputs": [
    {
     "data": {
      "text/plain": [
       "@bind (macro with 1 method)"
      ]
     },
     "execution_count": 11,
     "metadata": {},
     "output_type": "execute_result"
    }
   ],
   "source": [
    "using Markdown\n",
    "macro bind(def, element)\n",
    "    quote\n",
    "        local el = $(esc(element))\n",
    "        global $(esc(def)) = Core.applicable(Base.peek, el) ? Base.peek(el) : missing\n",
    "        el\n",
    "    end\n",
    "end"
   ]
  },
  {
   "cell_type": "code",
   "execution_count": 12,
   "metadata": {},
   "outputs": [
    {
     "data": {
      "text/plain": [
       "\"\""
      ]
     },
     "execution_count": 12,
     "metadata": {},
     "output_type": "execute_result"
    }
   ],
   "source": [
    "begin \n",
    "\tn_timepoints = 500\n",
    "\ttime_first_inf = 30\n",
    "\tn_first_inf = 20\n",
    "\tn_pop = 10000\n",
    "\ttime_recovery = 1\n",
    "\t\"\"\n",
    "end"
   ]
  },
  {
   "cell_type": "code",
   "execution_count": 13,
   "metadata": {},
   "outputs": [
    {
     "data": {
      "text/latex": [
       "\\subsection{SIR Model}\n",
       "\\begin{verbatim}\n",
       "Very interesting stuff!! Check colourful plots below\n",
       "\\end{verbatim}\n"
      ],
      "text/markdown": [
       "## SIR Model\n",
       "\n",
       "```\n",
       "Very interesting stuff!! Check colourful plots below\n",
       "```\n"
      ],
      "text/plain": [
       "\u001b[1m  SIR Model\u001b[22m\n",
       "\u001b[1m  ===========\u001b[22m\n",
       "\n",
       "\u001b[36m  Very interesting stuff!! Check colourful plots below\u001b[39m"
      ]
     },
     "execution_count": 13,
     "metadata": {},
     "output_type": "execute_result"
    }
   ],
   "source": [
    "begin\n",
    "\tfunction forward_outbreak(; r_inf=0.05, r_dec=0.01, r_rec=0.01, r_vac=0.1)\n",
    "\t\tsusc = zeros(n_timepoints)\n",
    "\t\tinf = zeros(n_timepoints)\n",
    "\t\trec = zeros(n_timepoints)\n",
    "\t\tdec= zeros(n_timepoints)\n",
    "\t\tsusc[1:time_first_inf] = ones(time_first_inf) * n_pop * (1 - r_vac)\n",
    "\t\trec[1:time_first_inf] = ones(time_first_inf) * n_pop * r_vac\n",
    "\t\t# model \n",
    "\t\tfor t in (time_recovery + 1):n_timepoints\n",
    "\t\t\tsusc[t] = susc[t - 1] - r_inf * inf[t - 1] * susc[t - 1] / n_pop\n",
    "\t\t\tif t == time_first_inf\n",
    "\t\t\t\tinf[t] = n_first_inf\n",
    "\t\t\telse\n",
    "\t\t\t\tinf[t] = inf[t - 1] + r_inf * inf[t - 1] * susc[t - 1] / n_pop - r_rec * inf[t - time_recovery] - r_dec * inf[t - time_recovery]\n",
    "\t\t\tend\n",
    "\t\t\trec[t] = rec[t - 1] + r_rec * inf[t - time_recovery]\n",
    "\t\t\tdec[t] = dec[t - 1] + r_dec * inf[t - time_recovery]\n",
    "\t\tend\n",
    "\t\treturn (susc, inf, rec, dec)\n",
    "\tend\n",
    "\tmd\"## SIR Model\n",
    "\t\n",
    "\tVery interesting stuff!! Check colourful plots below\"\n",
    "end"
   ]
  },
  {
   "cell_type": "code",
   "execution_count": 14,
   "metadata": {},
   "outputs": [
    {
     "data": {
      "text/markdown": [
       "**Please set model parameters:**\n",
       "\n",
       "Infection rate: HTML{String}(\"<input type='range' min='0.0' max='1' step='0.01' value='0.15'>\")\n",
       "\n",
       "Recovery rate: HTML{String}(\"<input type='range' min='0.0' max='1' step='0.01' value='0.04'>\")\n",
       "\n",
       "Decease rate: HTML{String}(\"<input type='range' min='0.0' max='1' step='0.01' value='0.02'>\") Vaccination rate: HTML{String}(\"<input type='range' min='0.0' max='1' step='0.01' value='0.0'>\")\n"
      ],
      "text/plain": [
       "  \u001b[1mPlease set model parameters:\u001b[22m\n",
       "\n",
       "  Infection rate: HTML{String}(\"<input type='range' min='0.0' max='1'\n",
       "  step='0.01' value='0.15'>\")\n",
       "\n",
       "  Recovery rate: HTML{String}(\"<input type='range' min='0.0' max='1'\n",
       "  step='0.01' value='0.04'>\")\n",
       "\n",
       "  Decease rate: HTML{String}(\"<input type='range' min='0.0' max='1'\n",
       "  step='0.01' value='0.02'>\") Vaccination rate: HTML{String}(\"<input\n",
       "  type='range' min='0.0' max='1' step='0.01' value='0.0'>\")"
      ]
     },
     "execution_count": 14,
     "metadata": {},
     "output_type": "execute_result"
    }
   ],
   "source": [
    "begin\n",
    "\tinf_slider = @bind rate_inf html\"<input type='range' min='0.0' max='1' step='0.01' value='0.15'>\"\n",
    "\trec_slider = @bind rate_rec html\"<input type='range' min='0.0' max='1' step='0.01' value='0.04'>\"\n",
    "\tdec_slider = @bind rate_dec html\"<input type='range' min='0.0' max='1' step='0.01' value='0.02'>\"\n",
    "\tvac_slider = @bind rate_vac html\"<input type='range' min='0.0' max='1' step='0.01' value='0.0'>\"\n",
    "\t\n",
    "\tmd\"\"\"**Please set model parameters:**\n",
    "\t\n",
    "\tInfection rate: $(inf_slider)\n",
    "\t\n",
    "\tRecovery rate: $rec_slider\n",
    "\t\n",
    "\tDecease rate: $(dec_slider)\n",
    "\tVaccination rate: $(vac_slider)\n",
    "\t\"\"\"\n",
    "end"
   ]
  },
  {
   "cell_type": "code",
   "execution_count": 15,
   "metadata": {},
   "outputs": [
    {
     "data": {
      "text/markdown": [
       "Currently $R_0$ = missing, and survival fraction is missing. Change parametesr below to alter\n"
      ],
      "text/plain": [
       "  Currently \u001b[35mR_0\u001b[39m = missing, and survival fraction is missing. Change parametesr\n",
       "  below to alter"
      ]
     },
     "execution_count": 15,
     "metadata": {},
     "output_type": "execute_result"
    }
   ],
   "source": [
    "begin\n",
    "\t\n",
    "\tsurvival = rate_rec / (rate_rec + rate_dec)\n",
    "\treproduction = rate_inf / (rate_rec + rate_dec)\n",
    "\t\n",
    "\tmd\"\"\"Currently $R_0$ = $(round(reproduction, digits=3)), and survival fraction is $(round(survival, digits=3)). Change parametesr below to alter\"\"\"\n",
    "end"
   ]
  },
  {
   "cell_type": "code",
   "execution_count": 16,
   "metadata": {},
   "outputs": [
    {
     "name": "stderr",
     "output_type": "stream",
     "text": [
      "┌ Info: Precompiling Plots [91a5bcdd-55d7-5caf-9e0b-520d859cae80]\n",
      "└ @ Base loading.jl:1260\n"
     ]
    },
    {
     "data": {
      "text/latex": [
       "\\section{Bonjour}\n"
      ],
      "text/markdown": [
       "# Bonjour\n"
      ],
      "text/plain": [
       "\u001b[1m  Bonjour\u001b[22m\n",
       "\u001b[1m  ≡≡≡≡≡≡≡≡≡\u001b[22m"
      ]
     },
     "execution_count": 16,
     "metadata": {},
     "output_type": "execute_result"
    }
   ],
   "source": [
    "begin\n",
    "\tusing Plots\n",
    "\tmd\"\"\" # Bonjour\"\"\"\n",
    "end"
   ]
  },
  {
   "cell_type": "code",
   "execution_count": 17,
   "metadata": {},
   "outputs": [
    {
     "name": "stderr",
     "output_type": "stream",
     "text": [
      "\u001b[32m\u001b[1m  Resolving\u001b[22m\u001b[39m package versions...\n",
      "\u001b[32m\u001b[1m  Installed\u001b[22m\u001b[39m PlutoUI ─ v0.4.0\n",
      "\u001b[32m\u001b[1m   Updating\u001b[22m\u001b[39m `~/data/Jupyter-data-science-environment/.julia_pkgs/environments/v1.4/Project.toml`\n",
      " \u001b[90m [7f904dfe]\u001b[39m\u001b[92m + PlutoUI v0.4.0\u001b[39m\n",
      "\u001b[32m\u001b[1m   Updating\u001b[22m\u001b[39m `~/data/Jupyter-data-science-environment/.julia_pkgs/environments/v1.4/Manifest.toml`\n",
      " \u001b[90m [7f904dfe]\u001b[39m\u001b[92m + PlutoUI v0.4.0\u001b[39m\n"
     ]
    }
   ],
   "source": [
    "Pkg.add(\"PlutoUI\")"
   ]
  },
  {
   "cell_type": "code",
   "execution_count": 18,
   "metadata": {},
   "outputs": [
    {
     "name": "stderr",
     "output_type": "stream",
     "text": [
      "┌ Info: Precompiling PlutoUI [7f904dfe-b85e-4ff6-b463-dae2292396a8]\n",
      "└ @ Base loading.jl:1260\n"
     ]
    }
   ],
   "source": [
    "using PlutoUI"
   ]
  },
  {
   "cell_type": "code",
   "execution_count": 19,
   "metadata": {},
   "outputs": [
    {
     "data": {
      "text/plain": [
       "10-element Array{Int64,1}:\n",
       " 87\n",
       " 29\n",
       " 70\n",
       " 62\n",
       " 83\n",
       " 81\n",
       " 95\n",
       " 18\n",
       " 37\n",
       " 93"
      ]
     },
     "execution_count": 19,
     "metadata": {},
     "output_type": "execute_result"
    }
   ],
   "source": [
    "apples = [15, 25, 80, 75, 50, 30, 35, 15, 25, 35]\n",
    "years = 2001:2010\n",
    "oranges = rand(1:100, 10)"
   ]
  },
  {
   "cell_type": "code",
   "execution_count": 20,
   "metadata": {},
   "outputs": [
    {
     "data": {
      "image/svg+xml": [
       "<?xml version=\"1.0\" encoding=\"utf-8\"?>\n",
       "<svg xmlns=\"http://www.w3.org/2000/svg\" xmlns:xlink=\"http://www.w3.org/1999/xlink\" width=\"600\" height=\"400\" viewBox=\"0 0 2400 1600\">\n",
       "<defs>\n",
       "  <clipPath id=\"clip220\">\n",
       "    <rect x=\"0\" y=\"0\" width=\"2400\" height=\"1600\"/>\n",
       "  </clipPath>\n",
       "</defs>\n",
       "<path clip-path=\"url(#clip220)\" d=\"\n",
       "M0 1600 L2400 1600 L2400 0 L0 0  Z\n",
       "  \" fill=\"#ffffff\" fill-rule=\"evenodd\" fill-opacity=\"1\"/>\n",
       "<defs>\n",
       "  <clipPath id=\"clip221\">\n",
       "    <rect x=\"480\" y=\"0\" width=\"1681\" height=\"1600\"/>\n",
       "  </clipPath>\n",
       "</defs>\n",
       "<path clip-path=\"url(#clip220)\" d=\"\n",
       "M139.191 1486.45 L2352.76 1486.45 L2352.76 47.2441 L139.191 47.2441  Z\n",
       "  \" fill=\"#ffffff\" fill-rule=\"evenodd\" fill-opacity=\"1\"/>\n",
       "<defs>\n",
       "  <clipPath id=\"clip222\">\n",
       "    <rect x=\"139\" y=\"47\" width=\"2215\" height=\"1440\"/>\n",
       "  </clipPath>\n",
       "</defs>\n",
       "<polyline clip-path=\"url(#clip222)\" style=\"stroke:#000000; stroke-width:2; stroke-opacity:0.1; fill:none\" points=\"\n",
       "  433.869,1486.45 433.869,47.2441 \n",
       "  \"/>\n",
       "<polyline clip-path=\"url(#clip222)\" style=\"stroke:#000000; stroke-width:2; stroke-opacity:0.1; fill:none\" points=\"\n",
       "  897.929,1486.45 897.929,47.2441 \n",
       "  \"/>\n",
       "<polyline clip-path=\"url(#clip222)\" style=\"stroke:#000000; stroke-width:2; stroke-opacity:0.1; fill:none\" points=\"\n",
       "  1361.99,1486.45 1361.99,47.2441 \n",
       "  \"/>\n",
       "<polyline clip-path=\"url(#clip222)\" style=\"stroke:#000000; stroke-width:2; stroke-opacity:0.1; fill:none\" points=\"\n",
       "  1826.05,1486.45 1826.05,47.2441 \n",
       "  \"/>\n",
       "<polyline clip-path=\"url(#clip222)\" style=\"stroke:#000000; stroke-width:2; stroke-opacity:0.1; fill:none\" points=\"\n",
       "  2290.11,1486.45 2290.11,47.2441 \n",
       "  \"/>\n",
       "<polyline clip-path=\"url(#clip222)\" style=\"stroke:#000000; stroke-width:2; stroke-opacity:0.1; fill:none\" points=\"\n",
       "  139.191,1360.86 2352.76,1360.86 \n",
       "  \"/>\n",
       "<polyline clip-path=\"url(#clip222)\" style=\"stroke:#000000; stroke-width:2; stroke-opacity:0.1; fill:none\" points=\"\n",
       "  139.191,1021.42 2352.76,1021.42 \n",
       "  \"/>\n",
       "<polyline clip-path=\"url(#clip222)\" style=\"stroke:#000000; stroke-width:2; stroke-opacity:0.1; fill:none\" points=\"\n",
       "  139.191,681.987 2352.76,681.987 \n",
       "  \"/>\n",
       "<polyline clip-path=\"url(#clip222)\" style=\"stroke:#000000; stroke-width:2; stroke-opacity:0.1; fill:none\" points=\"\n",
       "  139.191,342.552 2352.76,342.552 \n",
       "  \"/>\n",
       "<polyline clip-path=\"url(#clip220)\" style=\"stroke:#000000; stroke-width:4; stroke-opacity:1; fill:none\" points=\"\n",
       "  139.191,1486.45 2352.76,1486.45 \n",
       "  \"/>\n",
       "<polyline clip-path=\"url(#clip220)\" style=\"stroke:#000000; stroke-width:4; stroke-opacity:1; fill:none\" points=\"\n",
       "  139.191,1486.45 139.191,47.2441 \n",
       "  \"/>\n",
       "<polyline clip-path=\"url(#clip220)\" style=\"stroke:#000000; stroke-width:4; stroke-opacity:1; fill:none\" points=\"\n",
       "  433.869,1486.45 433.869,1469.18 \n",
       "  \"/>\n",
       "<polyline clip-path=\"url(#clip220)\" style=\"stroke:#000000; stroke-width:4; stroke-opacity:1; fill:none\" points=\"\n",
       "  897.929,1486.45 897.929,1469.18 \n",
       "  \"/>\n",
       "<polyline clip-path=\"url(#clip220)\" style=\"stroke:#000000; stroke-width:4; stroke-opacity:1; fill:none\" points=\"\n",
       "  1361.99,1486.45 1361.99,1469.18 \n",
       "  \"/>\n",
       "<polyline clip-path=\"url(#clip220)\" style=\"stroke:#000000; stroke-width:4; stroke-opacity:1; fill:none\" points=\"\n",
       "  1826.05,1486.45 1826.05,1469.18 \n",
       "  \"/>\n",
       "<polyline clip-path=\"url(#clip220)\" style=\"stroke:#000000; stroke-width:4; stroke-opacity:1; fill:none\" points=\"\n",
       "  2290.11,1486.45 2290.11,1469.18 \n",
       "  \"/>\n",
       "<polyline clip-path=\"url(#clip220)\" style=\"stroke:#000000; stroke-width:4; stroke-opacity:1; fill:none\" points=\"\n",
       "  139.191,1360.86 165.754,1360.86 \n",
       "  \"/>\n",
       "<polyline clip-path=\"url(#clip220)\" style=\"stroke:#000000; stroke-width:4; stroke-opacity:1; fill:none\" points=\"\n",
       "  139.191,1021.42 165.754,1021.42 \n",
       "  \"/>\n",
       "<polyline clip-path=\"url(#clip220)\" style=\"stroke:#000000; stroke-width:4; stroke-opacity:1; fill:none\" points=\"\n",
       "  139.191,681.987 165.754,681.987 \n",
       "  \"/>\n",
       "<polyline clip-path=\"url(#clip220)\" style=\"stroke:#000000; stroke-width:4; stroke-opacity:1; fill:none\" points=\"\n",
       "  139.191,342.552 165.754,342.552 \n",
       "  \"/>\n",
       "<path clip-path=\"url(#clip220)\" d=\"M 0 0 M388.8 1535.98 L405.119 1535.98 L405.119 1539.92 L383.175 1539.92 L383.175 1535.98 Q385.837 1533.23 390.42 1528.6 Q395.026 1523.95 396.207 1522.61 Q398.452 1520.08 399.332 1518.35 Q400.235 1516.59 400.235 1514.9 Q400.235 1512.14 398.29 1510.41 Q396.369 1508.67 393.267 1508.67 Q391.068 1508.67 388.614 1509.43 Q386.184 1510.2 383.406 1511.75 L383.406 1507.03 Q386.23 1505.89 388.684 1505.31 Q391.138 1504.73 393.175 1504.73 Q398.545 1504.73 401.739 1507.42 Q404.934 1510.11 404.934 1514.6 Q404.934 1516.73 404.124 1518.65 Q403.337 1520.54 401.23 1523.14 Q400.651 1523.81 397.55 1527.03 Q394.448 1530.22 388.8 1535.98 Z\" fill=\"#000000\" fill-rule=\"evenodd\" fill-opacity=\"1\" /><path clip-path=\"url(#clip220)\" d=\"M 0 0 M420.188 1508.44 Q416.577 1508.44 414.749 1512 Q412.943 1515.55 412.943 1522.67 Q412.943 1529.78 414.749 1533.35 Q416.577 1536.89 420.188 1536.89 Q423.823 1536.89 425.628 1533.35 Q427.457 1529.78 427.457 1522.67 Q427.457 1515.55 425.628 1512 Q423.823 1508.44 420.188 1508.44 M420.188 1504.73 Q425.999 1504.73 429.054 1509.34 Q432.133 1513.92 432.133 1522.67 Q432.133 1531.4 429.054 1536.01 Q425.999 1540.59 420.188 1540.59 Q414.378 1540.59 411.3 1536.01 Q408.244 1531.4 408.244 1522.67 Q408.244 1513.92 411.3 1509.34 Q414.378 1504.73 420.188 1504.73 Z\" fill=\"#000000\" fill-rule=\"evenodd\" fill-opacity=\"1\" /><path clip-path=\"url(#clip220)\" d=\"M 0 0 M447.202 1508.44 Q443.591 1508.44 441.762 1512 Q439.957 1515.55 439.957 1522.67 Q439.957 1529.78 441.762 1533.35 Q443.591 1536.89 447.202 1536.89 Q450.836 1536.89 452.642 1533.35 Q454.471 1529.78 454.471 1522.67 Q454.471 1515.55 452.642 1512 Q450.836 1508.44 447.202 1508.44 M447.202 1504.73 Q453.012 1504.73 456.068 1509.34 Q459.147 1513.92 459.147 1522.67 Q459.147 1531.4 456.068 1536.01 Q453.012 1540.59 447.202 1540.59 Q441.392 1540.59 438.313 1536.01 Q435.258 1531.4 435.258 1522.67 Q435.258 1513.92 438.313 1509.34 Q441.392 1504.73 447.202 1504.73 Z\" fill=\"#000000\" fill-rule=\"evenodd\" fill-opacity=\"1\" /><path clip-path=\"url(#clip220)\" d=\"M 0 0 M468.244 1535.98 L484.563 1535.98 L484.563 1539.92 L462.619 1539.92 L462.619 1535.98 Q465.281 1533.23 469.864 1528.6 Q474.47 1523.95 475.651 1522.61 Q477.896 1520.08 478.776 1518.35 Q479.679 1516.59 479.679 1514.9 Q479.679 1512.14 477.734 1510.41 Q475.813 1508.67 472.711 1508.67 Q470.512 1508.67 468.058 1509.43 Q465.628 1510.2 462.85 1511.75 L462.85 1507.03 Q465.674 1505.89 468.128 1505.31 Q470.582 1504.73 472.619 1504.73 Q477.989 1504.73 481.183 1507.42 Q484.378 1510.11 484.378 1514.6 Q484.378 1516.73 483.568 1518.65 Q482.781 1520.54 480.674 1523.14 Q480.095 1523.81 476.994 1527.03 Q473.892 1530.22 468.244 1535.98 Z\" fill=\"#000000\" fill-rule=\"evenodd\" fill-opacity=\"1\" /><path clip-path=\"url(#clip220)\" d=\"M 0 0 M851.818 1535.98 L868.137 1535.98 L868.137 1539.92 L846.193 1539.92 L846.193 1535.98 Q848.855 1533.23 853.438 1528.6 Q858.045 1523.95 859.225 1522.61 Q861.47 1520.08 862.35 1518.35 Q863.253 1516.59 863.253 1514.9 Q863.253 1512.14 861.308 1510.41 Q859.387 1508.67 856.285 1508.67 Q854.086 1508.67 851.633 1509.43 Q849.202 1510.2 846.424 1511.75 L846.424 1507.03 Q849.248 1505.89 851.702 1505.31 Q854.156 1504.73 856.193 1504.73 Q861.563 1504.73 864.757 1507.42 Q867.952 1510.11 867.952 1514.6 Q867.952 1516.73 867.142 1518.65 Q866.355 1520.54 864.248 1523.14 Q863.67 1523.81 860.568 1527.03 Q857.466 1530.22 851.818 1535.98 Z\" fill=\"#000000\" fill-rule=\"evenodd\" fill-opacity=\"1\" /><path clip-path=\"url(#clip220)\" d=\"M 0 0 M883.206 1508.44 Q879.595 1508.44 877.767 1512 Q875.961 1515.55 875.961 1522.67 Q875.961 1529.78 877.767 1533.35 Q879.595 1536.89 883.206 1536.89 Q886.841 1536.89 888.646 1533.35 Q890.475 1529.78 890.475 1522.67 Q890.475 1515.55 888.646 1512 Q886.841 1508.44 883.206 1508.44 M883.206 1504.73 Q889.017 1504.73 892.072 1509.34 Q895.151 1513.92 895.151 1522.67 Q895.151 1531.4 892.072 1536.01 Q889.017 1540.59 883.206 1540.59 Q877.396 1540.59 874.318 1536.01 Q871.262 1531.4 871.262 1522.67 Q871.262 1513.92 874.318 1509.34 Q877.396 1504.73 883.206 1504.73 Z\" fill=\"#000000\" fill-rule=\"evenodd\" fill-opacity=\"1\" /><path clip-path=\"url(#clip220)\" d=\"M 0 0 M910.22 1508.44 Q906.609 1508.44 904.78 1512 Q902.975 1515.55 902.975 1522.67 Q902.975 1529.78 904.78 1533.35 Q906.609 1536.89 910.22 1536.89 Q913.854 1536.89 915.66 1533.35 Q917.489 1529.78 917.489 1522.67 Q917.489 1515.55 915.66 1512 Q913.854 1508.44 910.22 1508.44 M910.22 1504.73 Q916.03 1504.73 919.086 1509.34 Q922.165 1513.92 922.165 1522.67 Q922.165 1531.4 919.086 1536.01 Q916.03 1540.59 910.22 1540.59 Q904.41 1540.59 901.331 1536.01 Q898.276 1531.4 898.276 1522.67 Q898.276 1513.92 901.331 1509.34 Q904.41 1504.73 910.22 1504.73 Z\" fill=\"#000000\" fill-rule=\"evenodd\" fill-opacity=\"1\" /><path clip-path=\"url(#clip220)\" d=\"M 0 0 M940.081 1509.43 L928.276 1527.88 L940.081 1527.88 L940.081 1509.43 M938.854 1505.36 L944.734 1505.36 L944.734 1527.88 L949.664 1527.88 L949.664 1531.77 L944.734 1531.77 L944.734 1539.92 L940.081 1539.92 L940.081 1531.77 L924.479 1531.77 L924.479 1527.26 L938.854 1505.36 Z\" fill=\"#000000\" fill-rule=\"evenodd\" fill-opacity=\"1\" /><path clip-path=\"url(#clip220)\" d=\"M 0 0 M1316.04 1535.98 L1332.36 1535.98 L1332.36 1539.92 L1310.41 1539.92 L1310.41 1535.98 Q1313.08 1533.23 1317.66 1528.6 Q1322.27 1523.95 1323.45 1522.61 Q1325.69 1520.08 1326.57 1518.35 Q1327.47 1516.59 1327.47 1514.9 Q1327.47 1512.14 1325.53 1510.41 Q1323.61 1508.67 1320.51 1508.67 Q1318.31 1508.67 1315.85 1509.43 Q1313.42 1510.2 1310.65 1511.75 L1310.65 1507.03 Q1313.47 1505.89 1315.92 1505.31 Q1318.38 1504.73 1320.41 1504.73 Q1325.78 1504.73 1328.98 1507.42 Q1332.17 1510.11 1332.17 1514.6 Q1332.17 1516.73 1331.36 1518.65 Q1330.58 1520.54 1328.47 1523.14 Q1327.89 1523.81 1324.79 1527.03 Q1321.69 1530.22 1316.04 1535.98 Z\" fill=\"#000000\" fill-rule=\"evenodd\" fill-opacity=\"1\" /><path clip-path=\"url(#clip220)\" d=\"M 0 0 M1347.43 1508.44 Q1343.82 1508.44 1341.99 1512 Q1340.18 1515.55 1340.18 1522.67 Q1340.18 1529.78 1341.99 1533.35 Q1343.82 1536.89 1347.43 1536.89 Q1351.06 1536.89 1352.87 1533.35 Q1354.7 1529.78 1354.7 1522.67 Q1354.7 1515.55 1352.87 1512 Q1351.06 1508.44 1347.43 1508.44 M1347.43 1504.73 Q1353.24 1504.73 1356.29 1509.34 Q1359.37 1513.92 1359.37 1522.67 Q1359.37 1531.4 1356.29 1536.01 Q1353.24 1540.59 1347.43 1540.59 Q1341.62 1540.59 1338.54 1536.01 Q1335.48 1531.4 1335.48 1522.67 Q1335.48 1513.92 1338.54 1509.34 Q1341.62 1504.73 1347.43 1504.73 Z\" fill=\"#000000\" fill-rule=\"evenodd\" fill-opacity=\"1\" /><path clip-path=\"url(#clip220)\" d=\"M 0 0 M1374.44 1508.44 Q1370.83 1508.44 1369 1512 Q1367.2 1515.55 1367.2 1522.67 Q1367.2 1529.78 1369 1533.35 Q1370.83 1536.89 1374.44 1536.89 Q1378.08 1536.89 1379.88 1533.35 Q1381.71 1529.78 1381.71 1522.67 Q1381.71 1515.55 1379.88 1512 Q1378.08 1508.44 1374.44 1508.44 M1374.44 1504.73 Q1380.25 1504.73 1383.31 1509.34 Q1386.39 1513.92 1386.39 1522.67 Q1386.39 1531.4 1383.31 1536.01 Q1380.25 1540.59 1374.44 1540.59 Q1368.63 1540.59 1365.55 1536.01 Q1362.5 1531.4 1362.5 1522.67 Q1362.5 1513.92 1365.55 1509.34 Q1368.63 1504.73 1374.44 1504.73 Z\" fill=\"#000000\" fill-rule=\"evenodd\" fill-opacity=\"1\" /><path clip-path=\"url(#clip220)\" d=\"M 0 0 M1402.03 1520.78 Q1398.89 1520.78 1397.03 1522.93 Q1395.21 1525.08 1395.21 1528.83 Q1395.21 1532.56 1397.03 1534.73 Q1398.89 1536.89 1402.03 1536.89 Q1405.18 1536.89 1407.01 1534.73 Q1408.86 1532.56 1408.86 1528.83 Q1408.86 1525.08 1407.01 1522.93 Q1405.18 1520.78 1402.03 1520.78 M1411.32 1506.12 L1411.32 1510.38 Q1409.56 1509.55 1407.75 1509.11 Q1405.97 1508.67 1404.21 1508.67 Q1399.58 1508.67 1397.13 1511.8 Q1394.7 1514.92 1394.35 1521.24 Q1395.72 1519.23 1397.78 1518.16 Q1399.84 1517.07 1402.31 1517.07 Q1407.52 1517.07 1410.53 1520.24 Q1413.56 1523.39 1413.56 1528.83 Q1413.56 1534.16 1410.41 1537.37 Q1407.27 1540.59 1402.03 1540.59 Q1396.04 1540.59 1392.87 1536.01 Q1389.7 1531.4 1389.7 1522.67 Q1389.7 1514.48 1393.59 1509.62 Q1397.47 1504.73 1404.03 1504.73 Q1405.78 1504.73 1407.57 1505.08 Q1409.37 1505.43 1411.32 1506.12 Z\" fill=\"#000000\" fill-rule=\"evenodd\" fill-opacity=\"1\" /><path clip-path=\"url(#clip220)\" d=\"M 0 0 M1780.23 1535.98 L1796.55 1535.98 L1796.55 1539.92 L1774.6 1539.92 L1774.6 1535.98 Q1777.26 1533.23 1781.85 1528.6 Q1786.45 1523.95 1787.63 1522.61 Q1789.88 1520.08 1790.76 1518.35 Q1791.66 1516.59 1791.66 1514.9 Q1791.66 1512.14 1789.72 1510.41 Q1787.8 1508.67 1784.69 1508.67 Q1782.5 1508.67 1780.04 1509.43 Q1777.61 1510.2 1774.83 1511.75 L1774.83 1507.03 Q1777.66 1505.89 1780.11 1505.31 Q1782.56 1504.73 1784.6 1504.73 Q1789.97 1504.73 1793.17 1507.42 Q1796.36 1510.11 1796.36 1514.6 Q1796.36 1516.73 1795.55 1518.65 Q1794.76 1520.54 1792.66 1523.14 Q1792.08 1523.81 1788.98 1527.03 Q1785.87 1530.22 1780.23 1535.98 Z\" fill=\"#000000\" fill-rule=\"evenodd\" fill-opacity=\"1\" /><path clip-path=\"url(#clip220)\" d=\"M 0 0 M1811.62 1508.44 Q1808 1508.44 1806.18 1512 Q1804.37 1515.55 1804.37 1522.67 Q1804.37 1529.78 1806.18 1533.35 Q1808 1536.89 1811.62 1536.89 Q1815.25 1536.89 1817.06 1533.35 Q1818.88 1529.78 1818.88 1522.67 Q1818.88 1515.55 1817.06 1512 Q1815.25 1508.44 1811.62 1508.44 M1811.62 1504.73 Q1817.43 1504.73 1820.48 1509.34 Q1823.56 1513.92 1823.56 1522.67 Q1823.56 1531.4 1820.48 1536.01 Q1817.43 1540.59 1811.62 1540.59 Q1805.81 1540.59 1802.73 1536.01 Q1799.67 1531.4 1799.67 1522.67 Q1799.67 1513.92 1802.73 1509.34 Q1805.81 1504.73 1811.62 1504.73 Z\" fill=\"#000000\" fill-rule=\"evenodd\" fill-opacity=\"1\" /><path clip-path=\"url(#clip220)\" d=\"M 0 0 M1838.63 1508.44 Q1835.02 1508.44 1833.19 1512 Q1831.38 1515.55 1831.38 1522.67 Q1831.38 1529.78 1833.19 1533.35 Q1835.02 1536.89 1838.63 1536.89 Q1842.26 1536.89 1844.07 1533.35 Q1845.9 1529.78 1845.9 1522.67 Q1845.9 1515.55 1844.07 1512 Q1842.26 1508.44 1838.63 1508.44 M1838.63 1504.73 Q1844.44 1504.73 1847.49 1509.34 Q1850.57 1513.92 1850.57 1522.67 Q1850.57 1531.4 1847.49 1536.01 Q1844.44 1540.59 1838.63 1540.59 Q1832.82 1540.59 1829.74 1536.01 Q1826.68 1531.4 1826.68 1522.67 Q1826.68 1513.92 1829.74 1509.34 Q1832.82 1504.73 1838.63 1504.73 Z\" fill=\"#000000\" fill-rule=\"evenodd\" fill-opacity=\"1\" /><path clip-path=\"url(#clip220)\" d=\"M 0 0 M1865.64 1523.51 Q1862.31 1523.51 1860.39 1525.29 Q1858.49 1527.07 1858.49 1530.2 Q1858.49 1533.32 1860.39 1535.11 Q1862.31 1536.89 1865.64 1536.89 Q1868.98 1536.89 1870.9 1535.11 Q1872.82 1533.3 1872.82 1530.2 Q1872.82 1527.07 1870.9 1525.29 Q1869 1523.51 1865.64 1523.51 M1860.97 1521.52 Q1857.96 1520.78 1856.27 1518.72 Q1854.6 1516.66 1854.6 1513.69 Q1854.6 1509.55 1857.54 1507.14 Q1860.5 1504.73 1865.64 1504.73 Q1870.8 1504.73 1873.74 1507.14 Q1876.68 1509.55 1876.68 1513.69 Q1876.68 1516.66 1874.99 1518.72 Q1873.33 1520.78 1870.34 1521.52 Q1873.72 1522.3 1875.6 1524.6 Q1877.49 1526.89 1877.49 1530.2 Q1877.49 1535.22 1874.42 1537.91 Q1871.36 1540.59 1865.64 1540.59 Q1859.93 1540.59 1856.85 1537.91 Q1853.79 1535.22 1853.79 1530.2 Q1853.79 1526.89 1855.69 1524.6 Q1857.59 1522.3 1860.97 1521.52 M1859.25 1514.13 Q1859.25 1516.82 1860.92 1518.32 Q1862.61 1519.83 1865.64 1519.83 Q1868.65 1519.83 1870.34 1518.32 Q1872.05 1516.82 1872.05 1514.13 Q1872.05 1511.45 1870.34 1509.94 Q1868.65 1508.44 1865.64 1508.44 Q1862.61 1508.44 1860.92 1509.94 Q1859.25 1511.45 1859.25 1514.13 Z\" fill=\"#000000\" fill-rule=\"evenodd\" fill-opacity=\"1\" /><path clip-path=\"url(#clip220)\" d=\"M 0 0 M2244.85 1535.98 L2261.17 1535.98 L2261.17 1539.92 L2239.23 1539.92 L2239.23 1535.98 Q2241.89 1533.23 2246.47 1528.6 Q2251.08 1523.95 2252.26 1522.61 Q2254.51 1520.08 2255.39 1518.35 Q2256.29 1516.59 2256.29 1514.9 Q2256.29 1512.14 2254.34 1510.41 Q2252.42 1508.67 2249.32 1508.67 Q2247.12 1508.67 2244.67 1509.43 Q2242.24 1510.2 2239.46 1511.75 L2239.46 1507.03 Q2242.28 1505.89 2244.74 1505.31 Q2247.19 1504.73 2249.23 1504.73 Q2254.6 1504.73 2257.79 1507.42 Q2260.99 1510.11 2260.99 1514.6 Q2260.99 1516.73 2260.18 1518.65 Q2259.39 1520.54 2257.28 1523.14 Q2256.71 1523.81 2253.6 1527.03 Q2250.5 1530.22 2244.85 1535.98 Z\" fill=\"#000000\" fill-rule=\"evenodd\" fill-opacity=\"1\" /><path clip-path=\"url(#clip220)\" d=\"M 0 0 M2276.24 1508.44 Q2272.63 1508.44 2270.8 1512 Q2269 1515.55 2269 1522.67 Q2269 1529.78 2270.8 1533.35 Q2272.63 1536.89 2276.24 1536.89 Q2279.88 1536.89 2281.68 1533.35 Q2283.51 1529.78 2283.51 1522.67 Q2283.51 1515.55 2281.68 1512 Q2279.88 1508.44 2276.24 1508.44 M2276.24 1504.73 Q2282.05 1504.73 2285.11 1509.34 Q2288.19 1513.92 2288.19 1522.67 Q2288.19 1531.4 2285.11 1536.01 Q2282.05 1540.59 2276.24 1540.59 Q2270.43 1540.59 2267.35 1536.01 Q2264.3 1531.4 2264.3 1522.67 Q2264.3 1513.92 2267.35 1509.34 Q2270.43 1504.73 2276.24 1504.73 Z\" fill=\"#000000\" fill-rule=\"evenodd\" fill-opacity=\"1\" /><path clip-path=\"url(#clip220)\" d=\"M 0 0 M2294.07 1535.98 L2301.7 1535.98 L2301.7 1509.62 L2293.39 1511.29 L2293.39 1507.03 L2301.66 1505.36 L2306.33 1505.36 L2306.33 1535.98 L2313.97 1535.98 L2313.97 1539.92 L2294.07 1539.92 L2294.07 1535.98 Z\" fill=\"#000000\" fill-rule=\"evenodd\" fill-opacity=\"1\" /><path clip-path=\"url(#clip220)\" d=\"M 0 0 M2329.04 1508.44 Q2325.43 1508.44 2323.6 1512 Q2321.8 1515.55 2321.8 1522.67 Q2321.8 1529.78 2323.6 1533.35 Q2325.43 1536.89 2329.04 1536.89 Q2332.68 1536.89 2334.48 1533.35 Q2336.31 1529.78 2336.31 1522.67 Q2336.31 1515.55 2334.48 1512 Q2332.68 1508.44 2329.04 1508.44 M2329.04 1504.73 Q2334.85 1504.73 2337.91 1509.34 Q2340.99 1513.92 2340.99 1522.67 Q2340.99 1531.4 2337.91 1536.01 Q2334.85 1540.59 2329.04 1540.59 Q2323.23 1540.59 2320.15 1536.01 Q2317.1 1531.4 2317.1 1522.67 Q2317.1 1513.92 2320.15 1509.34 Q2323.23 1504.73 2329.04 1504.73 Z\" fill=\"#000000\" fill-rule=\"evenodd\" fill-opacity=\"1\" /><path clip-path=\"url(#clip220)\" d=\"M 0 0 M71.8578 1374.2 L88.1772 1374.2 L88.1772 1378.14 L66.2328 1378.14 L66.2328 1374.2 Q68.8949 1371.45 73.4782 1366.82 Q78.0846 1362.16 79.2652 1360.82 Q81.5105 1358.3 82.3902 1356.56 Q83.2929 1354.8 83.2929 1353.11 Q83.2929 1350.36 81.3485 1348.62 Q79.4272 1346.89 76.3254 1346.89 Q74.1263 1346.89 71.6726 1347.65 Q69.2421 1348.41 66.4643 1349.97 L66.4643 1345.24 Q69.2884 1344.11 71.7421 1343.53 Q74.1958 1342.95 76.2328 1342.95 Q81.6031 1342.95 84.7976 1345.64 Q87.992 1348.32 87.992 1352.81 Q87.992 1354.94 87.1818 1356.86 Q86.3948 1358.76 84.2883 1361.35 Q83.7096 1362.03 80.6078 1365.24 Q77.5059 1368.44 71.8578 1374.2 Z\" fill=\"#000000\" fill-rule=\"evenodd\" fill-opacity=\"1\" /><path clip-path=\"url(#clip220)\" d=\"M 0 0 M103.247 1346.66 Q99.6354 1346.66 97.8068 1350.22 Q96.0012 1353.76 96.0012 1360.89 Q96.0012 1368 97.8068 1371.56 Q99.6354 1375.1 103.247 1375.1 Q106.881 1375.1 108.686 1371.56 Q110.515 1368 110.515 1360.89 Q110.515 1353.76 108.686 1350.22 Q106.881 1346.66 103.247 1346.66 M103.247 1342.95 Q109.057 1342.95 112.112 1347.56 Q115.191 1352.14 115.191 1360.89 Q115.191 1369.62 112.112 1374.22 Q109.057 1378.81 103.247 1378.81 Q97.4364 1378.81 94.3577 1374.22 Q91.3022 1369.62 91.3022 1360.89 Q91.3022 1352.14 94.3577 1347.56 Q97.4364 1342.95 103.247 1342.95 Z\" fill=\"#000000\" fill-rule=\"evenodd\" fill-opacity=\"1\" /><path clip-path=\"url(#clip220)\" d=\"M 0 0 M78.5939 1008.22 L66.7884 1026.67 L78.5939 1026.67 L78.5939 1008.22 M77.367 1004.14 L83.2466 1004.14 L83.2466 1026.67 L88.1772 1026.67 L88.1772 1030.55 L83.2466 1030.55 L83.2466 1038.7 L78.5939 1038.7 L78.5939 1030.55 L62.9921 1030.55 L62.9921 1026.04 L77.367 1004.14 Z\" fill=\"#000000\" fill-rule=\"evenodd\" fill-opacity=\"1\" /><path clip-path=\"url(#clip220)\" d=\"M 0 0 M103.247 1007.22 Q99.6354 1007.22 97.8068 1010.79 Q96.0012 1014.33 96.0012 1021.46 Q96.0012 1028.56 97.8068 1032.13 Q99.6354 1035.67 103.247 1035.67 Q106.881 1035.67 108.686 1032.13 Q110.515 1028.56 110.515 1021.46 Q110.515 1014.33 108.686 1010.79 Q106.881 1007.22 103.247 1007.22 M103.247 1003.52 Q109.057 1003.52 112.112 1008.12 Q115.191 1012.71 115.191 1021.46 Q115.191 1030.18 112.112 1034.79 Q109.057 1039.37 103.247 1039.37 Q97.4364 1039.37 94.3577 1034.79 Q91.3022 1030.18 91.3022 1021.46 Q91.3022 1012.71 94.3577 1008.12 Q97.4364 1003.52 103.247 1003.52 Z\" fill=\"#000000\" fill-rule=\"evenodd\" fill-opacity=\"1\" /><path clip-path=\"url(#clip220)\" d=\"M 0 0 M76.6495 680.124 Q73.5013 680.124 71.6495 682.277 Q69.8208 684.429 69.8208 688.179 Q69.8208 691.906 71.6495 694.082 Q73.5013 696.235 76.6495 696.235 Q79.7976 696.235 81.6263 694.082 Q83.4781 691.906 83.4781 688.179 Q83.4781 684.429 81.6263 682.277 Q79.7976 680.124 76.6495 680.124 M85.9318 665.471 L85.9318 669.73 Q84.1726 668.897 82.367 668.457 Q80.5846 668.017 78.8254 668.017 Q74.1958 668.017 71.7421 671.142 Q69.3115 674.267 68.9643 680.587 Q70.33 678.573 72.3902 677.508 Q74.4504 676.42 76.9272 676.42 Q82.1355 676.42 85.1448 679.591 Q88.1772 682.74 88.1772 688.179 Q88.1772 693.503 85.029 696.721 Q81.8809 699.939 76.6495 699.939 Q70.6541 699.939 67.4828 695.355 Q64.3116 690.749 64.3116 682.022 Q64.3116 673.828 68.2004 668.967 Q72.0893 664.082 78.6402 664.082 Q80.3994 664.082 82.1818 664.429 Q83.9874 664.777 85.9318 665.471 Z\" fill=\"#000000\" fill-rule=\"evenodd\" fill-opacity=\"1\" /><path clip-path=\"url(#clip220)\" d=\"M 0 0 M103.247 667.786 Q99.6354 667.786 97.8068 671.351 Q96.0012 674.892 96.0012 682.022 Q96.0012 689.128 97.8068 692.693 Q99.6354 696.235 103.247 696.235 Q106.881 696.235 108.686 692.693 Q110.515 689.128 110.515 682.022 Q110.515 674.892 108.686 671.351 Q106.881 667.786 103.247 667.786 M103.247 664.082 Q109.057 664.082 112.112 668.689 Q115.191 673.272 115.191 682.022 Q115.191 690.749 112.112 695.355 Q109.057 699.939 103.247 699.939 Q97.4364 699.939 94.3577 695.355 Q91.3022 690.749 91.3022 682.022 Q91.3022 673.272 94.3577 668.689 Q97.4364 664.082 103.247 664.082 Z\" fill=\"#000000\" fill-rule=\"evenodd\" fill-opacity=\"1\" /><path clip-path=\"url(#clip220)\" d=\"M 0 0 M76.3254 343.42 Q72.9921 343.42 71.0708 345.203 Q69.1726 346.985 69.1726 350.11 Q69.1726 353.235 71.0708 355.018 Q72.9921 356.8 76.3254 356.8 Q79.6587 356.8 81.58 355.018 Q83.5013 353.212 83.5013 350.11 Q83.5013 346.985 81.58 345.203 Q79.6819 343.42 76.3254 343.42 M71.6495 341.43 Q68.6402 340.689 66.9504 338.629 Q65.2838 336.569 65.2838 333.606 Q65.2838 329.462 68.2236 327.055 Q71.1865 324.647 76.3254 324.647 Q81.4874 324.647 84.4272 327.055 Q87.367 329.462 87.367 333.606 Q87.367 336.569 85.6772 338.629 Q84.0105 340.689 81.0244 341.43 Q84.404 342.217 86.279 344.508 Q88.1772 346.8 88.1772 350.11 Q88.1772 355.133 85.0985 357.819 Q82.0429 360.504 76.3254 360.504 Q70.6078 360.504 67.5291 357.819 Q64.4736 355.133 64.4736 350.11 Q64.4736 346.8 66.3717 344.508 Q68.2699 342.217 71.6495 341.43 M69.9365 334.046 Q69.9365 336.731 71.6032 338.235 Q73.293 339.74 76.3254 339.74 Q79.3346 339.74 81.0244 338.235 Q82.7374 336.731 82.7374 334.046 Q82.7374 331.36 81.0244 329.856 Q79.3346 328.351 76.3254 328.351 Q73.293 328.351 71.6032 329.856 Q69.9365 331.36 69.9365 334.046 Z\" fill=\"#000000\" fill-rule=\"evenodd\" fill-opacity=\"1\" /><path clip-path=\"url(#clip220)\" d=\"M 0 0 M103.247 328.351 Q99.6354 328.351 97.8068 331.916 Q96.0012 335.458 96.0012 342.587 Q96.0012 349.694 97.8068 353.258 Q99.6354 356.8 103.247 356.8 Q106.881 356.8 108.686 353.258 Q110.515 349.694 110.515 342.587 Q110.515 335.458 108.686 331.916 Q106.881 328.351 103.247 328.351 M103.247 324.647 Q109.057 324.647 112.112 329.254 Q115.191 333.837 115.191 342.587 Q115.191 351.314 112.112 355.92 Q109.057 360.504 103.247 360.504 Q97.4364 360.504 94.3577 355.92 Q91.3022 351.314 91.3022 342.587 Q91.3022 333.837 94.3577 329.254 Q97.4364 324.647 103.247 324.647 Z\" fill=\"#000000\" fill-rule=\"evenodd\" fill-opacity=\"1\" /><polyline clip-path=\"url(#clip222)\" style=\"stroke:#009af9; stroke-width:4; stroke-opacity:1; fill:none\" points=\"\n",
       "  201.839,1445.72 433.869,1276 665.899,342.552 897.929,427.411 1129.96,851.705 1361.99,1191.14 1594.02,1106.28 1826.05,1445.72 2058.08,1276 2290.11,1106.28 \n",
       "  \n",
       "  \"/>\n",
       "<polyline clip-path=\"url(#clip222)\" style=\"stroke:#e26f46; stroke-width:4; stroke-opacity:1; fill:none\" points=\"\n",
       "  201.839,223.75 433.869,1208.11 665.899,512.27 897.929,648.044 1129.96,291.637 1361.99,325.581 1594.02,87.9763 1826.05,1394.8 2058.08,1072.34 2290.11,121.92 \n",
       "  \n",
       "  \"/>\n",
       "<path clip-path=\"url(#clip220)\" d=\"\n",
       "M1871.89 312.204 L2280.76 312.204 L2280.76 130.764 L1871.89 130.764  Z\n",
       "  \" fill=\"#ffffff\" fill-rule=\"evenodd\" fill-opacity=\"1\"/>\n",
       "<polyline clip-path=\"url(#clip220)\" style=\"stroke:#000000; stroke-width:4; stroke-opacity:1; fill:none\" points=\"\n",
       "  1871.89,312.204 2280.76,312.204 2280.76,130.764 1871.89,130.764 1871.89,312.204 \n",
       "  \"/>\n",
       "<polyline clip-path=\"url(#clip220)\" style=\"stroke:#009af9; stroke-width:4; stroke-opacity:1; fill:none\" points=\"\n",
       "  1895.89,191.244 2039.89,191.244 \n",
       "  \"/>\n",
       "<path clip-path=\"url(#clip220)\" d=\"M 0 0 M2077.29 195.492 Q2072.13 195.492 2070.14 196.672 Q2068.15 197.853 2068.15 200.7 Q2068.15 202.969 2069.63 204.311 Q2071.14 205.631 2073.71 205.631 Q2077.25 205.631 2079.38 203.131 Q2081.53 200.607 2081.53 196.441 L2081.53 195.492 L2077.29 195.492 M2085.79 193.733 L2085.79 208.524 L2081.53 208.524 L2081.53 204.589 Q2080.07 206.95 2077.9 208.084 Q2075.72 209.195 2072.57 209.195 Q2068.59 209.195 2066.23 206.973 Q2063.89 204.728 2063.89 200.978 Q2063.89 196.603 2066.81 194.381 Q2069.75 192.158 2075.56 192.158 L2081.53 192.158 L2081.53 191.742 Q2081.53 188.802 2079.59 187.205 Q2077.66 185.584 2074.17 185.584 Q2071.95 185.584 2069.84 186.117 Q2067.73 186.649 2065.79 187.714 L2065.79 183.779 Q2068.13 182.876 2070.33 182.436 Q2072.53 181.973 2074.61 181.973 Q2080.23 181.973 2083.01 184.89 Q2085.79 187.807 2085.79 193.733 Z\" fill=\"#000000\" fill-rule=\"evenodd\" fill-opacity=\"1\" /><path clip-path=\"url(#clip220)\" d=\"M 0 0 M2094.38 204.635 L2094.38 218.385 L2090.09 218.385 L2090.09 182.598 L2094.38 182.598 L2094.38 186.533 Q2095.72 184.219 2097.76 183.108 Q2099.82 181.973 2102.66 181.973 Q2107.39 181.973 2110.33 185.723 Q2113.29 189.473 2113.29 195.584 Q2113.29 201.695 2110.33 205.445 Q2107.39 209.195 2102.66 209.195 Q2099.82 209.195 2097.76 208.084 Q2095.72 206.95 2094.38 204.635 M2108.87 195.584 Q2108.87 190.885 2106.92 188.223 Q2105 185.538 2101.62 185.538 Q2098.24 185.538 2096.3 188.223 Q2094.38 190.885 2094.38 195.584 Q2094.38 200.283 2096.3 202.969 Q2098.24 205.631 2101.62 205.631 Q2105 205.631 2106.92 202.969 Q2108.87 200.283 2108.87 195.584 Z\" fill=\"#000000\" fill-rule=\"evenodd\" fill-opacity=\"1\" /><path clip-path=\"url(#clip220)\" d=\"M 0 0 M2121.88 204.635 L2121.88 218.385 L2117.59 218.385 L2117.59 182.598 L2121.88 182.598 L2121.88 186.533 Q2123.22 184.219 2125.26 183.108 Q2127.32 181.973 2130.16 181.973 Q2134.89 181.973 2137.83 185.723 Q2140.79 189.473 2140.79 195.584 Q2140.79 201.695 2137.83 205.445 Q2134.89 209.195 2130.16 209.195 Q2127.32 209.195 2125.26 208.084 Q2123.22 206.95 2121.88 204.635 M2136.37 195.584 Q2136.37 190.885 2134.42 188.223 Q2132.5 185.538 2129.12 185.538 Q2125.74 185.538 2123.8 188.223 Q2121.88 190.885 2121.88 195.584 Q2121.88 200.283 2123.8 202.969 Q2125.74 205.631 2129.12 205.631 Q2132.5 205.631 2134.42 202.969 Q2136.37 200.283 2136.37 195.584 Z\" fill=\"#000000\" fill-rule=\"evenodd\" fill-opacity=\"1\" /><path clip-path=\"url(#clip220)\" d=\"M 0 0 M2145.26 172.506 L2149.52 172.506 L2149.52 208.524 L2145.26 208.524 L2145.26 172.506 Z\" fill=\"#000000\" fill-rule=\"evenodd\" fill-opacity=\"1\" /><path clip-path=\"url(#clip220)\" d=\"M 0 0 M2176.16 194.496 L2176.16 196.58 L2156.58 196.58 Q2156.85 200.978 2159.21 203.293 Q2161.6 205.584 2165.83 205.584 Q2168.29 205.584 2170.58 204.982 Q2172.9 204.381 2175.16 203.177 L2175.16 207.205 Q2172.87 208.177 2170.46 208.686 Q2168.06 209.195 2165.58 209.195 Q2159.38 209.195 2155.74 205.584 Q2152.13 201.973 2152.13 195.816 Q2152.13 189.45 2155.56 185.723 Q2159.01 181.973 2164.84 181.973 Q2170.07 181.973 2173.1 185.353 Q2176.16 188.709 2176.16 194.496 M2171.9 193.246 Q2171.85 189.751 2169.93 187.668 Q2168.03 185.584 2164.89 185.584 Q2161.32 185.584 2159.17 187.598 Q2157.04 189.612 2156.71 193.27 L2171.9 193.246 Z\" fill=\"#000000\" fill-rule=\"evenodd\" fill-opacity=\"1\" /><path clip-path=\"url(#clip220)\" d=\"M 0 0 M2197.15 183.362 L2197.15 187.39 Q2195.35 186.464 2193.4 186.001 Q2191.46 185.538 2189.38 185.538 Q2186.21 185.538 2184.61 186.51 Q2183.03 187.483 2183.03 189.427 Q2183.03 190.908 2184.17 191.765 Q2185.3 192.598 2188.73 193.362 L2190.19 193.686 Q2194.72 194.658 2196.62 196.441 Q2198.54 198.2 2198.54 201.371 Q2198.54 204.982 2195.67 207.089 Q2192.83 209.195 2187.83 209.195 Q2185.74 209.195 2183.47 208.779 Q2181.23 208.385 2178.73 207.575 L2178.73 203.177 Q2181.09 204.404 2183.38 205.029 Q2185.67 205.631 2187.92 205.631 Q2190.93 205.631 2192.55 204.612 Q2194.17 203.57 2194.17 201.695 Q2194.17 199.959 2192.99 199.033 Q2191.83 198.107 2187.87 197.251 L2186.39 196.904 Q2182.43 196.07 2180.67 194.358 Q2178.91 192.621 2178.91 189.612 Q2178.91 185.955 2181.51 183.964 Q2184.1 181.973 2188.87 181.973 Q2191.23 181.973 2193.31 182.321 Q2195.39 182.668 2197.15 183.362 Z\" fill=\"#000000\" fill-rule=\"evenodd\" fill-opacity=\"1\" /><polyline clip-path=\"url(#clip220)\" style=\"stroke:#e26f46; stroke-width:4; stroke-opacity:1; fill:none\" points=\"\n",
       "  1895.89,251.724 2039.89,251.724 \n",
       "  \"/>\n",
       "<path clip-path=\"url(#clip220)\" d=\"M 0 0 M2075.79 246.064 Q2072.36 246.064 2070.37 248.75 Q2068.38 251.412 2068.38 256.064 Q2068.38 260.717 2070.35 263.402 Q2072.34 266.064 2075.79 266.064 Q2079.19 266.064 2081.18 263.379 Q2083.17 260.694 2083.17 256.064 Q2083.17 251.458 2081.18 248.773 Q2079.19 246.064 2075.79 246.064 M2075.79 242.453 Q2081.34 242.453 2084.52 246.064 Q2087.69 249.675 2087.69 256.064 Q2087.69 262.43 2084.52 266.064 Q2081.34 269.675 2075.79 269.675 Q2070.21 269.675 2067.04 266.064 Q2063.89 262.43 2063.89 256.064 Q2063.89 249.675 2067.04 246.064 Q2070.21 242.453 2075.79 242.453 Z\" fill=\"#000000\" fill-rule=\"evenodd\" fill-opacity=\"1\" /><path clip-path=\"url(#clip220)\" d=\"M 0 0 M2107.18 247.06 Q2106.46 246.643 2105.6 246.458 Q2104.77 246.25 2103.75 246.25 Q2100.14 246.25 2098.2 248.611 Q2096.28 250.949 2096.28 255.347 L2096.28 269.004 L2091.99 269.004 L2091.99 243.078 L2096.28 243.078 L2096.28 247.106 Q2097.62 244.745 2099.77 243.611 Q2101.92 242.453 2105 242.453 Q2105.44 242.453 2105.97 242.523 Q2106.51 242.569 2107.15 242.685 L2107.18 247.06 Z\" fill=\"#000000\" fill-rule=\"evenodd\" fill-opacity=\"1\" /><path clip-path=\"url(#clip220)\" d=\"M 0 0 M2123.43 255.972 Q2118.27 255.972 2116.28 257.152 Q2114.28 258.333 2114.28 261.18 Q2114.28 263.449 2115.77 264.791 Q2117.27 266.111 2119.84 266.111 Q2123.38 266.111 2125.51 263.611 Q2127.66 261.087 2127.66 256.921 L2127.66 255.972 L2123.43 255.972 M2131.92 254.213 L2131.92 269.004 L2127.66 269.004 L2127.66 265.069 Q2126.21 267.43 2124.03 268.564 Q2121.85 269.675 2118.71 269.675 Q2114.72 269.675 2112.36 267.453 Q2110.03 265.208 2110.03 261.458 Q2110.03 257.083 2112.94 254.861 Q2115.88 252.638 2121.69 252.638 L2127.66 252.638 L2127.66 252.222 Q2127.66 249.282 2125.72 247.685 Q2123.8 246.064 2120.3 246.064 Q2118.08 246.064 2115.97 246.597 Q2113.87 247.129 2111.92 248.194 L2111.92 244.259 Q2114.26 243.356 2116.46 242.916 Q2118.66 242.453 2120.74 242.453 Q2126.37 242.453 2129.15 245.37 Q2131.92 248.287 2131.92 254.213 Z\" fill=\"#000000\" fill-rule=\"evenodd\" fill-opacity=\"1\" /><path clip-path=\"url(#clip220)\" d=\"M 0 0 M2157.94 253.356 L2157.94 269.004 L2153.68 269.004 L2153.68 253.495 Q2153.68 249.814 2152.25 247.986 Q2150.81 246.157 2147.94 246.157 Q2144.49 246.157 2142.5 248.356 Q2140.51 250.555 2140.51 254.351 L2140.51 269.004 L2136.23 269.004 L2136.23 243.078 L2140.51 243.078 L2140.51 247.106 Q2142.04 244.768 2144.1 243.611 Q2146.18 242.453 2148.89 242.453 Q2153.36 242.453 2155.65 245.231 Q2157.94 247.986 2157.94 253.356 Z\" fill=\"#000000\" fill-rule=\"evenodd\" fill-opacity=\"1\" /><path clip-path=\"url(#clip220)\" d=\"M 0 0 M2179.47 255.74 Q2179.47 251.111 2177.55 248.564 Q2175.65 246.018 2172.2 246.018 Q2168.77 246.018 2166.85 248.564 Q2164.96 251.111 2164.96 255.74 Q2164.96 260.347 2166.85 262.893 Q2168.77 265.439 2172.2 265.439 Q2175.65 265.439 2177.55 262.893 Q2179.47 260.347 2179.47 255.74 M2183.73 265.787 Q2183.73 272.407 2180.79 275.624 Q2177.85 278.865 2171.78 278.865 Q2169.54 278.865 2167.55 278.518 Q2165.56 278.194 2163.68 277.499 L2163.68 273.356 Q2165.56 274.374 2167.39 274.861 Q2169.21 275.347 2171.11 275.347 Q2175.3 275.347 2177.39 273.148 Q2179.47 270.972 2179.47 266.55 L2179.47 264.444 Q2178.15 266.736 2176.09 267.87 Q2174.03 269.004 2171.16 269.004 Q2166.39 269.004 2163.47 265.37 Q2160.56 261.736 2160.56 255.74 Q2160.56 249.722 2163.47 246.088 Q2166.39 242.453 2171.16 242.453 Q2174.03 242.453 2176.09 243.588 Q2178.15 244.722 2179.47 247.013 L2179.47 243.078 L2183.73 243.078 L2183.73 265.787 Z\" fill=\"#000000\" fill-rule=\"evenodd\" fill-opacity=\"1\" /><path clip-path=\"url(#clip220)\" d=\"M 0 0 M2210.37 254.976 L2210.37 257.06 L2190.79 257.06 Q2191.07 261.458 2193.43 263.773 Q2195.81 266.064 2200.05 266.064 Q2202.5 266.064 2204.79 265.462 Q2207.11 264.861 2209.38 263.657 L2209.38 267.685 Q2207.08 268.657 2204.68 269.166 Q2202.27 269.675 2199.79 269.675 Q2193.59 269.675 2189.96 266.064 Q2186.34 262.453 2186.34 256.296 Q2186.34 249.93 2189.77 246.203 Q2193.22 242.453 2199.05 242.453 Q2204.28 242.453 2207.32 245.833 Q2210.37 249.189 2210.37 254.976 M2206.11 253.726 Q2206.07 250.231 2204.14 248.148 Q2202.25 246.064 2199.1 246.064 Q2195.53 246.064 2193.38 248.078 Q2191.25 250.092 2190.93 253.75 L2206.11 253.726 Z\" fill=\"#000000\" fill-rule=\"evenodd\" fill-opacity=\"1\" /><path clip-path=\"url(#clip220)\" d=\"M 0 0 M2231.37 243.842 L2231.37 247.87 Q2229.56 246.944 2227.62 246.481 Q2225.67 246.018 2223.59 246.018 Q2220.42 246.018 2218.82 246.99 Q2217.25 247.963 2217.25 249.907 Q2217.25 251.388 2218.38 252.245 Q2219.52 253.078 2222.94 253.842 L2224.4 254.166 Q2228.94 255.138 2230.83 256.921 Q2232.76 258.68 2232.76 261.851 Q2232.76 265.462 2229.89 267.569 Q2227.04 269.675 2222.04 269.675 Q2219.96 269.675 2217.69 269.259 Q2215.44 268.865 2212.94 268.055 L2212.94 263.657 Q2215.3 264.884 2217.59 265.509 Q2219.89 266.111 2222.13 266.111 Q2225.14 266.111 2226.76 265.092 Q2228.38 264.05 2228.38 262.175 Q2228.38 260.439 2227.2 259.513 Q2226.04 258.587 2222.08 257.731 L2220.6 257.384 Q2216.64 256.55 2214.89 254.838 Q2213.13 253.101 2213.13 250.092 Q2213.13 246.435 2215.72 244.444 Q2218.31 242.453 2223.08 242.453 Q2225.44 242.453 2227.52 242.801 Q2229.61 243.148 2231.37 243.842 Z\" fill=\"#000000\" fill-rule=\"evenodd\" fill-opacity=\"1\" /></svg>\n"
      ]
     },
     "execution_count": 20,
     "metadata": {},
     "output_type": "execute_result"
    }
   ],
   "source": [
    "begin\n",
    "\tplot(years, apples, label = \"apples\")\n",
    "\tplot!(years, oranges, label = \"oranges\")\n",
    "end"
   ]
  },
  {
   "cell_type": "code",
   "execution_count": 21,
   "metadata": {},
   "outputs": [
    {
     "data": {
      "image/svg+xml": [
       "<?xml version=\"1.0\" encoding=\"utf-8\"?>\n",
       "<svg xmlns=\"http://www.w3.org/2000/svg\" xmlns:xlink=\"http://www.w3.org/1999/xlink\" width=\"600\" height=\"400\" viewBox=\"0 0 2400 1600\">\n",
       "<defs>\n",
       "  <clipPath id=\"clip260\">\n",
       "    <rect x=\"0\" y=\"0\" width=\"2400\" height=\"1600\"/>\n",
       "  </clipPath>\n",
       "</defs>\n",
       "<path clip-path=\"url(#clip260)\" d=\"\n",
       "M0 1600 L2400 1600 L2400 0 L0 0  Z\n",
       "  \" fill=\"#ffffff\" fill-rule=\"evenodd\" fill-opacity=\"1\"/>\n",
       "<defs>\n",
       "  <clipPath id=\"clip261\">\n",
       "    <rect x=\"480\" y=\"0\" width=\"1681\" height=\"1600\"/>\n",
       "  </clipPath>\n",
       "</defs>\n",
       "<path clip-path=\"url(#clip260)\" d=\"\n",
       "M162.455 1486.45 L2352.76 1486.45 L2352.76 47.2441 L162.455 47.2441  Z\n",
       "  \" fill=\"#ffffff\" fill-rule=\"evenodd\" fill-opacity=\"1\"/>\n",
       "<defs>\n",
       "  <clipPath id=\"clip262\">\n",
       "    <rect x=\"162\" y=\"47\" width=\"2191\" height=\"1440\"/>\n",
       "  </clipPath>\n",
       "</defs>\n",
       "<polyline clip-path=\"url(#clip262)\" style=\"stroke:#000000; stroke-width:2; stroke-opacity:0.1; fill:none\" points=\"\n",
       "  454.036,1486.45 454.036,47.2441 \n",
       "  \"/>\n",
       "<polyline clip-path=\"url(#clip262)\" style=\"stroke:#000000; stroke-width:2; stroke-opacity:0.1; fill:none\" points=\"\n",
       "  913.218,1486.45 913.218,47.2441 \n",
       "  \"/>\n",
       "<polyline clip-path=\"url(#clip262)\" style=\"stroke:#000000; stroke-width:2; stroke-opacity:0.1; fill:none\" points=\"\n",
       "  1372.4,1486.45 1372.4,47.2441 \n",
       "  \"/>\n",
       "<polyline clip-path=\"url(#clip262)\" style=\"stroke:#000000; stroke-width:2; stroke-opacity:0.1; fill:none\" points=\"\n",
       "  1831.58,1486.45 1831.58,47.2441 \n",
       "  \"/>\n",
       "<polyline clip-path=\"url(#clip262)\" style=\"stroke:#000000; stroke-width:2; stroke-opacity:0.1; fill:none\" points=\"\n",
       "  2290.77,1486.45 2290.77,47.2441 \n",
       "  \"/>\n",
       "<polyline clip-path=\"url(#clip262)\" style=\"stroke:#000000; stroke-width:2; stroke-opacity:0.1; fill:none\" points=\"\n",
       "  162.455,1446.52 2352.76,1446.52 \n",
       "  \"/>\n",
       "<polyline clip-path=\"url(#clip262)\" style=\"stroke:#000000; stroke-width:2; stroke-opacity:0.1; fill:none\" points=\"\n",
       "  162.455,1106.14 2352.76,1106.14 \n",
       "  \"/>\n",
       "<polyline clip-path=\"url(#clip262)\" style=\"stroke:#000000; stroke-width:2; stroke-opacity:0.1; fill:none\" points=\"\n",
       "  162.455,765.773 2352.76,765.773 \n",
       "  \"/>\n",
       "<polyline clip-path=\"url(#clip262)\" style=\"stroke:#000000; stroke-width:2; stroke-opacity:0.1; fill:none\" points=\"\n",
       "  162.455,425.401 2352.76,425.401 \n",
       "  \"/>\n",
       "<polyline clip-path=\"url(#clip262)\" style=\"stroke:#000000; stroke-width:2; stroke-opacity:0.1; fill:none\" points=\"\n",
       "  162.455,85.0288 2352.76,85.0288 \n",
       "  \"/>\n",
       "<polyline clip-path=\"url(#clip260)\" style=\"stroke:#000000; stroke-width:4; stroke-opacity:1; fill:none\" points=\"\n",
       "  162.455,1486.45 2352.76,1486.45 \n",
       "  \"/>\n",
       "<polyline clip-path=\"url(#clip260)\" style=\"stroke:#000000; stroke-width:4; stroke-opacity:1; fill:none\" points=\"\n",
       "  162.455,1486.45 162.455,47.2441 \n",
       "  \"/>\n",
       "<polyline clip-path=\"url(#clip260)\" style=\"stroke:#000000; stroke-width:4; stroke-opacity:1; fill:none\" points=\"\n",
       "  454.036,1486.45 454.036,1469.18 \n",
       "  \"/>\n",
       "<polyline clip-path=\"url(#clip260)\" style=\"stroke:#000000; stroke-width:4; stroke-opacity:1; fill:none\" points=\"\n",
       "  913.218,1486.45 913.218,1469.18 \n",
       "  \"/>\n",
       "<polyline clip-path=\"url(#clip260)\" style=\"stroke:#000000; stroke-width:4; stroke-opacity:1; fill:none\" points=\"\n",
       "  1372.4,1486.45 1372.4,1469.18 \n",
       "  \"/>\n",
       "<polyline clip-path=\"url(#clip260)\" style=\"stroke:#000000; stroke-width:4; stroke-opacity:1; fill:none\" points=\"\n",
       "  1831.58,1486.45 1831.58,1469.18 \n",
       "  \"/>\n",
       "<polyline clip-path=\"url(#clip260)\" style=\"stroke:#000000; stroke-width:4; stroke-opacity:1; fill:none\" points=\"\n",
       "  2290.77,1486.45 2290.77,1469.18 \n",
       "  \"/>\n",
       "<polyline clip-path=\"url(#clip260)\" style=\"stroke:#000000; stroke-width:4; stroke-opacity:1; fill:none\" points=\"\n",
       "  162.455,1446.52 188.738,1446.52 \n",
       "  \"/>\n",
       "<polyline clip-path=\"url(#clip260)\" style=\"stroke:#000000; stroke-width:4; stroke-opacity:1; fill:none\" points=\"\n",
       "  162.455,1106.14 188.738,1106.14 \n",
       "  \"/>\n",
       "<polyline clip-path=\"url(#clip260)\" style=\"stroke:#000000; stroke-width:4; stroke-opacity:1; fill:none\" points=\"\n",
       "  162.455,765.773 188.738,765.773 \n",
       "  \"/>\n",
       "<polyline clip-path=\"url(#clip260)\" style=\"stroke:#000000; stroke-width:4; stroke-opacity:1; fill:none\" points=\"\n",
       "  162.455,425.401 188.738,425.401 \n",
       "  \"/>\n",
       "<polyline clip-path=\"url(#clip260)\" style=\"stroke:#000000; stroke-width:4; stroke-opacity:1; fill:none\" points=\"\n",
       "  162.455,85.0288 188.738,85.0288 \n",
       "  \"/>\n",
       "<path clip-path=\"url(#clip260)\" d=\"M 0 0 M408.966 1535.98 L425.286 1535.98 L425.286 1539.92 L403.341 1539.92 L403.341 1535.98 Q406.004 1533.23 410.587 1528.6 Q415.193 1523.95 416.374 1522.61 Q418.619 1520.08 419.499 1518.35 Q420.402 1516.59 420.402 1514.9 Q420.402 1512.14 418.457 1510.41 Q416.536 1508.67 413.434 1508.67 Q411.235 1508.67 408.781 1509.43 Q406.351 1510.2 403.573 1511.75 L403.573 1507.03 Q406.397 1505.89 408.851 1505.31 Q411.304 1504.73 413.341 1504.73 Q418.712 1504.73 421.906 1507.42 Q425.101 1510.11 425.101 1514.6 Q425.101 1516.73 424.29 1518.65 Q423.503 1520.54 421.397 1523.14 Q420.818 1523.81 417.716 1527.03 Q414.615 1530.22 408.966 1535.98 Z\" fill=\"#000000\" fill-rule=\"evenodd\" fill-opacity=\"1\" /><path clip-path=\"url(#clip260)\" d=\"M 0 0 M440.355 1508.44 Q436.744 1508.44 434.915 1512 Q433.11 1515.55 433.11 1522.67 Q433.11 1529.78 434.915 1533.35 Q436.744 1536.89 440.355 1536.89 Q443.989 1536.89 445.795 1533.35 Q447.624 1529.78 447.624 1522.67 Q447.624 1515.55 445.795 1512 Q443.989 1508.44 440.355 1508.44 M440.355 1504.73 Q446.165 1504.73 449.221 1509.34 Q452.3 1513.92 452.3 1522.67 Q452.3 1531.4 449.221 1536.01 Q446.165 1540.59 440.355 1540.59 Q434.545 1540.59 431.466 1536.01 Q428.411 1531.4 428.411 1522.67 Q428.411 1513.92 431.466 1509.34 Q434.545 1504.73 440.355 1504.73 Z\" fill=\"#000000\" fill-rule=\"evenodd\" fill-opacity=\"1\" /><path clip-path=\"url(#clip260)\" d=\"M 0 0 M467.369 1508.44 Q463.758 1508.44 461.929 1512 Q460.124 1515.55 460.124 1522.67 Q460.124 1529.78 461.929 1533.35 Q463.758 1536.89 467.369 1536.89 Q471.003 1536.89 472.809 1533.35 Q474.637 1529.78 474.637 1522.67 Q474.637 1515.55 472.809 1512 Q471.003 1508.44 467.369 1508.44 M467.369 1504.73 Q473.179 1504.73 476.235 1509.34 Q479.313 1513.92 479.313 1522.67 Q479.313 1531.4 476.235 1536.01 Q473.179 1540.59 467.369 1540.59 Q461.559 1540.59 458.48 1536.01 Q455.425 1531.4 455.425 1522.67 Q455.425 1513.92 458.48 1509.34 Q461.559 1504.73 467.369 1504.73 Z\" fill=\"#000000\" fill-rule=\"evenodd\" fill-opacity=\"1\" /><path clip-path=\"url(#clip260)\" d=\"M 0 0 M488.41 1535.98 L504.73 1535.98 L504.73 1539.92 L482.786 1539.92 L482.786 1535.98 Q485.448 1533.23 490.031 1528.6 Q494.637 1523.95 495.818 1522.61 Q498.063 1520.08 498.943 1518.35 Q499.846 1516.59 499.846 1514.9 Q499.846 1512.14 497.901 1510.41 Q495.98 1508.67 492.878 1508.67 Q490.679 1508.67 488.225 1509.43 Q485.795 1510.2 483.017 1511.75 L483.017 1507.03 Q485.841 1505.89 488.295 1505.31 Q490.748 1504.73 492.785 1504.73 Q498.156 1504.73 501.35 1507.42 Q504.545 1510.11 504.545 1514.6 Q504.545 1516.73 503.734 1518.65 Q502.947 1520.54 500.841 1523.14 Q500.262 1523.81 497.16 1527.03 Q494.059 1530.22 488.41 1535.98 Z\" fill=\"#000000\" fill-rule=\"evenodd\" fill-opacity=\"1\" /><path clip-path=\"url(#clip260)\" d=\"M 0 0 M867.107 1535.98 L883.427 1535.98 L883.427 1539.92 L861.482 1539.92 L861.482 1535.98 Q864.144 1533.23 868.728 1528.6 Q873.334 1523.95 874.515 1522.61 Q876.76 1520.08 877.64 1518.35 Q878.543 1516.59 878.543 1514.9 Q878.543 1512.14 876.598 1510.41 Q874.677 1508.67 871.575 1508.67 Q869.376 1508.67 866.922 1509.43 Q864.492 1510.2 861.714 1511.75 L861.714 1507.03 Q864.538 1505.89 866.992 1505.31 Q869.445 1504.73 871.482 1504.73 Q876.853 1504.73 880.047 1507.42 Q883.242 1510.11 883.242 1514.6 Q883.242 1516.73 882.431 1518.65 Q881.644 1520.54 879.538 1523.14 Q878.959 1523.81 875.857 1527.03 Q872.756 1530.22 867.107 1535.98 Z\" fill=\"#000000\" fill-rule=\"evenodd\" fill-opacity=\"1\" /><path clip-path=\"url(#clip260)\" d=\"M 0 0 M898.496 1508.44 Q894.885 1508.44 893.056 1512 Q891.251 1515.55 891.251 1522.67 Q891.251 1529.78 893.056 1533.35 Q894.885 1536.89 898.496 1536.89 Q902.13 1536.89 903.936 1533.35 Q905.765 1529.78 905.765 1522.67 Q905.765 1515.55 903.936 1512 Q902.13 1508.44 898.496 1508.44 M898.496 1504.73 Q904.306 1504.73 907.362 1509.34 Q910.441 1513.92 910.441 1522.67 Q910.441 1531.4 907.362 1536.01 Q904.306 1540.59 898.496 1540.59 Q892.686 1540.59 889.607 1536.01 Q886.552 1531.4 886.552 1522.67 Q886.552 1513.92 889.607 1509.34 Q892.686 1504.73 898.496 1504.73 Z\" fill=\"#000000\" fill-rule=\"evenodd\" fill-opacity=\"1\" /><path clip-path=\"url(#clip260)\" d=\"M 0 0 M925.51 1508.44 Q921.899 1508.44 920.07 1512 Q918.265 1515.55 918.265 1522.67 Q918.265 1529.78 920.07 1533.35 Q921.899 1536.89 925.51 1536.89 Q929.144 1536.89 930.95 1533.35 Q932.778 1529.78 932.778 1522.67 Q932.778 1515.55 930.95 1512 Q929.144 1508.44 925.51 1508.44 M925.51 1504.73 Q931.32 1504.73 934.376 1509.34 Q937.454 1513.92 937.454 1522.67 Q937.454 1531.4 934.376 1536.01 Q931.32 1540.59 925.51 1540.59 Q919.7 1540.59 916.621 1536.01 Q913.566 1531.4 913.566 1522.67 Q913.566 1513.92 916.621 1509.34 Q919.7 1504.73 925.51 1504.73 Z\" fill=\"#000000\" fill-rule=\"evenodd\" fill-opacity=\"1\" /><path clip-path=\"url(#clip260)\" d=\"M 0 0 M955.371 1509.43 L943.565 1527.88 L955.371 1527.88 L955.371 1509.43 M954.144 1505.36 L960.024 1505.36 L960.024 1527.88 L964.954 1527.88 L964.954 1531.77 L960.024 1531.77 L960.024 1539.92 L955.371 1539.92 L955.371 1531.77 L939.769 1531.77 L939.769 1527.26 L954.144 1505.36 Z\" fill=\"#000000\" fill-rule=\"evenodd\" fill-opacity=\"1\" /><path clip-path=\"url(#clip260)\" d=\"M 0 0 M1326.45 1535.98 L1342.77 1535.98 L1342.77 1539.92 L1320.83 1539.92 L1320.83 1535.98 Q1323.49 1533.23 1328.07 1528.6 Q1332.68 1523.95 1333.86 1522.61 Q1336.1 1520.08 1336.98 1518.35 Q1337.89 1516.59 1337.89 1514.9 Q1337.89 1512.14 1335.94 1510.41 Q1334.02 1508.67 1330.92 1508.67 Q1328.72 1508.67 1326.27 1509.43 Q1323.84 1510.2 1321.06 1511.75 L1321.06 1507.03 Q1323.88 1505.89 1326.34 1505.31 Q1328.79 1504.73 1330.83 1504.73 Q1336.2 1504.73 1339.39 1507.42 Q1342.59 1510.11 1342.59 1514.6 Q1342.59 1516.73 1341.78 1518.65 Q1340.99 1520.54 1338.88 1523.14 Q1338.3 1523.81 1335.2 1527.03 Q1332.1 1530.22 1326.45 1535.98 Z\" fill=\"#000000\" fill-rule=\"evenodd\" fill-opacity=\"1\" /><path clip-path=\"url(#clip260)\" d=\"M 0 0 M1357.84 1508.44 Q1354.23 1508.44 1352.4 1512 Q1350.6 1515.55 1350.6 1522.67 Q1350.6 1529.78 1352.4 1533.35 Q1354.23 1536.89 1357.84 1536.89 Q1361.48 1536.89 1363.28 1533.35 Q1365.11 1529.78 1365.11 1522.67 Q1365.11 1515.55 1363.28 1512 Q1361.48 1508.44 1357.84 1508.44 M1357.84 1504.73 Q1363.65 1504.73 1366.71 1509.34 Q1369.79 1513.92 1369.79 1522.67 Q1369.79 1531.4 1366.71 1536.01 Q1363.65 1540.59 1357.84 1540.59 Q1352.03 1540.59 1348.95 1536.01 Q1345.9 1531.4 1345.9 1522.67 Q1345.9 1513.92 1348.95 1509.34 Q1352.03 1504.73 1357.84 1504.73 Z\" fill=\"#000000\" fill-rule=\"evenodd\" fill-opacity=\"1\" /><path clip-path=\"url(#clip260)\" d=\"M 0 0 M1384.85 1508.44 Q1381.24 1508.44 1379.41 1512 Q1377.61 1515.55 1377.61 1522.67 Q1377.61 1529.78 1379.41 1533.35 Q1381.24 1536.89 1384.85 1536.89 Q1388.49 1536.89 1390.29 1533.35 Q1392.12 1529.78 1392.12 1522.67 Q1392.12 1515.55 1390.29 1512 Q1388.49 1508.44 1384.85 1508.44 M1384.85 1504.73 Q1390.66 1504.73 1393.72 1509.34 Q1396.8 1513.92 1396.8 1522.67 Q1396.8 1531.4 1393.72 1536.01 Q1390.66 1540.59 1384.85 1540.59 Q1379.04 1540.59 1375.97 1536.01 Q1372.91 1531.4 1372.91 1522.67 Q1372.91 1513.92 1375.97 1509.34 Q1379.04 1504.73 1384.85 1504.73 Z\" fill=\"#000000\" fill-rule=\"evenodd\" fill-opacity=\"1\" /><path clip-path=\"url(#clip260)\" d=\"M 0 0 M1412.45 1520.78 Q1409.3 1520.78 1407.45 1522.93 Q1405.62 1525.08 1405.62 1528.83 Q1405.62 1532.56 1407.45 1534.73 Q1409.3 1536.89 1412.45 1536.89 Q1415.6 1536.89 1417.42 1534.73 Q1419.28 1532.56 1419.28 1528.83 Q1419.28 1525.08 1417.42 1522.93 Q1415.6 1520.78 1412.45 1520.78 M1421.73 1506.12 L1421.73 1510.38 Q1419.97 1509.55 1418.16 1509.11 Q1416.38 1508.67 1414.62 1508.67 Q1409.99 1508.67 1407.54 1511.8 Q1405.11 1514.92 1404.76 1521.24 Q1406.13 1519.23 1408.19 1518.16 Q1410.25 1517.07 1412.72 1517.07 Q1417.93 1517.07 1420.94 1520.24 Q1423.97 1523.39 1423.97 1528.83 Q1423.97 1534.16 1420.83 1537.37 Q1417.68 1540.59 1412.45 1540.59 Q1406.45 1540.59 1403.28 1536.01 Q1400.11 1531.4 1400.11 1522.67 Q1400.11 1514.48 1404 1509.62 Q1407.89 1504.73 1414.44 1504.73 Q1416.2 1504.73 1417.98 1505.08 Q1419.78 1505.43 1421.73 1506.12 Z\" fill=\"#000000\" fill-rule=\"evenodd\" fill-opacity=\"1\" /><path clip-path=\"url(#clip260)\" d=\"M 0 0 M1785.76 1535.98 L1802.08 1535.98 L1802.08 1539.92 L1780.14 1539.92 L1780.14 1535.98 Q1782.8 1533.23 1787.38 1528.6 Q1791.99 1523.95 1793.17 1522.61 Q1795.41 1520.08 1796.29 1518.35 Q1797.2 1516.59 1797.2 1514.9 Q1797.2 1512.14 1795.25 1510.41 Q1793.33 1508.67 1790.23 1508.67 Q1788.03 1508.67 1785.58 1509.43 Q1783.15 1510.2 1780.37 1511.75 L1780.37 1507.03 Q1783.19 1505.89 1785.65 1505.31 Q1788.1 1504.73 1790.14 1504.73 Q1795.51 1504.73 1798.7 1507.42 Q1801.9 1510.11 1801.9 1514.6 Q1801.9 1516.73 1801.09 1518.65 Q1800.3 1520.54 1798.19 1523.14 Q1797.61 1523.81 1794.51 1527.03 Q1791.41 1530.22 1785.76 1535.98 Z\" fill=\"#000000\" fill-rule=\"evenodd\" fill-opacity=\"1\" /><path clip-path=\"url(#clip260)\" d=\"M 0 0 M1817.15 1508.44 Q1813.54 1508.44 1811.71 1512 Q1809.91 1515.55 1809.91 1522.67 Q1809.91 1529.78 1811.71 1533.35 Q1813.54 1536.89 1817.15 1536.89 Q1820.79 1536.89 1822.59 1533.35 Q1824.42 1529.78 1824.42 1522.67 Q1824.42 1515.55 1822.59 1512 Q1820.79 1508.44 1817.15 1508.44 M1817.15 1504.73 Q1822.96 1504.73 1826.02 1509.34 Q1829.1 1513.92 1829.1 1522.67 Q1829.1 1531.4 1826.02 1536.01 Q1822.96 1540.59 1817.15 1540.59 Q1811.34 1540.59 1808.26 1536.01 Q1805.21 1531.4 1805.21 1522.67 Q1805.21 1513.92 1808.26 1509.34 Q1811.34 1504.73 1817.15 1504.73 Z\" fill=\"#000000\" fill-rule=\"evenodd\" fill-opacity=\"1\" /><path clip-path=\"url(#clip260)\" d=\"M 0 0 M1844.16 1508.44 Q1840.55 1508.44 1838.72 1512 Q1836.92 1515.55 1836.92 1522.67 Q1836.92 1529.78 1838.72 1533.35 Q1840.55 1536.89 1844.16 1536.89 Q1847.8 1536.89 1849.6 1533.35 Q1851.43 1529.78 1851.43 1522.67 Q1851.43 1515.55 1849.6 1512 Q1847.8 1508.44 1844.16 1508.44 M1844.16 1504.73 Q1849.97 1504.73 1853.03 1509.34 Q1856.11 1513.92 1856.11 1522.67 Q1856.11 1531.4 1853.03 1536.01 Q1849.97 1540.59 1844.16 1540.59 Q1838.35 1540.59 1835.28 1536.01 Q1832.22 1531.4 1832.22 1522.67 Q1832.22 1513.92 1835.28 1509.34 Q1838.35 1504.73 1844.16 1504.73 Z\" fill=\"#000000\" fill-rule=\"evenodd\" fill-opacity=\"1\" /><path clip-path=\"url(#clip260)\" d=\"M 0 0 M1871.18 1523.51 Q1867.84 1523.51 1865.92 1525.29 Q1864.03 1527.07 1864.03 1530.2 Q1864.03 1533.32 1865.92 1535.11 Q1867.84 1536.89 1871.18 1536.89 Q1874.51 1536.89 1876.43 1535.11 Q1878.35 1533.3 1878.35 1530.2 Q1878.35 1527.07 1876.43 1525.29 Q1874.53 1523.51 1871.18 1523.51 M1866.5 1521.52 Q1863.49 1520.78 1861.8 1518.72 Q1860.14 1516.66 1860.14 1513.69 Q1860.14 1509.55 1863.08 1507.14 Q1866.04 1504.73 1871.18 1504.73 Q1876.34 1504.73 1879.28 1507.14 Q1882.22 1509.55 1882.22 1513.69 Q1882.22 1516.66 1880.53 1518.72 Q1878.86 1520.78 1875.88 1521.52 Q1879.26 1522.3 1881.13 1524.6 Q1883.03 1526.89 1883.03 1530.2 Q1883.03 1535.22 1879.95 1537.91 Q1876.9 1540.59 1871.18 1540.59 Q1865.46 1540.59 1862.38 1537.91 Q1859.33 1535.22 1859.33 1530.2 Q1859.33 1526.89 1861.22 1524.6 Q1863.12 1522.3 1866.5 1521.52 M1864.79 1514.13 Q1864.79 1516.82 1866.46 1518.32 Q1868.15 1519.83 1871.18 1519.83 Q1874.19 1519.83 1875.88 1518.32 Q1877.59 1516.82 1877.59 1514.13 Q1877.59 1511.45 1875.88 1509.94 Q1874.19 1508.44 1871.18 1508.44 Q1868.15 1508.44 1866.46 1509.94 Q1864.79 1511.45 1864.79 1514.13 Z\" fill=\"#000000\" fill-rule=\"evenodd\" fill-opacity=\"1\" /><path clip-path=\"url(#clip260)\" d=\"M 0 0 M2245.51 1535.98 L2261.83 1535.98 L2261.83 1539.92 L2239.89 1539.92 L2239.89 1535.98 Q2242.55 1533.23 2247.13 1528.6 Q2251.74 1523.95 2252.92 1522.61 Q2255.16 1520.08 2256.04 1518.35 Q2256.95 1516.59 2256.95 1514.9 Q2256.95 1512.14 2255 1510.41 Q2253.08 1508.67 2249.98 1508.67 Q2247.78 1508.67 2245.33 1509.43 Q2242.9 1510.2 2240.12 1511.75 L2240.12 1507.03 Q2242.94 1505.89 2245.4 1505.31 Q2247.85 1504.73 2249.89 1504.73 Q2255.26 1504.73 2258.45 1507.42 Q2261.65 1510.11 2261.65 1514.6 Q2261.65 1516.73 2260.84 1518.65 Q2260.05 1520.54 2257.94 1523.14 Q2257.36 1523.81 2254.26 1527.03 Q2251.16 1530.22 2245.51 1535.98 Z\" fill=\"#000000\" fill-rule=\"evenodd\" fill-opacity=\"1\" /><path clip-path=\"url(#clip260)\" d=\"M 0 0 M2276.9 1508.44 Q2273.29 1508.44 2271.46 1512 Q2269.66 1515.55 2269.66 1522.67 Q2269.66 1529.78 2271.46 1533.35 Q2273.29 1536.89 2276.9 1536.89 Q2280.53 1536.89 2282.34 1533.35 Q2284.17 1529.78 2284.17 1522.67 Q2284.17 1515.55 2282.34 1512 Q2280.53 1508.44 2276.9 1508.44 M2276.9 1504.73 Q2282.71 1504.73 2285.77 1509.34 Q2288.84 1513.92 2288.84 1522.67 Q2288.84 1531.4 2285.77 1536.01 Q2282.71 1540.59 2276.9 1540.59 Q2271.09 1540.59 2268.01 1536.01 Q2264.96 1531.4 2264.96 1522.67 Q2264.96 1513.92 2268.01 1509.34 Q2271.09 1504.73 2276.9 1504.73 Z\" fill=\"#000000\" fill-rule=\"evenodd\" fill-opacity=\"1\" /><path clip-path=\"url(#clip260)\" d=\"M 0 0 M2294.72 1535.98 L2302.36 1535.98 L2302.36 1509.62 L2294.05 1511.29 L2294.05 1507.03 L2302.32 1505.36 L2306.99 1505.36 L2306.99 1535.98 L2314.63 1535.98 L2314.63 1539.92 L2294.72 1539.92 L2294.72 1535.98 Z\" fill=\"#000000\" fill-rule=\"evenodd\" fill-opacity=\"1\" /><path clip-path=\"url(#clip260)\" d=\"M 0 0 M2329.7 1508.44 Q2326.09 1508.44 2324.26 1512 Q2322.46 1515.55 2322.46 1522.67 Q2322.46 1529.78 2324.26 1533.35 Q2326.09 1536.89 2329.7 1536.89 Q2333.34 1536.89 2335.14 1533.35 Q2336.97 1529.78 2336.97 1522.67 Q2336.97 1515.55 2335.14 1512 Q2333.34 1508.44 2329.7 1508.44 M2329.7 1504.73 Q2335.51 1504.73 2338.57 1509.34 Q2341.65 1513.92 2341.65 1522.67 Q2341.65 1531.4 2338.57 1536.01 Q2335.51 1540.59 2329.7 1540.59 Q2323.89 1540.59 2320.81 1536.01 Q2317.76 1531.4 2317.76 1522.67 Q2317.76 1513.92 2320.81 1509.34 Q2323.89 1504.73 2329.7 1504.73 Z\" fill=\"#000000\" fill-rule=\"evenodd\" fill-opacity=\"1\" /><path clip-path=\"url(#clip260)\" d=\"M 0 0 M63.2236 1448.91 L75.7004 1448.91 L75.7004 1452.71 L63.2236 1452.71 L63.2236 1448.91 Z\" fill=\"#000000\" fill-rule=\"evenodd\" fill-opacity=\"1\" /><path clip-path=\"url(#clip260)\" d=\"M 0 0 M81.58 1459.86 L89.2188 1459.86 L89.2188 1433.5 L80.9087 1435.16 L80.9087 1430.9 L89.1725 1429.24 L93.8484 1429.24 L93.8484 1459.86 L101.487 1459.86 L101.487 1463.8 L81.58 1463.8 L81.58 1459.86 Z\" fill=\"#000000\" fill-rule=\"evenodd\" fill-opacity=\"1\" /><path clip-path=\"url(#clip260)\" d=\"M 0 0 M106.557 1457.92 L111.441 1457.92 L111.441 1463.8 L106.557 1463.8 L106.557 1457.92 Z\" fill=\"#000000\" fill-rule=\"evenodd\" fill-opacity=\"1\" /><path clip-path=\"url(#clip260)\" d=\"M 0 0 M126.51 1432.31 Q122.899 1432.31 121.071 1435.88 Q119.265 1439.42 119.265 1446.55 Q119.265 1453.66 121.071 1457.22 Q122.899 1460.76 126.51 1460.76 Q130.145 1460.76 131.95 1457.22 Q133.779 1453.66 133.779 1446.55 Q133.779 1439.42 131.95 1435.88 Q130.145 1432.31 126.51 1432.31 M126.51 1428.61 Q132.32 1428.61 135.376 1433.22 Q138.455 1437.8 138.455 1446.55 Q138.455 1455.28 135.376 1459.88 Q132.32 1464.47 126.51 1464.47 Q120.7 1464.47 117.621 1459.88 Q114.566 1455.28 114.566 1446.55 Q114.566 1437.8 117.621 1433.22 Q120.7 1428.61 126.51 1428.61 Z\" fill=\"#000000\" fill-rule=\"evenodd\" fill-opacity=\"1\" /><path clip-path=\"url(#clip260)\" d=\"M 0 0 M62.9921 1108.54 L75.4689 1108.54 L75.4689 1112.34 L62.9921 1112.34 L62.9921 1108.54 Z\" fill=\"#000000\" fill-rule=\"evenodd\" fill-opacity=\"1\" /><path clip-path=\"url(#clip260)\" d=\"M 0 0 M90.5383 1091.94 Q86.9272 1091.94 85.0985 1095.51 Q83.2929 1099.05 83.2929 1106.18 Q83.2929 1113.29 85.0985 1116.85 Q86.9272 1120.39 90.5383 1120.39 Q94.1725 1120.39 95.9781 1116.85 Q97.8068 1113.29 97.8068 1106.18 Q97.8068 1099.05 95.9781 1095.51 Q94.1725 1091.94 90.5383 1091.94 M90.5383 1088.24 Q96.3484 1088.24 99.404 1092.85 Q102.483 1097.43 102.483 1106.18 Q102.483 1114.91 99.404 1119.51 Q96.3484 1124.1 90.5383 1124.1 Q84.7281 1124.1 81.6494 1119.51 Q78.5939 1114.91 78.5939 1106.18 Q78.5939 1097.43 81.6494 1092.85 Q84.7281 1088.24 90.5383 1088.24 Z\" fill=\"#000000\" fill-rule=\"evenodd\" fill-opacity=\"1\" /><path clip-path=\"url(#clip260)\" d=\"M 0 0 M107.552 1117.54 L112.436 1117.54 L112.436 1123.42 L107.552 1123.42 L107.552 1117.54 Z\" fill=\"#000000\" fill-rule=\"evenodd\" fill-opacity=\"1\" /><path clip-path=\"url(#clip260)\" d=\"M 0 0 M117.552 1088.86 L135.908 1088.86 L135.908 1092.8 L121.834 1092.8 L121.834 1101.27 Q122.853 1100.92 123.871 1100.76 Q124.89 1100.58 125.908 1100.58 Q131.695 1100.58 135.075 1103.75 Q138.455 1106.92 138.455 1112.34 Q138.455 1117.92 134.982 1121.02 Q131.51 1124.1 125.191 1124.1 Q123.015 1124.1 120.746 1123.73 Q118.501 1123.35 116.094 1122.61 L116.094 1117.92 Q118.177 1119.05 120.399 1119.6 Q122.621 1120.16 125.098 1120.16 Q129.103 1120.16 131.441 1118.05 Q133.779 1115.95 133.779 1112.34 Q133.779 1108.73 131.441 1106.62 Q129.103 1104.51 125.098 1104.51 Q123.223 1104.51 121.348 1104.93 Q119.496 1105.35 117.552 1106.23 L117.552 1088.86 Z\" fill=\"#000000\" fill-rule=\"evenodd\" fill-opacity=\"1\" /><path clip-path=\"url(#clip260)\" d=\"M 0 0 M89.5429 751.571 Q85.9318 751.571 84.1031 755.136 Q82.2976 758.678 82.2976 765.807 Q82.2976 772.914 84.1031 776.478 Q85.9318 780.02 89.5429 780.02 Q93.1771 780.02 94.9827 776.478 Q96.8114 772.914 96.8114 765.807 Q96.8114 758.678 94.9827 755.136 Q93.1771 751.571 89.5429 751.571 M89.5429 747.868 Q95.3531 747.868 98.4086 752.474 Q101.487 757.057 101.487 765.807 Q101.487 774.534 98.4086 779.14 Q95.3531 783.724 89.5429 783.724 Q83.7328 783.724 80.6541 779.14 Q77.5985 774.534 77.5985 765.807 Q77.5985 757.057 80.6541 752.474 Q83.7328 747.868 89.5429 747.868 Z\" fill=\"#000000\" fill-rule=\"evenodd\" fill-opacity=\"1\" /><path clip-path=\"url(#clip260)\" d=\"M 0 0 M106.557 777.173 L111.441 777.173 L111.441 783.053 L106.557 783.053 L106.557 777.173 Z\" fill=\"#000000\" fill-rule=\"evenodd\" fill-opacity=\"1\" /><path clip-path=\"url(#clip260)\" d=\"M 0 0 M126.51 751.571 Q122.899 751.571 121.071 755.136 Q119.265 758.678 119.265 765.807 Q119.265 772.914 121.071 776.478 Q122.899 780.02 126.51 780.02 Q130.145 780.02 131.95 776.478 Q133.779 772.914 133.779 765.807 Q133.779 758.678 131.95 755.136 Q130.145 751.571 126.51 751.571 M126.51 747.868 Q132.32 747.868 135.376 752.474 Q138.455 757.057 138.455 765.807 Q138.455 774.534 135.376 779.14 Q132.32 783.724 126.51 783.724 Q120.7 783.724 117.621 779.14 Q114.566 774.534 114.566 765.807 Q114.566 757.057 117.621 752.474 Q120.7 747.868 126.51 747.868 Z\" fill=\"#000000\" fill-rule=\"evenodd\" fill-opacity=\"1\" /><path clip-path=\"url(#clip260)\" d=\"M 0 0 M90.5383 411.199 Q86.9272 411.199 85.0985 414.764 Q83.2929 418.306 83.2929 425.435 Q83.2929 432.542 85.0985 436.107 Q86.9272 439.648 90.5383 439.648 Q94.1725 439.648 95.9781 436.107 Q97.8068 432.542 97.8068 425.435 Q97.8068 418.306 95.9781 414.764 Q94.1725 411.199 90.5383 411.199 M90.5383 407.496 Q96.3484 407.496 99.404 412.102 Q102.483 416.685 102.483 425.435 Q102.483 434.162 99.404 438.769 Q96.3484 443.352 90.5383 443.352 Q84.7281 443.352 81.6494 438.769 Q78.5939 434.162 78.5939 425.435 Q78.5939 416.685 81.6494 412.102 Q84.7281 407.496 90.5383 407.496 Z\" fill=\"#000000\" fill-rule=\"evenodd\" fill-opacity=\"1\" /><path clip-path=\"url(#clip260)\" d=\"M 0 0 M107.552 436.801 L112.436 436.801 L112.436 442.681 L107.552 442.681 L107.552 436.801 Z\" fill=\"#000000\" fill-rule=\"evenodd\" fill-opacity=\"1\" /><path clip-path=\"url(#clip260)\" d=\"M 0 0 M117.552 408.121 L135.908 408.121 L135.908 412.056 L121.834 412.056 L121.834 420.528 Q122.853 420.181 123.871 420.019 Q124.89 419.834 125.908 419.834 Q131.695 419.834 135.075 423.005 Q138.455 426.176 138.455 431.593 Q138.455 437.171 134.982 440.273 Q131.51 443.352 125.191 443.352 Q123.015 443.352 120.746 442.982 Q118.501 442.611 116.094 441.87 L116.094 437.171 Q118.177 438.306 120.399 438.861 Q122.621 439.417 125.098 439.417 Q129.103 439.417 131.441 437.31 Q133.779 435.204 133.779 431.593 Q133.779 427.982 131.441 425.875 Q129.103 423.769 125.098 423.769 Q123.223 423.769 121.348 424.185 Q119.496 424.602 117.552 425.482 L117.552 408.121 Z\" fill=\"#000000\" fill-rule=\"evenodd\" fill-opacity=\"1\" /><path clip-path=\"url(#clip260)\" d=\"M 0 0 M81.58 98.3736 L89.2188 98.3736 L89.2188 72.008 L80.9087 73.6747 L80.9087 69.4154 L89.1725 67.7488 L93.8484 67.7488 L93.8484 98.3736 L101.487 98.3736 L101.487 102.309 L81.58 102.309 L81.58 98.3736 Z\" fill=\"#000000\" fill-rule=\"evenodd\" fill-opacity=\"1\" /><path clip-path=\"url(#clip260)\" d=\"M 0 0 M106.557 96.4292 L111.441 96.4292 L111.441 102.309 L106.557 102.309 L106.557 96.4292 Z\" fill=\"#000000\" fill-rule=\"evenodd\" fill-opacity=\"1\" /><path clip-path=\"url(#clip260)\" d=\"M 0 0 M126.51 70.8275 Q122.899 70.8275 121.071 74.3923 Q119.265 77.9339 119.265 85.0635 Q119.265 92.17 121.071 95.7347 Q122.899 99.2764 126.51 99.2764 Q130.145 99.2764 131.95 95.7347 Q133.779 92.17 133.779 85.0635 Q133.779 77.9339 131.95 74.3923 Q130.145 70.8275 126.51 70.8275 M126.51 67.1238 Q132.32 67.1238 135.376 71.7302 Q138.455 76.3136 138.455 85.0635 Q138.455 93.7903 135.376 98.3968 Q132.32 102.98 126.51 102.98 Q120.7 102.98 117.621 98.3968 Q114.566 93.7903 114.566 85.0635 Q114.566 76.3136 117.621 71.7302 Q120.7 67.1238 126.51 67.1238 Z\" fill=\"#000000\" fill-rule=\"evenodd\" fill-opacity=\"1\" /><polyline clip-path=\"url(#clip262)\" style=\"stroke:#009af9; stroke-width:4; stroke-opacity:1; fill:none\" points=\"\n",
       "  224.444,634.188 454.036,1256.7 683.627,1427.86 913.218,990.295 1142.81,346.31 1372.4,87.9763 1601.99,452.805 1831.58,1105.38 2061.17,1445.72 2290.77,1160.92 \n",
       "  \n",
       "  \"/>\n",
       "<polyline clip-path=\"url(#clip262)\" style=\"stroke:#e26f46; stroke-width:4; stroke-opacity:1; fill:none\" points=\"\n",
       "  224.444,88.246 454.036,139.495 683.627,344.078 913.218,651.907 1142.81,987.614 1372.4,1269.01 1601.99,1427.19 1831.58,1423.44 2061.17,1258.66 2290.77,973.212 \n",
       "  \n",
       "  \"/>\n",
       "<path clip-path=\"url(#clip260)\" d=\"\n",
       "M1790.11 312.204 L2280.76 312.204 L2280.76 130.764 L1790.11 130.764  Z\n",
       "  \" fill=\"#ffffff\" fill-rule=\"evenodd\" fill-opacity=\"1\"/>\n",
       "<polyline clip-path=\"url(#clip260)\" style=\"stroke:#000000; stroke-width:4; stroke-opacity:1; fill:none\" points=\"\n",
       "  1790.11,312.204 2280.76,312.204 2280.76,130.764 1790.11,130.764 1790.11,312.204 \n",
       "  \"/>\n",
       "<polyline clip-path=\"url(#clip260)\" style=\"stroke:#009af9; stroke-width:4; stroke-opacity:1; fill:none\" points=\"\n",
       "  1814.11,191.244 1958.11,191.244 \n",
       "  \"/>\n",
       "<path clip-path=\"url(#clip260)\" d=\"M 0 0 M2000.53 183.362 L2000.53 187.39 Q1998.73 186.464 1996.78 186.001 Q1994.84 185.538 1992.76 185.538 Q1989.59 185.538 1987.99 186.51 Q1986.41 187.483 1986.41 189.427 Q1986.41 190.908 1987.55 191.765 Q1988.68 192.598 1992.11 193.362 L1993.57 193.686 Q1998.1 194.658 2000 196.441 Q2001.92 198.2 2001.92 201.371 Q2001.92 204.982 1999.05 207.089 Q1996.21 209.195 1991.21 209.195 Q1989.12 209.195 1986.85 208.779 Q1984.61 208.385 1982.11 207.575 L1982.11 203.177 Q1984.47 204.404 1986.76 205.029 Q1989.05 205.631 1991.3 205.631 Q1994.31 205.631 1995.93 204.612 Q1997.55 203.57 1997.55 201.695 Q1997.55 199.959 1996.37 199.033 Q1995.21 198.107 1991.25 197.251 L1989.77 196.904 Q1985.81 196.07 1984.05 194.358 Q1982.29 192.621 1982.29 189.612 Q1982.29 185.955 1984.89 183.964 Q1987.48 181.973 1992.25 181.973 Q1994.61 181.973 1996.69 182.321 Q1998.78 182.668 2000.53 183.362 Z\" fill=\"#000000\" fill-rule=\"evenodd\" fill-opacity=\"1\" /><path clip-path=\"url(#clip260)\" d=\"M 0 0 M2006.39 182.598 L2010.65 182.598 L2010.65 208.524 L2006.39 208.524 L2006.39 182.598 M2006.39 172.506 L2010.65 172.506 L2010.65 177.899 L2006.39 177.899 L2006.39 172.506 Z\" fill=\"#000000\" fill-rule=\"evenodd\" fill-opacity=\"1\" /><path clip-path=\"url(#clip260)\" d=\"M 0 0 M2036.67 192.876 L2036.67 208.524 L2032.41 208.524 L2032.41 193.015 Q2032.41 189.334 2030.97 187.506 Q2029.54 185.677 2026.67 185.677 Q2023.22 185.677 2021.23 187.876 Q2019.24 190.075 2019.24 193.871 L2019.24 208.524 L2014.96 208.524 L2014.96 182.598 L2019.24 182.598 L2019.24 186.626 Q2020.77 184.288 2022.83 183.131 Q2024.91 181.973 2027.62 181.973 Q2032.09 181.973 2034.38 184.751 Q2036.67 187.506 2036.67 192.876 Z\" fill=\"#000000\" fill-rule=\"evenodd\" fill-opacity=\"1\" /><path clip-path=\"url(#clip260)\" d=\"M 0 0 M2063.31 194.496 L2063.31 196.58 L2043.73 196.58 Q2044.01 200.978 2046.37 203.293 Q2048.75 205.584 2052.99 205.584 Q2055.44 205.584 2057.73 204.982 Q2060.05 204.381 2062.32 203.177 L2062.32 207.205 Q2060.03 208.177 2057.62 208.686 Q2055.21 209.195 2052.73 209.195 Q2046.53 209.195 2042.9 205.584 Q2039.28 201.973 2039.28 195.816 Q2039.28 189.45 2042.71 185.723 Q2046.16 181.973 2051.99 181.973 Q2057.22 181.973 2060.26 185.353 Q2063.31 188.709 2063.31 194.496 M2059.05 193.246 Q2059.01 189.751 2057.09 187.668 Q2055.19 185.584 2052.04 185.584 Q2048.47 185.584 2046.32 187.598 Q2044.19 189.612 2043.87 193.27 L2059.05 193.246 Z\" fill=\"#000000\" fill-rule=\"evenodd\" fill-opacity=\"1\" /><polyline clip-path=\"url(#clip260)\" style=\"stroke:#e26f46; stroke-width:4; stroke-opacity:1; fill:none\" points=\"\n",
       "  1814.11,251.724 1958.11,251.724 \n",
       "  \"/>\n",
       "<path clip-path=\"url(#clip260)\" d=\"M 0 0 M2002.46 248.055 Q2004.05 245.185 2006.28 243.819 Q2008.5 242.453 2011.51 242.453 Q2015.56 242.453 2017.76 245.301 Q2019.96 248.125 2019.96 253.356 L2019.96 269.004 L2015.67 269.004 L2015.67 253.495 Q2015.67 249.768 2014.35 247.963 Q2013.03 246.157 2010.33 246.157 Q2007.02 246.157 2005.1 248.356 Q2003.17 250.555 2003.17 254.351 L2003.17 269.004 L1998.89 269.004 L1998.89 253.495 Q1998.89 249.745 1997.57 247.963 Q1996.25 246.157 1993.5 246.157 Q1990.23 246.157 1988.31 248.379 Q1986.39 250.578 1986.39 254.351 L1986.39 269.004 L1982.11 269.004 L1982.11 243.078 L1986.39 243.078 L1986.39 247.106 Q1987.85 244.722 1989.89 243.588 Q1991.92 242.453 1994.72 242.453 Q1997.55 242.453 1999.52 243.888 Q2001.51 245.324 2002.46 248.055 Z\" fill=\"#000000\" fill-rule=\"evenodd\" fill-opacity=\"1\" /><path clip-path=\"url(#clip260)\" d=\"M 0 0 M2035.21 271.411 Q2033.41 276.041 2031.69 277.453 Q2029.98 278.865 2027.11 278.865 L2023.71 278.865 L2023.71 275.3 L2026.21 275.3 Q2027.97 275.3 2028.94 274.467 Q2029.91 273.634 2031.09 270.532 L2031.85 268.587 L2021.37 243.078 L2025.88 243.078 L2033.98 263.356 L2042.09 243.078 L2046.6 243.078 L2035.21 271.411 Z\" fill=\"#000000\" fill-rule=\"evenodd\" fill-opacity=\"1\" /><path clip-path=\"url(#clip260)\" d=\"M 0 0 M2079.26 232.986 L2079.26 236.527 L2075.19 236.527 Q2072.9 236.527 2071.99 237.453 Q2071.11 238.379 2071.11 240.787 L2071.11 243.078 L2078.13 243.078 L2078.13 246.388 L2071.11 246.388 L2071.11 269.004 L2066.83 269.004 L2066.83 246.388 L2062.76 246.388 L2062.76 243.078 L2066.83 243.078 L2066.83 241.273 Q2066.83 236.944 2068.84 234.976 Q2070.86 232.986 2075.23 232.986 L2079.26 232.986 Z\" fill=\"#000000\" fill-rule=\"evenodd\" fill-opacity=\"1\" /><path clip-path=\"url(#clip260)\" d=\"M 0 0 M2083.29 258.773 L2083.29 243.078 L2087.55 243.078 L2087.55 258.611 Q2087.55 262.291 2088.98 264.143 Q2090.42 265.972 2093.29 265.972 Q2096.74 265.972 2098.73 263.773 Q2100.74 261.574 2100.74 257.777 L2100.74 243.078 L2105 243.078 L2105 269.004 L2100.74 269.004 L2100.74 265.023 Q2099.19 267.384 2097.13 268.541 Q2095.09 269.675 2092.39 269.675 Q2087.92 269.675 2085.6 266.898 Q2083.29 264.12 2083.29 258.773 M2094.01 242.453 L2094.01 242.453 Z\" fill=\"#000000\" fill-rule=\"evenodd\" fill-opacity=\"1\" /><path clip-path=\"url(#clip260)\" d=\"M 0 0 M2131.02 253.356 L2131.02 269.004 L2126.76 269.004 L2126.76 253.495 Q2126.76 249.814 2125.33 247.986 Q2123.89 246.157 2121.02 246.157 Q2117.57 246.157 2115.58 248.356 Q2113.59 250.555 2113.59 254.351 L2113.59 269.004 L2109.31 269.004 L2109.31 243.078 L2113.59 243.078 L2113.59 247.106 Q2115.12 244.768 2117.18 243.611 Q2119.26 242.453 2121.97 242.453 Q2126.44 242.453 2128.73 245.231 Q2131.02 247.986 2131.02 253.356 Z\" fill=\"#000000\" fill-rule=\"evenodd\" fill-opacity=\"1\" /><path clip-path=\"url(#clip260)\" d=\"M 0 0 M2154.15 244.074 L2154.15 248.055 Q2152.34 247.06 2150.51 246.574 Q2148.71 246.064 2146.85 246.064 Q2142.71 246.064 2140.42 248.703 Q2138.13 251.319 2138.13 256.064 Q2138.13 260.81 2140.42 263.449 Q2142.71 266.064 2146.85 266.064 Q2148.71 266.064 2150.51 265.578 Q2152.34 265.069 2154.15 264.074 L2154.15 268.009 Q2152.36 268.842 2150.44 269.259 Q2148.54 269.675 2146.39 269.675 Q2140.53 269.675 2137.09 265.995 Q2133.64 262.314 2133.64 256.064 Q2133.64 249.722 2137.11 246.088 Q2140.6 242.453 2146.67 242.453 Q2148.64 242.453 2150.51 242.87 Q2152.39 243.263 2154.15 244.074 Z\" fill=\"#000000\" fill-rule=\"evenodd\" fill-opacity=\"1\" /><path clip-path=\"url(#clip260)\" d=\"M 0 0 M2162.83 235.717 L2162.83 243.078 L2171.6 243.078 L2171.6 246.388 L2162.83 246.388 L2162.83 260.462 Q2162.83 263.634 2163.68 264.537 Q2164.56 265.439 2167.22 265.439 L2171.6 265.439 L2171.6 269.004 L2167.22 269.004 Q2162.29 269.004 2160.42 267.175 Q2158.54 265.324 2158.54 260.462 L2158.54 246.388 L2155.42 246.388 L2155.42 243.078 L2158.54 243.078 L2158.54 235.717 L2162.83 235.717 Z\" fill=\"#000000\" fill-rule=\"evenodd\" fill-opacity=\"1\" /><path clip-path=\"url(#clip260)\" d=\"M 0 0 M2176.07 243.078 L2180.33 243.078 L2180.33 269.004 L2176.07 269.004 L2176.07 243.078 M2176.07 232.986 L2180.33 232.986 L2180.33 238.379 L2176.07 238.379 L2176.07 232.986 Z\" fill=\"#000000\" fill-rule=\"evenodd\" fill-opacity=\"1\" /><path clip-path=\"url(#clip260)\" d=\"M 0 0 M2194.84 246.064 Q2191.41 246.064 2189.42 248.75 Q2187.43 251.412 2187.43 256.064 Q2187.43 260.717 2189.4 263.402 Q2191.39 266.064 2194.84 266.064 Q2198.24 266.064 2200.23 263.379 Q2202.22 260.694 2202.22 256.064 Q2202.22 251.458 2200.23 248.773 Q2198.24 246.064 2194.84 246.064 M2194.84 242.453 Q2200.39 242.453 2203.57 246.064 Q2206.74 249.675 2206.74 256.064 Q2206.74 262.43 2203.57 266.064 Q2200.39 269.675 2194.84 269.675 Q2189.26 269.675 2186.09 266.064 Q2182.94 262.43 2182.94 256.064 Q2182.94 249.675 2186.09 246.064 Q2189.26 242.453 2194.84 242.453 Z\" fill=\"#000000\" fill-rule=\"evenodd\" fill-opacity=\"1\" /><path clip-path=\"url(#clip260)\" d=\"M 0 0 M2232.76 253.356 L2232.76 269.004 L2228.5 269.004 L2228.5 253.495 Q2228.5 249.814 2227.06 247.986 Q2225.63 246.157 2222.76 246.157 Q2219.31 246.157 2217.32 248.356 Q2215.33 250.555 2215.33 254.351 L2215.33 269.004 L2211.04 269.004 L2211.04 243.078 L2215.33 243.078 L2215.33 247.106 Q2216.85 244.768 2218.91 243.611 Q2221 242.453 2223.71 242.453 Q2228.17 242.453 2230.46 245.231 Q2232.76 247.986 2232.76 253.356 Z\" fill=\"#000000\" fill-rule=\"evenodd\" fill-opacity=\"1\" /></svg>\n"
      ]
     },
     "execution_count": 21,
     "metadata": {},
     "output_type": "execute_result"
    }
   ],
   "source": [
    "begin\n",
    "\tfunction myfunction(x)\n",
    "\t\treturn sin(x/2)\n",
    "\tend\n",
    "\tplot(years, sin, label = \"sine\")\n",
    "\tplot!(years, myfunction, label = \"my function\")\n",
    "end"
   ]
  },
  {
   "cell_type": "code",
   "execution_count": 22,
   "metadata": {},
   "outputs": [
    {
     "data": {
      "text/plain": [
       "@bind (macro with 1 method)"
      ]
     },
     "execution_count": 22,
     "metadata": {},
     "output_type": "execute_result"
    }
   ],
   "source": [
    "using Markdown\n",
    "macro bind(def, element)\n",
    "    quote\n",
    "        local el = $(esc(element))\n",
    "        global $(esc(def)) = Core.applicable(Base.peek, el) ? Base.peek(el) : missing\n",
    "        el\n",
    "    end\n",
    "end"
   ]
  },
  {
   "cell_type": "code",
   "execution_count": 23,
   "metadata": {},
   "outputs": [
    {
     "data": {
      "text/markdown": [
       "**How many pets do you have?**\n",
       "\n",
       "Dogs: HTML{String}(\"<input type='range'>\") Cats: HTML{String}(\"<input type='range'>\")\n"
      ],
      "text/plain": [
       "  \u001b[1mHow many pets do you have?\u001b[22m\n",
       "\n",
       "  Dogs: HTML{String}(\"<input type='range'>\") Cats: HTML{String}(\"<input\n",
       "  type='range'>\")"
      ]
     },
     "execution_count": 23,
     "metadata": {},
     "output_type": "execute_result"
    }
   ],
   "source": [
    "begin\n",
    "\t🐶slider = @bind 🐶 html\"<input type='range'>\"\n",
    "\t🐱slider = @bind 🐱 html\"<input type='range'>\"\n",
    "\t\n",
    "\tmd\"\"\"**How many pets do you have?**\n",
    "\t\n",
    "\tDogs: $(🐶slider)\n",
    "\tCats: $(🐱slider)\"\"\"\n",
    "end"
   ]
  },
  {
   "cell_type": "code",
   "execution_count": 24,
   "metadata": {},
   "outputs": [
    {
     "data": {
      "text/html": [
       "<input type='range' min='5' max'15'>"
      ],
      "text/plain": [
       "HTML{String}(\"<input type='range' min='5' max'15'>\")"
      ]
     },
     "execution_count": 24,
     "metadata": {},
     "output_type": "execute_result"
    }
   ],
   "source": [
    "@bind x html\"<input type='range' min='5' max'15'>\""
   ]
  },
  {
   "cell_type": "code",
   "execution_count": 25,
   "metadata": {},
   "outputs": [
    {
     "data": {
      "text/html": [
       "<input type=\"range\" min=\"5\" step=\"1\" max=\"15\" value=\"5\">"
      ],
      "text/plain": [
       "Slider(5:15, 5)"
      ]
     },
     "execution_count": 25,
     "metadata": {},
     "output_type": "execute_result"
    }
   ],
   "source": [
    "@bind x Slider(5:15)"
   ]
  },
  {
   "cell_type": "code",
   "execution_count": 26,
   "metadata": {},
   "outputs": [
    {
     "data": {
      "text/markdown": [
       "`a =` HTML{String}(\"<input type='range' >\") `b =` HTML{String}(\"<input type='text' >\") `c =` HTML{String}(\"<input type='button' value='Click'>\") `d =` HTML{String}(\"<input type='checkbox' >\") `e =` HTML{String}(\"<select><option value='one'>First</option><option value='two'>Second</option></select>\") `f =` HTML{String}(\"<input type='color' >\")\n"
      ],
      "text/plain": [
       "  \u001b[36ma =\u001b[39m HTML{String}(\"<input type='range' >\") \u001b[36mb =\u001b[39m HTML{String}(\"<input\n",
       "  type='text' >\") \u001b[36mc =\u001b[39m HTML{String}(\"<input type='button' value='Click'>\") \u001b[36md =\u001b[39m\n",
       "  HTML{String}(\"<input type='checkbox' >\") \u001b[36me =\u001b[39m HTML{String}(\"<select><option\n",
       "  value='one'>First</option><option value='two'>Second</option></select>\") \u001b[36mf =\u001b[39m\n",
       "  HTML{String}(\"<input type='color' >\")"
      ]
     },
     "execution_count": 26,
     "metadata": {},
     "output_type": "execute_result"
    }
   ],
   "source": [
    "md\"\"\"\n",
    "`a = ` $(@bind a html\"<input type='range' >\")\n",
    "`b = ` $(@bind b html\"<input type='text' >\")\n",
    "`c = ` $(@bind c html\"<input type='button' value='Click'>\")\n",
    "`d = ` $(@bind d html\"<input type='checkbox' >\")\n",
    "`e = ` $(@bind e html\"<select><option value='one'>First</option><option value='two'>Second</option></select>\")\n",
    "`f = ` $(@bind f html\"<input type='color' >\")\n",
    "\"\"\""
   ]
  },
  {
   "cell_type": "code",
   "execution_count": 27,
   "metadata": {},
   "outputs": [
    {
     "data": {
      "text/plain": [
       "plot_altitude (generic function with 1 method)"
      ]
     },
     "execution_count": 27,
     "metadata": {},
     "output_type": "execute_result"
    }
   ],
   "source": [
    "function plot_traj(X)\n",
    "    Plots.plot(X[1, :]*1e-3, X[2, :]*1e-3, legend = false)\n",
    "    xlabel!(\"X [km]\")\n",
    "    ylabel!(\"Y [km]\")\n",
    "end\n",
    "\n",
    "function plot_altitude(X, t_sim)\n",
    "    R = zeros(length(t_sim))\n",
    "    for i = 1:length(t_sim)\n",
    "        R[i] = (sqrt(X[1, i]^2+X[2, i]^2+X[3, i]^2)-(3389.5*1e3))\n",
    "    end\n",
    "    Plots.plot(t_sim, R*1e-3, legend=false, xtickfont = font(9), xguidefontsize=15, ytickfont = font(8), yguidefontsize=13, linewidth = 3.0)\n",
    "    xlabel!(\"time [s]\")\n",
    "    ylabel!(\"Altitude [km]\")\n",
    "end"
   ]
  },
  {
   "cell_type": "code",
   "execution_count": null,
   "metadata": {},
   "outputs": [],
   "source": []
  }
 ],
 "metadata": {
  "kernelspec": {
   "display_name": "Julia - Julia-data-env",
   "language": "julia",
   "name": "julia_julia-data-env"
  },
  "language_info": {
   "file_extension": ".jl",
   "mimetype": "application/julia",
   "name": "julia",
   "version": "1.4.2"
  }
 },
 "nbformat": 4,
 "nbformat_minor": 4
}
