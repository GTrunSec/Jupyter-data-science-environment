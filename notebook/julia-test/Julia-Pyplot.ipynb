{
 "cells": [
  {
   "cell_type": "markdown",
   "metadata": {},
   "source": [
    "Pkg.add(\"Plots\");\n",
    "import Pkg; Pkg.add(\"PyPlot\");"
   ]
  },
  {
   "cell_type": "code",
   "execution_count": 1,
   "metadata": {
    "collapsed": false,
    "jupyter": {
     "outputs_hidden": false
    }
   },
   "outputs": [
    {
     "name": "stderr",
     "output_type": "stream",
     "text": [
      "┌ Info: Precompiling Plots [91a5bcdd-55d7-5caf-9e0b-520d859cae80]\n",
      "└ @ Base loading.jl:1278\n",
      "┌ Info: Precompiling PyPlot [d330b81b-6aea-500a-939a-2ce795aea3ee]\n",
      "└ @ Base loading.jl:1278\n"
     ]
    },
    {
     "ename": "MethodError",
     "evalue": "\u001b[91mMethodError: no method matching getproperty(::Char, ::String)\u001b[39m\n\u001b[91m\u001b[0mClosest candidates are:\u001b[39m\n\u001b[91m\u001b[0m  getproperty(\u001b[91m::PyCall.PyObject\u001b[39m, ::AbstractString) at /nix/store/d4ry4bhn2zfbvva915lkd9pfch79kv9b-julia-depot/packages/PyCall/tqyST/src/PyCall.jl:311\u001b[39m\n\u001b[91m\u001b[0m  getproperty(\u001b[91m::PyPlot.ColorMap\u001b[39m, ::AbstractString) at /nix/store/d4ry4bhn2zfbvva915lkd9pfch79kv9b-julia-depot/packages/PyPlot/XHEG0/src/colormaps.jl:26\u001b[39m\n\u001b[91m\u001b[0m  getproperty(\u001b[91m::PyPlot.LazyPyModule\u001b[39m, ::AbstractString) at /nix/store/d4ry4bhn2zfbvva915lkd9pfch79kv9b-julia-depot/packages/PyPlot/XHEG0/src/plot3d.jl:16\u001b[39m\n\u001b[91m\u001b[0m  ...\u001b[39m",
     "output_type": "error",
     "traceback": [
      "\u001b[91mMethodError: no method matching getproperty(::Char, ::String)\u001b[39m\n\u001b[91m\u001b[0mClosest candidates are:\u001b[39m\n\u001b[91m\u001b[0m  getproperty(\u001b[91m::PyCall.PyObject\u001b[39m, ::AbstractString) at /nix/store/d4ry4bhn2zfbvva915lkd9pfch79kv9b-julia-depot/packages/PyCall/tqyST/src/PyCall.jl:311\u001b[39m\n\u001b[91m\u001b[0m  getproperty(\u001b[91m::PyPlot.ColorMap\u001b[39m, ::AbstractString) at /nix/store/d4ry4bhn2zfbvva915lkd9pfch79kv9b-julia-depot/packages/PyPlot/XHEG0/src/colormaps.jl:26\u001b[39m\n\u001b[91m\u001b[0m  getproperty(\u001b[91m::PyPlot.LazyPyModule\u001b[39m, ::AbstractString) at /nix/store/d4ry4bhn2zfbvva915lkd9pfch79kv9b-julia-depot/packages/PyPlot/XHEG0/src/plot3d.jl:16\u001b[39m\n\u001b[91m\u001b[0m  ...\u001b[39m",
      "",
      "Stacktrace:",
      " [1] py_set_axis_colors(::Plots.Subplot{Plots.PyPlotBackend}, ::PyCall.PyObject, ::Plots.Axis) at /nix/store/d4ry4bhn2zfbvva915lkd9pfch79kv9b-julia-depot/packages/Plots/SjqWU/src/backends/pyplot.jl:834",
      " [2] _before_layout_calcs(::Plots.Plot{Plots.PyPlotBackend}) at /nix/store/d4ry4bhn2zfbvva915lkd9pfch79kv9b-julia-depot/packages/Plots/SjqWU/src/backends/pyplot.jl:1172",
      " [3] prepare_output(::Plots.Plot{Plots.PyPlotBackend}) at /nix/store/d4ry4bhn2zfbvva915lkd9pfch79kv9b-julia-depot/packages/Plots/SjqWU/src/plot.jl:182",
      " [4] show(::Base64.Base64EncodePipe, ::MIME{Symbol(\"image/png\")}, ::Plots.Plot{Plots.PyPlotBackend}) at /nix/store/d4ry4bhn2zfbvva915lkd9pfch79kv9b-julia-depot/packages/Plots/SjqWU/src/output.jl:214",
      " [5] base64encode(::Function, ::MIME{Symbol(\"image/png\")}, ::Vararg{Any,N} where N; context::Nothing) at /build/source/usr/share/julia/stdlib/v1.5/Base64/src/encode.jl:206",
      " [6] base64encode at /build/source/usr/share/julia/stdlib/v1.5/Base64/src/encode.jl:203 [inlined]",
      " [7] _ijulia_display_dict(::Plots.Plot{Plots.PyPlotBackend}) at /nix/store/d4ry4bhn2zfbvva915lkd9pfch79kv9b-julia-depot/packages/Plots/SjqWU/src/ijulia.jl:50",
      " [8] display_dict(::Plots.Plot{Plots.PyPlotBackend}) at /nix/store/d4ry4bhn2zfbvva915lkd9pfch79kv9b-julia-depot/packages/Plots/SjqWU/src/init.jl:77",
      " [9] #invokelatest#1 at ./essentials.jl:710 [inlined]",
      " [10] invokelatest at ./essentials.jl:709 [inlined]",
      " [11] execute_request(::ZMQ.Socket, ::IJulia.Msg) at /nix/store/d4ry4bhn2zfbvva915lkd9pfch79kv9b-julia-depot/packages/IJulia/e8kqU/src/execute_request.jl:112",
      " [12] #invokelatest#1 at ./essentials.jl:710 [inlined]",
      " [13] invokelatest at ./essentials.jl:709 [inlined]",
      " [14] eventloop(::ZMQ.Socket) at /nix/store/d4ry4bhn2zfbvva915lkd9pfch79kv9b-julia-depot/packages/IJulia/e8kqU/src/eventloop.jl:8",
      " [15] (::IJulia.var\"#15#18\")() at ./task.jl:356"
     ]
    }
   ],
   "source": [
    "using Plots; pyplot()\n",
    "\n",
    "function hailLength(x::Int)\n",
    "    n = 0\n",
    "    while x != 1\n",
    "        if x % 2 == 0\n",
    "            x = Int(x/2)\n",
    "        else\n",
    "            x = 3x +1\n",
    "        end\n",
    "        n += 1\n",
    "    end\n",
    "    return n\n",
    "end\n",
    "\n",
    "lengths = [hailLength(x0) for x0 in 2:10^7]\n",
    "\n",
    "histogram(lengths, bins=1000, normed=:true, \n",
    "    fill=(:blue, true), la=0, legend=:none,\n",
    "    xlims=(0, 500), ylims=(0, 0.012),\n",
    "    xlabel=\"Length\", ylabel=\"Frequency\")"
   ]
  },
  {
   "cell_type": "raw",
   "metadata": {},
   "source": []
  },
  {
   "cell_type": "code",
   "execution_count": 2,
   "metadata": {
    "collapsed": false,
    "jupyter": {
     "outputs_hidden": false
    }
   },
   "outputs": [
    {
     "data": {
      "text/plain": [
       "2"
      ]
     },
     "execution_count": 2,
     "metadata": {},
     "output_type": "execute_result"
    }
   ],
   "source": [
    "1+1"
   ]
  },
  {
   "cell_type": "code",
   "execution_count": null,
   "metadata": {
    "collapsed": false,
    "jupyter": {
     "outputs_hidden": false
    }
   },
   "outputs": [],
   "source": []
  }
 ],
 "metadata": {
  "kernelspec": {
   "display_name": "Julia - Julia-data-env",
   "language": "julia",
   "name": "julia_julia-data-env"
  },
  "language_info": {
   "file_extension": ".jl",
   "mimetype": "application/julia",
   "name": "julia",
   "version": "1.5.4"
  },
  "name": "Julia-Pyplot.ipynb"
 },
 "nbformat": 4,
 "nbformat_minor": 4
}
