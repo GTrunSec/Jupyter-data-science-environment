{
 "cells": [
  {
   "cell_type": "code",
   "execution_count": null,
   "metadata": {
    "collapsed": false,
    "jupyter": {
     "outputs_hidden": false
    }
   },
   "outputs": [],
   "source": [
    "using Pkg"
   ]
  },
  {
   "cell_type": "code",
   "execution_count": 2,
   "metadata": {
    "collapsed": false,
    "jupyter": {
     "outputs_hidden": false
    }
   },
   "outputs": [
    {
     "name": "stderr",
     "output_type": "stream",
     "text": [
      "\u001b[32m\u001b[1m   Updating\u001b[22m\u001b[39m registry at `~/data/Jupyter-data-science-environment/.julia_pkgs/registries/General`\n",
      "######################################################################### 100.0%\n",
      "\u001b[32m\u001b[1m  Resolving\u001b[22m\u001b[39m package versions...\n",
      "\u001b[32m\u001b[1mNo Changes\u001b[22m\u001b[39m to `~/data/Jupyter-data-science-environment/.julia_pkgs/environments/v1.5/Project.toml`\n",
      "\u001b[32m\u001b[1mNo Changes\u001b[22m\u001b[39m to `~/data/Jupyter-data-science-environment/.julia_pkgs/environments/v1.5/Manifest.toml`\n",
      "\u001b[32m\u001b[1m   Building\u001b[22m\u001b[39m Conda → `~/data/Jupyter-data-science-environment/.julia_pkgs/packages/Conda/3rPhK/deps/build.log`\n",
      "\u001b[32m\u001b[1m   Building\u001b[22m\u001b[39m RCall → `~/data/Jupyter-data-science-environment/.julia_pkgs/packages/RCall/AEOQ7/deps/build.log`\n"
     ]
    }
   ],
   "source": [
    "Pkg.add(\"RCall\")\n",
    "Pkg.build(\"RCall\")"
   ]
  },
  {
   "cell_type": "code",
   "execution_count": 3,
   "metadata": {
    "collapsed": false,
    "jupyter": {
     "outputs_hidden": false
    }
   },
   "outputs": [
    {
     "name": "stderr",
     "output_type": "stream",
     "text": [
      "┌ Info: Precompiling RCall [6f49c342-dc21-5d91-9882-a32aef131414]\n",
      "└ @ Base loading.jl:1278\n"
     ]
    }
   ],
   "source": [
    "using RCall"
   ]
  },
  {
   "cell_type": "code",
   "execution_count": 4,
   "metadata": {
    "collapsed": false,
    "jupyter": {
     "outputs_hidden": false
    }
   },
   "outputs": [
    {
     "data": {
      "text/plain": [
       "1"
      ]
     },
     "execution_count": 4,
     "metadata": {},
     "output_type": "execute_result"
    }
   ],
   "source": [
    "z = 1"
   ]
  },
  {
   "cell_type": "code",
   "execution_count": 5,
   "metadata": {
    "collapsed": false,
    "jupyter": {
     "outputs_hidden": false
    }
   },
   "outputs": [
    {
     "data": {
      "text/plain": [
       "1"
      ]
     },
     "execution_count": 5,
     "metadata": {},
     "output_type": "execute_result"
    }
   ],
   "source": [
    "@rput z"
   ]
  },
  {
   "cell_type": "code",
   "execution_count": 6,
   "metadata": {
    "collapsed": false,
    "jupyter": {
     "outputs_hidden": false
    }
   },
   "outputs": [
    {
     "data": {
      "text/plain": [
       "RObject{RealSxp}\n",
       " [1] -0.20733311  0.68905587 -0.76346300 -0.27783930  0.70619205 -0.13338039\n",
       " [7] -0.18730283 -1.90302193  0.07908487 -0.07729160\n"
      ]
     },
     "execution_count": 6,
     "metadata": {},
     "output_type": "execute_result"
    }
   ],
   "source": [
    "R\"rnorm(10)\""
   ]
  },
  {
   "cell_type": "code",
   "execution_count": 7,
   "metadata": {
    "collapsed": false,
    "jupyter": {
     "outputs_hidden": false
    }
   },
   "outputs": [
    {
     "data": {
      "text/plain": [
       "10-element Array{Float64,1}:\n",
       "  0.28181034876084393\n",
       " -0.1942817110385995\n",
       "  0.16087840936968947\n",
       " -0.7033058497869086\n",
       " -0.7069871061395134\n",
       " -2.118727331934389\n",
       "  0.9248612049536601\n",
       "  0.9598784395350949\n",
       "  0.21803634160815402\n",
       " -0.7541842164120999"
      ]
     },
     "execution_count": 7,
     "metadata": {},
     "output_type": "execute_result"
    }
   ],
   "source": [
    "x = randn(10)"
   ]
  },
  {
   "cell_type": "code",
   "execution_count": 8,
   "metadata": {
    "collapsed": false,
    "jupyter": {
     "outputs_hidden": false
    }
   },
   "outputs": [
    {
     "data": {
      "text/plain": [
       "RObject{VecSxp}\n",
       "\n",
       "\tOne Sample t-test\n",
       "\n",
       "data:  `#JL`$x\n",
       "t = -0.66284, df = 9, p-value = 0.524\n",
       "alternative hypothesis: true mean is not equal to 0\n",
       "95 percent confidence interval:\n",
       " -0.8525699  0.4661656\n",
       "sample estimates:\n",
       " mean of x \n",
       "-0.1932021 \n",
       "\n"
      ]
     },
     "execution_count": 8,
     "metadata": {},
     "output_type": "execute_result"
    }
   ],
   "source": [
    "R\"t.test($x)\""
   ]
  },
  {
   "cell_type": "code",
   "execution_count": 9,
   "metadata": {
    "collapsed": false,
    "jupyter": {
     "outputs_hidden": false
    }
   },
   "outputs": [
    {
     "data": {
      "text/plain": [
       "RObject{VecSxp}\n",
       "$par\n",
       "[1] -1.56343\n",
       "\n",
       "$value\n",
       "[1] -1.570796\n",
       "\n",
       "$counts\n",
       "function gradient \n",
       "      14       13 \n",
       "\n",
       "$convergence\n",
       "[1] 0\n",
       "\n",
       "$message\n",
       "NULL\n",
       "\n"
      ]
     },
     "execution_count": 9,
     "metadata": {},
     "output_type": "execute_result"
    }
   ],
   "source": [
    "R\"optim(0, $(x -> x-cos(x)), method='BFGS')\""
   ]
  }
 ],
 "metadata": {
  "kernelspec": {
   "display_name": "Julia - Julia-data-env",
   "language": "julia",
   "name": "julia_julia-data-env"
  },
  "language_info": {
   "file_extension": ".jl",
   "mimetype": "application/julia",
   "name": "julia",
   "version": "1.5.1"
  },
  "name": "Julia-with-R.ipynb"
 },
 "nbformat": 4,
 "nbformat_minor": 4
}
