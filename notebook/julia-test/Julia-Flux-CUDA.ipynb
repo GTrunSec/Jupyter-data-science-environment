{
 "cells": [
  {
   "cell_type": "code",
   "execution_count": 1,
   "metadata": {
    "collapsed": false
   },
   "outputs": [],
   "source": [
    "using Pkg"
   ]
  },
  {
   "cell_type": "code",
   "execution_count": 2,
   "metadata": {
    "collapsed": false
   },
   "outputs": [
    {
     "name": "stderr",
     "output_type": "stream",
     "text": [
      "\u001b[32m\u001b[1m   Updating\u001b[22m\u001b[39m registry at `~/data/Jupyter-data-science-environment/.julia_pkgs/registries/General`\n",
      "\u001b[32m\u001b[1m  Resolving\u001b[22m\u001b[39m package versions...\n",
      "\u001b[32m\u001b[1m   Updating\u001b[22m\u001b[39m `~/data/Jupyter-data-science-environment/.julia_pkgs/environments/v1.4/Project.toml`\n",
      "\u001b[90m [no changes]\u001b[39m\n",
      "\u001b[32m\u001b[1m   Updating\u001b[22m\u001b[39m `~/data/Jupyter-data-science-environment/.julia_pkgs/environments/v1.4/Manifest.toml`\n",
      "\u001b[90m [no changes]\u001b[39m\n"
     ]
    }
   ],
   "source": [
    "Pkg.add(Pkg.PackageSpec(;name=\"Flux\", version=\"0.10.4\"))"
   ]
  },
  {
   "cell_type": "code",
   "execution_count": 3,
   "metadata": {
    "collapsed": false,
    "scrolled": true
   },
   "outputs": [
    {
     "name": "stderr",
     "output_type": "stream",
     "text": [
      "┌ Warning: `haskey(::TargetIterator, name::String)` is deprecated, use `Target(; name = name) !== nothing` instead.\n",
      "│   caller = llvm_compat(::VersionNumber) at compatibility.jl:176\n",
      "└ @ CUDAnative /home/gtrun/data/Jupyter-data-science-environment/.julia_pkgs/packages/CUDAnative/C91oY/src/compatibility.jl:176\n"
     ]
    }
   ],
   "source": [
    "using Flux"
   ]
  },
  {
   "cell_type": "code",
   "execution_count": 4,
   "metadata": {
    "collapsed": false
   },
   "outputs": [],
   "source": [
    "f(x) = 3x^2 + 2x + 1;"
   ]
  },
  {
   "cell_type": "code",
   "execution_count": 5,
   "metadata": {
    "collapsed": false
   },
   "outputs": [],
   "source": [
    "df(x) = gradient(f, x)[1]; # df/dx = 6x + 2"
   ]
  },
  {
   "cell_type": "code",
   "execution_count": 6,
   "metadata": {
    "collapsed": false
   },
   "outputs": [],
   "source": [
    "d2f(x) = gradient(df, x)[1]; # d²f/dx² = 6"
   ]
  },
  {
   "cell_type": "code",
   "execution_count": 7,
   "metadata": {
    "collapsed": false
   },
   "outputs": [
    {
     "data": {
      "text/plain": [
       "6"
      ]
     },
     "execution_count": 7,
     "metadata": {},
     "output_type": "execute_result"
    }
   ],
   "source": [
    "d2f(2)"
   ]
  },
  {
   "cell_type": "code",
   "execution_count": 8,
   "metadata": {
    "collapsed": false
   },
   "outputs": [],
   "source": [
    "x = [2, 1];\n",
    "y = [2, 0];"
   ]
  },
  {
   "cell_type": "code",
   "execution_count": 9,
   "metadata": {
    "collapsed": false
   },
   "outputs": [
    {
     "data": {
      "text/plain": [
       "2-element Array{Float64,1}:\n",
       " 0.9851271026511734\n",
       " 0.013362600369817734"
      ]
     },
     "execution_count": 9,
     "metadata": {},
     "output_type": "execute_result"
    }
   ],
   "source": [
    "W = rand(2, 5)\n",
    "b = rand(2)\n"
   ]
  },
  {
   "cell_type": "code",
   "execution_count": 10,
   "metadata": {
    "collapsed": false
   },
   "outputs": [
    {
     "data": {
      "text/plain": [
       "loss (generic function with 1 method)"
      ]
     },
     "execution_count": 10,
     "metadata": {},
     "output_type": "execute_result"
    }
   ],
   "source": [
    "predict(x) = W*x .+ b\n",
    "\n",
    "function loss(x, y)\n",
    "  ŷ = predict(x)\n",
    "  sum((y .- ŷ).^2)\n",
    "end"
   ]
  },
  {
   "cell_type": "code",
   "execution_count": 11,
   "metadata": {
    "collapsed": false
   },
   "outputs": [
    {
     "data": {
      "text/plain": [
       "4.219962028260271"
      ]
     },
     "execution_count": 11,
     "metadata": {},
     "output_type": "execute_result"
    }
   ],
   "source": [
    "x, y = rand(5), rand(2) # Dummy data\n",
    "loss(x, y) # ~ 3"
   ]
  },
  {
   "cell_type": "code",
   "execution_count": 12,
   "metadata": {
    "collapsed": false
   },
   "outputs": [
    {
     "data": {
      "text/plain": [
       "Grads(...)"
      ]
     },
     "execution_count": 12,
     "metadata": {},
     "output_type": "execute_result"
    }
   ],
   "source": [
    "gs = gradient(() -> loss(x, y), params(W, b))\n"
   ]
  },
  {
   "cell_type": "code",
   "execution_count": 13,
   "metadata": {
    "collapsed": false
   },
   "outputs": [
    {
     "data": {
      "text/plain": [
       "2.1792728089098174"
      ]
     },
     "execution_count": 13,
     "metadata": {},
     "output_type": "execute_result"
    }
   ],
   "source": [
    "W̄ = gs[W]\n",
    "\n",
    "W .-= 0.1 .* W̄\n",
    "\n",
    "loss(x, y) # ~ 2.5"
   ]
  },
  {
   "cell_type": "code",
   "execution_count": 14,
   "metadata": {
    "collapsed": false
   },
   "outputs": [],
   "source": [
    "#Pkg.add(Pkg.PackageSpec(;name=\"CuArrays\", version=\"1.7.3\"))"
   ]
  },
  {
   "cell_type": "code",
   "execution_count": 15,
   "metadata": {
    "collapsed": false
   },
   "outputs": [],
   "source": [
    "using CUDAdrv, CUDAnative, CuArrays"
   ]
  },
  {
   "cell_type": "code",
   "execution_count": 16,
   "metadata": {
    "collapsed": false
   },
   "outputs": [
    {
     "data": {
      "text/plain": [
       "v\"10.2.89\""
      ]
     },
     "execution_count": 16,
     "metadata": {},
     "output_type": "execute_result"
    }
   ],
   "source": [
    "CUDAnative.version()"
   ]
  },
  {
   "cell_type": "code",
   "execution_count": 17,
   "metadata": {
    "collapsed": false
   },
   "outputs": [
    {
     "name": "stderr",
     "output_type": "stream",
     "text": [
      "┌ Warning: `Target(triple::String)` is deprecated, use `Target(; triple = triple)` instead.\n",
      "│   caller = ip:0x0\n",
      "└ @ Core :-1\n"
     ]
    }
   ],
   "source": [
    "a = CuArrays.zeros(1024)\n",
    "\n",
    "function kernel(a)\n",
    "    i = threadIdx().x\n",
    "    a[i] += 1\n",
    "    return\n",
    "end\n",
    "\n",
    "@cuda threads=length(a) kernel(a)"
   ]
  },
  {
   "cell_type": "code",
   "execution_count": 18,
   "metadata": {
    "collapsed": false
   },
   "outputs": [
    {
     "data": {
      "text/plain": [
       "1024-element CuArray{Float32,1,Nothing}:\n",
       " 1.841471\n",
       " 1.841471\n",
       " 1.841471\n",
       " 1.841471\n",
       " 1.841471\n",
       " 1.841471\n",
       " 1.841471\n",
       " 1.841471\n",
       " 1.841471\n",
       " 1.841471\n",
       " 1.841471\n",
       " 1.841471\n",
       " 1.841471\n",
       " ⋮\n",
       " 1.841471\n",
       " 1.841471\n",
       " 1.841471\n",
       " 1.841471\n",
       " 1.841471\n",
       " 1.841471\n",
       " 1.841471\n",
       " 1.841471\n",
       " 1.841471\n",
       " 1.841471\n",
       " 1.841471\n",
       " 1.841471"
      ]
     },
     "execution_count": 18,
     "metadata": {},
     "output_type": "execute_result"
    }
   ],
   "source": [
    "b = CuArrays.ones(1024)\n",
    "a.^2 .+ sin.(b)"
   ]
  },
  {
   "cell_type": "code",
   "execution_count": null,
   "metadata": {
    "collapsed": false
   },
   "outputs": [],
   "source": []
  }
 ],
 "metadata": {
  "kernelspec": {
   "argv": [
    "/nix/store/bxpycf8cnzr8an6m5w5imlglkgzmm8n8-julia_wrapped/bin/julia_wrapped",
    "-i",
    "--startup-file=yes",
    "--color=yes",
    "/home/gtrun/data/Jupyter-data-science-environment/.julia_pkgs/packages/IJulia/DrVMH/src/kernel.jl",
    "{connection_file}"
   ],
   "display_name": "Julia - Julia-data-env",
   "env": {
    "JULIA_DEPOT_PATH": "/home/gtrun/data/Jupyter-data-science-environment/.julia_pkgs",
    "JULIA_NUM_THREADS": "24",
    "JULIA_PKGDIR": "/home/gtrun/data/Jupyter-data-science-environment/.julia_pkgs",
    "LD_LIBRARY_PATH": "/nix/store/450ccn9a0zz4dfc9xlgmzd252j3mcqvn-mbedtls-2.16.3/lib:/nix/store/drzd9q45r534k4kfslbah2siihflvx2a-zeromq-4.3.2/lib:/nix/store/3qmzcfzl7kbyjijfh6li6x89ryqahjjk-imagemagick-6.9.11-14/lib:/nix/store/vskdkmkcq2qdpwi6vj31hxd0kp8rbk92-gzip-1.10/lib:/nix/store/cxl4d6gc57n3wj9j6zzvdkyricvplcsw-zlib-1.2.11/lib:/nix/store/vskdkmkcq2qdpwi6vj31hxd0kp8rbk92-gzip-1.10/lib:/nix/store/cxl4d6gc57n3wj9j6zzvdkyricvplcsw-zlib-1.2.11/lib:/nix/store/p2nk91nc5h1ikbkygq6dznla2knk5yx1-cudatoolkit-10.2.89-lib/lib:/nix/store/15cg7r79afmpdjy7qkyxi1szl8gwgwm4-glu-9.0.1/lib:/nix/store/3sfvhc845r67z9a1rgg25n7irx7mwhj9-libXi-1.7.10/lib:/nix/store/96hg2pgwa6vp9ikajj5nl45cy896gl7y-libXmu-1.1.3/lib:/nix/store/hzwykxslhdaay56rvg8mma6n5mdz3l5z-freeglut-3.2.1/lib:/nix/store/q6zp3wq8b4qvz5cxr377mdpr759pricy-libXext-1.3.4/lib:/nix/store/k7s8q0wvm3fmrmnaxpazffm8xs28p7hg-libX11-1.6.8/lib:/nix/store/7xk6d225ss4b5ih089imy9whzy1zr07n-libXv-1.0.11/lib:/nix/store/b705b0yd0i722z1kyylkg8qfc5jj6sj7-libXrandr-1.5.2/lib:/nix/store/cxl4d6gc57n3wj9j6zzvdkyricvplcsw-zlib-1.2.11/lib:/nix/store/imqnmx9252s0f3f4dk5ld75frb9d87q1-ncurses-6.2-abi5-compat/lib:/nix/store/r4l53b461b2lyclxn1pdj0n4hvbxl2l6-gcc-wrapper-9.3.0/lib:/nix/store/2iq2pxwdbrf4v9wdbwn47kz1kb1kljfk-binutils-wrapper-2.31.1/lib:/nix/store/g5yhyspw38fvynss4pwyyxg7w4q7ixi9-git-2.26.2/lib:/nix/store/3jf0w9297l3an7s6h93i0wiksxssik72-git-repo-2.8/lib:/nix/store/wicg8jw3hwnbg8l07cym4wzks5pqk4d8-gnupg-2.2.20/lib:/nix/store/adlqzc4wi496i7kg5y171hk5hb0z3q3q-autoconf-2.69/lib:/nix/store/ai778fmn36pnmflhc9wljg2m7whndnwj-curl-7.70.0/lib:/nix/store/0gaa8589i8lz912camm0bsm9x08a4s2f-procps-3.3.16/lib:/nix/store/hvwdgzwiyvq0qmzzjw81amhjm523mm2k-gnumake-4.2.1/lib:/nix/store/mx7pd0pd4jn04xbcq9y0i9fh083qv92s-util-linux-2.35.1/lib:/nix/store/25qpm7v9zqd9c0z025pysabb70r7ddrk-gnum4-1.4.18/lib:/nix/store/3xgjj6hq50cnsfmbkqgbxmqisxqps51j-gperf-3.1/lib:/nix/store/qw8bh7j9h7w4c36rm9qbg83gziccn0wf-unzip-6.0/lib"
   },
   "interrupt_mode": "signal",
   "language": "julia",
   "metadata": null,
   "name": "ijulia-data-env"
  },
  "language_info": {
   "file_extension": ".jl",
   "mimetype": "application/julia",
   "name": "julia",
   "version": "1.4.2"
  },
  "name": "Julia-Flux-CUDA.ipynb"
 },
 "nbformat": 4,
 "nbformat_minor": 4
}
