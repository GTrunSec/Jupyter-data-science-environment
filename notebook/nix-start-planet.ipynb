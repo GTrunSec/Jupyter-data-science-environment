{
 "cells": [
  {
   "cell_type": "code",
   "execution_count": 1,
   "metadata": {},
   "outputs": [
    {
     "name": "stdout",
     "output_type": "stream",
     "text": [
      "https://nix.dev/anti-patterns/language.html#unquoted-urls\n",
      "\u001b[33m\"https://nix.dev/anti-patterns/language.html\"\u001b[0m\n",
      "\n"
     ]
    }
   ],
   "source": [
    "https://nix.dev/anti-patterns/language.html#unquoted-urls"
   ]
  },
  {
   "cell_type": "code",
   "execution_count": 2,
   "metadata": {},
   "outputs": [
    {
     "name": "stdout",
     "output_type": "stream",
     "text": [
      "rec {\n",
      "  a = 1;\n",
      "  b = a + 2;\n",
      "}\n",
      "{ a = \u001b[36m1\u001b[0m; b = \u001b[36m3\u001b[0m; }\n",
      "\n"
     ]
    }
   ],
   "source": [
    "rec {\n",
    "  a = 1;\n",
    "  b = a + 2;\n",
    "}"
   ]
  },
  {
   "cell_type": "code",
   "execution_count": 3,
   "metadata": {},
   "outputs": [
    {
     "name": "stdout",
     "output_type": "stream",
     "text": [
      "let\n",
      "  a = 1;\n",
      "in {\n",
      "  a = a;\n",
      "  b = a + 2;\n",
      "}\n",
      "{ a = \u001b[36m1\u001b[0m; b = \u001b[36m3\u001b[0m; }\n",
      "\n"
     ]
    }
   ],
   "source": [
    "let\n",
    "  a = 1;\n",
    "in {\n",
    "  a = a;\n",
    "  b = a + 2;\n",
    "}"
   ]
  },
  {
   "cell_type": "markdown",
   "metadata": {},
   "source": [
    "# attr1 // attr2 merge operator\n",
    "\n",
    "It merges two attribute sets:"
   ]
  },
  {
   "cell_type": "code",
   "execution_count": 4,
   "metadata": {},
   "outputs": [
    {
     "name": "stdout",
     "output_type": "stream",
     "text": [
      "{ a = 1; b = 2; } // { b = 3; c = 4; }\n",
      "{ a = \u001b[36m1\u001b[0m; b = \u001b[36m3\u001b[0m; c = \u001b[36m4\u001b[0m; }\n",
      "\n"
     ]
    }
   ],
   "source": [
    "{ a = 1; b = 2; } // { b = 3; c = 4; }"
   ]
  },
  {
   "cell_type": "markdown",
   "metadata": {},
   "source": [
    "However, if attribute sets are nested it doesn’t merge them:\n"
   ]
  },
  {
   "cell_type": "code",
   "execution_count": 5,
   "metadata": {},
   "outputs": [
    {
     "name": "stdout",
     "output_type": "stream",
     "text": [
      ":p { a = { b = 1; }; } // { a = { c = 3; }; }\n",
      "{ a = { c = \u001b[36m3\u001b[0m; }; }\n",
      "\n"
     ]
    }
   ],
   "source": [
    ":p { a = { b = 1; }; } // { a = { c = 3; }; }"
   ]
  },
  {
   "cell_type": "code",
   "execution_count": 15,
   "metadata": {},
   "outputs": [
    {
     "name": "stdout",
     "output_type": "stream",
     "text": [
      "<nixpkgs/lib>\n",
      "\u001b[32m/home/gtrun/.nix-defexpr/channels/nixpkgs/lib\u001b[0m\n",
      "\n"
     ]
    }
   ],
   "source": [
    "<nixpkgs/lib>"
   ]
  },
  {
   "cell_type": "code",
   "execution_count": 18,
   "metadata": {},
   "outputs": [
    {
     "name": "stdout",
     "output_type": "stream",
     "text": [
      "let\n",
      "  pkgs = import <nixpkgs> {};\n",
      "in\n",
      " pkgs.lib.recursiveUpdate { a = { b = 1; }; } { a = { c = 3;}; }\n",
      "{ a = { ... }; }\n",
      "\n"
     ]
    }
   ],
   "source": [
    "let\n",
    "  pkgs = import <nixpkgs> {};\n",
    "in\n",
    " pkgs.lib.recursiveUpdate { a = { b = 1; }; } { a = { c = 3;}; }"
   ]
  },
  {
   "cell_type": "code",
   "execution_count": 16,
   "metadata": {},
   "outputs": [
    {
     "name": "stdout",
     "output_type": "stream",
     "text": [
      " { pkgs ? import <nixpkgs> {}\n",
      " }:\n",
      "\n",
      " pkgs.stdenv.mkDerivation {\n",
      "   name = \"foobar\";\n",
      "\n",
      "   src = builtins.path { path = ./.; name = \"myproject\"; };\n",
      "}\n",
      "\u001b[34;1m«lambda @ \u001b[1m(string)\u001b[0m:1:2»\u001b[0m\n",
      "\n"
     ]
    }
   ],
   "source": [
    " { pkgs ? import <nixpkgs> {}\n",
    " }:\n",
    "\n",
    " pkgs.stdenv.mkDerivation {\n",
    "   name = \"foobar\";\n",
    "\n",
    "   src = builtins.path { path = ./.; name = \"myproject\"; };\n",
    "}"
   ]
  },
  {
   "cell_type": "code",
   "execution_count": 20,
   "metadata": {},
   "outputs": [
    {
     "name": "stdout",
     "output_type": "stream",
     "text": [
      "let a = builtins.div 4 0; b = 6; in b\n",
      "\u001b[36m6\u001b[0m\n",
      "\n"
     ]
    }
   ],
   "source": [
    "let a = builtins.div 4 0; b = 6; in b"
   ]
  },
  {
   "cell_type": "code",
   "execution_count": 21,
   "metadata": {},
   "outputs": [
    {
     "name": "stdout",
     "output_type": "stream",
     "text": [
      "mul = a: (b: a*b)\n",
      "\n"
     ]
    }
   ],
   "source": [
    "mul = a: (b: a*b)"
   ]
  },
  {
   "cell_type": "code",
   "execution_count": 22,
   "metadata": {},
   "outputs": [
    {
     "name": "stdout",
     "output_type": "stream",
     "text": [
      "mul 3\n",
      "\u001b[34;1m«lambda @ \u001b[1m(string)\u001b[0m:1:6»\u001b[0m\n",
      "\n"
     ]
    }
   ],
   "source": [
    "mul 3"
   ]
  },
  {
   "cell_type": "code",
   "execution_count": 23,
   "metadata": {},
   "outputs": [
    {
     "name": "stdout",
     "output_type": "stream",
     "text": [
      "(mul 3) 4\n",
      "\u001b[36m12\u001b[0m\n",
      "\n"
     ]
    }
   ],
   "source": [
    "(mul 3) 4"
   ]
  },
  {
   "cell_type": "code",
   "execution_count": 24,
   "metadata": {},
   "outputs": [
    {
     "name": "stdout",
     "output_type": "stream",
     "text": [
      "mul (6+7) (8+9)\n",
      "\u001b[36m221\u001b[0m\n",
      "\n"
     ]
    }
   ],
   "source": [
    "mul (6+7) (8+9)"
   ]
  },
  {
   "cell_type": "code",
   "execution_count": 25,
   "metadata": {},
   "outputs": [
    {
     "name": "stdout",
     "output_type": "stream",
     "text": [
      "foo = mul 3\n",
      "\n"
     ]
    }
   ],
   "source": [
    "foo = mul 3"
   ]
  },
  {
   "cell_type": "code",
   "execution_count": 26,
   "metadata": {},
   "outputs": [
    {
     "name": "stdout",
     "output_type": "stream",
     "text": [
      "foo 4\n",
      "\u001b[36m12\u001b[0m\n",
      "\n"
     ]
    }
   ],
   "source": [
    "foo 4"
   ]
  },
  {
   "cell_type": "code",
   "execution_count": 27,
   "metadata": {},
   "outputs": [
    {
     "name": "stdout",
     "output_type": "stream",
     "text": [
      "mul = s: s.a*s.b\n",
      "\n"
     ]
    }
   ],
   "source": [
    "mul = s: s.a*s.b"
   ]
  },
  {
   "cell_type": "code",
   "execution_count": 28,
   "metadata": {},
   "outputs": [
    {
     "name": "stdout",
     "output_type": "stream",
     "text": [
      "mul = { a, b }: a*b\n",
      "\n"
     ]
    }
   ],
   "source": [
    "mul = { a, b }: a*b"
   ]
  },
  {
   "cell_type": "code",
   "execution_count": 29,
   "metadata": {},
   "outputs": [
    {
     "name": "stdout",
     "output_type": "stream",
     "text": [
      "mul { a = 3; b = 4; }\n",
      "\u001b[36m12\u001b[0m\n",
      "\n"
     ]
    }
   ],
   "source": [
    "mul { a = 3; b = 4; }"
   ]
  }
 ],
 "metadata": {
  "kernelspec": {
   "display_name": "Nix - nix-kernel",
   "language": "Nix",
   "name": "inix_nix-kernel"
  },
  "language_info": {
   "file_extension": ".nix",
   "mimetype": "text/nix",
   "name": "nix"
  }
 },
 "nbformat": 4,
 "nbformat_minor": 4
}
