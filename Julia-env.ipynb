{
 "cells": [
  {
   "cell_type": "code",
   "execution_count": 4,
   "metadata": {},
   "outputs": [],
   "source": [
    "using Pkg"
   ]
  },
  {
   "cell_type": "code",
   "execution_count": 5,
   "metadata": {},
   "outputs": [
    {
     "ename": "InitError",
     "evalue": "InitError: could not load library \"/Users/gtrun/data/analysis-arg-lab/.julia_pkgs/artifacts/fcacf68db172fe1722facf228d64ab091ee037e6/lib/libopenspecfun.1.3.dylib\"\ndlopen(/Users/gtrun/data/analysis-arg-lab/.julia_pkgs/artifacts/fcacf68db172fe1722facf228d64ab091ee037e6/lib/libopenspecfun.1.3.dylib, 1): Library not loaded: @rpath/libgfortran.5.dylib\n  Referenced from: /Users/gtrun/data/analysis-arg-lab/.julia_pkgs/artifacts/fcacf68db172fe1722facf228d64ab091ee037e6/lib/libopenspecfun.1.3.dylib\n  Reason: image not found\nduring initialization of module OpenSpecFun_jll",
     "output_type": "error",
     "traceback": [
      "InitError: could not load library \"/Users/gtrun/data/analysis-arg-lab/.julia_pkgs/artifacts/fcacf68db172fe1722facf228d64ab091ee037e6/lib/libopenspecfun.1.3.dylib\"\ndlopen(/Users/gtrun/data/analysis-arg-lab/.julia_pkgs/artifacts/fcacf68db172fe1722facf228d64ab091ee037e6/lib/libopenspecfun.1.3.dylib, 1): Library not loaded: @rpath/libgfortran.5.dylib\n  Referenced from: /Users/gtrun/data/analysis-arg-lab/.julia_pkgs/artifacts/fcacf68db172fe1722facf228d64ab091ee037e6/lib/libopenspecfun.1.3.dylib\n  Reason: image not found\nduring initialization of module OpenSpecFun_jll",
      "",
      "Stacktrace:",
      " [1] #dlopen#3(::Bool, ::typeof(Libdl.dlopen), ::String, ::UInt32) at /nix/store/lhyf1f36b5fyx62djnx38bfr4864wdnh-julia-1.3.1/lib/julia/sys.dylib:?",
      " [2] dlopen at /private/tmp/nix-build-julia-1.3.1.drv-0/source/usr/share/julia/stdlib/v1.3/Libdl/src/Libdl.jl:109 [inlined] (repeats 2 times)",
      " [3] __init__() at /Users/gtrun/data/analysis-arg-lab/.julia_pkgs/packages/OpenSpecFun_jll/HMSwk/src/wrappers/x86_64-apple-darwin14-libgfortran5.jl:43",
      " [4] _include_from_serialized(::String, ::Array{Any,1}) at ./loading.jl:692",
      " [5] _require_search_from_serialized(::Base.PkgId, ::String) at ./loading.jl:776",
      " [6] _tryrequire_from_serialized(::Base.PkgId, ::UInt64, ::String) at ./loading.jl:707",
      " [7] _require_search_from_serialized(::Base.PkgId, ::String) at ./loading.jl:765",
      " [8] _require(::Base.PkgId) at ./loading.jl:1001",
      " [9] require(::Base.PkgId) at ./loading.jl:922",
      " [10] require(::Module, ::Symbol) at ./loading.jl:917",
      " [11] top-level scope at In[5]:1"
     ]
    }
   ],
   "source": [
    "using Flux"
   ]
  },
  {
   "cell_type": "code",
   "execution_count": 6,
   "metadata": {},
   "outputs": [],
   "source": [
    "f(x) = 3x^2 + 2x + 1;"
   ]
  },
  {
   "cell_type": "code",
   "execution_count": 7,
   "metadata": {},
   "outputs": [],
   "source": [
    "df(x) = gradient(f, x)[1]; # df/dx = 6x + 2"
   ]
  },
  {
   "cell_type": "code",
   "execution_count": 8,
   "metadata": {},
   "outputs": [],
   "source": [
    "d2f(x) = gradient(df, x)[1]; # d²f/dx² = 6"
   ]
  },
  {
   "cell_type": "code",
   "execution_count": 9,
   "metadata": {},
   "outputs": [
    {
     "ename": "UndefVarError",
     "evalue": "UndefVarError: gradient not defined",
     "output_type": "error",
     "traceback": [
      "UndefVarError: gradient not defined",
      "",
      "Stacktrace:",
      " [1] d2f(::Int64) at ./In[8]:1",
      " [2] top-level scope at In[9]:1"
     ]
    }
   ],
   "source": [
    "d2f(2)"
   ]
  },
  {
   "cell_type": "code",
   "execution_count": null,
   "metadata": {},
   "outputs": [],
   "source": []
  }
 ],
 "metadata": {
  "kernelspec": {
   "display_name": "Julia_8_threads 1.3.1",
   "language": "julia",
   "name": "julia_8_threads-1.3"
  },
  "language_info": {
   "file_extension": ".jl",
   "mimetype": "application/julia",
   "name": "julia",
   "version": "1.3.1"
  }
 },
 "nbformat": 4,
 "nbformat_minor": 4
}
