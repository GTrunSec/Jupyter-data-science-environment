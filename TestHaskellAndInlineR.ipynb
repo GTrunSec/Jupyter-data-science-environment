{
 "cells": [
  {
   "cell_type": "code",
   "execution_count": 1,
   "metadata": {},
   "outputs": [],
   "source": [
    ":set -fno-ghci-sandbox"
   ]
  },
  {
   "cell_type": "code",
   "execution_count": 2,
   "metadata": {},
   "outputs": [],
   "source": [
    "{-# LANGUAGE TemplateHaskell #-}\n",
    "{-# LANGUAGE QuasiQuotes #-}"
   ]
  },
  {
   "cell_type": "code",
   "execution_count": 3,
   "metadata": {},
   "outputs": [
    {
     "ename": "",
     "evalue": "",
     "header": "MessageHeader {mhIdentifiers = [\"6b8eb42e-072e-4705-a340-976da4e14239\"], mhParentHeader = Just (MessageHeader {mhIdentifiers = [\"6b8eb42e-072e-4705-a340-976da4e14239\"], mhParentHeader = Nothing, mhMetadata = Metadata (fromList [(\"recordTiming\",Bool False),(\"deletedCells\",Array []),(\"cellId\",String \"63429260-da3c-4913-90ad-9881f7fd5ecd\")]), mhMessageId = UUID {uuidToString = \"455a376b-1c9d-4052-98b3-9360d5ee7013\"}, mhSessionId = UUID {uuidToString = \"6b8eb42e-072e-4705-a340-976da4e14239\"}, mhUsername = \"\", mhMsgType = ExecuteRequestMessage}), mhMetadata = Metadata (fromList []), mhMessageId = UUID {uuidToString = \"fb8fba3b-2aef-4e9a-8d27-8b876dcf952c\"}, mhSessionId = UUID {uuidToString = \"6b8eb42e-072e-4705-a340-976da4e14239\"}, mhUsername = \"\", mhMsgType = ExecuteErrorMessage}",
     "output_type": "error",
     "traceback": [
      "Parse error (line 1, column 1): Unknown directive: 'show'."
     ]
    }
   ],
   "source": [
    ":show modules"
   ]
  },
  {
   "cell_type": "code",
   "execution_count": 4,
   "metadata": {},
   "outputs": [],
   "source": [
    "import qualified Language.R as R\n",
    "import Language.R.QQ"
   ]
  },
  {
   "cell_type": "code",
   "execution_count": 5,
   "metadata": {},
   "outputs": [
    {
     "data": {
      "text/html": [
       "<style>/* Styles used for the Hoogle display in the pager */\n",
       ".hoogle-doc {\n",
       "display: block;\n",
       "padding-bottom: 1.3em;\n",
       "padding-left: 0.4em;\n",
       "}\n",
       ".hoogle-code {\n",
       "display: block;\n",
       "font-family: monospace;\n",
       "white-space: pre;\n",
       "}\n",
       ".hoogle-text {\n",
       "display: block;\n",
       "}\n",
       ".hoogle-name {\n",
       "color: green;\n",
       "font-weight: bold;\n",
       "}\n",
       ".hoogle-head {\n",
       "font-weight: bold;\n",
       "}\n",
       ".hoogle-sub {\n",
       "display: block;\n",
       "margin-left: 0.4em;\n",
       "}\n",
       ".hoogle-package {\n",
       "font-weight: bold;\n",
       "font-style: italic;\n",
       "}\n",
       ".hoogle-module {\n",
       "font-weight: bold;\n",
       "}\n",
       ".hoogle-class {\n",
       "font-weight: bold;\n",
       "}\n",
       ".get-type {\n",
       "color: green;\n",
       "font-weight: bold;\n",
       "font-family: monospace;\n",
       "display: block;\n",
       "white-space: pre-wrap;\n",
       "}\n",
       ".show-type {\n",
       "color: green;\n",
       "font-weight: bold;\n",
       "font-family: monospace;\n",
       "margin-left: 1em;\n",
       "}\n",
       ".mono {\n",
       "font-family: monospace;\n",
       "display: block;\n",
       "}\n",
       ".err-msg {\n",
       "color: red;\n",
       "font-style: italic;\n",
       "font-family: monospace;\n",
       "white-space: pre;\n",
       "display: block;\n",
       "}\n",
       "#unshowable {\n",
       "color: red;\n",
       "font-weight: bold;\n",
       "}\n",
       ".err-msg.in.collapse {\n",
       "padding-top: 0.7em;\n",
       "}\n",
       ".highlight-code {\n",
       "white-space: pre;\n",
       "font-family: monospace;\n",
       "}\n",
       ".suggestion-warning { \n",
       "font-weight: bold;\n",
       "color: rgb(200, 130, 0);\n",
       "}\n",
       ".suggestion-error { \n",
       "font-weight: bold;\n",
       "color: red;\n",
       "}\n",
       ".suggestion-name {\n",
       "font-weight: bold;\n",
       "}\n",
       "</style><span class='get-type'>R.runRegion :: forall a. NFData a => (forall s. R s a) -> IO a</span>"
      ],
      "text/plain": [
       "R.runRegion :: forall a. NFData a => (forall s. R s a) -> IO a"
      ]
     },
     "metadata": {},
     "output_type": "display_data"
    }
   ],
   "source": [
    ":t R.runRegion"
   ]
  },
  {
   "cell_type": "code",
   "execution_count": 6,
   "metadata": {},
   "outputs": [
    {
     "data": {
      "text/html": [
       "<style>/* Styles used for the Hoogle display in the pager */\n",
       ".hoogle-doc {\n",
       "display: block;\n",
       "padding-bottom: 1.3em;\n",
       "padding-left: 0.4em;\n",
       "}\n",
       ".hoogle-code {\n",
       "display: block;\n",
       "font-family: monospace;\n",
       "white-space: pre;\n",
       "}\n",
       ".hoogle-text {\n",
       "display: block;\n",
       "}\n",
       ".hoogle-name {\n",
       "color: green;\n",
       "font-weight: bold;\n",
       "}\n",
       ".hoogle-head {\n",
       "font-weight: bold;\n",
       "}\n",
       ".hoogle-sub {\n",
       "display: block;\n",
       "margin-left: 0.4em;\n",
       "}\n",
       ".hoogle-package {\n",
       "font-weight: bold;\n",
       "font-style: italic;\n",
       "}\n",
       ".hoogle-module {\n",
       "font-weight: bold;\n",
       "}\n",
       ".hoogle-class {\n",
       "font-weight: bold;\n",
       "}\n",
       ".get-type {\n",
       "color: green;\n",
       "font-weight: bold;\n",
       "font-family: monospace;\n",
       "display: block;\n",
       "white-space: pre-wrap;\n",
       "}\n",
       ".show-type {\n",
       "color: green;\n",
       "font-weight: bold;\n",
       "font-family: monospace;\n",
       "margin-left: 1em;\n",
       "}\n",
       ".mono {\n",
       "font-family: monospace;\n",
       "display: block;\n",
       "}\n",
       ".err-msg {\n",
       "color: red;\n",
       "font-style: italic;\n",
       "font-family: monospace;\n",
       "white-space: pre;\n",
       "display: block;\n",
       "}\n",
       "#unshowable {\n",
       "color: red;\n",
       "font-weight: bold;\n",
       "}\n",
       ".err-msg.in.collapse {\n",
       "padding-top: 0.7em;\n",
       "}\n",
       ".highlight-code {\n",
       "white-space: pre;\n",
       "font-family: monospace;\n",
       "}\n",
       ".suggestion-warning { \n",
       "font-weight: bold;\n",
       "color: rgb(200, 130, 0);\n",
       "}\n",
       ".suggestion-error { \n",
       "font-weight: bold;\n",
       "color: red;\n",
       "}\n",
       ".suggestion-name {\n",
       "font-weight: bold;\n",
       "}\n",
       "</style><span class='get-type'>[r| print(pi) |] :: forall (m :: * -> *). MonadR m => m (SomeSEXP (PrimState m))</span>"
      ],
      "text/plain": [
       "[r| print(pi) |] :: forall (m :: * -> *). MonadR m => m (SomeSEXP (PrimState m))"
      ]
     },
     "metadata": {},
     "output_type": "display_data"
    }
   ],
   "source": [
    ":t [r| print(pi) |]"
   ]
  },
  {
   "cell_type": "code",
   "execution_count": 7,
   "metadata": {},
   "outputs": [
    {
     "ename": "",
     "evalue": "",
     "header": "MessageHeader {mhIdentifiers = [\"6b8eb42e-072e-4705-a340-976da4e14239\"], mhParentHeader = Just (MessageHeader {mhIdentifiers = [\"6b8eb42e-072e-4705-a340-976da4e14239\"], mhParentHeader = Nothing, mhMetadata = Metadata (fromList [(\"recordTiming\",Bool False),(\"deletedCells\",Array []),(\"cellId\",String \"e7ac5a35-97d9-4dd9-8d29-1123a2720613\")]), mhMessageId = UUID {uuidToString = \"11a0016e-1244-40e4-b220-9329509ec262\"}, mhSessionId = UUID {uuidToString = \"6b8eb42e-072e-4705-a340-976da4e14239\"}, mhUsername = \"\", mhMsgType = ExecuteRequestMessage}), mhMetadata = Metadata (fromList []), mhMessageId = UUID {uuidToString = \"7dd5f8f9-7325-42e9-be61-99b3a0e9b577\"}, mhSessionId = UUID {uuidToString = \"6b8eb42e-072e-4705-a340-976da4e14239\"}, mhUsername = \"\", mhMsgType = ExecuteErrorMessage}",
     "output_type": "error",
     "traceback": [
      "R Runtime Error: Error in print.default(pi) : \n  3 arguments passed to .Internal(print.default) which requires 9"
     ]
    }
   ],
   "source": [
    "(R.runRegion $ do _ <- [r| print(pi) |]; return ())"
   ]
  },
  {
   "cell_type": "code",
   "execution_count": 8,
   "metadata": {},
   "outputs": [
    {
     "ename": "",
     "evalue": "",
     "header": "MessageHeader {mhIdentifiers = [\"6b8eb42e-072e-4705-a340-976da4e14239\"], mhParentHeader = Just (MessageHeader {mhIdentifiers = [\"6b8eb42e-072e-4705-a340-976da4e14239\"], mhParentHeader = Nothing, mhMetadata = Metadata (fromList [(\"recordTiming\",Bool False),(\"deletedCells\",Array []),(\"cellId\",String \"fa9530f4-4072-4735-a6c8-90ecb6d40552\")]), mhMessageId = UUID {uuidToString = \"77b688a5-538c-45ce-958e-ed6043dbd230\"}, mhSessionId = UUID {uuidToString = \"6b8eb42e-072e-4705-a340-976da4e14239\"}, mhUsername = \"\", mhMsgType = ExecuteRequestMessage}), mhMetadata = Metadata (fromList []), mhMessageId = UUID {uuidToString = \"8e2bface-88a6-41df-98e9-9e6eae02eecc\"}, mhSessionId = UUID {uuidToString = \"6b8eb42e-072e-4705-a340-976da4e14239\"}, mhUsername = \"\", mhMsgType = ExecuteErrorMessage}",
     "output_type": "error",
     "traceback": [
      "R Runtime Error: Error in print.default(x_hs) : \n  3 arguments passed to .Internal(print.default) which requires 9"
     ]
    }
   ],
   "source": [
    "R.runRegion $ do x <- [r| loadedNamespaces() |]; [r| print(x_hs) |]; return ()"
   ]
  },
  {
   "cell_type": "code",
   "execution_count": 9,
   "metadata": {},
   "outputs": [
    {
     "ename": "",
     "evalue": "",
     "header": "MessageHeader {mhIdentifiers = [\"6b8eb42e-072e-4705-a340-976da4e14239\"], mhParentHeader = Just (MessageHeader {mhIdentifiers = [\"6b8eb42e-072e-4705-a340-976da4e14239\"], mhParentHeader = Nothing, mhMetadata = Metadata (fromList [(\"recordTiming\",Bool False),(\"deletedCells\",Array []),(\"cellId\",String \"8678d537-8019-4e58-8ae9-370ad14485ba\")]), mhMessageId = UUID {uuidToString = \"9517837f-18ff-48a3-9dc9-97da1e3c8849\"}, mhSessionId = UUID {uuidToString = \"6b8eb42e-072e-4705-a340-976da4e14239\"}, mhUsername = \"\", mhMsgType = ExecuteRequestMessage}), mhMetadata = Metadata (fromList []), mhMessageId = UUID {uuidToString = \"0f6a81ab-88c3-4e1d-9860-ddc3ca2bd3d6\"}, mhSessionId = UUID {uuidToString = \"6b8eb42e-072e-4705-a340-976da4e14239\"}, mhUsername = \"\", mhMsgType = ExecuteErrorMessage}",
     "output_type": "error",
     "traceback": [
      "R Runtime Error: Error in library(cmaes) : there is no package called ‘cmaes’"
     ]
    }
   ],
   "source": [
    "R.runRegion $ do x <- [r| library(cmaes) |]; [r| print(x_hs) |]; return ()"
   ]
  },
  {
   "cell_type": "code",
   "execution_count": 10,
   "metadata": {},
   "outputs": [
    {
     "ename": "",
     "evalue": "",
     "header": "MessageHeader {mhIdentifiers = [\"6b8eb42e-072e-4705-a340-976da4e14239\"], mhParentHeader = Just (MessageHeader {mhIdentifiers = [\"6b8eb42e-072e-4705-a340-976da4e14239\"], mhParentHeader = Nothing, mhMetadata = Metadata (fromList [(\"recordTiming\",Bool False),(\"deletedCells\",Array []),(\"cellId\",String \"fa6561e5-873a-49bf-947a-d9d66ac3edfc\")]), mhMessageId = UUID {uuidToString = \"b5d6a335-e42c-4c8d-b058-8258ae952dc1\"}, mhSessionId = UUID {uuidToString = \"6b8eb42e-072e-4705-a340-976da4e14239\"}, mhUsername = \"\", mhMsgType = ExecuteRequestMessage}), mhMetadata = Metadata (fromList []), mhMessageId = UUID {uuidToString = \"b68405a9-7366-46f8-93f6-d5f010f1ec66\"}, mhSessionId = UUID {uuidToString = \"6b8eb42e-072e-4705-a340-976da4e14239\"}, mhUsername = \"\", mhMsgType = ExecuteErrorMessage}",
     "output_type": "error",
     "traceback": [
      "R Runtime Error: Error in print.default(x_hs) : \n  3 arguments passed to .Internal(print.default) which requires 9"
     ]
    }
   ],
   "source": [
    "R.runRegion $ do x <- [r| loadedNamespaces() |]; [r| print(x_hs) |]; return ()"
   ]
  },
  {
   "cell_type": "code",
   "execution_count": 17,
   "metadata": {},
   "outputs": [
    {
     "ename": "",
     "evalue": "",
     "header": "MessageHeader {mhIdentifiers = [\"850ff301-35d3-4bbd-9fd8-96251a52a698\"], mhParentHeader = Just (MessageHeader {mhIdentifiers = [\"850ff301-35d3-4bbd-9fd8-96251a52a698\"], mhParentHeader = Nothing, mhMetadata = Metadata (fromList [(\"recordTiming\",Bool False),(\"deletedCells\",Array []),(\"cellId\",String \"eb2cec3d-a338-4bb5-b492-2079e2ce94f0\")]), mhMessageId = UUID {uuidToString = \"14524f61-290b-4b3e-b555-2258da7e5f39\"}, mhSessionId = UUID {uuidToString = \"850ff301-35d3-4bbd-9fd8-96251a52a698\"}, mhUsername = \"\", mhMsgType = ExecuteRequestMessage}), mhMetadata = Metadata (fromList []), mhMessageId = UUID {uuidToString = \"c374cf0a-7d5f-4783-8d68-dc6a2c344cab\"}, mhSessionId = UUID {uuidToString = \"850ff301-35d3-4bbd-9fd8-96251a52a698\"}, mhUsername = \"\", mhMsgType = ExecuteErrorMessage}",
     "output_type": "error",
     "traceback": [
      "R Runtime Error: Error in cma_es(c(0, 0), function(x, ...) drop(crossprod(x)), lower = rep(-10,  : \n  could not find function \"cma_es\""
     ]
    }
   ],
   "source": [
    "R.runRegion $ do x <- [r| cma_es(c(0, 0), function(x, ...) drop(crossprod(x)), lower=rep(-10, 2), upper=rep(10, 2), control=list(stopfitness=1e-5, maxit=400)) |]; [r| print(x_hs) |]; return ()"
   ]
  },
  {
   "cell_type": "code",
   "execution_count": 18,
   "metadata": {},
   "outputs": [
    {
     "ename": "",
     "evalue": "",
     "header": "MessageHeader {mhIdentifiers = [\"850ff301-35d3-4bbd-9fd8-96251a52a698\"], mhParentHeader = Just (MessageHeader {mhIdentifiers = [\"850ff301-35d3-4bbd-9fd8-96251a52a698\"], mhParentHeader = Nothing, mhMetadata = Metadata (fromList [(\"recordTiming\",Bool False),(\"deletedCells\",Array []),(\"cellId\",String \"b6b3f9ed-947c-4ef7-ad31-29d7e560725e\")]), mhMessageId = UUID {uuidToString = \"29713c6d-ac75-479f-90ca-725c6542644a\"}, mhSessionId = UUID {uuidToString = \"850ff301-35d3-4bbd-9fd8-96251a52a698\"}, mhUsername = \"\", mhMsgType = ExecuteRequestMessage}), mhMetadata = Metadata (fromList []), mhMessageId = UUID {uuidToString = \"81517b79-0dcb-4298-8fce-85f84a2558ad\"}, mhSessionId = UUID {uuidToString = \"850ff301-35d3-4bbd-9fd8-96251a52a698\"}, mhUsername = \"\", mhMsgType = ExecuteErrorMessage}",
     "output_type": "error",
     "traceback": [
      "R Runtime Error: Error in library(cubature) : there is no package called ‘cubature’"
     ]
    }
   ],
   "source": [
    "R.runRegion $ do x <- [r| library(cubature) |]; [r| print(x_hs) |]; return ()"
   ]
  },
  {
   "cell_type": "code",
   "execution_count": 18,
   "metadata": {},
   "outputs": [],
   "source": [
    ":set -XLambdaCase\n",
    ":set -XDataKinds\n",
    ":set -XGADTs\n",
    ":set -XFlexibleContexts\n",
    ":set -XScopedTypeVariables"
   ]
  },
  {
   "cell_type": "code",
   "execution_count": 19,
   "metadata": {},
   "outputs": [],
   "source": [
    "import qualified Language.R.Matcher as M\n",
    "import qualified Data.Vector.SEXP as V\n",
    "import qualified Language.R.HExp as H\n",
    "import           Language.R (R)"
   ]
  },
  {
   "cell_type": "code",
   "execution_count": 20,
   "metadata": {},
   "outputs": [],
   "source": [
    "int2limVV :: forall s . ([Double] -> Double) -> [Double] -> [Double] -> R s Double\n",
    "int2limVV g l h = do\n",
    "  ss <- [r| hcubature (function (x) matrix(f_hs(x)),\n",
    "                       lowerLimit = l_hs,\n",
    "                       upperLimit = h_hs,\n",
    "                       maxEval = 0,\n",
    "                       vectorInterface=TRUE) |]\n",
    "  R.fromSEXP . R.cast R.SReal <$> [r| ss_hs$integral |]\n",
    "  where\n",
    "    f :: R.SEXP s 'R.Real -> R s [Double]\n",
    "    f w = M.matchOnly go (R.SomeSEXP w) >>= \\case\n",
    "            Left e -> error (show e)\n",
    "            Right xss -> pure $ map g xss\n",
    "      where\n",
    "        go = do\n",
    "           M.hexp R.SReal $ \\(H.Real v) -> do\n",
    "              foo <- M.dim\n",
    "              case foo of\n",
    "                [n,m] -> pure $ map (\\jj -> map (\\ii -> v V.! (jj * n + ii)) [0..n-1]) [0..m-1]\n",
    "                otherwise -> error \"foo\""
   ]
  },
  {
   "cell_type": "code",
   "execution_count": 21,
   "metadata": {},
   "outputs": [],
   "source": [
    "r0 = R.runRegion $ do\n",
    "  _ <- [r| require(cubature) |]\n",
    "  let g :: [Double] -> Double\n",
    "      g [a, b] = exp(negate (a*a + b*b) / 2) / (2 * pi)\n",
    "      g xs     = error $ show xs\n",
    "  int2limVV g [(-3.0), (-3.0)] [3.0, 3.0]"
   ]
  },
  {
   "cell_type": "code",
   "execution_count": 22,
   "metadata": {},
   "outputs": [
    {
     "data": {
      "text/plain": [
       "0.9946063639261128"
      ]
     },
     "metadata": {},
     "output_type": "display_data"
    }
   ],
   "source": [
    "r0"
   ]
  },
  {
   "cell_type": "code",
   "execution_count": 23,
   "metadata": {},
   "outputs": [],
   "source": [
    "cmaes :: forall s . ([Double] -> Double) -> [Double] -> [Double] -> [Double] -> R s (Double, [Double])\n",
    "cmaes g i l h = do\n",
    "  ss <- [r| cma_es (function (x) f_hs(x),\n",
    "                       par = i_hs,\n",
    "                       lower = l_hs,\n",
    "                       upper = h_hs,\n",
    "                       control=list(stopfitness=1e-5, maxit=400)) |]\n",
    "  pars :: [Double] <- R.dynSEXP <$> [r| ss_hs$par |]\n",
    "  value :: Double <- R.dynSEXP <$> [r| ss_hs$value |]\n",
    "  return (value, pars)\n",
    "  where\n",
    "    f :: R.SEXP s 'R.Real -> R s Double\n",
    "    f w = M.matchOnly go (R.SomeSEXP w) >>= \\case\n",
    "            Left e -> error (\"You are here: \" ++ show e)\n",
    "            Right xs -> pure $ g xs\n",
    "      where\n",
    "        go :: M.Matcher s [Double]\n",
    "        go = do\n",
    "           M.hexp R.SReal $ \\(H.Real v) -> do\n",
    "              return $ V.toList v"
   ]
  },
  {
   "cell_type": "code",
   "execution_count": 18,
   "metadata": {},
   "outputs": [
    {
     "data": {
      "text/plain": [
       "(3.133509231811109e-6,[1.768345089780781e-3,8.040444800699962e-5])"
      ]
     },
     "metadata": {},
     "output_type": "display_data"
    }
   ],
   "source": [
    "  r0 <- R.runRegion $ do\n",
    "    baz <- [r| require(cmaes) |]\n",
    "    let g :: [Double] -> Double\n",
    "        g [a, b] = a*a + b*b\n",
    "        g xs     = error $ show xs\n",
    "    cmaes g [0.0, 0.0] [(-10.0), (-10.0)] [10.0, 10.0]\n",
    "  print r0"
   ]
  },
  {
   "cell_type": "code",
   "execution_count": 19,
   "metadata": {},
   "outputs": [
    {
     "data": {
      "text/plain": [
       "(9.299725259465342e-6,[2.955987072374037e-3,7.233722061258637e-4,1.9646459942572773e-4])"
      ]
     },
     "metadata": {},
     "output_type": "display_data"
    }
   ],
   "source": [
    "  r1 <- R.runRegion $ do\n",
    "    _ <- [r| require(cmaes) |]\n",
    "    let g :: [Double] -> Double\n",
    "        g [a, b, c] = a*a + b*b + c*c\n",
    "        g xs     = error $ show xs\n",
    "    cmaes g [0.0, 0.0, 0.0] [(-10.0), (-10.0), (-10.0)] [10.0, 10.0, 10.0]\n",
    "  print r1"
   ]
  },
  {
   "cell_type": "markdown",
   "metadata": {},
   "source": [
    "# Example"
   ]
  },
  {
   "cell_type": "markdown",
   "metadata": {},
   "source": [
    "We wish to see if when we are given enough samples from a multivariate normal distribution together with their probability density then we can infer the parameters of the generating distribution using CMAES."
   ]
  },
  {
   "cell_type": "markdown",
   "metadata": {},
   "source": [
    "We need to have a well formed covariance matrix"
   ]
  },
  {
   "cell_type": "markdown",
   "metadata": {},
   "source": [
    "$$\\mathrm{K}_{\\mathrm{XX}}=\\operatorname{cov}[\\mathbf{X}, \\mathbf{X}]=\\mathrm{E}\\left[\\left(\\mathbf{X}-\\mu_{\\mathbf{X}}\\right)\\left(\\mathbf{X}-\\mu_{\\mathbf{X}}\\right)^{\\mathrm{T}}\\right]=\\mathbf{E}\\left[\\mathbf{X} \\mathbf{X}^{T}\\right]-\\mu_{\\mathbf{X}} \\mu_{\\mathbf{X}}^{T}$$"
   ]
  },
  {
   "cell_type": "markdown",
   "metadata": {},
   "source": [
    "We can generate one of these from a vector of variances and a\n",
    " correlation matrix. Recall that in a correlation matrix all the\n",
    " diaganols are $1$ and the other entries are in $[-1,1]$."
   ]
  },
  {
   "cell_type": "markdown",
   "metadata": {},
   "source": [
    "$$\\operatorname{corr}(\\mathbf{X})=\\left(\\operatorname{diag}\\left(\\mathbf{K}_{\\mathbf{X} \\mathbf{X}}\\right)\\right)^{-\\frac{1}{2}} \\mathbf{K}_{\\mathbf{X X}}\\left(\\operatorname{diag}\\left(\\mathbf{K}_{\\mathbf{X} \\mathbf{X}}\\right)\\right)^{-\\frac{1}{2}}$$"
   ]
  },
  {
   "cell_type": "markdown",
   "metadata": {},
   "source": [
    "$$\\sigma^2 = \\operatorname{diag}(\\mathbf{K}_{\\mathbf{XX}})$$"
   ]
  },
  {
   "cell_type": "markdown",
   "metadata": {},
   "source": [
    "$$\\rho = \\operatorname{corr}(\\mathbf{X})$$"
   ]
  },
  {
   "cell_type": "markdown",
   "metadata": {},
   "source": [
    "$$\\rho = \\left(\\operatorname{diag}\\left(\\sigma^2\\right)^{-\\frac{1}{2}}\\right)\n",
    "         \\mathbf{K}_{\\mathbf{X X}}\n",
    "         \\left(\\operatorname{diag}\\left(\\sigma^2)\\right)^{-\\frac{1}{2}}\\right)$$"
   ]
  },
  {
   "cell_type": "markdown",
   "metadata": {},
   "source": [
    "$$\\mathbf{K}_{\\mathbf{XX}} = \\operatorname{diag}(\\mathbf{\\sigma})\\operatorname{corr}(\\mathbf{X})\\operatorname{diag}(\\mathbf{\\sigma})$$"
   ]
  },
  {
   "cell_type": "code",
   "execution_count": 20,
   "metadata": {},
   "outputs": [],
   "source": [
    "import GHC.TypeLits\n",
    "import Data.Proxy"
   ]
  },
  {
   "cell_type": "code",
   "execution_count": 21,
   "metadata": {},
   "outputs": [],
   "source": [
    "import qualified Numeric.LinearAlgebra.Static as LS\n",
    "import Prelude hiding ((<>))\n",
    "import Numeric.LinearAlgebra.Static ((<>))"
   ]
  },
  {
   "cell_type": "code",
   "execution_count": 22,
   "metadata": {},
   "outputs": [],
   "source": [
    "corrToCov :: KnownNat n => LS.R n -> LS.Sq n -> LS.Sq n\n",
    "corrToCov sigma rho = kHalf <> rho <> kHalf\n",
    "  where\n",
    "    kHalf = LS.diag sigma"
   ]
  },
  {
   "cell_type": "markdown",
   "metadata": {},
   "source": [
    "Now we can create example samples from a bivariate normal. Note that\n",
    " we fix the means to be $0$ but this could be generalized\n",
    " straightforwardly."
   ]
  },
  {
   "cell_type": "code",
   "execution_count": 23,
   "metadata": {},
   "outputs": [],
   "source": [
    ":set -XDataKinds"
   ]
  },
  {
   "cell_type": "code",
   "execution_count": 24,
   "metadata": {},
   "outputs": [],
   "source": [
    "import qualified Data.Random as R\n",
    "import Data.Random.Source.PureMT\n",
    "import Control.Monad.State\n",
    "import Data.Random.Distribution.Static.MultivariateNormal"
   ]
  },
  {
   "cell_type": "code",
   "execution_count": 25,
   "metadata": {},
   "outputs": [],
   "source": [
    "nSamples :: Int\n",
    "nSamples = 1000\n",
    "\n",
    "sigma1, sigma2, rho12 :: Double\n",
    "sigma1 = 3.0\n",
    "sigma2 = 1.0\n",
    "rho12 = 0.5\n",
    "\n",
    "singleSample :: R.RVarT (State PureMT) (LS.R 2)\n",
    "singleSample = R.sample $ Normal (LS.vector [0.0, 0.0])\n",
    "               (LS.sym $ LS.matrix [ sigma1, rho12 * sqrt sigma1 * sqrt sigma2\n",
    "                                   , rho12 * sqrt sigma1 * sqrt sigma2, sigma2])\n",
    "\n",
    "multiSamples :: [LS.R 2]\n",
    "multiSamples = evalState (replicateM nSamples $ R.sample singleSample) (pureMT 3)"
   ]
  },
  {
   "cell_type": "markdown",
   "metadata": {},
   "source": [
    "We can generalize this to arbitrary dimensions."
   ]
  },
  {
   "cell_type": "code",
   "execution_count": 26,
   "metadata": {},
   "outputs": [],
   "source": [
    "import qualified Numeric.LinearAlgebra as LA\n",
    "import Data.Maybe ( fromJust )"
   ]
  },
  {
   "cell_type": "code",
   "execution_count": 27,
   "metadata": {},
   "outputs": [],
   "source": [
    "singleSampleN :: forall n . KnownNat n =>\n",
    "                 LS.R n -> LS.Sq n -> R.RVarT (State PureMT) (LS.R n)\n",
    "singleSampleN vars corrs = R.sample $ Normal (LS.vector ds) es\n",
    "  where\n",
    "    sigmas :: LS.R n\n",
    "    sigmas = fromJust $ LS.create $ LA.cmap sqrt $ LS.extract vars\n",
    "\n",
    "    es :: LS.Sym n\n",
    "    es = LS.sym $ corrToCov sigmas corrs\n",
    "    ds = replicate (fromIntegral $ natVal (Proxy :: Proxy n)) 0.0\n",
    "\n",
    "multiSamplesN :: forall n . KnownNat n =>\n",
    "                  LS.R n -> LS.Sq n -> [LS.R n]\n",
    "multiSamplesN x y = evalState (replicateM nSamples $ R.sample (singleSampleN x y)) (pureMT 3)"
   ]
  },
  {
   "cell_type": "markdown",
   "metadata": {},
   "source": [
    "We can generate some samples from the bivariate normal using our specialised function."
   ]
  },
  {
   "cell_type": "code",
   "execution_count": 28,
   "metadata": {},
   "outputs": [],
   "source": [
    "pts :: [(Double, Double)]\n",
    "pts = map f multiSamples\n",
    "  where\n",
    "    f z = (x, y)\n",
    "      where\n",
    "        (x, t) = LS.headTail z\n",
    "        (y, _) = LS.headTail t"
   ]
  },
  {
   "cell_type": "markdown",
   "metadata": {},
   "source": [
    "Let's check our generalized function matches."
   ]
  },
  {
   "cell_type": "code",
   "execution_count": 29,
   "metadata": {},
   "outputs": [],
   "source": [
    "pts2' :: [(Double, Double)]\n",
    "pts2' = map f ((multiSamplesN (LS.vector [sigma1, sigma2]) (LS.matrix [1.0, rho12, rho12, 1.0])) :: [LS.R 2])\n",
    "  where\n",
    "    f z = (x, y)\n",
    "      where\n",
    "        (x, t) = LS.headTail z\n",
    "        (y, _) = LS.headTail t"
   ]
  },
  {
   "cell_type": "code",
   "execution_count": 30,
   "metadata": {},
   "outputs": [
    {
     "data": {
      "text/plain": [
       "(-4.065769711374732,8.721890276573234e-2)"
      ]
     },
     "metadata": {},
     "output_type": "display_data"
    }
   ],
   "source": [
    "last pts"
   ]
  },
  {
   "cell_type": "code",
   "execution_count": 31,
   "metadata": {},
   "outputs": [
    {
     "data": {
      "text/plain": [
       "(-4.065769711374731,8.721890276573234e-2)"
      ]
     },
     "metadata": {},
     "output_type": "display_data"
    }
   ],
   "source": [
    "last pts2'"
   ]
  },
  {
   "cell_type": "markdown",
   "metadata": {},
   "source": [
    "We also need to calculate the probability density for each sample."
   ]
  },
  {
   "cell_type": "code",
   "execution_count": 32,
   "metadata": {},
   "outputs": [],
   "source": [
    "import Data.Random.Distribution"
   ]
  },
  {
   "cell_type": "code",
   "execution_count": 33,
   "metadata": {},
   "outputs": [],
   "source": [
    "pdfs :: [Double]\n",
    "pdfs = map (pdf (Normal (LS.fromList [0.0, 0.0])\n",
    "                        (LS.sym $ LS.matrix [ sigma1, rho12 * sqrt sigma1 * sqrt sigma2\n",
    "                                            , rho12 * sqrt sigma1 * sqrt sigma2, sigma2]))) multiSamples"
   ]
  },
  {
   "cell_type": "markdown",
   "metadata": {},
   "source": [
    "So the density for $\\texttt{last pts2'}$ is $\\texttt{last pdfs}$."
   ]
  },
  {
   "cell_type": "code",
   "execution_count": 34,
   "metadata": {},
   "outputs": [
    {
     "data": {
      "text/plain": [
       "2.3382685607071917e-3"
      ]
     },
     "metadata": {},
     "output_type": "display_data"
    }
   ],
   "source": [
    "last pdfs"
   ]
  },
  {
   "cell_type": "markdown",
   "metadata": {},
   "source": [
    "Let's check a few more things. First let's create the covariance\n",
    " matrix from the correlation matrix rather than doing it by hand as\n",
    " above."
   ]
  },
  {
   "cell_type": "code",
   "execution_count": 35,
   "metadata": {},
   "outputs": [],
   "source": [
    "covv :: LS.Sq 2\n",
    "covv = corrToCov (LS.vector [sqrt sigma1, sqrt sigma2])\n",
    "                 (LS.matrix [1.0, rho12, rho12, 1.0])"
   ]
  },
  {
   "cell_type": "markdown",
   "metadata": {},
   "source": [
    "The covariance matrix is"
   ]
  },
  {
   "cell_type": "code",
   "execution_count": 36,
   "metadata": {},
   "outputs": [
    {
     "data": {
      "text/plain": [
       "(matrix\n",
       " [ 2.9999999999999996, 0.8660254037844386\n",
       " , 0.8660254037844386,                1.0 ] :: L 2 2)"
      ]
     },
     "metadata": {},
     "output_type": "display_data"
    }
   ],
   "source": [
    "covv"
   ]
  },
  {
   "cell_type": "markdown",
   "metadata": {},
   "source": [
    "Let's check it gives the same answer."
   ]
  },
  {
   "cell_type": "code",
   "execution_count": 37,
   "metadata": {},
   "outputs": [],
   "source": [
    "pdfs' :: [Double]\n",
    "pdfs' = map (pdf (Normal (LS.fromList [0.0, 0.0]) (LS.sym covv))) multiSamples"
   ]
  },
  {
   "cell_type": "code",
   "execution_count": 38,
   "metadata": {},
   "outputs": [
    {
     "data": {
      "text/plain": [
       "2.3382685607071917e-3"
      ]
     },
     "metadata": {},
     "output_type": "display_data"
    }
   ],
   "source": [
    "last pdfs"
   ]
  },
  {
   "cell_type": "code",
   "execution_count": 39,
   "metadata": {},
   "outputs": [
    {
     "data": {
      "text/plain": [
       "2.3382685607071917e-3"
      ]
     },
     "metadata": {},
     "output_type": "display_data"
    }
   ],
   "source": [
    "last pdfs'"
   ]
  },
  {
   "cell_type": "markdown",
   "metadata": {},
   "source": [
    "Again we can generalize this."
   ]
  },
  {
   "cell_type": "code",
   "execution_count": 40,
   "metadata": {},
   "outputs": [],
   "source": [
    "pdfsN :: forall n . KnownNat n =>\n",
    "          LS.R n -> LS.Sq n ->  LS.Sym n -> [Double]\n",
    "pdfsN x y cov = map (pdf (Normal (LS.fromList ds) cov)) (multiSamplesN x y)\n",
    "  where\n",
    "    ds = replicate (fromIntegral $ natVal (Proxy :: Proxy n)) 0.0"
   ]
  },
  {
   "cell_type": "markdown",
   "metadata": {},
   "source": [
    "And test that this also gives the same answer when specialized."
   ]
  },
  {
   "cell_type": "code",
   "execution_count": 41,
   "metadata": {},
   "outputs": [],
   "source": [
    "test :: [Double]\n",
    "test = zipWith (-) a b\n",
    "  where\n",
    "    a = pdfsN (LS.fromList [sigma1, sigma2]) (LS.matrix [1.0, rho12, rho12, 1.0]) (LS.sym covv)\n",
    "    b = pdfs'"
   ]
  },
  {
   "cell_type": "code",
   "execution_count": 42,
   "metadata": {},
   "outputs": [
    {
     "data": {
      "text/plain": [
       "4.163336342344337e-17"
      ]
     },
     "metadata": {},
     "output_type": "display_data"
    }
   ],
   "source": [
    "maximum $ map abs test"
   ]
  },
  {
   "cell_type": "code",
   "execution_count": 43,
   "metadata": {},
   "outputs": [],
   "source": [
    "costNorm :: [(Double, Double)] -> (Double, Double) -> (Double, Double) -> Double -> Double\n",
    "costNorm obs (muX, muY) (varX, varY) tau =\n",
    "  sum $ zipWith (\\x y -> (x - y) * (x - y)) pdfsOfObs pdfs\n",
    "  where\n",
    "    t2 :: LS.Sym 2\n",
    "    t2 = LS.sym $ corrToCov (LS.fromList [sqrt varX, sqrt varY]) (LS.matrix [1.0, tau, tau, 1.0])\n",
    "\n",
    "    cost1 :: LS.R 2 -> Double\n",
    "    cost1 = pdf (Normal (LS.fromList [muX, muY]) t2)\n",
    "\n",
    "    pdfsOfObs :: [Double]\n",
    "    pdfsOfObs = map cost1 $ map (\\(x, y) -> LS.fromList [x, y]) obs"
   ]
  },
  {
   "cell_type": "code",
   "execution_count": 44,
   "metadata": {},
   "outputs": [],
   "source": [
    "costNorm2 :: [LS.R 2] -> LS.R 2 -> LS.R 2 -> LS.Sym 2 -> Double\n",
    "costNorm2 obs mus vars corr =\n",
    "  sum $ zipWith (\\x y -> (x - y) * (x - y)) pdfsOfObs pdfs\n",
    "  where\n",
    "    sigmas :: LS.R 2\n",
    "    sigmas = fromJust $ LS.create $ LA.cmap sqrt $ LS.extract vars\n",
    "\n",
    "    t2 :: LS.Sym 2\n",
    "    t2 = LS.sym $ corrToCov sigmas (LS.unSym corr)\n",
    "\n",
    "    getPdf :: LS.R 2 -> Double\n",
    "    getPdf = pdf (Normal mus t2)\n",
    "\n",
    "    pdfsOfObs :: [Double]\n",
    "    pdfsOfObs = map getPdf obs"
   ]
  },
  {
   "cell_type": "markdown",
   "metadata": {},
   "source": [
    "And then generalize fully."
   ]
  },
  {
   "cell_type": "code",
   "execution_count": 45,
   "metadata": {},
   "outputs": [],
   "source": [
    "costNormN :: forall n . KnownNat n =>\n",
    "             [LS.R n] -> LS.R n ->\n",
    "             LS.R n -> LS.Sym n ->\n",
    "             LS.R n -> LS.Sym n -> Double\n",
    "costNormN obs mus possVars possCorrs genVars genCorrs =\n",
    "  sum $ zipWith (\\x y -> (x - y) * (x - y)) pdfsOfObs pdfsOfGen\n",
    "  where\n",
    "    sigmas :: LS.R n\n",
    "    sigmas = fromJust $ LS.create $ LA.cmap sqrt $ LS.extract possVars\n",
    "\n",
    "    t2 :: LS.Sym n\n",
    "    t2 = LS.sym $ corrToCov sigmas (LS.unSym possCorrs)\n",
    "\n",
    "    getPdf :: LS.R n -> Double\n",
    "    getPdf = pdf (Normal mus t2)\n",
    "\n",
    "    pdfsOfObs :: [Double]\n",
    "    pdfsOfObs = map getPdf obs\n",
    "\n",
    "    pdfsOfGen = pdfsN genVars (LS.unSym genCorrs) cov\n",
    "\n",
    "    taus :: LS.R n\n",
    "    taus = fromJust $ LS.create $ LA.cmap sqrt $ LS.extract genVars\n",
    "\n",
    "    cov :: LS.Sym n\n",
    "    cov = LS.sym $ corrToCov taus (LS.unSym genCorrs)"
   ]
  },
  {
   "cell_type": "code",
   "execution_count": 46,
   "metadata": {},
   "outputs": [],
   "source": [
    "infer2 :: [(Double, Double)] -> R s (Double, [Double])\n",
    "infer2 obs = cmaes co[0.0, 0.0, log 3.0, log 1.5, 0.5] [(-1.0), (-1.0), log 1.0, log 1.0, 0.1] [1.0, 1.0, log 5.0, log 3.0, 0.9]\n",
    "  where\n",
    "    co [x1, x2, x3, x4, x5] =\n",
    "      costNorm2 (map (\\(x, y) -> LS.fromList [x, y]) obs)\n",
    "                 (LS.fromList [x1, x2])\n",
    "                 varV\n",
    "                 corrM\n",
    "      where\n",
    "        varV :: LS.R 2\n",
    "        varV   = LS.fromList [exp x3, exp x4]\n",
    "        corrM :: LS.Sym 2\n",
    "        corrM  = LS.sym $\n",
    "                 LS.matrix [1.0, ((2 / pi) * atan x5),\n",
    "                            ((2 / pi) * atan x5), 1.0]\n",
    "    co _                    =\n",
    "      error \"infer2 wrong number of elements\""
   ]
  },
  {
   "cell_type": "code",
   "execution_count": 47,
   "metadata": {},
   "outputs": [
    {
     "data": {
      "text/plain": []
     },
     "metadata": {},
     "output_type": "display_data"
    }
   ],
   "source": [
    "result <- R.runRegion (infer2 pts)"
   ]
  },
  {
   "cell_type": "code",
   "execution_count": 48,
   "metadata": {},
   "outputs": [
    {
     "data": {
      "text/html": [
       "<style>/* Styles used for the Hoogle display in the pager */\n",
       ".hoogle-doc {\n",
       "display: block;\n",
       "padding-bottom: 1.3em;\n",
       "padding-left: 0.4em;\n",
       "}\n",
       ".hoogle-code {\n",
       "display: block;\n",
       "font-family: monospace;\n",
       "white-space: pre;\n",
       "}\n",
       ".hoogle-text {\n",
       "display: block;\n",
       "}\n",
       ".hoogle-name {\n",
       "color: green;\n",
       "font-weight: bold;\n",
       "}\n",
       ".hoogle-head {\n",
       "font-weight: bold;\n",
       "}\n",
       ".hoogle-sub {\n",
       "display: block;\n",
       "margin-left: 0.4em;\n",
       "}\n",
       ".hoogle-package {\n",
       "font-weight: bold;\n",
       "font-style: italic;\n",
       "}\n",
       ".hoogle-module {\n",
       "font-weight: bold;\n",
       "}\n",
       ".hoogle-class {\n",
       "font-weight: bold;\n",
       "}\n",
       ".get-type {\n",
       "color: green;\n",
       "font-weight: bold;\n",
       "font-family: monospace;\n",
       "display: block;\n",
       "white-space: pre-wrap;\n",
       "}\n",
       ".show-type {\n",
       "color: green;\n",
       "font-weight: bold;\n",
       "font-family: monospace;\n",
       "margin-left: 1em;\n",
       "}\n",
       ".mono {\n",
       "font-family: monospace;\n",
       "display: block;\n",
       "}\n",
       ".err-msg {\n",
       "color: red;\n",
       "font-style: italic;\n",
       "font-family: monospace;\n",
       "white-space: pre;\n",
       "display: block;\n",
       "}\n",
       "#unshowable {\n",
       "color: red;\n",
       "font-weight: bold;\n",
       "}\n",
       ".err-msg.in.collapse {\n",
       "padding-top: 0.7em;\n",
       "}\n",
       ".highlight-code {\n",
       "white-space: pre;\n",
       "font-family: monospace;\n",
       "}\n",
       ".suggestion-warning { \n",
       "font-weight: bold;\n",
       "color: rgb(200, 130, 0);\n",
       "}\n",
       ".suggestion-error { \n",
       "font-weight: bold;\n",
       "color: red;\n",
       "}\n",
       ".suggestion-name {\n",
       "font-weight: bold;\n",
       "}\n",
       "</style><div class=\"suggestion-name\" style=\"clear:both;\">Redundant bracket</div><div class=\"suggestion-row\" style=\"float: left;\"><div class=\"suggestion-warning\">Found:</div><div class=\"highlight-code\" id=\"haskell\">(snd result) !! 2</div></div><div class=\"suggestion-row\" style=\"float: left;\"><div class=\"suggestion-warning\">Why Not:</div><div class=\"highlight-code\" id=\"haskell\">snd result !! 2</div></div>"
      ],
      "text/plain": [
       "Line 1: Redundant bracket\n",
       "Found:\n",
       "(snd result) !! 2\n",
       "Why not:\n",
       "snd result !! 2"
      ]
     },
     "metadata": {},
     "output_type": "display_data"
    },
    {
     "data": {
      "text/plain": [
       "2.8988529847093742"
      ]
     },
     "metadata": {},
     "output_type": "display_data"
    }
   ],
   "source": [
    "exp ((snd result)!!2)"
   ]
  },
  {
   "cell_type": "code",
   "execution_count": 49,
   "metadata": {},
   "outputs": [
    {
     "data": {
      "text/html": [
       "<style>/* Styles used for the Hoogle display in the pager */\n",
       ".hoogle-doc {\n",
       "display: block;\n",
       "padding-bottom: 1.3em;\n",
       "padding-left: 0.4em;\n",
       "}\n",
       ".hoogle-code {\n",
       "display: block;\n",
       "font-family: monospace;\n",
       "white-space: pre;\n",
       "}\n",
       ".hoogle-text {\n",
       "display: block;\n",
       "}\n",
       ".hoogle-name {\n",
       "color: green;\n",
       "font-weight: bold;\n",
       "}\n",
       ".hoogle-head {\n",
       "font-weight: bold;\n",
       "}\n",
       ".hoogle-sub {\n",
       "display: block;\n",
       "margin-left: 0.4em;\n",
       "}\n",
       ".hoogle-package {\n",
       "font-weight: bold;\n",
       "font-style: italic;\n",
       "}\n",
       ".hoogle-module {\n",
       "font-weight: bold;\n",
       "}\n",
       ".hoogle-class {\n",
       "font-weight: bold;\n",
       "}\n",
       ".get-type {\n",
       "color: green;\n",
       "font-weight: bold;\n",
       "font-family: monospace;\n",
       "display: block;\n",
       "white-space: pre-wrap;\n",
       "}\n",
       ".show-type {\n",
       "color: green;\n",
       "font-weight: bold;\n",
       "font-family: monospace;\n",
       "margin-left: 1em;\n",
       "}\n",
       ".mono {\n",
       "font-family: monospace;\n",
       "display: block;\n",
       "}\n",
       ".err-msg {\n",
       "color: red;\n",
       "font-style: italic;\n",
       "font-family: monospace;\n",
       "white-space: pre;\n",
       "display: block;\n",
       "}\n",
       "#unshowable {\n",
       "color: red;\n",
       "font-weight: bold;\n",
       "}\n",
       ".err-msg.in.collapse {\n",
       "padding-top: 0.7em;\n",
       "}\n",
       ".highlight-code {\n",
       "white-space: pre;\n",
       "font-family: monospace;\n",
       "}\n",
       ".suggestion-warning { \n",
       "font-weight: bold;\n",
       "color: rgb(200, 130, 0);\n",
       "}\n",
       ".suggestion-error { \n",
       "font-weight: bold;\n",
       "color: red;\n",
       "}\n",
       ".suggestion-name {\n",
       "font-weight: bold;\n",
       "}\n",
       "</style><div class=\"suggestion-name\" style=\"clear:both;\">Redundant bracket</div><div class=\"suggestion-row\" style=\"float: left;\"><div class=\"suggestion-warning\">Found:</div><div class=\"highlight-code\" id=\"haskell\">(snd result) !! 3</div></div><div class=\"suggestion-row\" style=\"float: left;\"><div class=\"suggestion-warning\">Why Not:</div><div class=\"highlight-code\" id=\"haskell\">snd result !! 3</div></div>"
      ],
      "text/plain": [
       "Line 1: Redundant bracket\n",
       "Found:\n",
       "(snd result) !! 3\n",
       "Why not:\n",
       "snd result !! 3"
      ]
     },
     "metadata": {},
     "output_type": "display_data"
    },
    {
     "data": {
      "text/plain": [
       "0.9999999940031775"
      ]
     },
     "metadata": {},
     "output_type": "display_data"
    }
   ],
   "source": [
    "exp ((snd result)!!3)"
   ]
  },
  {
   "cell_type": "code",
   "execution_count": 50,
   "metadata": {},
   "outputs": [
    {
     "data": {
      "text/html": [
       "<style>/* Styles used for the Hoogle display in the pager */\n",
       ".hoogle-doc {\n",
       "display: block;\n",
       "padding-bottom: 1.3em;\n",
       "padding-left: 0.4em;\n",
       "}\n",
       ".hoogle-code {\n",
       "display: block;\n",
       "font-family: monospace;\n",
       "white-space: pre;\n",
       "}\n",
       ".hoogle-text {\n",
       "display: block;\n",
       "}\n",
       ".hoogle-name {\n",
       "color: green;\n",
       "font-weight: bold;\n",
       "}\n",
       ".hoogle-head {\n",
       "font-weight: bold;\n",
       "}\n",
       ".hoogle-sub {\n",
       "display: block;\n",
       "margin-left: 0.4em;\n",
       "}\n",
       ".hoogle-package {\n",
       "font-weight: bold;\n",
       "font-style: italic;\n",
       "}\n",
       ".hoogle-module {\n",
       "font-weight: bold;\n",
       "}\n",
       ".hoogle-class {\n",
       "font-weight: bold;\n",
       "}\n",
       ".get-type {\n",
       "color: green;\n",
       "font-weight: bold;\n",
       "font-family: monospace;\n",
       "display: block;\n",
       "white-space: pre-wrap;\n",
       "}\n",
       ".show-type {\n",
       "color: green;\n",
       "font-weight: bold;\n",
       "font-family: monospace;\n",
       "margin-left: 1em;\n",
       "}\n",
       ".mono {\n",
       "font-family: monospace;\n",
       "display: block;\n",
       "}\n",
       ".err-msg {\n",
       "color: red;\n",
       "font-style: italic;\n",
       "font-family: monospace;\n",
       "white-space: pre;\n",
       "display: block;\n",
       "}\n",
       "#unshowable {\n",
       "color: red;\n",
       "font-weight: bold;\n",
       "}\n",
       ".err-msg.in.collapse {\n",
       "padding-top: 0.7em;\n",
       "}\n",
       ".highlight-code {\n",
       "white-space: pre;\n",
       "font-family: monospace;\n",
       "}\n",
       ".suggestion-warning { \n",
       "font-weight: bold;\n",
       "color: rgb(200, 130, 0);\n",
       "}\n",
       ".suggestion-error { \n",
       "font-weight: bold;\n",
       "color: red;\n",
       "}\n",
       ".suggestion-name {\n",
       "font-weight: bold;\n",
       "}\n",
       "</style><div class=\"suggestion-name\" style=\"clear:both;\">Redundant bracket</div><div class=\"suggestion-row\" style=\"float: left;\"><div class=\"suggestion-warning\">Found:</div><div class=\"highlight-code\" id=\"haskell\">(atan ((snd result) !! 4)) * 2</div></div><div class=\"suggestion-row\" style=\"float: left;\"><div class=\"suggestion-warning\">Why Not:</div><div class=\"highlight-code\" id=\"haskell\">atan ((snd result) !! 4) * 2</div></div><div class=\"suggestion-name\" style=\"clear:both;\">Redundant bracket</div><div class=\"suggestion-row\" style=\"float: left;\"><div class=\"suggestion-warning\">Found:</div><div class=\"highlight-code\" id=\"haskell\">(snd result) !! 4</div></div><div class=\"suggestion-row\" style=\"float: left;\"><div class=\"suggestion-warning\">Why Not:</div><div class=\"highlight-code\" id=\"haskell\">snd result !! 4</div></div>"
      ],
      "text/plain": [
       "Line 1: Redundant bracket\n",
       "Found:\n",
       "(atan ((snd result) !! 4)) * 2\n",
       "Why not:\n",
       "atan ((snd result) !! 4) * 2Line 1: Redundant bracket\n",
       "Found:\n",
       "(snd result) !! 4\n",
       "Why not:\n",
       "snd result !! 4"
      ]
     },
     "metadata": {},
     "output_type": "display_data"
    },
    {
     "data": {
      "text/plain": [
       "0.4665245847630542"
      ]
     },
     "metadata": {},
     "output_type": "display_data"
    }
   ],
   "source": [
    "(atan ((snd result)!!4)) * 2 / pi"
   ]
  }
 ],
 "metadata": {
  "kernelspec": {
   "display_name": "Haskell",
   "language": "haskell",
   "name": "haskell"
  },
  "language_info": {
   "codemirror_mode": "ihaskell",
   "file_extension": ".hs",
   "name": "haskell",
   "pygments_lexer": "Haskell",
   "version": "8.6.4"
  }
 },
 "nbformat": 4,
 "nbformat_minor": 4
}
