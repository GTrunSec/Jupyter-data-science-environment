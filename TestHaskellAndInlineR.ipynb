{
 "cells": [
  {
   "cell_type": "code",
   "execution_count": 1,
   "metadata": {},
   "outputs": [],
   "source": [
    ":set -fno-ghci-sandbox"
   ]
  },
  {
   "cell_type": "code",
   "execution_count": 2,
   "metadata": {},
   "outputs": [
    {
     "data": {
      "text/html": [
       "<style>/* Styles used for the Hoogle display in the pager */\n",
       ".hoogle-doc {\n",
       "display: block;\n",
       "padding-bottom: 1.3em;\n",
       "padding-left: 0.4em;\n",
       "}\n",
       ".hoogle-code {\n",
       "display: block;\n",
       "font-family: monospace;\n",
       "white-space: pre;\n",
       "}\n",
       ".hoogle-text {\n",
       "display: block;\n",
       "}\n",
       ".hoogle-name {\n",
       "color: green;\n",
       "font-weight: bold;\n",
       "}\n",
       ".hoogle-head {\n",
       "font-weight: bold;\n",
       "}\n",
       ".hoogle-sub {\n",
       "display: block;\n",
       "margin-left: 0.4em;\n",
       "}\n",
       ".hoogle-package {\n",
       "font-weight: bold;\n",
       "font-style: italic;\n",
       "}\n",
       ".hoogle-module {\n",
       "font-weight: bold;\n",
       "}\n",
       ".hoogle-class {\n",
       "font-weight: bold;\n",
       "}\n",
       ".get-type {\n",
       "color: green;\n",
       "font-weight: bold;\n",
       "font-family: monospace;\n",
       "display: block;\n",
       "white-space: pre-wrap;\n",
       "}\n",
       ".show-type {\n",
       "color: green;\n",
       "font-weight: bold;\n",
       "font-family: monospace;\n",
       "margin-left: 1em;\n",
       "}\n",
       ".mono {\n",
       "font-family: monospace;\n",
       "display: block;\n",
       "}\n",
       ".err-msg {\n",
       "color: red;\n",
       "font-style: italic;\n",
       "font-family: monospace;\n",
       "white-space: pre;\n",
       "display: block;\n",
       "}\n",
       "#unshowable {\n",
       "color: red;\n",
       "font-weight: bold;\n",
       "}\n",
       ".err-msg.in.collapse {\n",
       "padding-top: 0.7em;\n",
       "}\n",
       ".highlight-code {\n",
       "white-space: pre;\n",
       "font-family: monospace;\n",
       "}\n",
       ".suggestion-warning { \n",
       "font-weight: bold;\n",
       "color: rgb(200, 130, 0);\n",
       "}\n",
       ".suggestion-error { \n",
       "font-weight: bold;\n",
       "color: red;\n",
       "}\n",
       ".suggestion-name {\n",
       "font-weight: bold;\n",
       "}\n",
       "</style><div class=\"suggestion-name\" style=\"clear:both;\">Unused LANGUAGE pragma</div><div class=\"suggestion-row\" style=\"float: left;\"><div class=\"suggestion-warning\">Found:</div><div class=\"highlight-code\" id=\"haskell\">{-# LANGUAGE TemplateHaskell #-}</div></div><div class=\"suggestion-row\" style=\"float: left;\"><div class=\"suggestion-warning\">Why Not:</div><div class=\"highlight-code\" id=\"haskell\"></div></div><div class=\"suggestion-name\" style=\"clear:both;\">Unused LANGUAGE pragma</div><div class=\"suggestion-row\" style=\"float: left;\"><div class=\"suggestion-warning\">Found:</div><div class=\"highlight-code\" id=\"haskell\">{-# LANGUAGE QuasiQuotes #-}</div></div><div class=\"suggestion-row\" style=\"float: left;\"><div class=\"suggestion-warning\">Why Not:</div><div class=\"highlight-code\" id=\"haskell\"></div></div>"
      ],
      "text/plain": [
       "Line 1: Unused LANGUAGE pragma\n",
       "Found:\n",
       "{-# LANGUAGE TemplateHaskell #-}\n",
       "Why not:\n",
       "Line 2: Unused LANGUAGE pragma\n",
       "Found:\n",
       "{-# LANGUAGE QuasiQuotes #-}\n",
       "Why not:"
      ]
     },
     "metadata": {},
     "output_type": "display_data"
    }
   ],
   "source": [
    "{-# LANGUAGE TemplateHaskell #-}\n",
    "{-# LANGUAGE QuasiQuotes #-}"
   ]
  },
  {
   "cell_type": "code",
   "execution_count": 3,
   "metadata": {},
   "outputs": [
    {
     "ename": "",
     "evalue": "",
     "header": "MessageHeader {mhIdentifiers = [\"5b3f2531-45ef-487c-9e78-59461766a3ff\"], mhParentHeader = Just (MessageHeader {mhIdentifiers = [\"5b3f2531-45ef-487c-9e78-59461766a3ff\"], mhParentHeader = Nothing, mhMetadata = Metadata (fromList [(\"recordTiming\",Bool False),(\"deletedCells\",Array []),(\"cellId\",String \"01b89e80-78ec-4f7b-9aa6-3e73bf8381c1\")]), mhMessageId = UUID {uuidToString = \"e1169d45-9bb3-4dd6-a6b7-4ce242925044\"}, mhSessionId = UUID {uuidToString = \"5b3f2531-45ef-487c-9e78-59461766a3ff\"}, mhUsername = \"\", mhMsgType = ExecuteRequestMessage}), mhMetadata = Metadata (fromList []), mhMessageId = UUID {uuidToString = \"d92bf408-ba68-4434-ac51-47fbb4676bbd\"}, mhSessionId = UUID {uuidToString = \"5b3f2531-45ef-487c-9e78-59461766a3ff\"}, mhUsername = \"\", mhMsgType = ExecuteErrorMessage}",
     "output_type": "error",
     "traceback": [
      "Parse error (line 1, column 1): Unknown directive: 'show'."
     ]
    }
   ],
   "source": [
    ":show modules"
   ]
  },
  {
   "cell_type": "code",
   "execution_count": 4,
   "metadata": {},
   "outputs": [],
   "source": [
    "import qualified Language.R as R\n",
    "import Language.R.QQ"
   ]
  },
  {
   "cell_type": "code",
   "execution_count": 5,
   "metadata": {},
   "outputs": [
    {
     "data": {
      "text/html": [
       "<style>/* Styles used for the Hoogle display in the pager */\n",
       ".hoogle-doc {\n",
       "display: block;\n",
       "padding-bottom: 1.3em;\n",
       "padding-left: 0.4em;\n",
       "}\n",
       ".hoogle-code {\n",
       "display: block;\n",
       "font-family: monospace;\n",
       "white-space: pre;\n",
       "}\n",
       ".hoogle-text {\n",
       "display: block;\n",
       "}\n",
       ".hoogle-name {\n",
       "color: green;\n",
       "font-weight: bold;\n",
       "}\n",
       ".hoogle-head {\n",
       "font-weight: bold;\n",
       "}\n",
       ".hoogle-sub {\n",
       "display: block;\n",
       "margin-left: 0.4em;\n",
       "}\n",
       ".hoogle-package {\n",
       "font-weight: bold;\n",
       "font-style: italic;\n",
       "}\n",
       ".hoogle-module {\n",
       "font-weight: bold;\n",
       "}\n",
       ".hoogle-class {\n",
       "font-weight: bold;\n",
       "}\n",
       ".get-type {\n",
       "color: green;\n",
       "font-weight: bold;\n",
       "font-family: monospace;\n",
       "display: block;\n",
       "white-space: pre-wrap;\n",
       "}\n",
       ".show-type {\n",
       "color: green;\n",
       "font-weight: bold;\n",
       "font-family: monospace;\n",
       "margin-left: 1em;\n",
       "}\n",
       ".mono {\n",
       "font-family: monospace;\n",
       "display: block;\n",
       "}\n",
       ".err-msg {\n",
       "color: red;\n",
       "font-style: italic;\n",
       "font-family: monospace;\n",
       "white-space: pre;\n",
       "display: block;\n",
       "}\n",
       "#unshowable {\n",
       "color: red;\n",
       "font-weight: bold;\n",
       "}\n",
       ".err-msg.in.collapse {\n",
       "padding-top: 0.7em;\n",
       "}\n",
       ".highlight-code {\n",
       "white-space: pre;\n",
       "font-family: monospace;\n",
       "}\n",
       ".suggestion-warning { \n",
       "font-weight: bold;\n",
       "color: rgb(200, 130, 0);\n",
       "}\n",
       ".suggestion-error { \n",
       "font-weight: bold;\n",
       "color: red;\n",
       "}\n",
       ".suggestion-name {\n",
       "font-weight: bold;\n",
       "}\n",
       "</style><span class='get-type'>R.runRegion :: forall a. NFData a => (forall s. R s a) -> IO a</span>"
      ],
      "text/plain": [
       "R.runRegion :: forall a. NFData a => (forall s. R s a) -> IO a"
      ]
     },
     "metadata": {},
     "output_type": "display_data"
    }
   ],
   "source": [
    ":t R.runRegion"
   ]
  },
  {
   "cell_type": "code",
   "execution_count": 6,
   "metadata": {},
   "outputs": [
    {
     "data": {
      "text/html": [
       "<style>/* Styles used for the Hoogle display in the pager */\n",
       ".hoogle-doc {\n",
       "display: block;\n",
       "padding-bottom: 1.3em;\n",
       "padding-left: 0.4em;\n",
       "}\n",
       ".hoogle-code {\n",
       "display: block;\n",
       "font-family: monospace;\n",
       "white-space: pre;\n",
       "}\n",
       ".hoogle-text {\n",
       "display: block;\n",
       "}\n",
       ".hoogle-name {\n",
       "color: green;\n",
       "font-weight: bold;\n",
       "}\n",
       ".hoogle-head {\n",
       "font-weight: bold;\n",
       "}\n",
       ".hoogle-sub {\n",
       "display: block;\n",
       "margin-left: 0.4em;\n",
       "}\n",
       ".hoogle-package {\n",
       "font-weight: bold;\n",
       "font-style: italic;\n",
       "}\n",
       ".hoogle-module {\n",
       "font-weight: bold;\n",
       "}\n",
       ".hoogle-class {\n",
       "font-weight: bold;\n",
       "}\n",
       ".get-type {\n",
       "color: green;\n",
       "font-weight: bold;\n",
       "font-family: monospace;\n",
       "display: block;\n",
       "white-space: pre-wrap;\n",
       "}\n",
       ".show-type {\n",
       "color: green;\n",
       "font-weight: bold;\n",
       "font-family: monospace;\n",
       "margin-left: 1em;\n",
       "}\n",
       ".mono {\n",
       "font-family: monospace;\n",
       "display: block;\n",
       "}\n",
       ".err-msg {\n",
       "color: red;\n",
       "font-style: italic;\n",
       "font-family: monospace;\n",
       "white-space: pre;\n",
       "display: block;\n",
       "}\n",
       "#unshowable {\n",
       "color: red;\n",
       "font-weight: bold;\n",
       "}\n",
       ".err-msg.in.collapse {\n",
       "padding-top: 0.7em;\n",
       "}\n",
       ".highlight-code {\n",
       "white-space: pre;\n",
       "font-family: monospace;\n",
       "}\n",
       ".suggestion-warning { \n",
       "font-weight: bold;\n",
       "color: rgb(200, 130, 0);\n",
       "}\n",
       ".suggestion-error { \n",
       "font-weight: bold;\n",
       "color: red;\n",
       "}\n",
       ".suggestion-name {\n",
       "font-weight: bold;\n",
       "}\n",
       "</style><span class='get-type'>[r| print(pi) |] :: forall (m :: * -> *). MonadR m => m (SomeSEXP (PrimState m))</span>"
      ],
      "text/plain": [
       "[r| print(pi) |] :: forall (m :: * -> *). MonadR m => m (SomeSEXP (PrimState m))"
      ]
     },
     "metadata": {},
     "output_type": "display_data"
    }
   ],
   "source": [
    ":t [r| print(pi) |]"
   ]
  },
  {
   "cell_type": "code",
   "execution_count": 7,
   "metadata": {},
   "outputs": [
    {
     "data": {
      "text/plain": [
       "[1] 3.141593"
      ]
     },
     "metadata": {},
     "output_type": "display_data"
    }
   ],
   "source": [
    "(R.runRegion $ do _ <- [r| print(pi) |]; return ())"
   ]
  },
  {
   "cell_type": "code",
   "execution_count": 8,
   "metadata": {},
   "outputs": [
    {
     "data": {
      "text/plain": [
       "[1] \"compiler\"  \"graphics\"  \"utils\"     \"grDevices\" \"datasets\"  \"methods\"  \n",
       "[7] \"base\""
      ]
     },
     "metadata": {},
     "output_type": "display_data"
    }
   ],
   "source": [
    "R.runRegion $ do x <- [r| loadedNamespaces() |]; [r| print(x_hs) |]; return ()"
   ]
  },
  {
   "cell_type": "code",
   "execution_count": 9,
   "metadata": {},
   "outputs": [
    {
     "ename": "",
     "evalue": "",
     "header": "MessageHeader {mhIdentifiers = [\"5b3f2531-45ef-487c-9e78-59461766a3ff\"], mhParentHeader = Just (MessageHeader {mhIdentifiers = [\"5b3f2531-45ef-487c-9e78-59461766a3ff\"], mhParentHeader = Nothing, mhMetadata = Metadata (fromList [(\"recordTiming\",Bool False),(\"deletedCells\",Array []),(\"cellId\",String \"d817ba4c-0a4e-45a5-8d8d-db92f0b7e875\")]), mhMessageId = UUID {uuidToString = \"1e044c5b-67e1-4943-b3d5-7de91d624968\"}, mhSessionId = UUID {uuidToString = \"5b3f2531-45ef-487c-9e78-59461766a3ff\"}, mhUsername = \"\", mhMsgType = ExecuteRequestMessage}), mhMetadata = Metadata (fromList []), mhMessageId = UUID {uuidToString = \"adde9125-13ab-4991-a7b6-5972856cb929\"}, mhSessionId = UUID {uuidToString = \"5b3f2531-45ef-487c-9e78-59461766a3ff\"}, mhUsername = \"\", mhMsgType = ExecuteErrorMessage}",
     "output_type": "error",
     "traceback": [
      "R Runtime Error: Error in library(cmaes) : there is no package called ‘cmaes’"
     ]
    }
   ],
   "source": [
    "R.runRegion $ do x <- [r| library(cmaes) |]; [r| print(x_hs) |]; return ()"
   ]
  },
  {
   "cell_type": "code",
   "execution_count": 10,
   "metadata": {},
   "outputs": [
    {
     "data": {
      "text/plain": [
       "[1] \"compiler\"  \"graphics\"  \"utils\"     \"grDevices\" \"datasets\"  \"methods\"  \n",
       "[7] \"base\""
      ]
     },
     "metadata": {},
     "output_type": "display_data"
    }
   ],
   "source": [
    "R.runRegion $ do x <- [r| loadedNamespaces() |]; [r| print(x_hs) |]; return ()"
   ]
  },
  {
   "cell_type": "code",
   "execution_count": 11,
   "metadata": {},
   "outputs": [
    {
     "ename": "",
     "evalue": "",
     "header": "MessageHeader {mhIdentifiers = [\"5b3f2531-45ef-487c-9e78-59461766a3ff\"], mhParentHeader = Just (MessageHeader {mhIdentifiers = [\"5b3f2531-45ef-487c-9e78-59461766a3ff\"], mhParentHeader = Nothing, mhMetadata = Metadata (fromList [(\"recordTiming\",Bool False),(\"deletedCells\",Array []),(\"cellId\",String \"3e4bb414-62e3-4b16-98e9-d1a03ec287a5\")]), mhMessageId = UUID {uuidToString = \"5cb5e416-5e07-4a1d-a258-ea090a96499c\"}, mhSessionId = UUID {uuidToString = \"5b3f2531-45ef-487c-9e78-59461766a3ff\"}, mhUsername = \"\", mhMsgType = ExecuteRequestMessage}), mhMetadata = Metadata (fromList []), mhMessageId = UUID {uuidToString = \"e082205b-1684-4007-865f-c0a70b67001e\"}, mhSessionId = UUID {uuidToString = \"5b3f2531-45ef-487c-9e78-59461766a3ff\"}, mhUsername = \"\", mhMsgType = ExecuteErrorMessage}",
     "output_type": "error",
     "traceback": [
      "R Runtime Error: Error in cma_es(c(0, 0), function(x, ...) drop(crossprod(x)), lower = rep(-10,  : \n  could not find function \"cma_es\""
     ]
    }
   ],
   "source": [
    "R.runRegion $ do x <- [r| cma_es(c(0, 0), function(x, ...) drop(crossprod(x)), lower=rep(-10, 2), upper=rep(10, 2), control=list(stopfitness=1e-5, maxit=400)) |]; [r| print(x_hs) |]; return ()"
   ]
  },
  {
   "cell_type": "code",
   "execution_count": 12,
   "metadata": {},
   "outputs": [],
   "source": [
    ":set -XLambdaCase\n",
    ":set -XDataKinds\n",
    ":set -XGADTs\n",
    ":set -XFlexibleContexts\n",
    ":set -XScopedTypeVariables"
   ]
  },
  {
   "cell_type": "code",
   "execution_count": 13,
   "metadata": {},
   "outputs": [],
   "source": [
    "import qualified Language.R.Matcher as M\n",
    "import qualified Data.Vector.SEXP as V\n",
    "import qualified Language.R.HExp as H\n",
    "import           Language.R (R)"
   ]
  },
  {
   "cell_type": "code",
   "execution_count": 14,
   "metadata": {},
   "outputs": [],
   "source": [
    "int2limVV :: forall s . ([Double] -> Double) -> [Double] -> [Double] -> R s Double\n",
    "int2limVV g l h = do\n",
    "  ss <- [r| hcubature (function (x) matrix(f_hs(x)),\n",
    "                       lowerLimit = l_hs,\n",
    "                       upperLimit = h_hs,\n",
    "                       maxEval = 0,\n",
    "                       vectorInterface=TRUE) |]\n",
    "  R.fromSEXP . R.cast R.SReal <$> [r| ss_hs$integral |]\n",
    "  where\n",
    "    f :: R.SEXP s 'R.Real -> R s [Double]\n",
    "    f w = M.matchOnly go (R.SomeSEXP w) >>= \\case\n",
    "            Left e -> error (show e)\n",
    "            Right xss -> pure $ map g xss\n",
    "      where\n",
    "        go = do\n",
    "           M.hexp R.SReal $ \\(H.Real v) -> do\n",
    "              foo <- M.dim\n",
    "              case foo of\n",
    "                [n,m] -> pure $ map (\\jj -> map (\\ii -> v V.! (jj * n + ii)) [0..n-1]) [0..m-1]\n",
    "                otherwise -> error \"foo\""
   ]
  },
  {
   "cell_type": "code",
   "execution_count": 15,
   "metadata": {},
   "outputs": [],
   "source": [
    "r0 = R.runRegion $ do\n",
    "  _ <- [r| require(cubature) |]\n",
    "  let g :: [Double] -> Double\n",
    "      g [a, b] = exp(negate (a*a + b*b) / 2) / (2 * pi)\n",
    "      g xs     = error $ show xs\n",
    "  int2limVV g [(-3.0), (-3.0)] [3.0, 3.0]"
   ]
  },
  {
   "cell_type": "code",
   "execution_count": 16,
   "metadata": {},
   "outputs": [
    {
     "data": {
      "text/plain": [
       "Loading required package: cubature\n",
       "0.9946063639261128"
      ]
     },
     "metadata": {},
     "output_type": "display_data"
    }
   ],
   "source": [
    "r0"
   ]
  },
  {
   "cell_type": "code",
   "execution_count": 17,
   "metadata": {},
   "outputs": [],
   "source": [
    "cmaes :: forall s . ([Double] -> Double) -> [Double] -> [Double] -> [Double] -> R s (Double, [Double])\n",
    "cmaes g i l h = do\n",
    "  ss <- [r| cma_es (function (x) f_hs(x),\n",
    "                       par = i_hs,\n",
    "                       lower = l_hs,\n",
    "                       upper = h_hs,\n",
    "                       control=list(stopfitness=1e-5, maxit=400)) |]\n",
    "  pars :: [Double] <- R.dynSEXP <$> [r| ss_hs$par |]\n",
    "  value :: Double <- R.dynSEXP <$> [r| ss_hs$value |]\n",
    "  return (value, pars)\n",
    "  where\n",
    "    f :: R.SEXP s 'R.Real -> R s Double\n",
    "    f w = M.matchOnly go (R.SomeSEXP w) >>= \\case\n",
    "            Left e -> error (\"You are here: \" ++ show e)\n",
    "            Right xs -> pure $ g xs\n",
    "      where\n",
    "        go :: M.Matcher s [Double]\n",
    "        go = do\n",
    "           M.hexp R.SReal $ \\(H.Real v) -> do\n",
    "              return $ V.toList v"
   ]
  },
  {
   "cell_type": "code",
   "execution_count": 18,
   "metadata": {},
   "outputs": [
    {
     "data": {
      "text/plain": [
       "(5.462172113116399e-6,[-9.99327736667775e-4,-2.1127035257799097e-3])"
      ]
     },
     "metadata": {},
     "output_type": "display_data"
    }
   ],
   "source": [
    "  r0 <- R.runRegion $ do\n",
    "    baz <- [r| require(cmaes) |]\n",
    "    let g :: [Double] -> Double\n",
    "        g [a, b] = a*a + b*b\n",
    "        g xs     = error $ show xs\n",
    "    cmaes g [0.0, 0.0] [(-10.0), (-10.0)] [10.0, 10.0]\n",
    "  print r0"
   ]
  },
  {
   "cell_type": "code",
   "execution_count": 19,
   "metadata": {},
   "outputs": [
    {
     "data": {
      "text/plain": [
       "(5.22776094772724e-6,[-1.7189346526935453e-3,-1.506115350312935e-3,6.812605263997957e-5])"
      ]
     },
     "metadata": {},
     "output_type": "display_data"
    }
   ],
   "source": [
    "  r1 <- R.runRegion $ do\n",
    "    _ <- [r| require(cmaes) |]\n",
    "    let g :: [Double] -> Double\n",
    "        g [a, b, c] = a*a + b*b + c*c\n",
    "        g xs     = error $ show xs\n",
    "    cmaes g [0.0, 0.0, 0.0] [(-10.0), (-10.0), (-10.0)] [10.0, 10.0, 10.0]\n",
    "  print r1"
   ]
  },
  {
   "cell_type": "markdown",
   "metadata": {},
   "source": [
    "# Example"
   ]
  },
  {
   "cell_type": "markdown",
   "metadata": {},
   "source": [
    "We wish to see if when we are given enough samples from a multivariate normal distribution together with their probability density then we can infer the parameters of the generating distribution using CMAES."
   ]
  },
  {
   "cell_type": "markdown",
   "metadata": {},
   "source": [
    "We need to have a well formed covariance matrix"
   ]
  },
  {
   "cell_type": "markdown",
   "metadata": {},
   "source": [
    "$$\\mathrm{K}_{\\mathrm{XX}}=\\operatorname{cov}[\\mathbf{X}, \\mathbf{X}]=\\mathrm{E}\\left[\\left(\\mathbf{X}-\\mu_{\\mathbf{X}}\\right)\\left(\\mathbf{X}-\\mu_{\\mathbf{X}}\\right)^{\\mathrm{T}}\\right]=\\mathbf{E}\\left[\\mathbf{X} \\mathbf{X}^{T}\\right]-\\mu_{\\mathbf{X}} \\mu_{\\mathbf{X}}^{T}$$"
   ]
  },
  {
   "cell_type": "markdown",
   "metadata": {},
   "source": [
    "We can generate one of these from a vector of variances and a\n",
    " correlation matrix. Recall that in a correlation matrix all the\n",
    " diaganols are $1$ and the other entries are in $[-1,1]$."
   ]
  },
  {
   "cell_type": "markdown",
   "metadata": {},
   "source": [
    "$$\\operatorname{corr}(\\mathbf{X})=\\left(\\operatorname{diag}\\left(\\mathbf{K}_{\\mathbf{X} \\mathbf{X}}\\right)\\right)^{-\\frac{1}{2}} \\mathbf{K}_{\\mathbf{X X}}\\left(\\operatorname{diag}\\left(\\mathbf{K}_{\\mathbf{X} \\mathbf{X}}\\right)\\right)^{-\\frac{1}{2}}$$"
   ]
  },
  {
   "cell_type": "markdown",
   "metadata": {},
   "source": [
    "$$\\sigma^2 = \\operatorname{diag}(\\mathbf{K}_{\\mathbf{XX}})$$"
   ]
  },
  {
   "cell_type": "markdown",
   "metadata": {},
   "source": [
    "$$\\rho = \\operatorname{corr}(\\mathbf{X})$$"
   ]
  },
  {
   "cell_type": "markdown",
   "metadata": {},
   "source": [
    "$$\\rho = \\left(\\operatorname{diag}\\left(\\sigma^2\\right)^{-\\frac{1}{2}}\\right)\n",
    "         \\mathbf{K}_{\\mathbf{X X}}\n",
    "         \\left(\\operatorname{diag}\\left(\\sigma^2)\\right)^{-\\frac{1}{2}}\\right)$$"
   ]
  },
  {
   "cell_type": "markdown",
   "metadata": {},
   "source": [
    "$$\\mathbf{K}_{\\mathbf{XX}} = \\operatorname{diag}(\\mathbf{\\sigma})\\operatorname{corr}(\\mathbf{X})\\operatorname{diag}(\\mathbf{\\sigma})$$"
   ]
  },
  {
   "cell_type": "code",
   "execution_count": 20,
   "metadata": {},
   "outputs": [],
   "source": [
    "import GHC.TypeLits\n",
    "import Data.Proxy"
   ]
  },
  {
   "cell_type": "code",
   "execution_count": 21,
   "metadata": {},
   "outputs": [],
   "source": [
    "import qualified Numeric.LinearAlgebra.Static as LS\n",
    "import Prelude hiding ((<>))\n",
    "import Numeric.LinearAlgebra.Static ((<>))"
   ]
  },
  {
   "cell_type": "code",
   "execution_count": 22,
   "metadata": {},
   "outputs": [],
   "source": [
    "corrToCov :: KnownNat n => LS.R n -> LS.Sq n -> LS.Sq n\n",
    "corrToCov sigma rho = kHalf <> rho <> kHalf\n",
    "  where\n",
    "    kHalf = LS.diag sigma"
   ]
  },
  {
   "cell_type": "markdown",
   "metadata": {},
   "source": [
    "Now we can create example samples from a bivariate normal. Note that\n",
    " we fix the means to be $0$ but this could be generalized\n",
    " straightforwardly."
   ]
  },
  {
   "cell_type": "code",
   "execution_count": 23,
   "metadata": {},
   "outputs": [],
   "source": [
    ":set -XDataKinds"
   ]
  },
  {
   "cell_type": "code",
   "execution_count": 24,
   "metadata": {},
   "outputs": [
    {
     "ename": "",
     "evalue": "",
     "header": "MessageHeader {mhIdentifiers = [\"f9e5e798-fcf3-4e1b-a400-d82f87dee5b3\"], mhParentHeader = Just (MessageHeader {mhIdentifiers = [\"f9e5e798-fcf3-4e1b-a400-d82f87dee5b3\"], mhParentHeader = Nothing, mhMetadata = Metadata (fromList [(\"recordTiming\",Bool False),(\"deletedCells\",Array [String \"7dd31c6e-4675-4373-9af9-7d123374410e\"]),(\"cellId\",String \"9c69420e-30e8-4c8b-ba7e-c0982219e8fa\")]), mhMessageId = UUID {uuidToString = \"1a4c885e-19e9-459f-9112-a35f942a9772\"}, mhSessionId = UUID {uuidToString = \"f9e5e798-fcf3-4e1b-a400-d82f87dee5b3\"}, mhUsername = \"\", mhMsgType = ExecuteRequestMessage}), mhMetadata = Metadata (fromList []), mhMessageId = UUID {uuidToString = \"5642a10b-c079-40b6-b446-1a72ec9b0ccc\"}, mhSessionId = UUID {uuidToString = \"f9e5e798-fcf3-4e1b-a400-d82f87dee5b3\"}, mhUsername = \"\", mhMsgType = ExecuteErrorMessage}",
     "output_type": "error",
     "traceback": [
      "<interactive>:1:1: error:\n    Could not find module ‘Data.Random.Distribution.Static.MultivariateNormal’\n    Use -v to see a list of the files searched for."
     ]
    }
   ],
   "source": [
    "import qualified Data.Random as R\n",
    "import Data.Random.Source.PureMT\n",
    "import Control.Monad.State\n",
    "import Data.Random.Distribution.Static.MultivariateNormal"
   ]
  },
  {
   "cell_type": "code",
   "execution_count": 25,
   "metadata": {},
   "outputs": [
    {
     "ename": "",
     "evalue": "",
     "header": "MessageHeader {mhIdentifiers = [\"f9e5e798-fcf3-4e1b-a400-d82f87dee5b3\"], mhParentHeader = Just (MessageHeader {mhIdentifiers = [\"f9e5e798-fcf3-4e1b-a400-d82f87dee5b3\"], mhParentHeader = Nothing, mhMetadata = Metadata (fromList [(\"recordTiming\",Bool False),(\"deletedCells\",Array [String \"7dd31c6e-4675-4373-9af9-7d123374410e\"]),(\"cellId\",String \"a343574d-ed8a-419e-997e-1a11318602b9\")]), mhMessageId = UUID {uuidToString = \"bb422595-115e-4db6-9583-94dd55e250cb\"}, mhSessionId = UUID {uuidToString = \"f9e5e798-fcf3-4e1b-a400-d82f87dee5b3\"}, mhUsername = \"\", mhMsgType = ExecuteRequestMessage}), mhMetadata = Metadata (fromList []), mhMessageId = UUID {uuidToString = \"463f14c4-1d01-4e5c-b53a-824506eb8728\"}, mhSessionId = UUID {uuidToString = \"f9e5e798-fcf3-4e1b-a400-d82f87dee5b3\"}, mhUsername = \"\", mhMsgType = ExecuteErrorMessage}",
     "output_type": "error",
     "traceback": [
      "<interactive>:8:27: error:\n    • Data constructor not in scope: Normal :: LS.R n0 -> LS.Sym n1 -> d0 (LS.R 2)\n    • Perhaps you meant one of these: ‘R.Normal’ (imported from Data.Random), ‘IHaskellTH.NormalB’ (imported from Language.Haskell.TH), ‘IHaskellTH.NormalC’ (imported from Language.Haskell.TH)"
     ]
    }
   ],
   "source": [
    "nSamples :: Int\n",
    "nSamples = 1000\n",
    "\n",
    "sigma1, sigma2, rho12 :: Double\n",
    "sigma1 = 3.0\n",
    "sigma2 = 1.0\n",
    "rho12 = 0.5\n",
    "\n",
    "singleSample :: R.RVarT (State PureMT) (LS.R 2)\n",
    "singleSample = R.sample $ Normal (LS.vector [0.0, 0.0])\n",
    "               (LS.sym $ LS.matrix [ sigma1, rho12 * sqrt sigma1 * sqrt sigma2\n",
    "                                   , rho12 * sqrt sigma1 * sqrt sigma2, sigma2])\n",
    "\n",
    "multiSamples :: [LS.R 2]\n",
    "multiSamples = evalState (replicateM nSamples $ R.sample singleSample) (pureMT 3)"
   ]
  },
  {
   "cell_type": "markdown",
   "metadata": {},
   "source": [
    "We can generalize this to arbitrary dimensions."
   ]
  },
  {
   "cell_type": "code",
   "execution_count": 26,
   "metadata": {},
   "outputs": [],
   "source": [
    "import qualified Numeric.LinearAlgebra as LA\n",
    "import Data.Maybe ( fromJust )"
   ]
  },
  {
   "cell_type": "code",
   "execution_count": 27,
   "metadata": {},
   "outputs": [
    {
     "ename": "",
     "evalue": "",
     "header": "MessageHeader {mhIdentifiers = [\"f9e5e798-fcf3-4e1b-a400-d82f87dee5b3\"], mhParentHeader = Just (MessageHeader {mhIdentifiers = [\"f9e5e798-fcf3-4e1b-a400-d82f87dee5b3\"], mhParentHeader = Nothing, mhMetadata = Metadata (fromList [(\"recordTiming\",Bool False),(\"deletedCells\",Array [String \"7dd31c6e-4675-4373-9af9-7d123374410e\"]),(\"cellId\",String \"8e1d8eb3-1f23-45a2-9aea-3fe6f9a7ccc5\")]), mhMessageId = UUID {uuidToString = \"e779d44a-818e-4a00-829b-3514aefd0137\"}, mhSessionId = UUID {uuidToString = \"f9e5e798-fcf3-4e1b-a400-d82f87dee5b3\"}, mhUsername = \"\", mhMsgType = ExecuteRequestMessage}), mhMetadata = Metadata (fromList []), mhMessageId = UUID {uuidToString = \"731d29d8-2b95-4d3a-a076-ace9852b8773\"}, mhSessionId = UUID {uuidToString = \"f9e5e798-fcf3-4e1b-a400-d82f87dee5b3\"}, mhUsername = \"\", mhMsgType = ExecuteErrorMessage}",
     "output_type": "error",
     "traceback": [
      "<interactive>:3:39: error:\n    • Data constructor not in scope: Normal :: LS.R n0 -> LS.Sym n -> d0 (LS.R n)\n    • Perhaps you meant one of these: ‘R.Normal’ (imported from Data.Random), ‘IHaskellTH.NormalB’ (imported from Language.Haskell.TH), ‘IHaskellTH.NormalC’ (imported from Language.Haskell.TH)\n<interactive>:13:43: error: Variable not in scope: nSamples :: Int"
     ]
    }
   ],
   "source": [
    "singleSampleN :: forall n . KnownNat n =>\n",
    "                 LS.R n -> LS.Sq n -> R.RVarT (State PureMT) (LS.R n)\n",
    "singleSampleN vars corrs = R.sample $ Normal (LS.vector ds) es\n",
    "  where\n",
    "    sigmas :: LS.R n\n",
    "    sigmas = fromJust $ LS.create $ LA.cmap sqrt $ LS.extract vars\n",
    "\n",
    "    es :: LS.Sym n\n",
    "    es = LS.sym $ corrToCov sigmas corrs\n",
    "    ds = replicate (fromIntegral $ natVal (Proxy :: Proxy n)) 0.0\n",
    "\n",
    "multiSamplesN :: forall n . KnownNat n =>\n",
    "                  LS.R n -> LS.Sq n -> [LS.R n]\n",
    "multiSamplesN x y = evalState (replicateM nSamples $ R.sample (singleSampleN x y)) (pureMT 3)"
   ]
  },
  {
   "cell_type": "markdown",
   "metadata": {},
   "source": [
    "We can generate some samples from the bivariate normal using our specialised function."
   ]
  },
  {
   "cell_type": "code",
   "execution_count": 28,
   "metadata": {},
   "outputs": [
    {
     "ename": "",
     "evalue": "",
     "header": "MessageHeader {mhIdentifiers = [\"f9e5e798-fcf3-4e1b-a400-d82f87dee5b3\"], mhParentHeader = Just (MessageHeader {mhIdentifiers = [\"f9e5e798-fcf3-4e1b-a400-d82f87dee5b3\"], mhParentHeader = Nothing, mhMetadata = Metadata (fromList [(\"recordTiming\",Bool False),(\"deletedCells\",Array [String \"7dd31c6e-4675-4373-9af9-7d123374410e\"]),(\"cellId\",String \"64bd314b-f679-4173-9d05-63cd1122bcc1\")]), mhMessageId = UUID {uuidToString = \"486d053c-7d14-48fd-93ce-9f9f8e58281f\"}, mhSessionId = UUID {uuidToString = \"f9e5e798-fcf3-4e1b-a400-d82f87dee5b3\"}, mhUsername = \"\", mhMsgType = ExecuteRequestMessage}), mhMetadata = Metadata (fromList []), mhMessageId = UUID {uuidToString = \"104314ca-cfbc-45e3-bc2b-698a8c8a59d0\"}, mhSessionId = UUID {uuidToString = \"f9e5e798-fcf3-4e1b-a400-d82f87dee5b3\"}, mhUsername = \"\", mhMsgType = ExecuteErrorMessage}",
     "output_type": "error",
     "traceback": [
      "<interactive>:2:13: error: Variable not in scope: multiSamples :: [LS.R n0]"
     ]
    }
   ],
   "source": [
    "pts :: [(Double, Double)]\n",
    "pts = map f multiSamples\n",
    "  where\n",
    "    f z = (x, y)\n",
    "      where\n",
    "        (x, t) = LS.headTail z\n",
    "        (y, _) = LS.headTail t"
   ]
  },
  {
   "cell_type": "markdown",
   "metadata": {},
   "source": [
    "Let's check our generalized function matches."
   ]
  },
  {
   "cell_type": "code",
   "execution_count": 29,
   "metadata": {},
   "outputs": [
    {
     "data": {
      "text/html": [
       "<style>/* Styles used for the Hoogle display in the pager */\n",
       ".hoogle-doc {\n",
       "display: block;\n",
       "padding-bottom: 1.3em;\n",
       "padding-left: 0.4em;\n",
       "}\n",
       ".hoogle-code {\n",
       "display: block;\n",
       "font-family: monospace;\n",
       "white-space: pre;\n",
       "}\n",
       ".hoogle-text {\n",
       "display: block;\n",
       "}\n",
       ".hoogle-name {\n",
       "color: green;\n",
       "font-weight: bold;\n",
       "}\n",
       ".hoogle-head {\n",
       "font-weight: bold;\n",
       "}\n",
       ".hoogle-sub {\n",
       "display: block;\n",
       "margin-left: 0.4em;\n",
       "}\n",
       ".hoogle-package {\n",
       "font-weight: bold;\n",
       "font-style: italic;\n",
       "}\n",
       ".hoogle-module {\n",
       "font-weight: bold;\n",
       "}\n",
       ".hoogle-class {\n",
       "font-weight: bold;\n",
       "}\n",
       ".get-type {\n",
       "color: green;\n",
       "font-weight: bold;\n",
       "font-family: monospace;\n",
       "display: block;\n",
       "white-space: pre-wrap;\n",
       "}\n",
       ".show-type {\n",
       "color: green;\n",
       "font-weight: bold;\n",
       "font-family: monospace;\n",
       "margin-left: 1em;\n",
       "}\n",
       ".mono {\n",
       "font-family: monospace;\n",
       "display: block;\n",
       "}\n",
       ".err-msg {\n",
       "color: red;\n",
       "font-style: italic;\n",
       "font-family: monospace;\n",
       "white-space: pre;\n",
       "display: block;\n",
       "}\n",
       "#unshowable {\n",
       "color: red;\n",
       "font-weight: bold;\n",
       "}\n",
       ".err-msg.in.collapse {\n",
       "padding-top: 0.7em;\n",
       "}\n",
       ".highlight-code {\n",
       "white-space: pre;\n",
       "font-family: monospace;\n",
       "}\n",
       ".suggestion-warning { \n",
       "font-weight: bold;\n",
       "color: rgb(200, 130, 0);\n",
       "}\n",
       ".suggestion-error { \n",
       "font-weight: bold;\n",
       "color: red;\n",
       "}\n",
       ".suggestion-name {\n",
       "font-weight: bold;\n",
       "}\n",
       "</style><div class=\"suggestion-name\" style=\"clear:both;\">Redundant bracket</div><div class=\"suggestion-row\" style=\"float: left;\"><div class=\"suggestion-warning\">Found:</div><div class=\"highlight-code\" id=\"haskell\">(multiSamplesN (LS.vector [sigma1, sigma2])\n",
       "   (LS.matrix [1.0, rho12, rho12, 1.0]))\n",
       "  :: [LS.R 2]</div></div><div class=\"suggestion-row\" style=\"float: left;\"><div class=\"suggestion-warning\">Why Not:</div><div class=\"highlight-code\" id=\"haskell\">multiSamplesN (LS.vector [sigma1, sigma2])\n",
       "  (LS.matrix [1.0, rho12, rho12, 1.0])\n",
       "  :: [LS.R 2]</div></div>"
      ],
      "text/plain": [
       "Line 2: Redundant bracket\n",
       "Found:\n",
       "(multiSamplesN (LS.vector [sigma1, sigma2])\n",
       "   (LS.matrix [1.0, rho12, rho12, 1.0]))\n",
       "  :: [LS.R 2]\n",
       "Why not:\n",
       "multiSamplesN (LS.vector [sigma1, sigma2])\n",
       "  (LS.matrix [1.0, rho12, rho12, 1.0])\n",
       "  :: [LS.R 2]"
      ]
     },
     "metadata": {},
     "output_type": "display_data"
    },
    {
     "ename": "",
     "evalue": "",
     "header": "MessageHeader {mhIdentifiers = [\"f9e5e798-fcf3-4e1b-a400-d82f87dee5b3\"], mhParentHeader = Just (MessageHeader {mhIdentifiers = [\"f9e5e798-fcf3-4e1b-a400-d82f87dee5b3\"], mhParentHeader = Nothing, mhMetadata = Metadata (fromList [(\"recordTiming\",Bool False),(\"deletedCells\",Array [String \"7dd31c6e-4675-4373-9af9-7d123374410e\"]),(\"cellId\",String \"0a25b9d1-1275-4e01-b028-d86b23e3eece\")]), mhMessageId = UUID {uuidToString = \"cf163ce6-9084-4f44-8d04-1556997b0f0e\"}, mhSessionId = UUID {uuidToString = \"f9e5e798-fcf3-4e1b-a400-d82f87dee5b3\"}, mhUsername = \"\", mhMsgType = ExecuteRequestMessage}), mhMetadata = Metadata (fromList []), mhMessageId = UUID {uuidToString = \"84fc549c-44c0-482d-af86-55d90d48e0c5\"}, mhSessionId = UUID {uuidToString = \"f9e5e798-fcf3-4e1b-a400-d82f87dee5b3\"}, mhUsername = \"\", mhMsgType = ExecuteErrorMessage}",
     "output_type": "error",
     "traceback": [
      "<interactive>:2:17: error: Variable not in scope: multiSamplesN :: LS.R n0 -> LS.L m0 n1 -> [LS.R 2]\n<interactive>:2:43: error: Variable not in scope: sigma1 :: LS.ℝ\n<interactive>:2:51: error: Variable not in scope: sigma2 :: LS.ℝ\n<interactive>:2:77: error: Variable not in scope: rho12 :: LS.ℝ\n<interactive>:2:84: error: Variable not in scope: rho12 :: LS.ℝ"
     ]
    }
   ],
   "source": [
    "pts2' :: [(Double, Double)]\n",
    "pts2' = map f ((multiSamplesN (LS.vector [sigma1, sigma2]) (LS.matrix [1.0, rho12, rho12, 1.0])) :: [LS.R 2])\n",
    "  where\n",
    "    f z = (x, y)\n",
    "      where\n",
    "        (x, t) = LS.headTail z\n",
    "        (y, _) = LS.headTail t"
   ]
  },
  {
   "cell_type": "code",
   "execution_count": 30,
   "metadata": {},
   "outputs": [
    {
     "ename": "",
     "evalue": "",
     "header": "MessageHeader {mhIdentifiers = [\"f9e5e798-fcf3-4e1b-a400-d82f87dee5b3\"], mhParentHeader = Just (MessageHeader {mhIdentifiers = [\"f9e5e798-fcf3-4e1b-a400-d82f87dee5b3\"], mhParentHeader = Nothing, mhMetadata = Metadata (fromList [(\"recordTiming\",Bool False),(\"deletedCells\",Array [String \"7dd31c6e-4675-4373-9af9-7d123374410e\"]),(\"cellId\",String \"e9c6ec8c-1108-4b41-82f9-5efc9b065c6a\")]), mhMessageId = UUID {uuidToString = \"219e12d6-5c37-4b0b-a8ce-1d2e637bd1df\"}, mhSessionId = UUID {uuidToString = \"f9e5e798-fcf3-4e1b-a400-d82f87dee5b3\"}, mhUsername = \"\", mhMsgType = ExecuteRequestMessage}), mhMetadata = Metadata (fromList []), mhMessageId = UUID {uuidToString = \"27d465b6-0614-4f3d-a7fe-ca69c45c9af4\"}, mhSessionId = UUID {uuidToString = \"f9e5e798-fcf3-4e1b-a400-d82f87dee5b3\"}, mhUsername = \"\", mhMsgType = ExecuteErrorMessage}",
     "output_type": "error",
     "traceback": [
      "<interactive>:1:6: error: Variable not in scope: pts :: [a]"
     ]
    }
   ],
   "source": [
    "last pts"
   ]
  },
  {
   "cell_type": "code",
   "execution_count": 31,
   "metadata": {},
   "outputs": [
    {
     "ename": "",
     "evalue": "",
     "header": "MessageHeader {mhIdentifiers = [\"f9e5e798-fcf3-4e1b-a400-d82f87dee5b3\"], mhParentHeader = Just (MessageHeader {mhIdentifiers = [\"f9e5e798-fcf3-4e1b-a400-d82f87dee5b3\"], mhParentHeader = Nothing, mhMetadata = Metadata (fromList [(\"recordTiming\",Bool False),(\"deletedCells\",Array [String \"7dd31c6e-4675-4373-9af9-7d123374410e\"]),(\"cellId\",String \"3f5c9312-85d5-4d03-94b6-9d094496e9a4\")]), mhMessageId = UUID {uuidToString = \"92c9c0ec-351a-4c29-b703-7608fe9cb52f\"}, mhSessionId = UUID {uuidToString = \"f9e5e798-fcf3-4e1b-a400-d82f87dee5b3\"}, mhUsername = \"\", mhMsgType = ExecuteRequestMessage}), mhMetadata = Metadata (fromList []), mhMessageId = UUID {uuidToString = \"1b6a4461-f835-4cee-9af2-cf830f511768\"}, mhSessionId = UUID {uuidToString = \"f9e5e798-fcf3-4e1b-a400-d82f87dee5b3\"}, mhUsername = \"\", mhMsgType = ExecuteErrorMessage}",
     "output_type": "error",
     "traceback": [
      "<interactive>:1:6: error: Variable not in scope: pts2' :: [a]"
     ]
    }
   ],
   "source": [
    "last pts2'"
   ]
  },
  {
   "cell_type": "markdown",
   "metadata": {},
   "source": [
    "We also need to calculate the probability density for each sample."
   ]
  },
  {
   "cell_type": "code",
   "execution_count": 32,
   "metadata": {},
   "outputs": [],
   "source": [
    "import Data.Random.Distribution"
   ]
  },
  {
   "cell_type": "code",
   "execution_count": 33,
   "metadata": {},
   "outputs": [
    {
     "ename": "",
     "evalue": "",
     "header": "MessageHeader {mhIdentifiers = [\"f9e5e798-fcf3-4e1b-a400-d82f87dee5b3\"], mhParentHeader = Just (MessageHeader {mhIdentifiers = [\"f9e5e798-fcf3-4e1b-a400-d82f87dee5b3\"], mhParentHeader = Nothing, mhMetadata = Metadata (fromList [(\"recordTiming\",Bool False),(\"deletedCells\",Array [String \"7dd31c6e-4675-4373-9af9-7d123374410e\"]),(\"cellId\",String \"b9af2529-4373-404b-803d-78f8b8f6e8a2\")]), mhMessageId = UUID {uuidToString = \"2aad22fe-80c6-4366-9a0c-bc4ae8dc8250\"}, mhSessionId = UUID {uuidToString = \"f9e5e798-fcf3-4e1b-a400-d82f87dee5b3\"}, mhUsername = \"\", mhMsgType = ExecuteRequestMessage}), mhMetadata = Metadata (fromList []), mhMessageId = UUID {uuidToString = \"26bd6925-7e3f-4db8-ab73-d82ae10869c6\"}, mhSessionId = UUID {uuidToString = \"f9e5e798-fcf3-4e1b-a400-d82f87dee5b3\"}, mhUsername = \"\", mhMsgType = ExecuteErrorMessage}",
     "output_type": "error",
     "traceback": [
      "<interactive>:2:18: error:\n    • Data constructor not in scope: Normal :: t1 -> LS.Sym n0 -> d0 t0\n    • Perhaps you meant one of these: ‘R.Normal’ (imported from Data.Random), ‘IHaskellTH.NormalB’ (imported from Language.Haskell.TH), ‘IHaskellTH.NormalC’ (imported from Language.Haskell.TH)\n<interactive>:3:47: error: Variable not in scope: sigma1 :: LS.ℝ\n<interactive>:3:55: error: Variable not in scope: rho12 :: LS.ℝ\n<interactive>:3:68: error: Variable not in scope: sigma1 :: LS.ℝ\n<interactive>:3:82: error: Variable not in scope: sigma2 :: LS.ℝ\n<interactive>:4:47: error: Variable not in scope: rho12 :: LS.ℝ\n<interactive>:4:60: error: Variable not in scope: sigma1 :: LS.ℝ\n<interactive>:4:74: error: Variable not in scope: sigma2 :: LS.ℝ\n<interactive>:4:82: error: Variable not in scope: sigma2 :: LS.ℝ\n<interactive>:4:93: error: Variable not in scope: multiSamples :: [t0]"
     ]
    }
   ],
   "source": [
    "pdfs :: [Double]\n",
    "pdfs = map (pdf (Normal (LS.fromList [0.0, 0.0])\n",
    "                        (LS.sym $ LS.matrix [ sigma1, rho12 * sqrt sigma1 * sqrt sigma2\n",
    "                                            , rho12 * sqrt sigma1 * sqrt sigma2, sigma2]))) multiSamples"
   ]
  },
  {
   "cell_type": "markdown",
   "metadata": {},
   "source": [
    "So the density for $\\texttt{last pts2'}$ is $\\texttt{last pdfs}$."
   ]
  },
  {
   "cell_type": "code",
   "execution_count": 34,
   "metadata": {},
   "outputs": [
    {
     "ename": "",
     "evalue": "",
     "header": "MessageHeader {mhIdentifiers = [\"f9e5e798-fcf3-4e1b-a400-d82f87dee5b3\"], mhParentHeader = Just (MessageHeader {mhIdentifiers = [\"f9e5e798-fcf3-4e1b-a400-d82f87dee5b3\"], mhParentHeader = Nothing, mhMetadata = Metadata (fromList [(\"recordTiming\",Bool False),(\"deletedCells\",Array [String \"7dd31c6e-4675-4373-9af9-7d123374410e\"]),(\"cellId\",String \"3c443ede-5e01-4dfe-8e2a-ca7bf004cd8d\")]), mhMessageId = UUID {uuidToString = \"5b3cf46b-0070-4d31-b5df-9756be0f5b1d\"}, mhSessionId = UUID {uuidToString = \"f9e5e798-fcf3-4e1b-a400-d82f87dee5b3\"}, mhUsername = \"\", mhMsgType = ExecuteRequestMessage}), mhMetadata = Metadata (fromList []), mhMessageId = UUID {uuidToString = \"ed5fae45-6d46-4f5b-8572-f63d7862a9db\"}, mhSessionId = UUID {uuidToString = \"f9e5e798-fcf3-4e1b-a400-d82f87dee5b3\"}, mhUsername = \"\", mhMsgType = ExecuteErrorMessage}",
     "output_type": "error",
     "traceback": [
      "<interactive>:1:6: error:\n    • Variable not in scope: pdfs :: [a]\n    • Perhaps you meant ‘pdf’ (imported from Data.Random.Distribution)"
     ]
    }
   ],
   "source": [
    "last pdfs"
   ]
  },
  {
   "cell_type": "markdown",
   "metadata": {},
   "source": [
    "Let's check a few more things. First let's create the covariance\n",
    " matrix from the correlation matrix rather than doing it by hand as\n",
    " above."
   ]
  },
  {
   "cell_type": "code",
   "execution_count": 35,
   "metadata": {},
   "outputs": [
    {
     "ename": "",
     "evalue": "",
     "header": "MessageHeader {mhIdentifiers = [\"f9e5e798-fcf3-4e1b-a400-d82f87dee5b3\"], mhParentHeader = Just (MessageHeader {mhIdentifiers = [\"f9e5e798-fcf3-4e1b-a400-d82f87dee5b3\"], mhParentHeader = Nothing, mhMetadata = Metadata (fromList [(\"recordTiming\",Bool False),(\"deletedCells\",Array [String \"7dd31c6e-4675-4373-9af9-7d123374410e\"]),(\"cellId\",String \"629d8252-0c67-457e-8b56-1c36d89db33f\")]), mhMessageId = UUID {uuidToString = \"3214497b-3109-4531-8290-af641bfa0e05\"}, mhSessionId = UUID {uuidToString = \"f9e5e798-fcf3-4e1b-a400-d82f87dee5b3\"}, mhUsername = \"\", mhMsgType = ExecuteRequestMessage}), mhMetadata = Metadata (fromList []), mhMessageId = UUID {uuidToString = \"10f77505-4fbe-4a80-b102-52bcdafccda9\"}, mhSessionId = UUID {uuidToString = \"f9e5e798-fcf3-4e1b-a400-d82f87dee5b3\"}, mhUsername = \"\", mhMsgType = ExecuteErrorMessage}",
     "output_type": "error",
     "traceback": [
      "<interactive>:2:35: error: Variable not in scope: sigma1 :: LS.ℝ\n<interactive>:2:48: error: Variable not in scope: sigma2 :: LS.ℝ\n<interactive>:3:35: error: Variable not in scope: rho12 :: LS.ℝ\n<interactive>:3:42: error: Variable not in scope: rho12 :: LS.ℝ"
     ]
    }
   ],
   "source": [
    "covv :: LS.Sq 2\n",
    "covv = corrToCov (LS.vector [sqrt sigma1, sqrt sigma2])\n",
    "                 (LS.matrix [1.0, rho12, rho12, 1.0])"
   ]
  },
  {
   "cell_type": "markdown",
   "metadata": {},
   "source": [
    "The covariance matrix is"
   ]
  },
  {
   "cell_type": "code",
   "execution_count": 36,
   "metadata": {},
   "outputs": [
    {
     "ename": "",
     "evalue": "",
     "header": "MessageHeader {mhIdentifiers = [\"f9e5e798-fcf3-4e1b-a400-d82f87dee5b3\"], mhParentHeader = Just (MessageHeader {mhIdentifiers = [\"f9e5e798-fcf3-4e1b-a400-d82f87dee5b3\"], mhParentHeader = Nothing, mhMetadata = Metadata (fromList [(\"recordTiming\",Bool False),(\"deletedCells\",Array [String \"7dd31c6e-4675-4373-9af9-7d123374410e\"]),(\"cellId\",String \"160d520d-ccd7-4cb6-831a-599fde5e5258\")]), mhMessageId = UUID {uuidToString = \"2fec6779-d385-4a90-aecf-48097368a75c\"}, mhSessionId = UUID {uuidToString = \"f9e5e798-fcf3-4e1b-a400-d82f87dee5b3\"}, mhUsername = \"\", mhMsgType = ExecuteRequestMessage}), mhMetadata = Metadata (fromList []), mhMessageId = UUID {uuidToString = \"a8c52881-07bc-4a2d-940a-323a45a9dbc1\"}, mhSessionId = UUID {uuidToString = \"f9e5e798-fcf3-4e1b-a400-d82f87dee5b3\"}, mhUsername = \"\", mhMsgType = ExecuteErrorMessage}",
     "output_type": "error",
     "traceback": [
      "<interactive>:1:1: error:\n    • Variable not in scope: covv\n    • Perhaps you meant ‘LA.conv’ (imported from Numeric.LinearAlgebra)"
     ]
    }
   ],
   "source": [
    "covv"
   ]
  },
  {
   "cell_type": "markdown",
   "metadata": {},
   "source": [
    "Let's check it gives the same answer."
   ]
  },
  {
   "cell_type": "code",
   "execution_count": 37,
   "metadata": {},
   "outputs": [
    {
     "ename": "",
     "evalue": "",
     "header": "MessageHeader {mhIdentifiers = [\"f9e5e798-fcf3-4e1b-a400-d82f87dee5b3\"], mhParentHeader = Just (MessageHeader {mhIdentifiers = [\"f9e5e798-fcf3-4e1b-a400-d82f87dee5b3\"], mhParentHeader = Nothing, mhMetadata = Metadata (fromList [(\"recordTiming\",Bool False),(\"deletedCells\",Array [String \"7dd31c6e-4675-4373-9af9-7d123374410e\"]),(\"cellId\",String \"9cf593ce-0bca-4beb-8418-20716b5ffbe7\")]), mhMessageId = UUID {uuidToString = \"87d25e45-97a4-4582-9f8b-ffafe822b84b\"}, mhSessionId = UUID {uuidToString = \"f9e5e798-fcf3-4e1b-a400-d82f87dee5b3\"}, mhUsername = \"\", mhMsgType = ExecuteRequestMessage}), mhMetadata = Metadata (fromList []), mhMessageId = UUID {uuidToString = \"ea7b5c1d-adbd-4dc4-a3b9-52327442f40c\"}, mhSessionId = UUID {uuidToString = \"f9e5e798-fcf3-4e1b-a400-d82f87dee5b3\"}, mhUsername = \"\", mhMsgType = ExecuteErrorMessage}",
     "output_type": "error",
     "traceback": [
      "<interactive>:2:19: error:\n    • Data constructor not in scope: Normal :: t1 -> LS.Sym n0 -> d0 t0\n    • Perhaps you meant one of these: ‘R.Normal’ (imported from Data.Random), ‘IHaskellTH.NormalB’ (imported from Language.Haskell.TH), ‘IHaskellTH.NormalC’ (imported from Language.Haskell.TH)\n<interactive>:2:59: error:\n    • Variable not in scope: covv :: LS.Sq n0\n    • Perhaps you meant ‘LA.conv’ (imported from Numeric.LinearAlgebra)\n<interactive>:2:67: error: Variable not in scope: multiSamples :: [t0]"
     ]
    }
   ],
   "source": [
    "pdfs' :: [Double]\n",
    "pdfs' = map (pdf (Normal (LS.fromList [0.0, 0.0]) (LS.sym covv))) multiSamples"
   ]
  },
  {
   "cell_type": "code",
   "execution_count": 38,
   "metadata": {},
   "outputs": [
    {
     "ename": "",
     "evalue": "",
     "header": "MessageHeader {mhIdentifiers = [\"f9e5e798-fcf3-4e1b-a400-d82f87dee5b3\"], mhParentHeader = Just (MessageHeader {mhIdentifiers = [\"f9e5e798-fcf3-4e1b-a400-d82f87dee5b3\"], mhParentHeader = Nothing, mhMetadata = Metadata (fromList [(\"recordTiming\",Bool False),(\"deletedCells\",Array [String \"7dd31c6e-4675-4373-9af9-7d123374410e\"]),(\"cellId\",String \"f523c64a-2a7c-44f2-8997-db3c28ccbe6d\")]), mhMessageId = UUID {uuidToString = \"94c45d30-c364-40b9-a5af-127fc7c50f7a\"}, mhSessionId = UUID {uuidToString = \"f9e5e798-fcf3-4e1b-a400-d82f87dee5b3\"}, mhUsername = \"\", mhMsgType = ExecuteRequestMessage}), mhMetadata = Metadata (fromList []), mhMessageId = UUID {uuidToString = \"a00b48b5-9ce8-4116-a02a-ae588937a07a\"}, mhSessionId = UUID {uuidToString = \"f9e5e798-fcf3-4e1b-a400-d82f87dee5b3\"}, mhUsername = \"\", mhMsgType = ExecuteErrorMessage}",
     "output_type": "error",
     "traceback": [
      "<interactive>:1:6: error:\n    • Variable not in scope: pdfs :: [a]\n    • Perhaps you meant ‘pdf’ (imported from Data.Random.Distribution)"
     ]
    }
   ],
   "source": [
    "last pdfs"
   ]
  },
  {
   "cell_type": "code",
   "execution_count": 39,
   "metadata": {},
   "outputs": [
    {
     "ename": "",
     "evalue": "",
     "header": "MessageHeader {mhIdentifiers = [\"f9e5e798-fcf3-4e1b-a400-d82f87dee5b3\"], mhParentHeader = Just (MessageHeader {mhIdentifiers = [\"f9e5e798-fcf3-4e1b-a400-d82f87dee5b3\"], mhParentHeader = Nothing, mhMetadata = Metadata (fromList [(\"recordTiming\",Bool False),(\"deletedCells\",Array [String \"7dd31c6e-4675-4373-9af9-7d123374410e\"]),(\"cellId\",String \"05416412-5db2-4cab-a715-1358b603db0e\")]), mhMessageId = UUID {uuidToString = \"a29f7b93-08ca-440f-8276-332307103e8c\"}, mhSessionId = UUID {uuidToString = \"f9e5e798-fcf3-4e1b-a400-d82f87dee5b3\"}, mhUsername = \"\", mhMsgType = ExecuteRequestMessage}), mhMetadata = Metadata (fromList []), mhMessageId = UUID {uuidToString = \"ad8a56f6-aab6-426a-add2-0e90a2a780a4\"}, mhSessionId = UUID {uuidToString = \"f9e5e798-fcf3-4e1b-a400-d82f87dee5b3\"}, mhUsername = \"\", mhMsgType = ExecuteErrorMessage}",
     "output_type": "error",
     "traceback": [
      "<interactive>:1:6: error: Variable not in scope: pdfs' :: [a]"
     ]
    }
   ],
   "source": [
    "last pdfs'"
   ]
  },
  {
   "cell_type": "markdown",
   "metadata": {},
   "source": [
    "Again we can generalize this."
   ]
  },
  {
   "cell_type": "code",
   "execution_count": 40,
   "metadata": {},
   "outputs": [
    {
     "ename": "",
     "evalue": "",
     "header": "MessageHeader {mhIdentifiers = [\"f9e5e798-fcf3-4e1b-a400-d82f87dee5b3\"], mhParentHeader = Just (MessageHeader {mhIdentifiers = [\"f9e5e798-fcf3-4e1b-a400-d82f87dee5b3\"], mhParentHeader = Nothing, mhMetadata = Metadata (fromList [(\"recordTiming\",Bool False),(\"deletedCells\",Array [String \"7dd31c6e-4675-4373-9af9-7d123374410e\"]),(\"cellId\",String \"2f80aa10-6f24-4bc6-80e9-ed905f46a1fa\")]), mhMessageId = UUID {uuidToString = \"24e99553-49e1-4ab7-a562-986887f2b049\"}, mhSessionId = UUID {uuidToString = \"f9e5e798-fcf3-4e1b-a400-d82f87dee5b3\"}, mhUsername = \"\", mhMsgType = ExecuteRequestMessage}), mhMetadata = Metadata (fromList []), mhMessageId = UUID {uuidToString = \"1d1cd52e-2d42-46c7-94a9-9ef6c989c93e\"}, mhSessionId = UUID {uuidToString = \"f9e5e798-fcf3-4e1b-a400-d82f87dee5b3\"}, mhUsername = \"\", mhMsgType = ExecuteErrorMessage}",
     "output_type": "error",
     "traceback": [
      "<interactive>:3:27: error:\n    • Data constructor not in scope: Normal :: t1 -> LS.Sym n -> d0 t0\n    • Perhaps you meant one of these: ‘R.Normal’ (imported from Data.Random), ‘IHaskellTH.NormalB’ (imported from Language.Haskell.TH), ‘IHaskellTH.NormalC’ (imported from Language.Haskell.TH)\n<interactive>:3:58: error: Variable not in scope: multiSamplesN :: LS.R n -> LS.Sq n -> [t0]"
     ]
    }
   ],
   "source": [
    "pdfsN :: forall n . KnownNat n =>\n",
    "          LS.R n -> LS.Sq n ->  LS.Sym n -> [Double]\n",
    "pdfsN x y cov = map (pdf (Normal (LS.fromList ds) cov)) (multiSamplesN x y)\n",
    "  where\n",
    "    ds = replicate (fromIntegral $ natVal (Proxy :: Proxy n)) 0.0"
   ]
  },
  {
   "cell_type": "markdown",
   "metadata": {},
   "source": [
    "And test that this also gives the same answer when specialized."
   ]
  },
  {
   "cell_type": "code",
   "execution_count": 41,
   "metadata": {},
   "outputs": [
    {
     "ename": "",
     "evalue": "",
     "header": "MessageHeader {mhIdentifiers = [\"f9e5e798-fcf3-4e1b-a400-d82f87dee5b3\"], mhParentHeader = Just (MessageHeader {mhIdentifiers = [\"f9e5e798-fcf3-4e1b-a400-d82f87dee5b3\"], mhParentHeader = Nothing, mhMetadata = Metadata (fromList [(\"recordTiming\",Bool False),(\"deletedCells\",Array [String \"7dd31c6e-4675-4373-9af9-7d123374410e\"]),(\"cellId\",String \"c8afc3b7-7cfa-4b21-ade0-c833dc81b1f4\")]), mhMessageId = UUID {uuidToString = \"77d5708a-de8a-4ba2-a470-8f0d9d402d69\"}, mhSessionId = UUID {uuidToString = \"f9e5e798-fcf3-4e1b-a400-d82f87dee5b3\"}, mhUsername = \"\", mhMsgType = ExecuteRequestMessage}), mhMetadata = Metadata (fromList []), mhMessageId = UUID {uuidToString = \"f24245da-ebb0-4785-a747-402e16180280\"}, mhSessionId = UUID {uuidToString = \"f9e5e798-fcf3-4e1b-a400-d82f87dee5b3\"}, mhUsername = \"\", mhMsgType = ExecuteErrorMessage}",
     "output_type": "error",
     "traceback": [
      "<interactive>:5:9: error: Variable not in scope: pdfs'\n<interactive>:4:9: error: Variable not in scope: pdfsN :: t1 -> LS.L m0 n0 -> LS.Sym n1 -> t\n<interactive>:4:29: error: Variable not in scope: sigma1\n<interactive>:4:37: error: Variable not in scope: sigma2\n<interactive>:4:63: error: Variable not in scope: rho12 :: LS.ℝ\n<interactive>:4:70: error: Variable not in scope: rho12 :: LS.ℝ\n<interactive>:4:91: error:\n    • Variable not in scope: covv :: LS.Sq n1\n    • Perhaps you meant ‘LA.conv’ (imported from Numeric.LinearAlgebra)"
     ]
    }
   ],
   "source": [
    "test :: [Double]\n",
    "test = zipWith (-) a b\n",
    "  where\n",
    "    a = pdfsN (LS.fromList [sigma1, sigma2]) (LS.matrix [1.0, rho12, rho12, 1.0]) (LS.sym covv)\n",
    "    b = pdfs'"
   ]
  },
  {
   "cell_type": "code",
   "execution_count": 42,
   "metadata": {},
   "outputs": [
    {
     "ename": "",
     "evalue": "",
     "header": "MessageHeader {mhIdentifiers = [\"f9e5e798-fcf3-4e1b-a400-d82f87dee5b3\"], mhParentHeader = Just (MessageHeader {mhIdentifiers = [\"f9e5e798-fcf3-4e1b-a400-d82f87dee5b3\"], mhParentHeader = Nothing, mhMetadata = Metadata (fromList [(\"recordTiming\",Bool False),(\"deletedCells\",Array [String \"7dd31c6e-4675-4373-9af9-7d123374410e\"]),(\"cellId\",String \"9b2d7144-f1c4-4b14-a20d-4bfa6e82e458\")]), mhMessageId = UUID {uuidToString = \"478a43a4-0fe0-4a00-af90-08dca172832b\"}, mhSessionId = UUID {uuidToString = \"f9e5e798-fcf3-4e1b-a400-d82f87dee5b3\"}, mhUsername = \"\", mhMsgType = ExecuteRequestMessage}), mhMetadata = Metadata (fromList []), mhMessageId = UUID {uuidToString = \"6220a585-dc1a-4f3b-b47d-a04f04650244\"}, mhSessionId = UUID {uuidToString = \"f9e5e798-fcf3-4e1b-a400-d82f87dee5b3\"}, mhUsername = \"\", mhMsgType = ExecuteErrorMessage}",
     "output_type": "error",
     "traceback": [
      "<interactive>:1:19: error: Variable not in scope: test :: [a]"
     ]
    }
   ],
   "source": [
    "maximum $ map abs test"
   ]
  },
  {
   "cell_type": "code",
   "execution_count": 43,
   "metadata": {},
   "outputs": [
    {
     "data": {
      "text/html": [
       "<style>/* Styles used for the Hoogle display in the pager */\n",
       ".hoogle-doc {\n",
       "display: block;\n",
       "padding-bottom: 1.3em;\n",
       "padding-left: 0.4em;\n",
       "}\n",
       ".hoogle-code {\n",
       "display: block;\n",
       "font-family: monospace;\n",
       "white-space: pre;\n",
       "}\n",
       ".hoogle-text {\n",
       "display: block;\n",
       "}\n",
       ".hoogle-name {\n",
       "color: green;\n",
       "font-weight: bold;\n",
       "}\n",
       ".hoogle-head {\n",
       "font-weight: bold;\n",
       "}\n",
       ".hoogle-sub {\n",
       "display: block;\n",
       "margin-left: 0.4em;\n",
       "}\n",
       ".hoogle-package {\n",
       "font-weight: bold;\n",
       "font-style: italic;\n",
       "}\n",
       ".hoogle-module {\n",
       "font-weight: bold;\n",
       "}\n",
       ".hoogle-class {\n",
       "font-weight: bold;\n",
       "}\n",
       ".get-type {\n",
       "color: green;\n",
       "font-weight: bold;\n",
       "font-family: monospace;\n",
       "display: block;\n",
       "white-space: pre-wrap;\n",
       "}\n",
       ".show-type {\n",
       "color: green;\n",
       "font-weight: bold;\n",
       "font-family: monospace;\n",
       "margin-left: 1em;\n",
       "}\n",
       ".mono {\n",
       "font-family: monospace;\n",
       "display: block;\n",
       "}\n",
       ".err-msg {\n",
       "color: red;\n",
       "font-style: italic;\n",
       "font-family: monospace;\n",
       "white-space: pre;\n",
       "display: block;\n",
       "}\n",
       "#unshowable {\n",
       "color: red;\n",
       "font-weight: bold;\n",
       "}\n",
       ".err-msg.in.collapse {\n",
       "padding-top: 0.7em;\n",
       "}\n",
       ".highlight-code {\n",
       "white-space: pre;\n",
       "font-family: monospace;\n",
       "}\n",
       ".suggestion-warning { \n",
       "font-weight: bold;\n",
       "color: rgb(200, 130, 0);\n",
       "}\n",
       ".suggestion-error { \n",
       "font-weight: bold;\n",
       "color: red;\n",
       "}\n",
       ".suggestion-name {\n",
       "font-weight: bold;\n",
       "}\n",
       "</style><div class=\"suggestion-name\" style=\"clear:both;\">Use map once</div><div class=\"suggestion-row\" style=\"float: left;\"><div class=\"suggestion-warning\">Found:</div><div class=\"highlight-code\" id=\"haskell\">map cost1 \\$ map (\\ (x, y) -> LS.fromList [x, y]) obs</div></div><div class=\"suggestion-row\" style=\"float: left;\"><div class=\"suggestion-warning\">Why Not:</div><div class=\"highlight-code\" id=\"haskell\">map (cost1 . (\\ (x, y) -> LS.fromList [x, y])) obs</div></div>"
      ],
      "text/plain": [
       "Line 12: Use map once\n",
       "Found:\n",
       "map cost1 $ map (\\ (x, y) -> LS.fromList [x, y]) obs\n",
       "Why not:\n",
       "map (cost1 . (\\ (x, y) -> LS.fromList [x, y])) obs"
      ]
     },
     "metadata": {},
     "output_type": "display_data"
    },
    {
     "ename": "",
     "evalue": "",
     "header": "MessageHeader {mhIdentifiers = [\"f9e5e798-fcf3-4e1b-a400-d82f87dee5b3\"], mhParentHeader = Just (MessageHeader {mhIdentifiers = [\"f9e5e798-fcf3-4e1b-a400-d82f87dee5b3\"], mhParentHeader = Nothing, mhMetadata = Metadata (fromList [(\"recordTiming\",Bool False),(\"deletedCells\",Array [String \"7dd31c6e-4675-4373-9af9-7d123374410e\"]),(\"cellId\",String \"1333b75b-9588-4ebc-9124-3ffb84f7de65\")]), mhMessageId = UUID {uuidToString = \"8d44a986-7098-4eed-a558-c29903f0b0a0\"}, mhSessionId = UUID {uuidToString = \"f9e5e798-fcf3-4e1b-a400-d82f87dee5b3\"}, mhUsername = \"\", mhMsgType = ExecuteRequestMessage}), mhMetadata = Metadata (fromList []), mhMessageId = UUID {uuidToString = \"73bf358a-dc1a-4251-bc71-5f447905065b\"}, mhSessionId = UUID {uuidToString = \"f9e5e798-fcf3-4e1b-a400-d82f87dee5b3\"}, mhUsername = \"\", mhMsgType = ExecuteErrorMessage}",
     "output_type": "error",
     "traceback": [
      "<interactive>:9:18: error:\n    • Data constructor not in scope: Normal :: t0 -> LS.Sym 2 -> d1 (LS.R 2)\n    • Perhaps you meant one of these: ‘R.Normal’ (imported from Data.Random), ‘IHaskellTH.NormalB’ (imported from Language.Haskell.TH), ‘IHaskellTH.NormalC’ (imported from Language.Haskell.TH)\n<interactive>:3:55: error:\n    • Variable not in scope: pdfs :: [Double]\n    • Perhaps you meant ‘pdf’ (imported from Data.Random.Distribution)"
     ]
    }
   ],
   "source": [
    "costNorm :: [(Double, Double)] -> (Double, Double) -> (Double, Double) -> Double -> Double\n",
    "costNorm obs (muX, muY) (varX, varY) tau =\n",
    "  sum $ zipWith (\\x y -> (x - y) * (x - y)) pdfsOfObs pdfs\n",
    "  where\n",
    "    t2 :: LS.Sym 2\n",
    "    t2 = LS.sym $ corrToCov (LS.fromList [sqrt varX, sqrt varY]) (LS.matrix [1.0, tau, tau, 1.0])\n",
    "\n",
    "    cost1 :: LS.R 2 -> Double\n",
    "    cost1 = pdf (Normal (LS.fromList [muX, muY]) t2)\n",
    "\n",
    "    pdfsOfObs :: [Double]\n",
    "    pdfsOfObs = map cost1 $ map (\\(x, y) -> LS.fromList [x, y]) obs"
   ]
  },
  {
   "cell_type": "code",
   "execution_count": 44,
   "metadata": {},
   "outputs": [
    {
     "ename": "",
     "evalue": "",
     "header": "MessageHeader {mhIdentifiers = [\"f9e5e798-fcf3-4e1b-a400-d82f87dee5b3\"], mhParentHeader = Just (MessageHeader {mhIdentifiers = [\"f9e5e798-fcf3-4e1b-a400-d82f87dee5b3\"], mhParentHeader = Nothing, mhMetadata = Metadata (fromList [(\"recordTiming\",Bool False),(\"deletedCells\",Array [String \"7dd31c6e-4675-4373-9af9-7d123374410e\"]),(\"cellId\",String \"3208cc01-2e56-409e-81c8-41307c9b236e\")]), mhMessageId = UUID {uuidToString = \"a41027a4-a260-45da-8805-041fcf6a5366\"}, mhSessionId = UUID {uuidToString = \"f9e5e798-fcf3-4e1b-a400-d82f87dee5b3\"}, mhUsername = \"\", mhMsgType = ExecuteRequestMessage}), mhMetadata = Metadata (fromList []), mhMessageId = UUID {uuidToString = \"6443c128-7a08-44bd-a7d6-d3711b1e0499\"}, mhSessionId = UUID {uuidToString = \"f9e5e798-fcf3-4e1b-a400-d82f87dee5b3\"}, mhUsername = \"\", mhMsgType = ExecuteErrorMessage}",
     "output_type": "error",
     "traceback": [
      "<interactive>:12:19: error:\n    • Data constructor not in scope: Normal :: LS.R 2 -> LS.Sym 2 -> d0 (LS.R 2)\n    • Perhaps you meant one of these: ‘R.Normal’ (imported from Data.Random), ‘IHaskellTH.NormalB’ (imported from Language.Haskell.TH), ‘IHaskellTH.NormalC’ (imported from Language.Haskell.TH)\n<interactive>:3:55: error:\n    • Variable not in scope: pdfs :: [Double]\n    • Perhaps you meant ‘pdf’ (imported from Data.Random.Distribution)"
     ]
    }
   ],
   "source": [
    "costNorm2 :: [LS.R 2] -> LS.R 2 -> LS.R 2 -> LS.Sym 2 -> Double\n",
    "costNorm2 obs mus vars corr =\n",
    "  sum $ zipWith (\\x y -> (x - y) * (x - y)) pdfsOfObs pdfs\n",
    "  where\n",
    "    sigmas :: LS.R 2\n",
    "    sigmas = fromJust $ LS.create $ LA.cmap sqrt $ LS.extract vars\n",
    "\n",
    "    t2 :: LS.Sym 2\n",
    "    t2 = LS.sym $ corrToCov sigmas (LS.unSym corr)\n",
    "\n",
    "    getPdf :: LS.R 2 -> Double\n",
    "    getPdf = pdf (Normal mus t2)\n",
    "\n",
    "    pdfsOfObs :: [Double]\n",
    "    pdfsOfObs = map getPdf obs"
   ]
  },
  {
   "cell_type": "markdown",
   "metadata": {},
   "source": [
    "And then generalize fully."
   ]
  },
  {
   "cell_type": "code",
   "execution_count": 45,
   "metadata": {},
   "outputs": [
    {
     "ename": "",
     "evalue": "",
     "header": "MessageHeader {mhIdentifiers = [\"f9e5e798-fcf3-4e1b-a400-d82f87dee5b3\"], mhParentHeader = Just (MessageHeader {mhIdentifiers = [\"f9e5e798-fcf3-4e1b-a400-d82f87dee5b3\"], mhParentHeader = Nothing, mhMetadata = Metadata (fromList [(\"recordTiming\",Bool False),(\"deletedCells\",Array [String \"7dd31c6e-4675-4373-9af9-7d123374410e\"]),(\"cellId\",String \"8f775e47-ba83-4855-919b-e062ccbd927e\")]), mhMessageId = UUID {uuidToString = \"89b29806-3c01-4abd-ba30-a0a2ba612ad3\"}, mhSessionId = UUID {uuidToString = \"f9e5e798-fcf3-4e1b-a400-d82f87dee5b3\"}, mhUsername = \"\", mhMsgType = ExecuteRequestMessage}), mhMetadata = Metadata (fromList []), mhMessageId = UUID {uuidToString = \"e24fd890-fec6-474c-b4f0-88c99b462228\"}, mhSessionId = UUID {uuidToString = \"f9e5e798-fcf3-4e1b-a400-d82f87dee5b3\"}, mhUsername = \"\", mhMsgType = ExecuteErrorMessage}",
     "output_type": "error",
     "traceback": [
      "<interactive>:20:17: error: Variable not in scope: pdfsN :: LS.R n -> LS.Sq n -> LS.Sym n -> [Double]\n<interactive>:15:19: error:\n    • Data constructor not in scope: Normal :: LS.R n -> LS.Sym n -> d0 (LS.R n)\n    • Perhaps you meant one of these: ‘R.Normal’ (imported from Data.Random), ‘IHaskellTH.NormalB’ (imported from Language.Haskell.TH), ‘IHaskellTH.NormalC’ (imported from Language.Haskell.TH)"
     ]
    }
   ],
   "source": [
    "costNormN :: forall n . KnownNat n =>\n",
    "             [LS.R n] -> LS.R n ->\n",
    "             LS.R n -> LS.Sym n ->\n",
    "             LS.R n -> LS.Sym n -> Double\n",
    "costNormN obs mus possVars possCorrs genVars genCorrs =\n",
    "  sum $ zipWith (\\x y -> (x - y) * (x - y)) pdfsOfObs pdfsOfGen\n",
    "  where\n",
    "    sigmas :: LS.R n\n",
    "    sigmas = fromJust $ LS.create $ LA.cmap sqrt $ LS.extract possVars\n",
    "\n",
    "    t2 :: LS.Sym n\n",
    "    t2 = LS.sym $ corrToCov sigmas (LS.unSym possCorrs)\n",
    "\n",
    "    getPdf :: LS.R n -> Double\n",
    "    getPdf = pdf (Normal mus t2)\n",
    "\n",
    "    pdfsOfObs :: [Double]\n",
    "    pdfsOfObs = map getPdf obs\n",
    "\n",
    "    pdfsOfGen = pdfsN genVars (LS.unSym genCorrs) cov\n",
    "\n",
    "    taus :: LS.R n\n",
    "    taus = fromJust $ LS.create $ LA.cmap sqrt $ LS.extract genVars\n",
    "\n",
    "    cov :: LS.Sym n\n",
    "    cov = LS.sym $ corrToCov taus (LS.unSym genCorrs)"
   ]
  },
  {
   "cell_type": "code",
   "execution_count": 46,
   "metadata": {},
   "outputs": [
    {
     "data": {
      "text/html": [
       "<style>/* Styles used for the Hoogle display in the pager */\n",
       ".hoogle-doc {\n",
       "display: block;\n",
       "padding-bottom: 1.3em;\n",
       "padding-left: 0.4em;\n",
       "}\n",
       ".hoogle-code {\n",
       "display: block;\n",
       "font-family: monospace;\n",
       "white-space: pre;\n",
       "}\n",
       ".hoogle-text {\n",
       "display: block;\n",
       "}\n",
       ".hoogle-name {\n",
       "color: green;\n",
       "font-weight: bold;\n",
       "}\n",
       ".hoogle-head {\n",
       "font-weight: bold;\n",
       "}\n",
       ".hoogle-sub {\n",
       "display: block;\n",
       "margin-left: 0.4em;\n",
       "}\n",
       ".hoogle-package {\n",
       "font-weight: bold;\n",
       "font-style: italic;\n",
       "}\n",
       ".hoogle-module {\n",
       "font-weight: bold;\n",
       "}\n",
       ".hoogle-class {\n",
       "font-weight: bold;\n",
       "}\n",
       ".get-type {\n",
       "color: green;\n",
       "font-weight: bold;\n",
       "font-family: monospace;\n",
       "display: block;\n",
       "white-space: pre-wrap;\n",
       "}\n",
       ".show-type {\n",
       "color: green;\n",
       "font-weight: bold;\n",
       "font-family: monospace;\n",
       "margin-left: 1em;\n",
       "}\n",
       ".mono {\n",
       "font-family: monospace;\n",
       "display: block;\n",
       "}\n",
       ".err-msg {\n",
       "color: red;\n",
       "font-style: italic;\n",
       "font-family: monospace;\n",
       "white-space: pre;\n",
       "display: block;\n",
       "}\n",
       "#unshowable {\n",
       "color: red;\n",
       "font-weight: bold;\n",
       "}\n",
       ".err-msg.in.collapse {\n",
       "padding-top: 0.7em;\n",
       "}\n",
       ".highlight-code {\n",
       "white-space: pre;\n",
       "font-family: monospace;\n",
       "}\n",
       ".suggestion-warning { \n",
       "font-weight: bold;\n",
       "color: rgb(200, 130, 0);\n",
       "}\n",
       ".suggestion-error { \n",
       "font-weight: bold;\n",
       "color: red;\n",
       "}\n",
       ".suggestion-name {\n",
       "font-weight: bold;\n",
       "}\n",
       "</style><div class=\"suggestion-name\" style=\"clear:both;\">Redundant bracket</div><div class=\"suggestion-row\" style=\"float: left;\"><div class=\"suggestion-warning\">Found:</div><div class=\"highlight-code\" id=\"haskell\">[(-1.0), (-1.0), log 1.0, log 1.0, 0.1]</div></div><div class=\"suggestion-row\" style=\"float: left;\"><div class=\"suggestion-warning\">Why Not:</div><div class=\"highlight-code\" id=\"haskell\">[-1.0, (-1.0), log 1.0, log 1.0, 0.1]</div></div><div class=\"suggestion-name\" style=\"clear:both;\">Redundant bracket</div><div class=\"suggestion-row\" style=\"float: left;\"><div class=\"suggestion-warning\">Found:</div><div class=\"highlight-code\" id=\"haskell\">[(-1.0), (-1.0), log 1.0, log 1.0, 0.1]</div></div><div class=\"suggestion-row\" style=\"float: left;\"><div class=\"suggestion-warning\">Why Not:</div><div class=\"highlight-code\" id=\"haskell\">[(-1.0), -1.0, log 1.0, log 1.0, 0.1]</div></div><div class=\"suggestion-name\" style=\"clear:both;\">Redundant bracket</div><div class=\"suggestion-row\" style=\"float: left;\"><div class=\"suggestion-warning\">Found:</div><div class=\"highlight-code\" id=\"haskell\">[1.0, ((2 / pi) * atan x5), ((2 / pi) * atan x5), 1.0]</div></div><div class=\"suggestion-row\" style=\"float: left;\"><div class=\"suggestion-warning\">Why Not:</div><div class=\"highlight-code\" id=\"haskell\">[1.0, (2 / pi) * atan x5, ((2 / pi) * atan x5), 1.0]</div></div><div class=\"suggestion-name\" style=\"clear:both;\">Redundant bracket</div><div class=\"suggestion-row\" style=\"float: left;\"><div class=\"suggestion-warning\">Found:</div><div class=\"highlight-code\" id=\"haskell\">[1.0, ((2 / pi) * atan x5), ((2 / pi) * atan x5), 1.0]</div></div><div class=\"suggestion-row\" style=\"float: left;\"><div class=\"suggestion-warning\">Why Not:</div><div class=\"highlight-code\" id=\"haskell\">[1.0, ((2 / pi) * atan x5), (2 / pi) * atan x5, 1.0]</div></div>"
      ],
      "text/plain": [
       "Line 2: Redundant bracket\n",
       "Found:\n",
       "[(-1.0), (-1.0), log 1.0, log 1.0, 0.1]\n",
       "Why not:\n",
       "[-1.0, (-1.0), log 1.0, log 1.0, 0.1]Line 2: Redundant bracket\n",
       "Found:\n",
       "[(-1.0), (-1.0), log 1.0, log 1.0, 0.1]\n",
       "Why not:\n",
       "[(-1.0), -1.0, log 1.0, log 1.0, 0.1]Line 14: Redundant bracket\n",
       "Found:\n",
       "[1.0, ((2 / pi) * atan x5), ((2 / pi) * atan x5), 1.0]\n",
       "Why not:\n",
       "[1.0, (2 / pi) * atan x5, ((2 / pi) * atan x5), 1.0]Line 14: Redundant bracket\n",
       "Found:\n",
       "[1.0, ((2 / pi) * atan x5), ((2 / pi) * atan x5), 1.0]\n",
       "Why not:\n",
       "[1.0, ((2 / pi) * atan x5), (2 / pi) * atan x5, 1.0]"
      ]
     },
     "metadata": {},
     "output_type": "display_data"
    },
    {
     "ename": "",
     "evalue": "",
     "header": "MessageHeader {mhIdentifiers = [\"f9e5e798-fcf3-4e1b-a400-d82f87dee5b3\"], mhParentHeader = Just (MessageHeader {mhIdentifiers = [\"f9e5e798-fcf3-4e1b-a400-d82f87dee5b3\"], mhParentHeader = Nothing, mhMetadata = Metadata (fromList [(\"recordTiming\",Bool False),(\"deletedCells\",Array [String \"7dd31c6e-4675-4373-9af9-7d123374410e\"]),(\"cellId\",String \"f27b8525-ad3f-49cf-b19f-2b476694bbce\")]), mhMessageId = UUID {uuidToString = \"8bc15d96-15fe-4771-929b-f6143bf66551\"}, mhSessionId = UUID {uuidToString = \"f9e5e798-fcf3-4e1b-a400-d82f87dee5b3\"}, mhUsername = \"\", mhMsgType = ExecuteRequestMessage}), mhMetadata = Metadata (fromList []), mhMessageId = UUID {uuidToString = \"34ab3335-eb41-48ad-acdc-e38dc10fea1d\"}, mhSessionId = UUID {uuidToString = \"f9e5e798-fcf3-4e1b-a400-d82f87dee5b3\"}, mhUsername = \"\", mhMsgType = ExecuteErrorMessage}",
     "output_type": "error",
     "traceback": [
      "<interactive>:5:7: error: Variable not in scope: costNorm2 :: [b0] -> t0 -> LS.R 2 -> LS.Sym 2 -> Double"
     ]
    }
   ],
   "source": [
    "infer2 :: [(Double, Double)] -> R s (Double, [Double])\n",
    "infer2 obs = cmaes co[0.0, 0.0, log 3.0, log 1.5, 0.5] [(-1.0), (-1.0), log 1.0, log 1.0, 0.1] [1.0, 1.0, log 5.0, log 3.0, 0.9]\n",
    "  where\n",
    "    co [x1, x2, x3, x4, x5] =\n",
    "      costNorm2 (map (\\(x, y) -> LS.fromList [x, y]) obs)\n",
    "                 (LS.fromList [x1, x2])\n",
    "                 varV\n",
    "                 corrM\n",
    "      where\n",
    "        varV :: LS.R 2\n",
    "        varV   = LS.fromList [exp x3, exp x4]\n",
    "        corrM :: LS.Sym 2\n",
    "        corrM  = LS.sym $\n",
    "                 LS.matrix [1.0, ((2 / pi) * atan x5),\n",
    "                            ((2 / pi) * atan x5), 1.0]\n",
    "    co _                    =\n",
    "      error \"infer2 wrong number of elements\""
   ]
  },
  {
   "cell_type": "code",
   "execution_count": 47,
   "metadata": {},
   "outputs": [
    {
     "ename": "",
     "evalue": "",
     "header": "MessageHeader {mhIdentifiers = [\"f9e5e798-fcf3-4e1b-a400-d82f87dee5b3\"], mhParentHeader = Just (MessageHeader {mhIdentifiers = [\"f9e5e798-fcf3-4e1b-a400-d82f87dee5b3\"], mhParentHeader = Nothing, mhMetadata = Metadata (fromList [(\"recordTiming\",Bool False),(\"deletedCells\",Array [String \"7dd31c6e-4675-4373-9af9-7d123374410e\"]),(\"cellId\",String \"e6a3b197-4c37-45b3-9497-24e288152105\")]), mhMessageId = UUID {uuidToString = \"cd679186-a589-4f37-91f0-119997bfaaf2\"}, mhSessionId = UUID {uuidToString = \"f9e5e798-fcf3-4e1b-a400-d82f87dee5b3\"}, mhUsername = \"\", mhMsgType = ExecuteRequestMessage}), mhMetadata = Metadata (fromList []), mhMessageId = UUID {uuidToString = \"21c05def-4bfe-48b9-9e2b-60cfded5e85b\"}, mhSessionId = UUID {uuidToString = \"f9e5e798-fcf3-4e1b-a400-d82f87dee5b3\"}, mhUsername = \"\", mhMsgType = ExecuteErrorMessage}",
     "output_type": "error",
     "traceback": [
      "<interactive>:1:11: error:\n    • Ambiguous type variable ‘a0’ arising from a use of ‘R.runRegion’\n      prevents the constraint ‘(Control.DeepSeq.NFData a0)’ from being solved.\n      Probable fix: use a type annotation to specify what ‘a0’ should be.\n      These potential instances exist:\n        instance [safe] Control.DeepSeq.NFData a => Control.DeepSeq.NFData (LA.Complex a) -- Defined in ‘Control.DeepSeq’\n        instance [safe] (Control.DeepSeq.NFData a, Control.DeepSeq.NFData b) => Control.DeepSeq.NFData (Either a b) -- Defined in ‘Control.DeepSeq’\n        instance [safe] forall k (a :: k). Control.DeepSeq.NFData (Proxy a) -- Defined in ‘Control.DeepSeq’\n        ...plus 30 others\n        ...plus 132 instances involving out-of-scope types\n        (use -fprint-potential-instances to see them all)\n    • In the first argument of ‘GHC.GHCi.ghciStepIO :: forall a. IO a -> IO a’, namely ‘(R.runRegion (infer2 pts))’\n      In a stmt of an interactive GHCi command: result <- GHC.GHCi.ghciStepIO :: forall a. IO a -> IO a (R.runRegion (infer2 pts))\n<interactive>:1:24: error:\n    • Variable not in scope: infer2 :: t0 -> R s a0\n    • Perhaps you meant one of these: ‘IHaskellTH.inferR’ (imported from Language.Haskell.TH), data constructor ‘IHaskellTH.InferR’ (imported from Language.Haskell.TH)\n<interactive>:1:31: error: Variable not in scope: pts"
     ]
    }
   ],
   "source": [
    "result <- R.runRegion (infer2 pts)"
   ]
  },
  {
   "cell_type": "code",
   "execution_count": 48,
   "metadata": {},
   "outputs": [
    {
     "data": {
      "text/html": [
       "<style>/* Styles used for the Hoogle display in the pager */\n",
       ".hoogle-doc {\n",
       "display: block;\n",
       "padding-bottom: 1.3em;\n",
       "padding-left: 0.4em;\n",
       "}\n",
       ".hoogle-code {\n",
       "display: block;\n",
       "font-family: monospace;\n",
       "white-space: pre;\n",
       "}\n",
       ".hoogle-text {\n",
       "display: block;\n",
       "}\n",
       ".hoogle-name {\n",
       "color: green;\n",
       "font-weight: bold;\n",
       "}\n",
       ".hoogle-head {\n",
       "font-weight: bold;\n",
       "}\n",
       ".hoogle-sub {\n",
       "display: block;\n",
       "margin-left: 0.4em;\n",
       "}\n",
       ".hoogle-package {\n",
       "font-weight: bold;\n",
       "font-style: italic;\n",
       "}\n",
       ".hoogle-module {\n",
       "font-weight: bold;\n",
       "}\n",
       ".hoogle-class {\n",
       "font-weight: bold;\n",
       "}\n",
       ".get-type {\n",
       "color: green;\n",
       "font-weight: bold;\n",
       "font-family: monospace;\n",
       "display: block;\n",
       "white-space: pre-wrap;\n",
       "}\n",
       ".show-type {\n",
       "color: green;\n",
       "font-weight: bold;\n",
       "font-family: monospace;\n",
       "margin-left: 1em;\n",
       "}\n",
       ".mono {\n",
       "font-family: monospace;\n",
       "display: block;\n",
       "}\n",
       ".err-msg {\n",
       "color: red;\n",
       "font-style: italic;\n",
       "font-family: monospace;\n",
       "white-space: pre;\n",
       "display: block;\n",
       "}\n",
       "#unshowable {\n",
       "color: red;\n",
       "font-weight: bold;\n",
       "}\n",
       ".err-msg.in.collapse {\n",
       "padding-top: 0.7em;\n",
       "}\n",
       ".highlight-code {\n",
       "white-space: pre;\n",
       "font-family: monospace;\n",
       "}\n",
       ".suggestion-warning { \n",
       "font-weight: bold;\n",
       "color: rgb(200, 130, 0);\n",
       "}\n",
       ".suggestion-error { \n",
       "font-weight: bold;\n",
       "color: red;\n",
       "}\n",
       ".suggestion-name {\n",
       "font-weight: bold;\n",
       "}\n",
       "</style><div class=\"suggestion-name\" style=\"clear:both;\">Redundant bracket</div><div class=\"suggestion-row\" style=\"float: left;\"><div class=\"suggestion-warning\">Found:</div><div class=\"highlight-code\" id=\"haskell\">(snd result) !! 2</div></div><div class=\"suggestion-row\" style=\"float: left;\"><div class=\"suggestion-warning\">Why Not:</div><div class=\"highlight-code\" id=\"haskell\">snd result !! 2</div></div>"
      ],
      "text/plain": [
       "Line 1: Redundant bracket\n",
       "Found:\n",
       "(snd result) !! 2\n",
       "Why not:\n",
       "snd result !! 2"
      ]
     },
     "metadata": {},
     "output_type": "display_data"
    },
    {
     "ename": "",
     "evalue": "",
     "header": "MessageHeader {mhIdentifiers = [\"f9e5e798-fcf3-4e1b-a400-d82f87dee5b3\"], mhParentHeader = Just (MessageHeader {mhIdentifiers = [\"f9e5e798-fcf3-4e1b-a400-d82f87dee5b3\"], mhParentHeader = Nothing, mhMetadata = Metadata (fromList [(\"recordTiming\",Bool False),(\"deletedCells\",Array [String \"7dd31c6e-4675-4373-9af9-7d123374410e\"]),(\"cellId\",String \"a5b5c20e-8a51-45f4-b09f-0b4755a168b9\")]), mhMessageId = UUID {uuidToString = \"62bfd4e8-cbb4-4291-93ac-06b1520a53e3\"}, mhSessionId = UUID {uuidToString = \"f9e5e798-fcf3-4e1b-a400-d82f87dee5b3\"}, mhUsername = \"\", mhMsgType = ExecuteRequestMessage}), mhMetadata = Metadata (fromList []), mhMessageId = UUID {uuidToString = \"19d543bf-3e58-40f3-963d-96bf07c5a0bb\"}, mhSessionId = UUID {uuidToString = \"f9e5e798-fcf3-4e1b-a400-d82f87dee5b3\"}, mhUsername = \"\", mhMsgType = ExecuteErrorMessage}",
     "output_type": "error",
     "traceback": [
      "<interactive>:1:11: error: Variable not in scope: result :: (a0, [a])"
     ]
    }
   ],
   "source": [
    "exp ((snd result)!!2)"
   ]
  },
  {
   "cell_type": "code",
   "execution_count": 49,
   "metadata": {},
   "outputs": [
    {
     "data": {
      "text/html": [
       "<style>/* Styles used for the Hoogle display in the pager */\n",
       ".hoogle-doc {\n",
       "display: block;\n",
       "padding-bottom: 1.3em;\n",
       "padding-left: 0.4em;\n",
       "}\n",
       ".hoogle-code {\n",
       "display: block;\n",
       "font-family: monospace;\n",
       "white-space: pre;\n",
       "}\n",
       ".hoogle-text {\n",
       "display: block;\n",
       "}\n",
       ".hoogle-name {\n",
       "color: green;\n",
       "font-weight: bold;\n",
       "}\n",
       ".hoogle-head {\n",
       "font-weight: bold;\n",
       "}\n",
       ".hoogle-sub {\n",
       "display: block;\n",
       "margin-left: 0.4em;\n",
       "}\n",
       ".hoogle-package {\n",
       "font-weight: bold;\n",
       "font-style: italic;\n",
       "}\n",
       ".hoogle-module {\n",
       "font-weight: bold;\n",
       "}\n",
       ".hoogle-class {\n",
       "font-weight: bold;\n",
       "}\n",
       ".get-type {\n",
       "color: green;\n",
       "font-weight: bold;\n",
       "font-family: monospace;\n",
       "display: block;\n",
       "white-space: pre-wrap;\n",
       "}\n",
       ".show-type {\n",
       "color: green;\n",
       "font-weight: bold;\n",
       "font-family: monospace;\n",
       "margin-left: 1em;\n",
       "}\n",
       ".mono {\n",
       "font-family: monospace;\n",
       "display: block;\n",
       "}\n",
       ".err-msg {\n",
       "color: red;\n",
       "font-style: italic;\n",
       "font-family: monospace;\n",
       "white-space: pre;\n",
       "display: block;\n",
       "}\n",
       "#unshowable {\n",
       "color: red;\n",
       "font-weight: bold;\n",
       "}\n",
       ".err-msg.in.collapse {\n",
       "padding-top: 0.7em;\n",
       "}\n",
       ".highlight-code {\n",
       "white-space: pre;\n",
       "font-family: monospace;\n",
       "}\n",
       ".suggestion-warning { \n",
       "font-weight: bold;\n",
       "color: rgb(200, 130, 0);\n",
       "}\n",
       ".suggestion-error { \n",
       "font-weight: bold;\n",
       "color: red;\n",
       "}\n",
       ".suggestion-name {\n",
       "font-weight: bold;\n",
       "}\n",
       "</style><div class=\"suggestion-name\" style=\"clear:both;\">Redundant bracket</div><div class=\"suggestion-row\" style=\"float: left;\"><div class=\"suggestion-warning\">Found:</div><div class=\"highlight-code\" id=\"haskell\">(snd result) !! 3</div></div><div class=\"suggestion-row\" style=\"float: left;\"><div class=\"suggestion-warning\">Why Not:</div><div class=\"highlight-code\" id=\"haskell\">snd result !! 3</div></div>"
      ],
      "text/plain": [
       "Line 1: Redundant bracket\n",
       "Found:\n",
       "(snd result) !! 3\n",
       "Why not:\n",
       "snd result !! 3"
      ]
     },
     "metadata": {},
     "output_type": "display_data"
    },
    {
     "ename": "",
     "evalue": "",
     "header": "MessageHeader {mhIdentifiers = [\"f9e5e798-fcf3-4e1b-a400-d82f87dee5b3\"], mhParentHeader = Just (MessageHeader {mhIdentifiers = [\"f9e5e798-fcf3-4e1b-a400-d82f87dee5b3\"], mhParentHeader = Nothing, mhMetadata = Metadata (fromList [(\"recordTiming\",Bool False),(\"deletedCells\",Array [String \"7dd31c6e-4675-4373-9af9-7d123374410e\"]),(\"cellId\",String \"f53754a2-211b-44fc-b7b8-53b3cbf6810b\")]), mhMessageId = UUID {uuidToString = \"8a2cfff6-efe3-465b-be69-440de5418ff6\"}, mhSessionId = UUID {uuidToString = \"f9e5e798-fcf3-4e1b-a400-d82f87dee5b3\"}, mhUsername = \"\", mhMsgType = ExecuteRequestMessage}), mhMetadata = Metadata (fromList []), mhMessageId = UUID {uuidToString = \"45ad96f6-9bae-4dbd-bac1-9797c4c4742b\"}, mhSessionId = UUID {uuidToString = \"f9e5e798-fcf3-4e1b-a400-d82f87dee5b3\"}, mhUsername = \"\", mhMsgType = ExecuteErrorMessage}",
     "output_type": "error",
     "traceback": [
      "<interactive>:1:11: error: Variable not in scope: result :: (a0, [a])"
     ]
    }
   ],
   "source": [
    "exp ((snd result)!!3)"
   ]
  },
  {
   "cell_type": "code",
   "execution_count": 50,
   "metadata": {},
   "outputs": [
    {
     "data": {
      "text/html": [
       "<style>/* Styles used for the Hoogle display in the pager */\n",
       ".hoogle-doc {\n",
       "display: block;\n",
       "padding-bottom: 1.3em;\n",
       "padding-left: 0.4em;\n",
       "}\n",
       ".hoogle-code {\n",
       "display: block;\n",
       "font-family: monospace;\n",
       "white-space: pre;\n",
       "}\n",
       ".hoogle-text {\n",
       "display: block;\n",
       "}\n",
       ".hoogle-name {\n",
       "color: green;\n",
       "font-weight: bold;\n",
       "}\n",
       ".hoogle-head {\n",
       "font-weight: bold;\n",
       "}\n",
       ".hoogle-sub {\n",
       "display: block;\n",
       "margin-left: 0.4em;\n",
       "}\n",
       ".hoogle-package {\n",
       "font-weight: bold;\n",
       "font-style: italic;\n",
       "}\n",
       ".hoogle-module {\n",
       "font-weight: bold;\n",
       "}\n",
       ".hoogle-class {\n",
       "font-weight: bold;\n",
       "}\n",
       ".get-type {\n",
       "color: green;\n",
       "font-weight: bold;\n",
       "font-family: monospace;\n",
       "display: block;\n",
       "white-space: pre-wrap;\n",
       "}\n",
       ".show-type {\n",
       "color: green;\n",
       "font-weight: bold;\n",
       "font-family: monospace;\n",
       "margin-left: 1em;\n",
       "}\n",
       ".mono {\n",
       "font-family: monospace;\n",
       "display: block;\n",
       "}\n",
       ".err-msg {\n",
       "color: red;\n",
       "font-style: italic;\n",
       "font-family: monospace;\n",
       "white-space: pre;\n",
       "display: block;\n",
       "}\n",
       "#unshowable {\n",
       "color: red;\n",
       "font-weight: bold;\n",
       "}\n",
       ".err-msg.in.collapse {\n",
       "padding-top: 0.7em;\n",
       "}\n",
       ".highlight-code {\n",
       "white-space: pre;\n",
       "font-family: monospace;\n",
       "}\n",
       ".suggestion-warning { \n",
       "font-weight: bold;\n",
       "color: rgb(200, 130, 0);\n",
       "}\n",
       ".suggestion-error { \n",
       "font-weight: bold;\n",
       "color: red;\n",
       "}\n",
       ".suggestion-name {\n",
       "font-weight: bold;\n",
       "}\n",
       "</style><div class=\"suggestion-name\" style=\"clear:both;\">Redundant bracket</div><div class=\"suggestion-row\" style=\"float: left;\"><div class=\"suggestion-warning\">Found:</div><div class=\"highlight-code\" id=\"haskell\">(atan ((snd result) !! 4)) * 2</div></div><div class=\"suggestion-row\" style=\"float: left;\"><div class=\"suggestion-warning\">Why Not:</div><div class=\"highlight-code\" id=\"haskell\">atan ((snd result) !! 4) * 2</div></div><div class=\"suggestion-name\" style=\"clear:both;\">Redundant bracket</div><div class=\"suggestion-row\" style=\"float: left;\"><div class=\"suggestion-warning\">Found:</div><div class=\"highlight-code\" id=\"haskell\">(snd result) !! 4</div></div><div class=\"suggestion-row\" style=\"float: left;\"><div class=\"suggestion-warning\">Why Not:</div><div class=\"highlight-code\" id=\"haskell\">snd result !! 4</div></div>"
      ],
      "text/plain": [
       "Line 1: Redundant bracket\n",
       "Found:\n",
       "(atan ((snd result) !! 4)) * 2\n",
       "Why not:\n",
       "atan ((snd result) !! 4) * 2Line 1: Redundant bracket\n",
       "Found:\n",
       "(snd result) !! 4\n",
       "Why not:\n",
       "snd result !! 4"
      ]
     },
     "metadata": {},
     "output_type": "display_data"
    },
    {
     "ename": "",
     "evalue": "",
     "header": "MessageHeader {mhIdentifiers = [\"f9e5e798-fcf3-4e1b-a400-d82f87dee5b3\"], mhParentHeader = Just (MessageHeader {mhIdentifiers = [\"f9e5e798-fcf3-4e1b-a400-d82f87dee5b3\"], mhParentHeader = Nothing, mhMetadata = Metadata (fromList [(\"recordTiming\",Bool False),(\"deletedCells\",Array [String \"7dd31c6e-4675-4373-9af9-7d123374410e\"]),(\"cellId\",String \"f7e02379-5505-417a-8f93-d3554163f45d\")]), mhMessageId = UUID {uuidToString = \"ae929574-4939-4f63-805b-48c813f6906c\"}, mhSessionId = UUID {uuidToString = \"f9e5e798-fcf3-4e1b-a400-d82f87dee5b3\"}, mhUsername = \"\", mhMsgType = ExecuteRequestMessage}), mhMetadata = Metadata (fromList []), mhMessageId = UUID {uuidToString = \"ffce1f9d-4c51-45ad-882a-017d709e88da\"}, mhSessionId = UUID {uuidToString = \"f9e5e798-fcf3-4e1b-a400-d82f87dee5b3\"}, mhUsername = \"\", mhMsgType = ExecuteErrorMessage}",
     "output_type": "error",
     "traceback": [
      "<interactive>:1:13: error: Variable not in scope: result :: (a0, [a])"
     ]
    }
   ],
   "source": [
    "(atan ((snd result)!!4)) * 2 / pi"
   ]
  }
 ],
 "metadata": {
  "kernelspec": {
   "display_name": "Haskell - ihaskell-data-env",
   "language": "haskell",
   "name": "ihaskell_ihaskell-data-env"
  },
  "language_info": {
   "codemirror_mode": "ihaskell",
   "file_extension": ".hs",
   "name": "haskell",
   "pygments_lexer": "Haskell",
   "version": "8.6.5"
  }
 },
 "nbformat": 4,
 "nbformat_minor": 4
}
