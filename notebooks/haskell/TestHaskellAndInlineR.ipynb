{
 "cells": [
  {
   "cell_type": "code",
   "execution_count": 1,
   "metadata": {
    "collapsed": false,
    "jupyter": {
     "outputs_hidden": false
    }
   },
   "outputs": [],
   "source": [
    ":set -fno-ghci-sandbox"
   ]
  },
  {
   "cell_type": "code",
   "execution_count": 2,
   "metadata": {
    "collapsed": false,
    "jupyter": {
     "outputs_hidden": false
    }
   },
   "outputs": [
    {
     "data": {
      "text/html": [
       "<style>/* Styles used for the Hoogle display in the pager */\n",
       ".hoogle-doc {\n",
       "display: block;\n",
       "padding-bottom: 1.3em;\n",
       "padding-left: 0.4em;\n",
       "}\n",
       ".hoogle-code {\n",
       "display: block;\n",
       "font-family: monospace;\n",
       "white-space: pre;\n",
       "}\n",
       ".hoogle-text {\n",
       "display: block;\n",
       "}\n",
       ".hoogle-name {\n",
       "color: green;\n",
       "font-weight: bold;\n",
       "}\n",
       ".hoogle-head {\n",
       "font-weight: bold;\n",
       "}\n",
       ".hoogle-sub {\n",
       "display: block;\n",
       "margin-left: 0.4em;\n",
       "}\n",
       ".hoogle-package {\n",
       "font-weight: bold;\n",
       "font-style: italic;\n",
       "}\n",
       ".hoogle-module {\n",
       "font-weight: bold;\n",
       "}\n",
       ".hoogle-class {\n",
       "font-weight: bold;\n",
       "}\n",
       ".get-type {\n",
       "color: green;\n",
       "font-weight: bold;\n",
       "font-family: monospace;\n",
       "display: block;\n",
       "white-space: pre-wrap;\n",
       "}\n",
       ".show-type {\n",
       "color: green;\n",
       "font-weight: bold;\n",
       "font-family: monospace;\n",
       "margin-left: 1em;\n",
       "}\n",
       ".mono {\n",
       "font-family: monospace;\n",
       "display: block;\n",
       "}\n",
       ".err-msg {\n",
       "color: red;\n",
       "font-style: italic;\n",
       "font-family: monospace;\n",
       "white-space: pre;\n",
       "display: block;\n",
       "}\n",
       "#unshowable {\n",
       "color: red;\n",
       "font-weight: bold;\n",
       "}\n",
       ".err-msg.in.collapse {\n",
       "padding-top: 0.7em;\n",
       "}\n",
       ".highlight-code {\n",
       "white-space: pre;\n",
       "font-family: monospace;\n",
       "}\n",
       ".suggestion-warning { \n",
       "font-weight: bold;\n",
       "color: rgb(200, 130, 0);\n",
       "}\n",
       ".suggestion-error { \n",
       "font-weight: bold;\n",
       "color: red;\n",
       "}\n",
       ".suggestion-name {\n",
       "font-weight: bold;\n",
       "}\n",
       "</style><div class=\"suggestion-name\" style=\"clear:both;\">Unused LANGUAGE pragma</div><div class=\"suggestion-row\" style=\"float: left;\"><div class=\"suggestion-warning\">Found:</div><div class=\"highlight-code\" id=\"haskell\">{-# LANGUAGE TemplateHaskell #-}</div></div><div class=\"suggestion-row\" style=\"float: left;\"><div class=\"suggestion-warning\">Why Not:</div><div class=\"highlight-code\" id=\"haskell\"></div></div><div class=\"suggestion-name\" style=\"clear:both;\">Unused LANGUAGE pragma</div><div class=\"suggestion-row\" style=\"float: left;\"><div class=\"suggestion-warning\">Found:</div><div class=\"highlight-code\" id=\"haskell\">{-# LANGUAGE QuasiQuotes #-}</div></div><div class=\"suggestion-row\" style=\"float: left;\"><div class=\"suggestion-warning\">Why Not:</div><div class=\"highlight-code\" id=\"haskell\"></div></div>"
      ],
      "text/plain": [
       "Line 1: Unused LANGUAGE pragma\n",
       "Found:\n",
       "{-# LANGUAGE TemplateHaskell #-}\n",
       "Why not:\n",
       "Line 2: Unused LANGUAGE pragma\n",
       "Found:\n",
       "{-# LANGUAGE QuasiQuotes #-}\n",
       "Why not:"
      ]
     },
     "metadata": {},
     "output_type": "display_data"
    }
   ],
   "source": [
    "{-# LANGUAGE TemplateHaskell #-}\n",
    "{-# LANGUAGE QuasiQuotes #-}"
   ]
  },
  {
   "cell_type": "code",
   "execution_count": 3,
   "metadata": {
    "collapsed": false,
    "jupyter": {
     "outputs_hidden": false
    }
   },
   "outputs": [
    {
     "ename": "",
     "evalue": "",
     "header": "MessageHeader {mhIdentifiers = [\"e97c1343-3bbd-42c2-936a-7938c49d60c0\"], mhParentHeader = Just (MessageHeader {mhIdentifiers = [\"e97c1343-3bbd-42c2-936a-7938c49d60c0\"], mhParentHeader = Nothing, mhMetadata = Metadata (fromList [(\"jupyter\",Object (fromList [(\"outputs_hidden\",Bool False)])),(\"recordTiming\",Bool False),(\"deletedCells\",Array []),(\"cellId\",String \"625103c3-4a07-4354-bada-72f2f4e0dc7b\"),(\"collapsed\",Bool False)]), mhMessageId = UUID {uuidToString = \"de22f67d-6272-48bb-8ef4-8cdc2a415d04\"}, mhSessionId = UUID {uuidToString = \"e97c1343-3bbd-42c2-936a-7938c49d60c0\"}, mhUsername = \"\", mhMsgType = ExecuteRequestMessage, mhBuffers = []}), mhMetadata = Metadata (fromList []), mhMessageId = UUID {uuidToString = \"4c0b6e48-6a57-4ab4-b085-af27ce91a2c2\"}, mhSessionId = UUID {uuidToString = \"e97c1343-3bbd-42c2-936a-7938c49d60c0\"}, mhUsername = \"\", mhMsgType = ExecuteErrorMessage, mhBuffers = []}",
     "output_type": "error",
     "traceback": [
      "Parse error (line 1, column 1): Unknown directive: 'show'."
     ]
    }
   ],
   "source": [
    ":show modules"
   ]
  },
  {
   "cell_type": "code",
   "execution_count": 4,
   "metadata": {
    "collapsed": false,
    "jupyter": {
     "outputs_hidden": false
    }
   },
   "outputs": [],
   "source": [
    "import qualified Language.R as R\n",
    "import Language.R.QQ"
   ]
  },
  {
   "cell_type": "code",
   "execution_count": 5,
   "metadata": {
    "collapsed": false,
    "jupyter": {
     "outputs_hidden": false
    }
   },
   "outputs": [
    {
     "data": {
      "text/html": [
       "<style>/* Styles used for the Hoogle display in the pager */\n",
       ".hoogle-doc {\n",
       "display: block;\n",
       "padding-bottom: 1.3em;\n",
       "padding-left: 0.4em;\n",
       "}\n",
       ".hoogle-code {\n",
       "display: block;\n",
       "font-family: monospace;\n",
       "white-space: pre;\n",
       "}\n",
       ".hoogle-text {\n",
       "display: block;\n",
       "}\n",
       ".hoogle-name {\n",
       "color: green;\n",
       "font-weight: bold;\n",
       "}\n",
       ".hoogle-head {\n",
       "font-weight: bold;\n",
       "}\n",
       ".hoogle-sub {\n",
       "display: block;\n",
       "margin-left: 0.4em;\n",
       "}\n",
       ".hoogle-package {\n",
       "font-weight: bold;\n",
       "font-style: italic;\n",
       "}\n",
       ".hoogle-module {\n",
       "font-weight: bold;\n",
       "}\n",
       ".hoogle-class {\n",
       "font-weight: bold;\n",
       "}\n",
       ".get-type {\n",
       "color: green;\n",
       "font-weight: bold;\n",
       "font-family: monospace;\n",
       "display: block;\n",
       "white-space: pre-wrap;\n",
       "}\n",
       ".show-type {\n",
       "color: green;\n",
       "font-weight: bold;\n",
       "font-family: monospace;\n",
       "margin-left: 1em;\n",
       "}\n",
       ".mono {\n",
       "font-family: monospace;\n",
       "display: block;\n",
       "}\n",
       ".err-msg {\n",
       "color: red;\n",
       "font-style: italic;\n",
       "font-family: monospace;\n",
       "white-space: pre;\n",
       "display: block;\n",
       "}\n",
       "#unshowable {\n",
       "color: red;\n",
       "font-weight: bold;\n",
       "}\n",
       ".err-msg.in.collapse {\n",
       "padding-top: 0.7em;\n",
       "}\n",
       ".highlight-code {\n",
       "white-space: pre;\n",
       "font-family: monospace;\n",
       "}\n",
       ".suggestion-warning { \n",
       "font-weight: bold;\n",
       "color: rgb(200, 130, 0);\n",
       "}\n",
       ".suggestion-error { \n",
       "font-weight: bold;\n",
       "color: red;\n",
       "}\n",
       ".suggestion-name {\n",
       "font-weight: bold;\n",
       "}\n",
       "</style><span class='get-type'>R.runRegion :: forall a. NFData a => (forall s. R s a) -> IO a</span>"
      ],
      "text/plain": [
       "R.runRegion :: forall a. NFData a => (forall s. R s a) -> IO a"
      ]
     },
     "metadata": {},
     "output_type": "display_data"
    }
   ],
   "source": [
    ":t R.runRegion"
   ]
  },
  {
   "cell_type": "code",
   "execution_count": 6,
   "metadata": {
    "collapsed": false,
    "jupyter": {
     "outputs_hidden": false
    }
   },
   "outputs": [
    {
     "data": {
      "text/html": [
       "<style>/* Styles used for the Hoogle display in the pager */\n",
       ".hoogle-doc {\n",
       "display: block;\n",
       "padding-bottom: 1.3em;\n",
       "padding-left: 0.4em;\n",
       "}\n",
       ".hoogle-code {\n",
       "display: block;\n",
       "font-family: monospace;\n",
       "white-space: pre;\n",
       "}\n",
       ".hoogle-text {\n",
       "display: block;\n",
       "}\n",
       ".hoogle-name {\n",
       "color: green;\n",
       "font-weight: bold;\n",
       "}\n",
       ".hoogle-head {\n",
       "font-weight: bold;\n",
       "}\n",
       ".hoogle-sub {\n",
       "display: block;\n",
       "margin-left: 0.4em;\n",
       "}\n",
       ".hoogle-package {\n",
       "font-weight: bold;\n",
       "font-style: italic;\n",
       "}\n",
       ".hoogle-module {\n",
       "font-weight: bold;\n",
       "}\n",
       ".hoogle-class {\n",
       "font-weight: bold;\n",
       "}\n",
       ".get-type {\n",
       "color: green;\n",
       "font-weight: bold;\n",
       "font-family: monospace;\n",
       "display: block;\n",
       "white-space: pre-wrap;\n",
       "}\n",
       ".show-type {\n",
       "color: green;\n",
       "font-weight: bold;\n",
       "font-family: monospace;\n",
       "margin-left: 1em;\n",
       "}\n",
       ".mono {\n",
       "font-family: monospace;\n",
       "display: block;\n",
       "}\n",
       ".err-msg {\n",
       "color: red;\n",
       "font-style: italic;\n",
       "font-family: monospace;\n",
       "white-space: pre;\n",
       "display: block;\n",
       "}\n",
       "#unshowable {\n",
       "color: red;\n",
       "font-weight: bold;\n",
       "}\n",
       ".err-msg.in.collapse {\n",
       "padding-top: 0.7em;\n",
       "}\n",
       ".highlight-code {\n",
       "white-space: pre;\n",
       "font-family: monospace;\n",
       "}\n",
       ".suggestion-warning { \n",
       "font-weight: bold;\n",
       "color: rgb(200, 130, 0);\n",
       "}\n",
       ".suggestion-error { \n",
       "font-weight: bold;\n",
       "color: red;\n",
       "}\n",
       ".suggestion-name {\n",
       "font-weight: bold;\n",
       "}\n",
       "</style><span class='get-type'>[r| print(pi) |] :: forall (m :: * -> *). MonadR m => m (SomeSEXP (PrimState m))</span>"
      ],
      "text/plain": [
       "[r| print(pi) |] :: forall (m :: * -> *). MonadR m => m (SomeSEXP (PrimState m))"
      ]
     },
     "metadata": {},
     "output_type": "display_data"
    }
   ],
   "source": [
    ":t [r| print(pi) |]"
   ]
  },
  {
   "cell_type": "code",
   "execution_count": 7,
   "metadata": {
    "collapsed": false,
    "jupyter": {
     "outputs_hidden": false
    }
   },
   "outputs": [
    {
     "data": {
      "text/plain": [
       "[1] 3.141593"
      ]
     },
     "metadata": {},
     "output_type": "display_data"
    }
   ],
   "source": [
    "(R.runRegion $ do _ <- [r| print(pi) |]; return ())"
   ]
  },
  {
   "cell_type": "code",
   "execution_count": 8,
   "metadata": {
    "collapsed": false,
    "jupyter": {
     "outputs_hidden": false
    }
   },
   "outputs": [
    {
     "data": {
      "text/plain": [
       "[1] \"compiler\"  \"graphics\"  \"utils\"     \"grDevices\" \"stats\"     \"datasets\" \n",
       "[7] \"methods\"   \"base\""
      ]
     },
     "metadata": {},
     "output_type": "display_data"
    }
   ],
   "source": [
    "R.runRegion $ do x <- [r| loadedNamespaces() |]; [r| print(x_hs) |]; return ()"
   ]
  },
  {
   "cell_type": "code",
   "execution_count": 9,
   "metadata": {
    "collapsed": false,
    "jupyter": {
     "outputs_hidden": false
    }
   },
   "outputs": [
    {
     "data": {
      "text/plain": [
       "[1] \"cmaes\"     \"stats\"     \"graphics\"  \"grDevices\" \"utils\"     \"datasets\" \n",
       "[7] \"methods\"   \"base\""
      ]
     },
     "metadata": {},
     "output_type": "display_data"
    }
   ],
   "source": [
    "R.runRegion $ do x <- [r| library(cmaes) |]; [r| print(x_hs) |]; return ()"
   ]
  },
  {
   "cell_type": "code",
   "execution_count": 10,
   "metadata": {
    "collapsed": false,
    "jupyter": {
     "outputs_hidden": false
    }
   },
   "outputs": [
    {
     "data": {
      "text/plain": [
       "[1] \"compiler\"  \"graphics\"  \"utils\"     \"grDevices\" \"stats\"     \"datasets\" \n",
       "[7] \"cmaes\"     \"methods\"   \"base\""
      ]
     },
     "metadata": {},
     "output_type": "display_data"
    }
   ],
   "source": [
    "R.runRegion $ do x <- [r| loadedNamespaces() |]; [r| print(x_hs) |]; return ()"
   ]
  },
  {
   "cell_type": "code",
   "execution_count": 11,
   "metadata": {
    "collapsed": false,
    "jupyter": {
     "outputs_hidden": false
    }
   },
   "outputs": [
    {
     "data": {
      "text/plain": [
       "$par\n",
       "[1] -0.0003741632  0.0004983696\n",
       "\n",
       "$value\n",
       "[1] 3.883704e-07\n",
       "\n",
       "$counts\n",
       "function gradient \n",
       "      72       NA \n",
       "\n",
       "$convergence\n",
       "[1] 0\n",
       "\n",
       "$message\n",
       "[1] \"Stop fitness reached.\"\n",
       "\n",
       "$constr.violations\n",
       "[1] 0\n",
       "\n",
       "$diagnostic\n",
       "list()\n",
       "\n",
       "attr(,\"class\")\n",
       "[1] \"cma_es.result\""
      ]
     },
     "metadata": {},
     "output_type": "display_data"
    }
   ],
   "source": [
    "R.runRegion $ do x <- [r| cma_es(c(0, 0), function(x, ...) drop(crossprod(x)), lower=rep(-10, 2), upper=rep(10, 2), control=list(stopfitness=1e-5, maxit=400)) |]; [r| print(x_hs) |]; return ()"
   ]
  },
  {
   "cell_type": "code",
   "execution_count": 12,
   "metadata": {
    "collapsed": false,
    "jupyter": {
     "outputs_hidden": false
    }
   },
   "outputs": [],
   "source": [
    ":set -XLambdaCase\n",
    ":set -XDataKinds\n",
    ":set -XGADTs\n",
    ":set -XFlexibleContexts\n",
    ":set -XScopedTypeVariables"
   ]
  },
  {
   "cell_type": "code",
   "execution_count": 13,
   "metadata": {
    "collapsed": false,
    "jupyter": {
     "outputs_hidden": false
    }
   },
   "outputs": [],
   "source": [
    "import qualified Language.R.Matcher as M\n",
    "import qualified Data.Vector.SEXP as V\n",
    "import qualified Language.R.HExp as H\n",
    "import           Language.R (R)"
   ]
  },
  {
   "cell_type": "code",
   "execution_count": 14,
   "metadata": {
    "collapsed": false,
    "jupyter": {
     "outputs_hidden": false
    }
   },
   "outputs": [],
   "source": [
    "int2limVV :: forall s . ([Double] -> Double) -> [Double] -> [Double] -> R s Double\n",
    "int2limVV g l h = do\n",
    "  ss <- [r| hcubature (function (x) matrix(f_hs(x)),\n",
    "                       lowerLimit = l_hs,\n",
    "                       upperLimit = h_hs,\n",
    "                       maxEval = 0,\n",
    "                       vectorInterface=TRUE) |]\n",
    "  R.fromSEXP . R.cast R.SReal <$> [r| ss_hs$integral |]\n",
    "  where\n",
    "    f :: R.SEXP s 'R.Real -> R s [Double]\n",
    "    f w = M.matchOnly go (R.SomeSEXP w) >>= \\case\n",
    "            Left e -> error (show e)\n",
    "            Right xss -> pure $ map g xss\n",
    "      where\n",
    "        go = do\n",
    "           M.hexp R.SReal $ \\(H.Real v) -> do\n",
    "              foo <- M.dim\n",
    "              case foo of\n",
    "                [n,m] -> pure $ map (\\jj -> map (\\ii -> v V.! (jj * n + ii)) [0..n-1]) [0..m-1]\n",
    "                otherwise -> error \"foo\""
   ]
  },
  {
   "cell_type": "code",
   "execution_count": 15,
   "metadata": {
    "collapsed": false,
    "jupyter": {
     "outputs_hidden": false
    }
   },
   "outputs": [],
   "source": [
    "r0 = R.runRegion $ do\n",
    "  _ <- [r| require(cubature) |]\n",
    "  let g :: [Double] -> Double\n",
    "      g [a, b] = exp(negate (a*a + b*b) / 2) / (2 * pi)\n",
    "      g xs     = error $ show xs\n",
    "  int2limVV g [(-3.0), (-3.0)] [3.0, 3.0]"
   ]
  },
  {
   "cell_type": "code",
   "execution_count": 16,
   "metadata": {
    "collapsed": false,
    "jupyter": {
     "outputs_hidden": false
    }
   },
   "outputs": [
    {
     "data": {
      "text/plain": [
       "Loading required package: cubature\n",
       "0.9946063639261128"
      ]
     },
     "metadata": {},
     "output_type": "display_data"
    }
   ],
   "source": [
    "r0"
   ]
  },
  {
   "cell_type": "code",
   "execution_count": 17,
   "metadata": {
    "collapsed": false,
    "jupyter": {
     "outputs_hidden": false
    }
   },
   "outputs": [],
   "source": [
    "cmaes :: forall s . ([Double] -> Double) -> [Double] -> [Double] -> [Double] -> R s (Double, [Double])\n",
    "cmaes g i l h = do\n",
    "  ss <- [r| cma_es (function (x) f_hs(x),\n",
    "                       par = i_hs,\n",
    "                       lower = l_hs,\n",
    "                       upper = h_hs,\n",
    "                       control=list(stopfitness=1e-5, maxit=400)) |]\n",
    "  pars :: [Double] <- R.dynSEXP <$> [r| ss_hs$par |]\n",
    "  value :: Double <- R.dynSEXP <$> [r| ss_hs$value |]\n",
    "  return (value, pars)\n",
    "  where\n",
    "    f :: R.SEXP s 'R.Real -> R s Double\n",
    "    f w = M.matchOnly go (R.SomeSEXP w) >>= \\case\n",
    "            Left e -> error (\"You are here: \" ++ show e)\n",
    "            Right xs -> pure $ g xs\n",
    "      where\n",
    "        go :: M.Matcher s [Double]\n",
    "        go = do\n",
    "           M.hexp R.SReal $ \\(H.Real v) -> do\n",
    "              return $ V.toList v"
   ]
  },
  {
   "cell_type": "code",
   "execution_count": 18,
   "metadata": {
    "collapsed": false,
    "jupyter": {
     "outputs_hidden": false
    }
   },
   "outputs": [
    {
     "data": {
      "text/plain": [
       "(5.933323355495889e-6,[1.1040915600069915e-3,2.1712450765902077e-3])"
      ]
     },
     "metadata": {},
     "output_type": "display_data"
    }
   ],
   "source": [
    "  r0 <- R.runRegion $ do\n",
    "    baz <- [r| require(cmaes) |]\n",
    "    let g :: [Double] -> Double\n",
    "        g [a, b] = a*a + b*b\n",
    "        g xs     = error $ show xs\n",
    "    cmaes g [0.0, 0.0] [(-10.0), (-10.0)] [10.0, 10.0]\n",
    "  print r0"
   ]
  },
  {
   "cell_type": "code",
   "execution_count": 19,
   "metadata": {
    "collapsed": false,
    "jupyter": {
     "outputs_hidden": false
    }
   },
   "outputs": [
    {
     "data": {
      "text/plain": [
       "(5.978419524722198e-6,[-1.8969509661559206e-3,-7.905020642123297e-4,-1.32480302052734e-3])"
      ]
     },
     "metadata": {},
     "output_type": "display_data"
    }
   ],
   "source": [
    "  r1 <- R.runRegion $ do\n",
    "    _ <- [r| require(cmaes) |]\n",
    "    let g :: [Double] -> Double\n",
    "        g [a, b, c] = a*a + b*b + c*c\n",
    "        g xs     = error $ show xs\n",
    "    cmaes g [0.0, 0.0, 0.0] [(-10.0), (-10.0), (-10.0)] [10.0, 10.0, 10.0]\n",
    "  print r1"
   ]
  },
  {
   "cell_type": "markdown",
   "metadata": {},
   "source": [
    "# Example"
   ]
  },
  {
   "cell_type": "code",
   "execution_count": 20,
   "metadata": {
    "collapsed": false,
    "jupyter": {
     "outputs_hidden": false
    }
   },
   "outputs": [
    {
     "ename": "",
     "evalue": "",
     "header": "MessageHeader {mhIdentifiers = [\"e97c1343-3bbd-42c2-936a-7938c49d60c0\"], mhParentHeader = Just (MessageHeader {mhIdentifiers = [\"e97c1343-3bbd-42c2-936a-7938c49d60c0\"], mhParentHeader = Nothing, mhMetadata = Metadata (fromList [(\"jupyter\",Object (fromList [(\"outputs_hidden\",Bool False)])),(\"recordTiming\",Bool False),(\"deletedCells\",Array []),(\"cellId\",String \"470c21f3-4977-4282-b8cc-fdb22bd61553\"),(\"collapsed\",Bool False)]), mhMessageId = UUID {uuidToString = \"fbb255a8-bb85-470e-b171-ad5efc782b55\"}, mhSessionId = UUID {uuidToString = \"e97c1343-3bbd-42c2-936a-7938c49d60c0\"}, mhUsername = \"\", mhMsgType = ExecuteRequestMessage, mhBuffers = []}), mhMetadata = Metadata (fromList []), mhMessageId = UUID {uuidToString = \"b3b889d4-e925-4f5a-a6cf-175f43a6e175\"}, mhSessionId = UUID {uuidToString = \"e97c1343-3bbd-42c2-936a-7938c49d60c0\"}, mhUsername = \"\", mhMsgType = ExecuteErrorMessage, mhBuffers = []}",
     "output_type": "error",
     "traceback": [
      "Parse error (line 1, column 165): parse error on input ‘of’"
     ]
    }
   ],
   "source": [
    "We wish to see if when we are given enough samples from a multivariate normal distribution together with their probability density then we can infer the parameters of the generating distribution using CMAES."
   ]
  },
  {
   "cell_type": "markdown",
   "metadata": {},
   "source": [
    "We need to have a well formed covariance matrix"
   ]
  },
  {
   "cell_type": "markdown",
   "metadata": {},
   "source": [
    "$$\\mathrm{K}_{\\mathrm{XX}}=\\operatorname{cov}[\\mathbf{X}, \\mathbf{X}]=\\mathrm{E}\\left[\\left(\\mathbf{X}-\\mu_{\\mathbf{X}}\\right)\\left(\\mathbf{X}-\\mu_{\\mathbf{X}}\\right)^{\\mathrm{T}}\\right]=\\mathbf{E}\\left[\\mathbf{X} \\mathbf{X}^{T}\\right]-\\mu_{\\mathbf{X}} \\mu_{\\mathbf{X}}^{T}$$"
   ]
  },
  {
   "cell_type": "markdown",
   "metadata": {},
   "source": [
    "We can generate one of these from a vector of variances and a\n",
    " correlation matrix. Recall that in a correlation matrix all the\n",
    " diaganols are $1$ and the other entries are in $[-1,1]$."
   ]
  },
  {
   "cell_type": "markdown",
   "metadata": {},
   "source": [
    "$$\\operatorname{corr}(\\mathbf{X})=\\left(\\operatorname{diag}\\left(\\mathbf{K}_{\\mathbf{X} \\mathbf{X}}\\right)\\right)^{-\\frac{1}{2}} \\mathbf{K}_{\\mathbf{X X}}\\left(\\operatorname{diag}\\left(\\mathbf{K}_{\\mathbf{X} \\mathbf{X}}\\right)\\right)^{-\\frac{1}{2}}$$"
   ]
  },
  {
   "cell_type": "markdown",
   "metadata": {},
   "source": [
    "$$\\sigma^2 = \\operatorname{diag}(\\mathbf{K}_{\\mathbf{XX}})$$"
   ]
  },
  {
   "cell_type": "markdown",
   "metadata": {},
   "source": [
    "$$\\rho = \\operatorname{corr}(\\mathbf{X})$$"
   ]
  },
  {
   "cell_type": "markdown",
   "metadata": {},
   "source": [
    "$$\\rho = \\left(\\operatorname{diag}\\left(\\sigma^2\\right)^{-\\frac{1}{2}}\\right)\n",
    "         \\mathbf{K}_{\\mathbf{X X}}\n",
    "         \\left(\\operatorname{diag}\\left(\\sigma^2)\\right)^{-\\frac{1}{2}}\\right)$$"
   ]
  },
  {
   "cell_type": "markdown",
   "metadata": {},
   "source": [
    "$$\\mathbf{K}_{\\mathbf{XX}} = \\operatorname{diag}(\\mathbf{\\sigma})\\operatorname{corr}(\\mathbf{X})\\operatorname{diag}(\\mathbf{\\sigma})$$"
   ]
  },
  {
   "cell_type": "code",
   "execution_count": 21,
   "metadata": {
    "collapsed": false,
    "jupyter": {
     "outputs_hidden": false
    }
   },
   "outputs": [],
   "source": [
    "import GHC.TypeLits\n",
    "import Data.Proxy"
   ]
  },
  {
   "cell_type": "code",
   "execution_count": 22,
   "metadata": {
    "collapsed": false,
    "jupyter": {
     "outputs_hidden": false
    }
   },
   "outputs": [],
   "source": [
    "import qualified Numeric.LinearAlgebra.Static as LS\n",
    "import Prelude hiding ((<>))\n",
    "import Numeric.LinearAlgebra.Static ((<>))"
   ]
  },
  {
   "cell_type": "code",
   "execution_count": 23,
   "metadata": {
    "collapsed": false,
    "jupyter": {
     "outputs_hidden": false
    }
   },
   "outputs": [],
   "source": [
    "corrToCov :: KnownNat n => LS.R n -> LS.Sq n -> LS.Sq n\n",
    "corrToCov sigma rho = kHalf <> rho <> kHalf\n",
    "  where\n",
    "    kHalf = LS.diag sigma"
   ]
  },
  {
   "cell_type": "markdown",
   "metadata": {},
   "source": [
    "Now we can create example samples from a bivariate normal. Note that\n",
    " we fix the means to be $0$ but this could be generalized\n",
    " straightforwardly."
   ]
  },
  {
   "cell_type": "code",
   "execution_count": 24,
   "metadata": {
    "collapsed": false,
    "jupyter": {
     "outputs_hidden": false
    }
   },
   "outputs": [],
   "source": [
    ":set -XDataKinds"
   ]
  },
  {
   "cell_type": "code",
   "execution_count": 25,
   "metadata": {
    "collapsed": false,
    "jupyter": {
     "outputs_hidden": false
    }
   },
   "outputs": [
    {
     "ename": "",
     "evalue": "",
     "header": "MessageHeader {mhIdentifiers = [\"04ce06a5-0476-4de1-92e0-35aca653c3aa\"], mhParentHeader = Just (MessageHeader {mhIdentifiers = [\"04ce06a5-0476-4de1-92e0-35aca653c3aa\"], mhParentHeader = Nothing, mhMetadata = Metadata (fromList [(\"recordTiming\",Bool False),(\"deletedCells\",Array []),(\"cellId\",String \"18b73384-0f6c-440e-b448-d5f09678fa80\")]), mhMessageId = UUID {uuidToString = \"8f2f41dc-3633-4363-aa29-519aed4ed032\"}, mhSessionId = UUID {uuidToString = \"04ce06a5-0476-4de1-92e0-35aca653c3aa\"}, mhUsername = \"\", mhMsgType = ExecuteRequestMessage, mhBuffers = []}), mhMetadata = Metadata (fromList []), mhMessageId = UUID {uuidToString = \"71d396bb-fccd-459c-a48d-dfc0d5e34e6d\"}, mhSessionId = UUID {uuidToString = \"04ce06a5-0476-4de1-92e0-35aca653c3aa\"}, mhUsername = \"\", mhMsgType = ExecuteErrorMessage, mhBuffers = []}",
     "output_type": "error",
     "traceback": [
      "<interactive>:1:1: error:\n    Could not find module ‘Data.Random.Distribution.Static.MultivariateNormal’\n    Use -v (or `:set -v` in ghci) to see a list of the files searched for."
     ]
    }
   ],
   "source": [
    "import qualified Data.Random as R\n",
    "import Data.Random.Source.PureMT\n",
    "import Control.Monad.State\n",
    "import Data.Random.Distribution.Static.MultivariateNormal"
   ]
  },
  {
   "cell_type": "code",
   "execution_count": 26,
   "metadata": {
    "collapsed": false,
    "jupyter": {
     "outputs_hidden": false
    }
   },
   "outputs": [
    {
     "ename": "",
     "evalue": "",
     "header": "MessageHeader {mhIdentifiers = [\"04ce06a5-0476-4de1-92e0-35aca653c3aa\"], mhParentHeader = Just (MessageHeader {mhIdentifiers = [\"04ce06a5-0476-4de1-92e0-35aca653c3aa\"], mhParentHeader = Nothing, mhMetadata = Metadata (fromList [(\"recordTiming\",Bool False),(\"deletedCells\",Array []),(\"cellId\",String \"c3eac22e-1704-44f0-b5e7-8a3e7668a99a\")]), mhMessageId = UUID {uuidToString = \"e3ea3425-db51-44bd-ad37-89f805c537fe\"}, mhSessionId = UUID {uuidToString = \"04ce06a5-0476-4de1-92e0-35aca653c3aa\"}, mhUsername = \"\", mhMsgType = ExecuteRequestMessage, mhBuffers = []}), mhMetadata = Metadata (fromList []), mhMessageId = UUID {uuidToString = \"70b6a7e9-41c8-4e09-8720-81c60af466db\"}, mhSessionId = UUID {uuidToString = \"04ce06a5-0476-4de1-92e0-35aca653c3aa\"}, mhUsername = \"\", mhMsgType = ExecuteErrorMessage, mhBuffers = []}",
     "output_type": "error",
     "traceback": [
      "<interactive>:8:27: error:\n    • Data constructor not in scope: Normal :: LS.R n0 -> LS.Sym n1 -> d0 (LS.R 2)\n    • Perhaps you meant one of these: ‘R.Normal’ (imported from Data.Random), ‘IHaskellTH.NormalB’ (imported from Language.Haskell.TH), ‘IHaskellTH.NormalC’ (imported from Language.Haskell.TH)"
     ]
    }
   ],
   "source": [
    "nSamples :: Int\n",
    "nSamples = 1000\n",
    "\n",
    "sigma1, sigma2, rho12 :: Double\n",
    "sigma1 = 3.0\n",
    "sigma2 = 1.0\n",
    "rho12 = 0.5\n",
    "\n",
    "singleSample :: R.RVarT (State PureMT) (LS.R 2)\n",
    "singleSample = R.sample $ Normal (LS.vector [0.0, 0.0])\n",
    "               (LS.sym $ LS.matrix [ sigma1, rho12 * sqrt sigma1 * sqrt sigma2\n",
    "                                   , rho12 * sqrt sigma1 * sqrt sigma2, sigma2])\n",
    "\n",
    "multiSamples :: [LS.R 2]\n",
    "multiSamples = evalState (replicateM nSamples $ R.sample singleSample) (pureMT 3)"
   ]
  },
  {
   "cell_type": "markdown",
   "metadata": {},
   "source": [
    "We can generalize this to arbitrary dimensions."
   ]
  },
  {
   "cell_type": "code",
   "execution_count": 27,
   "metadata": {
    "collapsed": false,
    "jupyter": {
     "outputs_hidden": false
    }
   },
   "outputs": [],
   "source": [
    "import qualified Numeric.LinearAlgebra as LA\n",
    "import Data.Maybe ( fromJust )"
   ]
  },
  {
   "cell_type": "code",
   "execution_count": 28,
   "metadata": {
    "collapsed": false,
    "jupyter": {
     "outputs_hidden": false
    }
   },
   "outputs": [
    {
     "ename": "",
     "evalue": "",
     "header": "MessageHeader {mhIdentifiers = [\"04ce06a5-0476-4de1-92e0-35aca653c3aa\"], mhParentHeader = Just (MessageHeader {mhIdentifiers = [\"04ce06a5-0476-4de1-92e0-35aca653c3aa\"], mhParentHeader = Nothing, mhMetadata = Metadata (fromList [(\"recordTiming\",Bool False),(\"deletedCells\",Array []),(\"cellId\",String \"1bbcedc2-fc9d-4ebd-9f1a-e7d1df83fa42\")]), mhMessageId = UUID {uuidToString = \"1631661f-d364-4c1c-85a5-195e3d8edf95\"}, mhSessionId = UUID {uuidToString = \"04ce06a5-0476-4de1-92e0-35aca653c3aa\"}, mhUsername = \"\", mhMsgType = ExecuteRequestMessage, mhBuffers = []}), mhMetadata = Metadata (fromList []), mhMessageId = UUID {uuidToString = \"37c03e62-ca83-4509-b44b-c88a034bd8fb\"}, mhSessionId = UUID {uuidToString = \"04ce06a5-0476-4de1-92e0-35aca653c3aa\"}, mhUsername = \"\", mhMsgType = ExecuteErrorMessage, mhBuffers = []}",
     "output_type": "error",
     "traceback": [
      "<interactive>:3:39: error:\n    • Data constructor not in scope: Normal :: LS.R n0 -> LS.Sym n -> d0 (LS.R n)\n    • Perhaps you meant one of these: ‘R.Normal’ (imported from Data.Random), ‘IHaskellTH.NormalB’ (imported from Language.Haskell.TH), ‘IHaskellTH.NormalC’ (imported from Language.Haskell.TH)\n<interactive>:13:43: error: Variable not in scope: nSamples :: Int"
     ]
    }
   ],
   "source": [
    "singleSampleN :: forall n . KnownNat n =>\n",
    "                 LS.R n -> LS.Sq n -> R.RVarT (State PureMT) (LS.R n)\n",
    "singleSampleN vars corrs = R.sample $ Normal (LS.vector ds) es\n",
    "  where\n",
    "    sigmas :: LS.R n\n",
    "    sigmas = fromJust $ LS.create $ LA.cmap sqrt $ LS.extract vars\n",
    "\n",
    "    es :: LS.Sym n\n",
    "    es = LS.sym $ corrToCov sigmas corrs\n",
    "    ds = replicate (fromIntegral $ natVal (Proxy :: Proxy n)) 0.0\n",
    "\n",
    "multiSamplesN :: forall n . KnownNat n =>\n",
    "                  LS.R n -> LS.Sq n -> [LS.R n]\n",
    "multiSamplesN x y = evalState (replicateM nSamples $ R.sample (singleSampleN x y)) (pureMT 3)"
   ]
  },
  {
   "cell_type": "markdown",
   "metadata": {},
   "source": [
    "We can generate some samples from the bivariate normal using our specialised function."
   ]
  },
  {
   "cell_type": "code",
   "execution_count": 29,
   "metadata": {
    "collapsed": false,
    "jupyter": {
     "outputs_hidden": false
    }
   },
   "outputs": [
    {
     "ename": "",
     "evalue": "",
     "header": "MessageHeader {mhIdentifiers = [\"04ce06a5-0476-4de1-92e0-35aca653c3aa\"], mhParentHeader = Just (MessageHeader {mhIdentifiers = [\"04ce06a5-0476-4de1-92e0-35aca653c3aa\"], mhParentHeader = Nothing, mhMetadata = Metadata (fromList [(\"recordTiming\",Bool False),(\"deletedCells\",Array []),(\"cellId\",String \"70171b5b-37d4-4909-aaaa-074e11c34d29\")]), mhMessageId = UUID {uuidToString = \"da5c1eea-d42c-4fc1-a3a7-4ee86bbc7fbd\"}, mhSessionId = UUID {uuidToString = \"04ce06a5-0476-4de1-92e0-35aca653c3aa\"}, mhUsername = \"\", mhMsgType = ExecuteRequestMessage, mhBuffers = []}), mhMetadata = Metadata (fromList []), mhMessageId = UUID {uuidToString = \"d2c78804-fbc8-4d46-a5d5-ac741d191703\"}, mhSessionId = UUID {uuidToString = \"04ce06a5-0476-4de1-92e0-35aca653c3aa\"}, mhUsername = \"\", mhMsgType = ExecuteErrorMessage, mhBuffers = []}",
     "output_type": "error",
     "traceback": [
      "<interactive>:2:13: error: Variable not in scope: multiSamples :: [LS.R n0]"
     ]
    }
   ],
   "source": [
    "pts :: [(Double, Double)]\n",
    "pts = map f multiSamples\n",
    "  where\n",
    "    f z = (x, y)\n",
    "      where\n",
    "        (x, t) = LS.headTail z\n",
    "        (y, _) = LS.headTail t"
   ]
  },
  {
   "cell_type": "markdown",
   "metadata": {},
   "source": [
    "Let's check our generalized function matches."
   ]
  },
  {
   "cell_type": "code",
   "execution_count": 30,
   "metadata": {
    "collapsed": false,
    "jupyter": {
     "outputs_hidden": false
    }
   },
   "outputs": [
    {
     "data": {
      "text/html": [
       "<style>/* Styles used for the Hoogle display in the pager */\n",
       ".hoogle-doc {\n",
       "display: block;\n",
       "padding-bottom: 1.3em;\n",
       "padding-left: 0.4em;\n",
       "}\n",
       ".hoogle-code {\n",
       "display: block;\n",
       "font-family: monospace;\n",
       "white-space: pre;\n",
       "}\n",
       ".hoogle-text {\n",
       "display: block;\n",
       "}\n",
       ".hoogle-name {\n",
       "color: green;\n",
       "font-weight: bold;\n",
       "}\n",
       ".hoogle-head {\n",
       "font-weight: bold;\n",
       "}\n",
       ".hoogle-sub {\n",
       "display: block;\n",
       "margin-left: 0.4em;\n",
       "}\n",
       ".hoogle-package {\n",
       "font-weight: bold;\n",
       "font-style: italic;\n",
       "}\n",
       ".hoogle-module {\n",
       "font-weight: bold;\n",
       "}\n",
       ".hoogle-class {\n",
       "font-weight: bold;\n",
       "}\n",
       ".get-type {\n",
       "color: green;\n",
       "font-weight: bold;\n",
       "font-family: monospace;\n",
       "display: block;\n",
       "white-space: pre-wrap;\n",
       "}\n",
       ".show-type {\n",
       "color: green;\n",
       "font-weight: bold;\n",
       "font-family: monospace;\n",
       "margin-left: 1em;\n",
       "}\n",
       ".mono {\n",
       "font-family: monospace;\n",
       "display: block;\n",
       "}\n",
       ".err-msg {\n",
       "color: red;\n",
       "font-style: italic;\n",
       "font-family: monospace;\n",
       "white-space: pre;\n",
       "display: block;\n",
       "}\n",
       "#unshowable {\n",
       "color: red;\n",
       "font-weight: bold;\n",
       "}\n",
       ".err-msg.in.collapse {\n",
       "padding-top: 0.7em;\n",
       "}\n",
       ".highlight-code {\n",
       "white-space: pre;\n",
       "font-family: monospace;\n",
       "}\n",
       ".suggestion-warning { \n",
       "font-weight: bold;\n",
       "color: rgb(200, 130, 0);\n",
       "}\n",
       ".suggestion-error { \n",
       "font-weight: bold;\n",
       "color: red;\n",
       "}\n",
       ".suggestion-name {\n",
       "font-weight: bold;\n",
       "}\n",
       "</style><div class=\"suggestion-name\" style=\"clear:both;\">Redundant bracket</div><div class=\"suggestion-row\" style=\"float: left;\"><div class=\"suggestion-warning\">Found:</div><div class=\"highlight-code\" id=\"haskell\">  (multiSamplesN\n",
       "     (LS.vector [sigma1, sigma2])\n",
       "     (LS.matrix [1.0, rho12, rho12, 1.0])) ::\n",
       "    [LS.R 2]</div></div><div class=\"suggestion-row\" style=\"float: left;\"><div class=\"suggestion-warning\">Why Not:</div><div class=\"highlight-code\" id=\"haskell\">  multiSamplesN\n",
       "    (LS.vector [sigma1, sigma2])\n",
       "    (LS.matrix [1.0, rho12, rho12, 1.0]) ::\n",
       "    [LS.R 2]</div></div>"
      ],
      "text/plain": [
       "Line 2: Redundant bracket\n",
       "Found:\n",
       "  (multiSamplesN\n",
       "     (LS.vector [sigma1, sigma2])\n",
       "     (LS.matrix [1.0, rho12, rho12, 1.0])) ::\n",
       "    [LS.R 2]\n",
       "Why not:\n",
       "  multiSamplesN\n",
       "    (LS.vector [sigma1, sigma2])\n",
       "    (LS.matrix [1.0, rho12, rho12, 1.0]) ::\n",
       "    [LS.R 2]"
      ]
     },
     "metadata": {},
     "output_type": "display_data"
    },
    {
     "ename": "",
     "evalue": "",
     "header": "MessageHeader {mhIdentifiers = [\"04ce06a5-0476-4de1-92e0-35aca653c3aa\"], mhParentHeader = Just (MessageHeader {mhIdentifiers = [\"04ce06a5-0476-4de1-92e0-35aca653c3aa\"], mhParentHeader = Nothing, mhMetadata = Metadata (fromList [(\"recordTiming\",Bool False),(\"deletedCells\",Array []),(\"cellId\",String \"2806918c-ce62-478c-b6bf-2be6de470438\")]), mhMessageId = UUID {uuidToString = \"5bc319ba-4a39-4eff-9cd6-24cd74fdc2b9\"}, mhSessionId = UUID {uuidToString = \"04ce06a5-0476-4de1-92e0-35aca653c3aa\"}, mhUsername = \"\", mhMsgType = ExecuteRequestMessage, mhBuffers = []}), mhMetadata = Metadata (fromList []), mhMessageId = UUID {uuidToString = \"6931573c-d6c3-45ae-98ea-319ebfc9c509\"}, mhSessionId = UUID {uuidToString = \"04ce06a5-0476-4de1-92e0-35aca653c3aa\"}, mhUsername = \"\", mhMsgType = ExecuteErrorMessage, mhBuffers = []}",
     "output_type": "error",
     "traceback": [
      "<interactive>:2:17: error: Variable not in scope: multiSamplesN :: LS.R n0 -> LS.L m0 n1 -> [LS.R 2]\n<interactive>:2:43: error: Variable not in scope: sigma1 :: LS.ℝ\n<interactive>:2:51: error: Variable not in scope: sigma2 :: LS.ℝ\n<interactive>:2:77: error: Variable not in scope: rho12 :: LS.ℝ\n<interactive>:2:84: error: Variable not in scope: rho12 :: LS.ℝ"
     ]
    }
   ],
   "source": [
    "pts2' :: [(Double, Double)]\n",
    "pts2' = map f ((multiSamplesN (LS.vector [sigma1, sigma2]) (LS.matrix [1.0, rho12, rho12, 1.0])) :: [LS.R 2])\n",
    "  where\n",
    "    f z = (x, y)\n",
    "      where\n",
    "        (x, t) = LS.headTail z\n",
    "        (y, _) = LS.headTail t"
   ]
  },
  {
   "cell_type": "code",
   "execution_count": 31,
   "metadata": {
    "collapsed": false,
    "jupyter": {
     "outputs_hidden": false
    }
   },
   "outputs": [
    {
     "ename": "",
     "evalue": "",
     "header": "MessageHeader {mhIdentifiers = [\"04ce06a5-0476-4de1-92e0-35aca653c3aa\"], mhParentHeader = Just (MessageHeader {mhIdentifiers = [\"04ce06a5-0476-4de1-92e0-35aca653c3aa\"], mhParentHeader = Nothing, mhMetadata = Metadata (fromList [(\"recordTiming\",Bool False),(\"deletedCells\",Array []),(\"cellId\",String \"8da92022-a7c5-411b-b956-04b0e8608f23\")]), mhMessageId = UUID {uuidToString = \"16f25a7a-fd66-49da-bbce-f7ac9cba8e9d\"}, mhSessionId = UUID {uuidToString = \"04ce06a5-0476-4de1-92e0-35aca653c3aa\"}, mhUsername = \"\", mhMsgType = ExecuteRequestMessage, mhBuffers = []}), mhMetadata = Metadata (fromList []), mhMessageId = UUID {uuidToString = \"bc126465-4cb3-416a-bc2c-aedc81aa73d0\"}, mhSessionId = UUID {uuidToString = \"04ce06a5-0476-4de1-92e0-35aca653c3aa\"}, mhUsername = \"\", mhMsgType = ExecuteErrorMessage, mhBuffers = []}",
     "output_type": "error",
     "traceback": [
      "<interactive>:1:6: error: Variable not in scope: pts :: [a]"
     ]
    }
   ],
   "source": [
    "last pts"
   ]
  },
  {
   "cell_type": "code",
   "execution_count": 32,
   "metadata": {
    "collapsed": false,
    "jupyter": {
     "outputs_hidden": false
    }
   },
   "outputs": [
    {
     "ename": "",
     "evalue": "",
     "header": "MessageHeader {mhIdentifiers = [\"04ce06a5-0476-4de1-92e0-35aca653c3aa\"], mhParentHeader = Just (MessageHeader {mhIdentifiers = [\"04ce06a5-0476-4de1-92e0-35aca653c3aa\"], mhParentHeader = Nothing, mhMetadata = Metadata (fromList [(\"recordTiming\",Bool False),(\"deletedCells\",Array []),(\"cellId\",String \"1e80e4e2-5d6f-48c3-82fc-84af8faf9b48\")]), mhMessageId = UUID {uuidToString = \"eeba5dc4-7ee3-419c-9284-4e09f53a1611\"}, mhSessionId = UUID {uuidToString = \"04ce06a5-0476-4de1-92e0-35aca653c3aa\"}, mhUsername = \"\", mhMsgType = ExecuteRequestMessage, mhBuffers = []}), mhMetadata = Metadata (fromList []), mhMessageId = UUID {uuidToString = \"ebe5b7dc-497f-4d6a-b01b-13fd7fa19689\"}, mhSessionId = UUID {uuidToString = \"04ce06a5-0476-4de1-92e0-35aca653c3aa\"}, mhUsername = \"\", mhMsgType = ExecuteErrorMessage, mhBuffers = []}",
     "output_type": "error",
     "traceback": [
      "<interactive>:1:6: error: Variable not in scope: pts2' :: [a]"
     ]
    }
   ],
   "source": [
    "last pts2'"
   ]
  },
  {
   "cell_type": "markdown",
   "metadata": {},
   "source": [
    "We also need to calculate the probability density for each sample."
   ]
  },
  {
   "cell_type": "code",
   "execution_count": 33,
   "metadata": {
    "collapsed": false,
    "jupyter": {
     "outputs_hidden": false
    }
   },
   "outputs": [],
   "source": [
    "import Data.Random.Distribution"
   ]
  },
  {
   "cell_type": "code",
   "execution_count": 34,
   "metadata": {
    "collapsed": false,
    "jupyter": {
     "outputs_hidden": false
    }
   },
   "outputs": [
    {
     "ename": "",
     "evalue": "",
     "header": "MessageHeader {mhIdentifiers = [\"04ce06a5-0476-4de1-92e0-35aca653c3aa\"], mhParentHeader = Just (MessageHeader {mhIdentifiers = [\"04ce06a5-0476-4de1-92e0-35aca653c3aa\"], mhParentHeader = Nothing, mhMetadata = Metadata (fromList [(\"recordTiming\",Bool False),(\"deletedCells\",Array []),(\"cellId\",String \"a1c8f7e7-ae81-4d6b-8951-ea2722ee2598\")]), mhMessageId = UUID {uuidToString = \"10efb10d-0404-4fb7-8604-96a75b22c300\"}, mhSessionId = UUID {uuidToString = \"04ce06a5-0476-4de1-92e0-35aca653c3aa\"}, mhUsername = \"\", mhMsgType = ExecuteRequestMessage, mhBuffers = []}), mhMetadata = Metadata (fromList []), mhMessageId = UUID {uuidToString = \"85bad617-583d-4ce5-9818-f1d311608425\"}, mhSessionId = UUID {uuidToString = \"04ce06a5-0476-4de1-92e0-35aca653c3aa\"}, mhUsername = \"\", mhMsgType = ExecuteErrorMessage, mhBuffers = []}",
     "output_type": "error",
     "traceback": [
      "<interactive>:2:18: error:\n    • Data constructor not in scope: Normal :: t1 -> LS.Sym n0 -> d0 t0\n    • Perhaps you meant one of these: ‘R.Normal’ (imported from Data.Random), ‘IHaskellTH.NormalB’ (imported from Language.Haskell.TH), ‘IHaskellTH.NormalC’ (imported from Language.Haskell.TH)\n<interactive>:3:47: error: Variable not in scope: sigma1 :: LS.ℝ\n<interactive>:3:55: error: Variable not in scope: rho12 :: LS.ℝ\n<interactive>:3:68: error: Variable not in scope: sigma1 :: LS.ℝ\n<interactive>:3:82: error: Variable not in scope: sigma2 :: LS.ℝ\n<interactive>:4:47: error: Variable not in scope: rho12 :: LS.ℝ\n<interactive>:4:60: error: Variable not in scope: sigma1 :: LS.ℝ\n<interactive>:4:74: error: Variable not in scope: sigma2 :: LS.ℝ\n<interactive>:4:82: error: Variable not in scope: sigma2 :: LS.ℝ\n<interactive>:4:93: error: Variable not in scope: multiSamples :: [t0]"
     ]
    }
   ],
   "source": [
    "pdfs :: [Double]\n",
    "pdfs = map (pdf (Normal (LS.fromList [0.0, 0.0])\n",
    "                        (LS.sym $ LS.matrix [ sigma1, rho12 * sqrt sigma1 * sqrt sigma2\n",
    "                                            , rho12 * sqrt sigma1 * sqrt sigma2, sigma2]))) multiSamples"
   ]
  },
  {
   "cell_type": "markdown",
   "metadata": {},
   "source": [
    "So the density for $\\texttt{last pts2'}$ is $\\texttt{last pdfs}$."
   ]
  },
  {
   "cell_type": "code",
   "execution_count": 35,
   "metadata": {
    "collapsed": false,
    "jupyter": {
     "outputs_hidden": false
    }
   },
   "outputs": [
    {
     "ename": "",
     "evalue": "",
     "header": "MessageHeader {mhIdentifiers = [\"04ce06a5-0476-4de1-92e0-35aca653c3aa\"], mhParentHeader = Just (MessageHeader {mhIdentifiers = [\"04ce06a5-0476-4de1-92e0-35aca653c3aa\"], mhParentHeader = Nothing, mhMetadata = Metadata (fromList [(\"recordTiming\",Bool False),(\"deletedCells\",Array []),(\"cellId\",String \"98e8fe98-29c2-40b7-b3f2-3094e60e4d2e\")]), mhMessageId = UUID {uuidToString = \"c6042281-b410-4b8e-bdb8-c37935776142\"}, mhSessionId = UUID {uuidToString = \"04ce06a5-0476-4de1-92e0-35aca653c3aa\"}, mhUsername = \"\", mhMsgType = ExecuteRequestMessage, mhBuffers = []}), mhMetadata = Metadata (fromList []), mhMessageId = UUID {uuidToString = \"621c38ff-8273-441d-a910-ec888e8594eb\"}, mhSessionId = UUID {uuidToString = \"04ce06a5-0476-4de1-92e0-35aca653c3aa\"}, mhUsername = \"\", mhMsgType = ExecuteErrorMessage, mhBuffers = []}",
     "output_type": "error",
     "traceback": [
      "<interactive>:1:6: error:\n    • Variable not in scope: pdfs :: [a]\n    • Perhaps you meant ‘pdf’ (imported from Data.Random.Distribution)"
     ]
    }
   ],
   "source": [
    "last pdfs"
   ]
  },
  {
   "cell_type": "markdown",
   "metadata": {},
   "source": [
    "Let's check a few more things. First let's create the covariance\n",
    " matrix from the correlation matrix rather than doing it by hand as\n",
    " above."
   ]
  },
  {
   "cell_type": "code",
   "execution_count": 36,
   "metadata": {
    "collapsed": false,
    "jupyter": {
     "outputs_hidden": false
    }
   },
   "outputs": [
    {
     "ename": "",
     "evalue": "",
     "header": "MessageHeader {mhIdentifiers = [\"04ce06a5-0476-4de1-92e0-35aca653c3aa\"], mhParentHeader = Just (MessageHeader {mhIdentifiers = [\"04ce06a5-0476-4de1-92e0-35aca653c3aa\"], mhParentHeader = Nothing, mhMetadata = Metadata (fromList [(\"recordTiming\",Bool False),(\"deletedCells\",Array []),(\"cellId\",String \"9042b7dc-0ae7-4790-a652-bd626b9d4497\")]), mhMessageId = UUID {uuidToString = \"24ac2ccf-0359-45a1-910e-e29bfe622af9\"}, mhSessionId = UUID {uuidToString = \"04ce06a5-0476-4de1-92e0-35aca653c3aa\"}, mhUsername = \"\", mhMsgType = ExecuteRequestMessage, mhBuffers = []}), mhMetadata = Metadata (fromList []), mhMessageId = UUID {uuidToString = \"3b20bfd1-c729-49a6-9cfa-8d70bb27d61c\"}, mhSessionId = UUID {uuidToString = \"04ce06a5-0476-4de1-92e0-35aca653c3aa\"}, mhUsername = \"\", mhMsgType = ExecuteErrorMessage, mhBuffers = []}",
     "output_type": "error",
     "traceback": [
      "<interactive>:2:35: error: Variable not in scope: sigma1 :: LS.ℝ\n<interactive>:2:48: error: Variable not in scope: sigma2 :: LS.ℝ\n<interactive>:3:35: error: Variable not in scope: rho12 :: LS.ℝ\n<interactive>:3:42: error: Variable not in scope: rho12 :: LS.ℝ"
     ]
    }
   ],
   "source": [
    "covv :: LS.Sq 2\n",
    "covv = corrToCov (LS.vector [sqrt sigma1, sqrt sigma2])\n",
    "                 (LS.matrix [1.0, rho12, rho12, 1.0])"
   ]
  },
  {
   "cell_type": "markdown",
   "metadata": {},
   "source": [
    "The covariance matrix is"
   ]
  },
  {
   "cell_type": "code",
   "execution_count": 37,
   "metadata": {
    "collapsed": false,
    "jupyter": {
     "outputs_hidden": false
    }
   },
   "outputs": [
    {
     "ename": "",
     "evalue": "",
     "header": "MessageHeader {mhIdentifiers = [\"04ce06a5-0476-4de1-92e0-35aca653c3aa\"], mhParentHeader = Just (MessageHeader {mhIdentifiers = [\"04ce06a5-0476-4de1-92e0-35aca653c3aa\"], mhParentHeader = Nothing, mhMetadata = Metadata (fromList [(\"recordTiming\",Bool False),(\"deletedCells\",Array []),(\"cellId\",String \"d076192b-97a9-4302-9dc4-3ed9f8ac7c19\")]), mhMessageId = UUID {uuidToString = \"1ad78cc4-c692-4e07-a215-bd6816761df5\"}, mhSessionId = UUID {uuidToString = \"04ce06a5-0476-4de1-92e0-35aca653c3aa\"}, mhUsername = \"\", mhMsgType = ExecuteRequestMessage, mhBuffers = []}), mhMetadata = Metadata (fromList []), mhMessageId = UUID {uuidToString = \"67fc2107-f574-462c-bf6f-27f9df6a7946\"}, mhSessionId = UUID {uuidToString = \"04ce06a5-0476-4de1-92e0-35aca653c3aa\"}, mhUsername = \"\", mhMsgType = ExecuteErrorMessage, mhBuffers = []}",
     "output_type": "error",
     "traceback": [
      "<interactive>:1:1: error:\n    • Variable not in scope: covv\n    • Perhaps you meant ‘LA.conv’ (imported from Numeric.LinearAlgebra)"
     ]
    }
   ],
   "source": [
    "covv"
   ]
  },
  {
   "cell_type": "markdown",
   "metadata": {},
   "source": [
    "Let's check it gives the same answer."
   ]
  },
  {
   "cell_type": "code",
   "execution_count": 38,
   "metadata": {
    "collapsed": false,
    "jupyter": {
     "outputs_hidden": false
    }
   },
   "outputs": [
    {
     "ename": "",
     "evalue": "",
     "header": "MessageHeader {mhIdentifiers = [\"04ce06a5-0476-4de1-92e0-35aca653c3aa\"], mhParentHeader = Just (MessageHeader {mhIdentifiers = [\"04ce06a5-0476-4de1-92e0-35aca653c3aa\"], mhParentHeader = Nothing, mhMetadata = Metadata (fromList [(\"recordTiming\",Bool False),(\"deletedCells\",Array []),(\"cellId\",String \"27fb4a44-99e8-4fcc-b139-4737527f7d9e\")]), mhMessageId = UUID {uuidToString = \"502c5618-f503-4123-a4f7-bd3cfaed99b4\"}, mhSessionId = UUID {uuidToString = \"04ce06a5-0476-4de1-92e0-35aca653c3aa\"}, mhUsername = \"\", mhMsgType = ExecuteRequestMessage, mhBuffers = []}), mhMetadata = Metadata (fromList []), mhMessageId = UUID {uuidToString = \"865d4af8-5ec2-451e-a2eb-5bb233840eab\"}, mhSessionId = UUID {uuidToString = \"04ce06a5-0476-4de1-92e0-35aca653c3aa\"}, mhUsername = \"\", mhMsgType = ExecuteErrorMessage, mhBuffers = []}",
     "output_type": "error",
     "traceback": [
      "<interactive>:2:19: error:\n    • Data constructor not in scope: Normal :: t1 -> LS.Sym n0 -> d0 t0\n    • Perhaps you meant one of these: ‘R.Normal’ (imported from Data.Random), ‘IHaskellTH.NormalB’ (imported from Language.Haskell.TH), ‘IHaskellTH.NormalC’ (imported from Language.Haskell.TH)\n<interactive>:2:59: error:\n    • Variable not in scope: covv :: LS.Sq n0\n    • Perhaps you meant ‘LA.conv’ (imported from Numeric.LinearAlgebra)\n<interactive>:2:67: error: Variable not in scope: multiSamples :: [t0]"
     ]
    }
   ],
   "source": [
    "pdfs' :: [Double]\n",
    "pdfs' = map (pdf (Normal (LS.fromList [0.0, 0.0]) (LS.sym covv))) multiSamples"
   ]
  },
  {
   "cell_type": "code",
   "execution_count": 39,
   "metadata": {
    "collapsed": false,
    "jupyter": {
     "outputs_hidden": false
    }
   },
   "outputs": [
    {
     "ename": "",
     "evalue": "",
     "header": "MessageHeader {mhIdentifiers = [\"04ce06a5-0476-4de1-92e0-35aca653c3aa\"], mhParentHeader = Just (MessageHeader {mhIdentifiers = [\"04ce06a5-0476-4de1-92e0-35aca653c3aa\"], mhParentHeader = Nothing, mhMetadata = Metadata (fromList [(\"recordTiming\",Bool False),(\"deletedCells\",Array []),(\"cellId\",String \"7cf3a2d0-9fce-40e1-b6e4-579edd7c5fe4\")]), mhMessageId = UUID {uuidToString = \"d5e99ff8-a126-487f-9d2b-9cade4acdd93\"}, mhSessionId = UUID {uuidToString = \"04ce06a5-0476-4de1-92e0-35aca653c3aa\"}, mhUsername = \"\", mhMsgType = ExecuteRequestMessage, mhBuffers = []}), mhMetadata = Metadata (fromList []), mhMessageId = UUID {uuidToString = \"523d8fa2-d810-450b-ba35-366826f6f70f\"}, mhSessionId = UUID {uuidToString = \"04ce06a5-0476-4de1-92e0-35aca653c3aa\"}, mhUsername = \"\", mhMsgType = ExecuteErrorMessage, mhBuffers = []}",
     "output_type": "error",
     "traceback": [
      "<interactive>:1:6: error:\n    • Variable not in scope: pdfs :: [a]\n    • Perhaps you meant ‘pdf’ (imported from Data.Random.Distribution)"
     ]
    }
   ],
   "source": [
    "last pdfs"
   ]
  },
  {
   "cell_type": "code",
   "execution_count": 40,
   "metadata": {
    "collapsed": false,
    "jupyter": {
     "outputs_hidden": false
    }
   },
   "outputs": [
    {
     "ename": "",
     "evalue": "",
     "header": "MessageHeader {mhIdentifiers = [\"04ce06a5-0476-4de1-92e0-35aca653c3aa\"], mhParentHeader = Just (MessageHeader {mhIdentifiers = [\"04ce06a5-0476-4de1-92e0-35aca653c3aa\"], mhParentHeader = Nothing, mhMetadata = Metadata (fromList [(\"recordTiming\",Bool False),(\"deletedCells\",Array []),(\"cellId\",String \"5480773f-6027-408b-bc88-00b2d47df777\")]), mhMessageId = UUID {uuidToString = \"7eccff54-4920-4230-86db-b60df59cb986\"}, mhSessionId = UUID {uuidToString = \"04ce06a5-0476-4de1-92e0-35aca653c3aa\"}, mhUsername = \"\", mhMsgType = ExecuteRequestMessage, mhBuffers = []}), mhMetadata = Metadata (fromList []), mhMessageId = UUID {uuidToString = \"5149385a-9710-4edf-a4ea-5228b6088e65\"}, mhSessionId = UUID {uuidToString = \"04ce06a5-0476-4de1-92e0-35aca653c3aa\"}, mhUsername = \"\", mhMsgType = ExecuteErrorMessage, mhBuffers = []}",
     "output_type": "error",
     "traceback": [
      "<interactive>:1:6: error: Variable not in scope: pdfs' :: [a]"
     ]
    }
   ],
   "source": [
    "last pdfs'"
   ]
  },
  {
   "cell_type": "markdown",
   "metadata": {},
   "source": [
    "Again we can generalize this."
   ]
  },
  {
   "cell_type": "code",
   "execution_count": 41,
   "metadata": {
    "collapsed": false,
    "jupyter": {
     "outputs_hidden": false
    }
   },
   "outputs": [
    {
     "ename": "",
     "evalue": "",
     "header": "MessageHeader {mhIdentifiers = [\"04ce06a5-0476-4de1-92e0-35aca653c3aa\"], mhParentHeader = Just (MessageHeader {mhIdentifiers = [\"04ce06a5-0476-4de1-92e0-35aca653c3aa\"], mhParentHeader = Nothing, mhMetadata = Metadata (fromList [(\"recordTiming\",Bool False),(\"deletedCells\",Array []),(\"cellId\",String \"4f5f82e6-0ead-4622-91d1-e16b068245ea\")]), mhMessageId = UUID {uuidToString = \"0456689e-c676-45f9-9692-f86a5a03b82d\"}, mhSessionId = UUID {uuidToString = \"04ce06a5-0476-4de1-92e0-35aca653c3aa\"}, mhUsername = \"\", mhMsgType = ExecuteRequestMessage, mhBuffers = []}), mhMetadata = Metadata (fromList []), mhMessageId = UUID {uuidToString = \"8d26bc3a-b443-48f0-a70d-f8c7cc99173b\"}, mhSessionId = UUID {uuidToString = \"04ce06a5-0476-4de1-92e0-35aca653c3aa\"}, mhUsername = \"\", mhMsgType = ExecuteErrorMessage, mhBuffers = []}",
     "output_type": "error",
     "traceback": [
      "<interactive>:3:27: error:\n    • Data constructor not in scope: Normal :: t1 -> LS.Sym n -> d0 t0\n    • Perhaps you meant one of these: ‘R.Normal’ (imported from Data.Random), ‘IHaskellTH.NormalB’ (imported from Language.Haskell.TH), ‘IHaskellTH.NormalC’ (imported from Language.Haskell.TH)\n<interactive>:3:58: error: Variable not in scope: multiSamplesN :: LS.R n -> LS.Sq n -> [t0]"
     ]
    }
   ],
   "source": [
    "pdfsN :: forall n . KnownNat n =>\n",
    "          LS.R n -> LS.Sq n ->  LS.Sym n -> [Double]\n",
    "pdfsN x y cov = map (pdf (Normal (LS.fromList ds) cov)) (multiSamplesN x y)\n",
    "  where\n",
    "    ds = replicate (fromIntegral $ natVal (Proxy :: Proxy n)) 0.0"
   ]
  },
  {
   "cell_type": "markdown",
   "metadata": {},
   "source": [
    "And test that this also gives the same answer when specialized."
   ]
  },
  {
   "cell_type": "code",
   "execution_count": 42,
   "metadata": {
    "collapsed": false,
    "jupyter": {
     "outputs_hidden": false
    }
   },
   "outputs": [
    {
     "ename": "",
     "evalue": "",
     "header": "MessageHeader {mhIdentifiers = [\"04ce06a5-0476-4de1-92e0-35aca653c3aa\"], mhParentHeader = Just (MessageHeader {mhIdentifiers = [\"04ce06a5-0476-4de1-92e0-35aca653c3aa\"], mhParentHeader = Nothing, mhMetadata = Metadata (fromList [(\"recordTiming\",Bool False),(\"deletedCells\",Array []),(\"cellId\",String \"1e0207e8-5ca3-4d98-8943-083549e7e13a\")]), mhMessageId = UUID {uuidToString = \"2f042a7a-9398-4f95-8d3f-ad8971023abe\"}, mhSessionId = UUID {uuidToString = \"04ce06a5-0476-4de1-92e0-35aca653c3aa\"}, mhUsername = \"\", mhMsgType = ExecuteRequestMessage, mhBuffers = []}), mhMetadata = Metadata (fromList []), mhMessageId = UUID {uuidToString = \"af56bd73-2d1c-47c1-a330-db96f91dd864\"}, mhSessionId = UUID {uuidToString = \"04ce06a5-0476-4de1-92e0-35aca653c3aa\"}, mhUsername = \"\", mhMsgType = ExecuteErrorMessage, mhBuffers = []}",
     "output_type": "error",
     "traceback": [
      "<interactive>:5:9: error: Variable not in scope: pdfs'\n<interactive>:4:9: error: Variable not in scope: pdfsN :: t1 -> LS.L m0 n0 -> LS.Sym n1 -> t\n<interactive>:4:29: error: Variable not in scope: sigma1\n<interactive>:4:37: error: Variable not in scope: sigma2\n<interactive>:4:63: error: Variable not in scope: rho12 :: LS.ℝ\n<interactive>:4:70: error: Variable not in scope: rho12 :: LS.ℝ\n<interactive>:4:91: error:\n    • Variable not in scope: covv :: LS.Sq n1\n    • Perhaps you meant ‘LA.conv’ (imported from Numeric.LinearAlgebra)"
     ]
    }
   ],
   "source": [
    "test :: [Double]\n",
    "test = zipWith (-) a b\n",
    "  where\n",
    "    a = pdfsN (LS.fromList [sigma1, sigma2]) (LS.matrix [1.0, rho12, rho12, 1.0]) (LS.sym covv)\n",
    "    b = pdfs'"
   ]
  },
  {
   "cell_type": "code",
   "execution_count": 43,
   "metadata": {
    "collapsed": false,
    "jupyter": {
     "outputs_hidden": false
    }
   },
   "outputs": [
    {
     "ename": "",
     "evalue": "",
     "header": "MessageHeader {mhIdentifiers = [\"04ce06a5-0476-4de1-92e0-35aca653c3aa\"], mhParentHeader = Just (MessageHeader {mhIdentifiers = [\"04ce06a5-0476-4de1-92e0-35aca653c3aa\"], mhParentHeader = Nothing, mhMetadata = Metadata (fromList [(\"recordTiming\",Bool False),(\"deletedCells\",Array []),(\"cellId\",String \"937ada67-dbb8-424c-829d-c2d501b1d5cb\")]), mhMessageId = UUID {uuidToString = \"bcd5ba72-4be6-4132-996a-15ef176ec7be\"}, mhSessionId = UUID {uuidToString = \"04ce06a5-0476-4de1-92e0-35aca653c3aa\"}, mhUsername = \"\", mhMsgType = ExecuteRequestMessage, mhBuffers = []}), mhMetadata = Metadata (fromList []), mhMessageId = UUID {uuidToString = \"0e45dff7-5404-46fc-92eb-49cab9e8f811\"}, mhSessionId = UUID {uuidToString = \"04ce06a5-0476-4de1-92e0-35aca653c3aa\"}, mhUsername = \"\", mhMsgType = ExecuteErrorMessage, mhBuffers = []}",
     "output_type": "error",
     "traceback": [
      "<interactive>:1:19: error: Variable not in scope: test :: [a]"
     ]
    }
   ],
   "source": [
    "maximum $ map abs test"
   ]
  },
  {
   "cell_type": "code",
   "execution_count": 44,
   "metadata": {
    "collapsed": false,
    "jupyter": {
     "outputs_hidden": false
    }
   },
   "outputs": [
    {
     "data": {
      "text/html": [
       "<style>/* Styles used for the Hoogle display in the pager */\n",
       ".hoogle-doc {\n",
       "display: block;\n",
       "padding-bottom: 1.3em;\n",
       "padding-left: 0.4em;\n",
       "}\n",
       ".hoogle-code {\n",
       "display: block;\n",
       "font-family: monospace;\n",
       "white-space: pre;\n",
       "}\n",
       ".hoogle-text {\n",
       "display: block;\n",
       "}\n",
       ".hoogle-name {\n",
       "color: green;\n",
       "font-weight: bold;\n",
       "}\n",
       ".hoogle-head {\n",
       "font-weight: bold;\n",
       "}\n",
       ".hoogle-sub {\n",
       "display: block;\n",
       "margin-left: 0.4em;\n",
       "}\n",
       ".hoogle-package {\n",
       "font-weight: bold;\n",
       "font-style: italic;\n",
       "}\n",
       ".hoogle-module {\n",
       "font-weight: bold;\n",
       "}\n",
       ".hoogle-class {\n",
       "font-weight: bold;\n",
       "}\n",
       ".get-type {\n",
       "color: green;\n",
       "font-weight: bold;\n",
       "font-family: monospace;\n",
       "display: block;\n",
       "white-space: pre-wrap;\n",
       "}\n",
       ".show-type {\n",
       "color: green;\n",
       "font-weight: bold;\n",
       "font-family: monospace;\n",
       "margin-left: 1em;\n",
       "}\n",
       ".mono {\n",
       "font-family: monospace;\n",
       "display: block;\n",
       "}\n",
       ".err-msg {\n",
       "color: red;\n",
       "font-style: italic;\n",
       "font-family: monospace;\n",
       "white-space: pre;\n",
       "display: block;\n",
       "}\n",
       "#unshowable {\n",
       "color: red;\n",
       "font-weight: bold;\n",
       "}\n",
       ".err-msg.in.collapse {\n",
       "padding-top: 0.7em;\n",
       "}\n",
       ".highlight-code {\n",
       "white-space: pre;\n",
       "font-family: monospace;\n",
       "}\n",
       ".suggestion-warning { \n",
       "font-weight: bold;\n",
       "color: rgb(200, 130, 0);\n",
       "}\n",
       ".suggestion-error { \n",
       "font-weight: bold;\n",
       "color: red;\n",
       "}\n",
       ".suggestion-name {\n",
       "font-weight: bold;\n",
       "}\n",
       "</style><div class=\"suggestion-name\" style=\"clear:both;\">Use map once</div><div class=\"suggestion-row\" style=\"float: left;\"><div class=\"suggestion-warning\">Found:</div><div class=\"highlight-code\" id=\"haskell\">map cost1 \\$ map (\\ (x, y) -> LS.fromList [x, y]) obs</div></div><div class=\"suggestion-row\" style=\"float: left;\"><div class=\"suggestion-warning\">Why Not:</div><div class=\"highlight-code\" id=\"haskell\">map (cost1 . (\\ (x, y) -> LS.fromList [x, y])) obs</div></div>"
      ],
      "text/plain": [
       "Line 12: Use map once\n",
       "Found:\n",
       "map cost1 $ map (\\ (x, y) -> LS.fromList [x, y]) obs\n",
       "Why not:\n",
       "map (cost1 . (\\ (x, y) -> LS.fromList [x, y])) obs"
      ]
     },
     "metadata": {},
     "output_type": "display_data"
    },
    {
     "ename": "",
     "evalue": "",
     "header": "MessageHeader {mhIdentifiers = [\"04ce06a5-0476-4de1-92e0-35aca653c3aa\"], mhParentHeader = Just (MessageHeader {mhIdentifiers = [\"04ce06a5-0476-4de1-92e0-35aca653c3aa\"], mhParentHeader = Nothing, mhMetadata = Metadata (fromList [(\"recordTiming\",Bool False),(\"deletedCells\",Array []),(\"cellId\",String \"1c1fcc3d-693e-4723-ab1b-91395f1d2127\")]), mhMessageId = UUID {uuidToString = \"e95c9a7c-1f90-4b4c-83d0-8d8c9bdf0d2b\"}, mhSessionId = UUID {uuidToString = \"04ce06a5-0476-4de1-92e0-35aca653c3aa\"}, mhUsername = \"\", mhMsgType = ExecuteRequestMessage, mhBuffers = []}), mhMetadata = Metadata (fromList []), mhMessageId = UUID {uuidToString = \"eb6dde1e-1d8a-4dc5-ac23-3b6c6e60117c\"}, mhSessionId = UUID {uuidToString = \"04ce06a5-0476-4de1-92e0-35aca653c3aa\"}, mhUsername = \"\", mhMsgType = ExecuteErrorMessage, mhBuffers = []}",
     "output_type": "error",
     "traceback": [
      "<interactive>:9:18: error:\n    • Data constructor not in scope: Normal :: t0 -> LS.Sym 2 -> d1 (LS.R 2)\n    • Perhaps you meant one of these: ‘R.Normal’ (imported from Data.Random), ‘IHaskellTH.NormalB’ (imported from Language.Haskell.TH), ‘IHaskellTH.NormalC’ (imported from Language.Haskell.TH)\n<interactive>:3:55: error:\n    • Variable not in scope: pdfs :: [Double]\n    • Perhaps you meant ‘pdf’ (imported from Data.Random.Distribution)"
     ]
    }
   ],
   "source": [
    "costNorm :: [(Double, Double)] -> (Double, Double) -> (Double, Double) -> Double -> Double\n",
    "costNorm obs (muX, muY) (varX, varY) tau =\n",
    "  sum $ zipWith (\\x y -> (x - y) * (x - y)) pdfsOfObs pdfs\n",
    "  where\n",
    "    t2 :: LS.Sym 2\n",
    "    t2 = LS.sym $ corrToCov (LS.fromList [sqrt varX, sqrt varY]) (LS.matrix [1.0, tau, tau, 1.0])\n",
    "\n",
    "    cost1 :: LS.R 2 -> Double\n",
    "    cost1 = pdf (Normal (LS.fromList [muX, muY]) t2)\n",
    "\n",
    "    pdfsOfObs :: [Double]\n",
    "    pdfsOfObs = map cost1 $ map (\\(x, y) -> LS.fromList [x, y]) obs"
   ]
  },
  {
   "cell_type": "code",
   "execution_count": 45,
   "metadata": {
    "collapsed": false,
    "jupyter": {
     "outputs_hidden": false
    }
   },
   "outputs": [
    {
     "ename": "",
     "evalue": "",
     "header": "MessageHeader {mhIdentifiers = [\"04ce06a5-0476-4de1-92e0-35aca653c3aa\"], mhParentHeader = Just (MessageHeader {mhIdentifiers = [\"04ce06a5-0476-4de1-92e0-35aca653c3aa\"], mhParentHeader = Nothing, mhMetadata = Metadata (fromList [(\"recordTiming\",Bool False),(\"deletedCells\",Array []),(\"cellId\",String \"ef94f893-fb92-4521-9879-5dd73535d2ae\")]), mhMessageId = UUID {uuidToString = \"950a0d2e-4adf-458a-abaf-4fee00f5cc18\"}, mhSessionId = UUID {uuidToString = \"04ce06a5-0476-4de1-92e0-35aca653c3aa\"}, mhUsername = \"\", mhMsgType = ExecuteRequestMessage, mhBuffers = []}), mhMetadata = Metadata (fromList []), mhMessageId = UUID {uuidToString = \"55a86cfe-1736-49e5-98d0-0e084e2d5c26\"}, mhSessionId = UUID {uuidToString = \"04ce06a5-0476-4de1-92e0-35aca653c3aa\"}, mhUsername = \"\", mhMsgType = ExecuteErrorMessage, mhBuffers = []}",
     "output_type": "error",
     "traceback": [
      "<interactive>:12:19: error:\n    • Data constructor not in scope: Normal :: LS.R 2 -> LS.Sym 2 -> d0 (LS.R 2)\n    • Perhaps you meant one of these: ‘R.Normal’ (imported from Data.Random), ‘IHaskellTH.NormalB’ (imported from Language.Haskell.TH), ‘IHaskellTH.NormalC’ (imported from Language.Haskell.TH)\n<interactive>:3:55: error:\n    • Variable not in scope: pdfs :: [Double]\n    • Perhaps you meant ‘pdf’ (imported from Data.Random.Distribution)"
     ]
    }
   ],
   "source": [
    "costNorm2 :: [LS.R 2] -> LS.R 2 -> LS.R 2 -> LS.Sym 2 -> Double\n",
    "costNorm2 obs mus vars corr =\n",
    "  sum $ zipWith (\\x y -> (x - y) * (x - y)) pdfsOfObs pdfs\n",
    "  where\n",
    "    sigmas :: LS.R 2\n",
    "    sigmas = fromJust $ LS.create $ LA.cmap sqrt $ LS.extract vars\n",
    "\n",
    "    t2 :: LS.Sym 2\n",
    "    t2 = LS.sym $ corrToCov sigmas (LS.unSym corr)\n",
    "\n",
    "    getPdf :: LS.R 2 -> Double\n",
    "    getPdf = pdf (Normal mus t2)\n",
    "\n",
    "    pdfsOfObs :: [Double]\n",
    "    pdfsOfObs = map getPdf obs"
   ]
  },
  {
   "cell_type": "markdown",
   "metadata": {},
   "source": [
    "And then generalize fully."
   ]
  },
  {
   "cell_type": "code",
   "execution_count": 46,
   "metadata": {
    "collapsed": false,
    "jupyter": {
     "outputs_hidden": false
    }
   },
   "outputs": [
    {
     "ename": "",
     "evalue": "",
     "header": "MessageHeader {mhIdentifiers = [\"04ce06a5-0476-4de1-92e0-35aca653c3aa\"], mhParentHeader = Just (MessageHeader {mhIdentifiers = [\"04ce06a5-0476-4de1-92e0-35aca653c3aa\"], mhParentHeader = Nothing, mhMetadata = Metadata (fromList [(\"recordTiming\",Bool False),(\"deletedCells\",Array []),(\"cellId\",String \"da8b7639-9225-45d2-bcd0-1bd39e5a3273\")]), mhMessageId = UUID {uuidToString = \"a4180995-f9bf-4548-ba14-7e5de87cae88\"}, mhSessionId = UUID {uuidToString = \"04ce06a5-0476-4de1-92e0-35aca653c3aa\"}, mhUsername = \"\", mhMsgType = ExecuteRequestMessage, mhBuffers = []}), mhMetadata = Metadata (fromList []), mhMessageId = UUID {uuidToString = \"c041f8e7-0131-45a0-811a-8ffb19ab13b2\"}, mhSessionId = UUID {uuidToString = \"04ce06a5-0476-4de1-92e0-35aca653c3aa\"}, mhUsername = \"\", mhMsgType = ExecuteErrorMessage, mhBuffers = []}",
     "output_type": "error",
     "traceback": [
      "<interactive>:20:17: error: Variable not in scope: pdfsN :: LS.R n -> LS.Sq n -> LS.Sym n -> [Double]\n<interactive>:15:19: error:\n    • Data constructor not in scope: Normal :: LS.R n -> LS.Sym n -> d0 (LS.R n)\n    • Perhaps you meant one of these: ‘R.Normal’ (imported from Data.Random), ‘IHaskellTH.NormalB’ (imported from Language.Haskell.TH), ‘IHaskellTH.NormalC’ (imported from Language.Haskell.TH)"
     ]
    }
   ],
   "source": [
    "costNormN :: forall n . KnownNat n =>\n",
    "             [LS.R n] -> LS.R n ->\n",
    "             LS.R n -> LS.Sym n ->\n",
    "             LS.R n -> LS.Sym n -> Double\n",
    "costNormN obs mus possVars possCorrs genVars genCorrs =\n",
    "  sum $ zipWith (\\x y -> (x - y) * (x - y)) pdfsOfObs pdfsOfGen\n",
    "  where\n",
    "    sigmas :: LS.R n\n",
    "    sigmas = fromJust $ LS.create $ LA.cmap sqrt $ LS.extract possVars\n",
    "\n",
    "    t2 :: LS.Sym n\n",
    "    t2 = LS.sym $ corrToCov sigmas (LS.unSym possCorrs)\n",
    "\n",
    "    getPdf :: LS.R n -> Double\n",
    "    getPdf = pdf (Normal mus t2)\n",
    "\n",
    "    pdfsOfObs :: [Double]\n",
    "    pdfsOfObs = map getPdf obs\n",
    "\n",
    "    pdfsOfGen = pdfsN genVars (LS.unSym genCorrs) cov\n",
    "\n",
    "    taus :: LS.R n\n",
    "    taus = fromJust $ LS.create $ LA.cmap sqrt $ LS.extract genVars\n",
    "\n",
    "    cov :: LS.Sym n\n",
    "    cov = LS.sym $ corrToCov taus (LS.unSym genCorrs)"
   ]
  },
  {
   "cell_type": "code",
   "execution_count": 47,
   "metadata": {
    "collapsed": false,
    "jupyter": {
     "outputs_hidden": false
    }
   },
   "outputs": [
    {
     "data": {
      "text/html": [
       "<style>/* Styles used for the Hoogle display in the pager */\n",
       ".hoogle-doc {\n",
       "display: block;\n",
       "padding-bottom: 1.3em;\n",
       "padding-left: 0.4em;\n",
       "}\n",
       ".hoogle-code {\n",
       "display: block;\n",
       "font-family: monospace;\n",
       "white-space: pre;\n",
       "}\n",
       ".hoogle-text {\n",
       "display: block;\n",
       "}\n",
       ".hoogle-name {\n",
       "color: green;\n",
       "font-weight: bold;\n",
       "}\n",
       ".hoogle-head {\n",
       "font-weight: bold;\n",
       "}\n",
       ".hoogle-sub {\n",
       "display: block;\n",
       "margin-left: 0.4em;\n",
       "}\n",
       ".hoogle-package {\n",
       "font-weight: bold;\n",
       "font-style: italic;\n",
       "}\n",
       ".hoogle-module {\n",
       "font-weight: bold;\n",
       "}\n",
       ".hoogle-class {\n",
       "font-weight: bold;\n",
       "}\n",
       ".get-type {\n",
       "color: green;\n",
       "font-weight: bold;\n",
       "font-family: monospace;\n",
       "display: block;\n",
       "white-space: pre-wrap;\n",
       "}\n",
       ".show-type {\n",
       "color: green;\n",
       "font-weight: bold;\n",
       "font-family: monospace;\n",
       "margin-left: 1em;\n",
       "}\n",
       ".mono {\n",
       "font-family: monospace;\n",
       "display: block;\n",
       "}\n",
       ".err-msg {\n",
       "color: red;\n",
       "font-style: italic;\n",
       "font-family: monospace;\n",
       "white-space: pre;\n",
       "display: block;\n",
       "}\n",
       "#unshowable {\n",
       "color: red;\n",
       "font-weight: bold;\n",
       "}\n",
       ".err-msg.in.collapse {\n",
       "padding-top: 0.7em;\n",
       "}\n",
       ".highlight-code {\n",
       "white-space: pre;\n",
       "font-family: monospace;\n",
       "}\n",
       ".suggestion-warning { \n",
       "font-weight: bold;\n",
       "color: rgb(200, 130, 0);\n",
       "}\n",
       ".suggestion-error { \n",
       "font-weight: bold;\n",
       "color: red;\n",
       "}\n",
       ".suggestion-name {\n",
       "font-weight: bold;\n",
       "}\n",
       "</style><div class=\"suggestion-name\" style=\"clear:both;\">Redundant bracket</div><div class=\"suggestion-row\" style=\"float: left;\"><div class=\"suggestion-warning\">Found:</div><div class=\"highlight-code\" id=\"haskell\">[(- 1.0), (- 1.0), log 1.0, log 1.0, 0.1]</div></div><div class=\"suggestion-row\" style=\"float: left;\"><div class=\"suggestion-warning\">Why Not:</div><div class=\"highlight-code\" id=\"haskell\">[- 1.0, (- 1.0), log 1.0, log 1.0, 0.1]</div></div><div class=\"suggestion-name\" style=\"clear:both;\">Redundant bracket</div><div class=\"suggestion-row\" style=\"float: left;\"><div class=\"suggestion-warning\">Found:</div><div class=\"highlight-code\" id=\"haskell\">[(- 1.0), (- 1.0), log 1.0, log 1.0, 0.1]</div></div><div class=\"suggestion-row\" style=\"float: left;\"><div class=\"suggestion-warning\">Why Not:</div><div class=\"highlight-code\" id=\"haskell\">[(- 1.0), - 1.0, log 1.0, log 1.0, 0.1]</div></div><div class=\"suggestion-name\" style=\"clear:both;\">Redundant bracket</div><div class=\"suggestion-row\" style=\"float: left;\"><div class=\"suggestion-warning\">Found:</div><div class=\"highlight-code\" id=\"haskell\">[1.0, ((2 / pi) * atan x5), ((2 / pi) * atan x5), 1.0]</div></div><div class=\"suggestion-row\" style=\"float: left;\"><div class=\"suggestion-warning\">Why Not:</div><div class=\"highlight-code\" id=\"haskell\">[1.0, (2 / pi) * atan x5, ((2 / pi) * atan x5), 1.0]</div></div><div class=\"suggestion-name\" style=\"clear:both;\">Redundant bracket</div><div class=\"suggestion-row\" style=\"float: left;\"><div class=\"suggestion-warning\">Found:</div><div class=\"highlight-code\" id=\"haskell\">[1.0, ((2 / pi) * atan x5), ((2 / pi) * atan x5), 1.0]</div></div><div class=\"suggestion-row\" style=\"float: left;\"><div class=\"suggestion-warning\">Why Not:</div><div class=\"highlight-code\" id=\"haskell\">[1.0, ((2 / pi) * atan x5), (2 / pi) * atan x5, 1.0]</div></div>"
      ],
      "text/plain": [
       "Line 2: Redundant bracket\n",
       "Found:\n",
       "[(- 1.0), (- 1.0), log 1.0, log 1.0, 0.1]\n",
       "Why not:\n",
       "[- 1.0, (- 1.0), log 1.0, log 1.0, 0.1]Line 2: Redundant bracket\n",
       "Found:\n",
       "[(- 1.0), (- 1.0), log 1.0, log 1.0, 0.1]\n",
       "Why not:\n",
       "[(- 1.0), - 1.0, log 1.0, log 1.0, 0.1]Line 14: Redundant bracket\n",
       "Found:\n",
       "[1.0, ((2 / pi) * atan x5), ((2 / pi) * atan x5), 1.0]\n",
       "Why not:\n",
       "[1.0, (2 / pi) * atan x5, ((2 / pi) * atan x5), 1.0]Line 14: Redundant bracket\n",
       "Found:\n",
       "[1.0, ((2 / pi) * atan x5), ((2 / pi) * atan x5), 1.0]\n",
       "Why not:\n",
       "[1.0, ((2 / pi) * atan x5), (2 / pi) * atan x5, 1.0]"
      ]
     },
     "metadata": {},
     "output_type": "display_data"
    },
    {
     "ename": "",
     "evalue": "",
     "header": "MessageHeader {mhIdentifiers = [\"04ce06a5-0476-4de1-92e0-35aca653c3aa\"], mhParentHeader = Just (MessageHeader {mhIdentifiers = [\"04ce06a5-0476-4de1-92e0-35aca653c3aa\"], mhParentHeader = Nothing, mhMetadata = Metadata (fromList [(\"recordTiming\",Bool False),(\"deletedCells\",Array []),(\"cellId\",String \"072af61f-5bd7-4257-b1d2-9a7fe3245f9e\")]), mhMessageId = UUID {uuidToString = \"b0d27ade-edfa-4a83-8743-61a0899b4762\"}, mhSessionId = UUID {uuidToString = \"04ce06a5-0476-4de1-92e0-35aca653c3aa\"}, mhUsername = \"\", mhMsgType = ExecuteRequestMessage, mhBuffers = []}), mhMetadata = Metadata (fromList []), mhMessageId = UUID {uuidToString = \"d4632bdd-e332-464e-8d8c-47fea5209fda\"}, mhSessionId = UUID {uuidToString = \"04ce06a5-0476-4de1-92e0-35aca653c3aa\"}, mhUsername = \"\", mhMsgType = ExecuteErrorMessage, mhBuffers = []}",
     "output_type": "error",
     "traceback": [
      "<interactive>:5:7: error: Variable not in scope: costNorm2 :: [b0] -> t0 -> LS.R 2 -> LS.Sym 2 -> Double"
     ]
    }
   ],
   "source": [
    "infer2 :: [(Double, Double)] -> R s (Double, [Double])\n",
    "infer2 obs = cmaes co[0.0, 0.0, log 3.0, log 1.5, 0.5] [(-1.0), (-1.0), log 1.0, log 1.0, 0.1] [1.0, 1.0, log 5.0, log 3.0, 0.9]\n",
    "  where\n",
    "    co [x1, x2, x3, x4, x5] =\n",
    "      costNorm2 (map (\\(x, y) -> LS.fromList [x, y]) obs)\n",
    "                 (LS.fromList [x1, x2])\n",
    "                 varV\n",
    "                 corrM\n",
    "      where\n",
    "        varV :: LS.R 2\n",
    "        varV   = LS.fromList [exp x3, exp x4]\n",
    "        corrM :: LS.Sym 2\n",
    "        corrM  = LS.sym $\n",
    "                 LS.matrix [1.0, ((2 / pi) * atan x5),\n",
    "                            ((2 / pi) * atan x5), 1.0]\n",
    "    co _                    =\n",
    "      error \"infer2 wrong number of elements\""
   ]
  },
  {
   "cell_type": "code",
   "execution_count": 48,
   "metadata": {
    "collapsed": false,
    "jupyter": {
     "outputs_hidden": false
    }
   },
   "outputs": [
    {
     "ename": "",
     "evalue": "",
     "header": "MessageHeader {mhIdentifiers = [\"04ce06a5-0476-4de1-92e0-35aca653c3aa\"], mhParentHeader = Just (MessageHeader {mhIdentifiers = [\"04ce06a5-0476-4de1-92e0-35aca653c3aa\"], mhParentHeader = Nothing, mhMetadata = Metadata (fromList [(\"recordTiming\",Bool False),(\"deletedCells\",Array []),(\"cellId\",String \"7f3121cc-87c7-454d-bdcd-df6a39214c9b\")]), mhMessageId = UUID {uuidToString = \"cdd711c6-bc18-4a1f-8b96-db59bf1fa993\"}, mhSessionId = UUID {uuidToString = \"04ce06a5-0476-4de1-92e0-35aca653c3aa\"}, mhUsername = \"\", mhMsgType = ExecuteRequestMessage, mhBuffers = []}), mhMetadata = Metadata (fromList []), mhMessageId = UUID {uuidToString = \"cf13b9a6-c9b1-4205-8f77-6738dd7125d4\"}, mhSessionId = UUID {uuidToString = \"04ce06a5-0476-4de1-92e0-35aca653c3aa\"}, mhUsername = \"\", mhMsgType = ExecuteErrorMessage, mhBuffers = []}",
     "output_type": "error",
     "traceback": [
      "<interactive>:1:24: error:\n    • Variable not in scope: infer2 :: t0 -> R s a0\n    • Perhaps you meant one of these: ‘IHaskellTH.inferR’ (imported from Language.Haskell.TH), data constructor ‘IHaskellTH.InferR’ (imported from Language.Haskell.TH)\n<interactive>:1:31: error: Variable not in scope: pts"
     ]
    }
   ],
   "source": [
    "result <- R.runRegion (infer2 pts)"
   ]
  },
  {
   "cell_type": "code",
   "execution_count": 49,
   "metadata": {
    "collapsed": false,
    "jupyter": {
     "outputs_hidden": false
    }
   },
   "outputs": [
    {
     "data": {
      "text/html": [
       "<style>/* Styles used for the Hoogle display in the pager */\n",
       ".hoogle-doc {\n",
       "display: block;\n",
       "padding-bottom: 1.3em;\n",
       "padding-left: 0.4em;\n",
       "}\n",
       ".hoogle-code {\n",
       "display: block;\n",
       "font-family: monospace;\n",
       "white-space: pre;\n",
       "}\n",
       ".hoogle-text {\n",
       "display: block;\n",
       "}\n",
       ".hoogle-name {\n",
       "color: green;\n",
       "font-weight: bold;\n",
       "}\n",
       ".hoogle-head {\n",
       "font-weight: bold;\n",
       "}\n",
       ".hoogle-sub {\n",
       "display: block;\n",
       "margin-left: 0.4em;\n",
       "}\n",
       ".hoogle-package {\n",
       "font-weight: bold;\n",
       "font-style: italic;\n",
       "}\n",
       ".hoogle-module {\n",
       "font-weight: bold;\n",
       "}\n",
       ".hoogle-class {\n",
       "font-weight: bold;\n",
       "}\n",
       ".get-type {\n",
       "color: green;\n",
       "font-weight: bold;\n",
       "font-family: monospace;\n",
       "display: block;\n",
       "white-space: pre-wrap;\n",
       "}\n",
       ".show-type {\n",
       "color: green;\n",
       "font-weight: bold;\n",
       "font-family: monospace;\n",
       "margin-left: 1em;\n",
       "}\n",
       ".mono {\n",
       "font-family: monospace;\n",
       "display: block;\n",
       "}\n",
       ".err-msg {\n",
       "color: red;\n",
       "font-style: italic;\n",
       "font-family: monospace;\n",
       "white-space: pre;\n",
       "display: block;\n",
       "}\n",
       "#unshowable {\n",
       "color: red;\n",
       "font-weight: bold;\n",
       "}\n",
       ".err-msg.in.collapse {\n",
       "padding-top: 0.7em;\n",
       "}\n",
       ".highlight-code {\n",
       "white-space: pre;\n",
       "font-family: monospace;\n",
       "}\n",
       ".suggestion-warning { \n",
       "font-weight: bold;\n",
       "color: rgb(200, 130, 0);\n",
       "}\n",
       ".suggestion-error { \n",
       "font-weight: bold;\n",
       "color: red;\n",
       "}\n",
       ".suggestion-name {\n",
       "font-weight: bold;\n",
       "}\n",
       "</style><div class=\"suggestion-name\" style=\"clear:both;\">Redundant bracket</div><div class=\"suggestion-row\" style=\"float: left;\"><div class=\"suggestion-warning\">Found:</div><div class=\"highlight-code\" id=\"haskell\">(snd result) !! 2</div></div><div class=\"suggestion-row\" style=\"float: left;\"><div class=\"suggestion-warning\">Why Not:</div><div class=\"highlight-code\" id=\"haskell\">snd result !! 2</div></div>"
      ],
      "text/plain": [
       "Line 1: Redundant bracket\n",
       "Found:\n",
       "(snd result) !! 2\n",
       "Why not:\n",
       "snd result !! 2"
      ]
     },
     "metadata": {},
     "output_type": "display_data"
    },
    {
     "ename": "",
     "evalue": "",
     "header": "MessageHeader {mhIdentifiers = [\"04ce06a5-0476-4de1-92e0-35aca653c3aa\"], mhParentHeader = Just (MessageHeader {mhIdentifiers = [\"04ce06a5-0476-4de1-92e0-35aca653c3aa\"], mhParentHeader = Nothing, mhMetadata = Metadata (fromList [(\"recordTiming\",Bool False),(\"deletedCells\",Array []),(\"cellId\",String \"ed407c9b-818b-45fb-a9f6-4c566fe7a68c\")]), mhMessageId = UUID {uuidToString = \"adbfb8f3-10f4-46eb-8b29-11719c6bfdc2\"}, mhSessionId = UUID {uuidToString = \"04ce06a5-0476-4de1-92e0-35aca653c3aa\"}, mhUsername = \"\", mhMsgType = ExecuteRequestMessage, mhBuffers = []}), mhMetadata = Metadata (fromList []), mhMessageId = UUID {uuidToString = \"fa49f39c-3fc2-44af-ba58-40154ff26a10\"}, mhSessionId = UUID {uuidToString = \"04ce06a5-0476-4de1-92e0-35aca653c3aa\"}, mhUsername = \"\", mhMsgType = ExecuteErrorMessage, mhBuffers = []}",
     "output_type": "error",
     "traceback": [
      "<interactive>:1:11: error: Variable not in scope: result :: (a0, [a])"
     ]
    }
   ],
   "source": [
    "exp ((snd result)!!2)"
   ]
  },
  {
   "cell_type": "code",
   "execution_count": 50,
   "metadata": {
    "collapsed": false,
    "jupyter": {
     "outputs_hidden": false
    }
   },
   "outputs": [
    {
     "data": {
      "text/html": [
       "<style>/* Styles used for the Hoogle display in the pager */\n",
       ".hoogle-doc {\n",
       "display: block;\n",
       "padding-bottom: 1.3em;\n",
       "padding-left: 0.4em;\n",
       "}\n",
       ".hoogle-code {\n",
       "display: block;\n",
       "font-family: monospace;\n",
       "white-space: pre;\n",
       "}\n",
       ".hoogle-text {\n",
       "display: block;\n",
       "}\n",
       ".hoogle-name {\n",
       "color: green;\n",
       "font-weight: bold;\n",
       "}\n",
       ".hoogle-head {\n",
       "font-weight: bold;\n",
       "}\n",
       ".hoogle-sub {\n",
       "display: block;\n",
       "margin-left: 0.4em;\n",
       "}\n",
       ".hoogle-package {\n",
       "font-weight: bold;\n",
       "font-style: italic;\n",
       "}\n",
       ".hoogle-module {\n",
       "font-weight: bold;\n",
       "}\n",
       ".hoogle-class {\n",
       "font-weight: bold;\n",
       "}\n",
       ".get-type {\n",
       "color: green;\n",
       "font-weight: bold;\n",
       "font-family: monospace;\n",
       "display: block;\n",
       "white-space: pre-wrap;\n",
       "}\n",
       ".show-type {\n",
       "color: green;\n",
       "font-weight: bold;\n",
       "font-family: monospace;\n",
       "margin-left: 1em;\n",
       "}\n",
       ".mono {\n",
       "font-family: monospace;\n",
       "display: block;\n",
       "}\n",
       ".err-msg {\n",
       "color: red;\n",
       "font-style: italic;\n",
       "font-family: monospace;\n",
       "white-space: pre;\n",
       "display: block;\n",
       "}\n",
       "#unshowable {\n",
       "color: red;\n",
       "font-weight: bold;\n",
       "}\n",
       ".err-msg.in.collapse {\n",
       "padding-top: 0.7em;\n",
       "}\n",
       ".highlight-code {\n",
       "white-space: pre;\n",
       "font-family: monospace;\n",
       "}\n",
       ".suggestion-warning { \n",
       "font-weight: bold;\n",
       "color: rgb(200, 130, 0);\n",
       "}\n",
       ".suggestion-error { \n",
       "font-weight: bold;\n",
       "color: red;\n",
       "}\n",
       ".suggestion-name {\n",
       "font-weight: bold;\n",
       "}\n",
       "</style><div class=\"suggestion-name\" style=\"clear:both;\">Redundant bracket</div><div class=\"suggestion-row\" style=\"float: left;\"><div class=\"suggestion-warning\">Found:</div><div class=\"highlight-code\" id=\"haskell\">(snd result) !! 3</div></div><div class=\"suggestion-row\" style=\"float: left;\"><div class=\"suggestion-warning\">Why Not:</div><div class=\"highlight-code\" id=\"haskell\">snd result !! 3</div></div>"
      ],
      "text/plain": [
       "Line 1: Redundant bracket\n",
       "Found:\n",
       "(snd result) !! 3\n",
       "Why not:\n",
       "snd result !! 3"
      ]
     },
     "metadata": {},
     "output_type": "display_data"
    },
    {
     "ename": "",
     "evalue": "",
     "header": "MessageHeader {mhIdentifiers = [\"04ce06a5-0476-4de1-92e0-35aca653c3aa\"], mhParentHeader = Just (MessageHeader {mhIdentifiers = [\"04ce06a5-0476-4de1-92e0-35aca653c3aa\"], mhParentHeader = Nothing, mhMetadata = Metadata (fromList [(\"recordTiming\",Bool False),(\"deletedCells\",Array []),(\"cellId\",String \"c8fb0e56-8b72-4c57-aac9-0c75f2c34a11\")]), mhMessageId = UUID {uuidToString = \"a5340abb-ed5c-457b-aa7e-61db7684212d\"}, mhSessionId = UUID {uuidToString = \"04ce06a5-0476-4de1-92e0-35aca653c3aa\"}, mhUsername = \"\", mhMsgType = ExecuteRequestMessage, mhBuffers = []}), mhMetadata = Metadata (fromList []), mhMessageId = UUID {uuidToString = \"822e6a95-9849-4c05-89b6-adddffb4ad40\"}, mhSessionId = UUID {uuidToString = \"04ce06a5-0476-4de1-92e0-35aca653c3aa\"}, mhUsername = \"\", mhMsgType = ExecuteErrorMessage, mhBuffers = []}",
     "output_type": "error",
     "traceback": [
      "<interactive>:1:11: error: Variable not in scope: result :: (a0, [a])"
     ]
    }
   ],
   "source": [
    "exp ((snd result)!!3)"
   ]
  },
  {
   "cell_type": "code",
   "execution_count": 51,
   "metadata": {
    "collapsed": false,
    "jupyter": {
     "outputs_hidden": false
    }
   },
   "outputs": [
    {
     "data": {
      "text/html": [
       "<style>/* Styles used for the Hoogle display in the pager */\n",
       ".hoogle-doc {\n",
       "display: block;\n",
       "padding-bottom: 1.3em;\n",
       "padding-left: 0.4em;\n",
       "}\n",
       ".hoogle-code {\n",
       "display: block;\n",
       "font-family: monospace;\n",
       "white-space: pre;\n",
       "}\n",
       ".hoogle-text {\n",
       "display: block;\n",
       "}\n",
       ".hoogle-name {\n",
       "color: green;\n",
       "font-weight: bold;\n",
       "}\n",
       ".hoogle-head {\n",
       "font-weight: bold;\n",
       "}\n",
       ".hoogle-sub {\n",
       "display: block;\n",
       "margin-left: 0.4em;\n",
       "}\n",
       ".hoogle-package {\n",
       "font-weight: bold;\n",
       "font-style: italic;\n",
       "}\n",
       ".hoogle-module {\n",
       "font-weight: bold;\n",
       "}\n",
       ".hoogle-class {\n",
       "font-weight: bold;\n",
       "}\n",
       ".get-type {\n",
       "color: green;\n",
       "font-weight: bold;\n",
       "font-family: monospace;\n",
       "display: block;\n",
       "white-space: pre-wrap;\n",
       "}\n",
       ".show-type {\n",
       "color: green;\n",
       "font-weight: bold;\n",
       "font-family: monospace;\n",
       "margin-left: 1em;\n",
       "}\n",
       ".mono {\n",
       "font-family: monospace;\n",
       "display: block;\n",
       "}\n",
       ".err-msg {\n",
       "color: red;\n",
       "font-style: italic;\n",
       "font-family: monospace;\n",
       "white-space: pre;\n",
       "display: block;\n",
       "}\n",
       "#unshowable {\n",
       "color: red;\n",
       "font-weight: bold;\n",
       "}\n",
       ".err-msg.in.collapse {\n",
       "padding-top: 0.7em;\n",
       "}\n",
       ".highlight-code {\n",
       "white-space: pre;\n",
       "font-family: monospace;\n",
       "}\n",
       ".suggestion-warning { \n",
       "font-weight: bold;\n",
       "color: rgb(200, 130, 0);\n",
       "}\n",
       ".suggestion-error { \n",
       "font-weight: bold;\n",
       "color: red;\n",
       "}\n",
       ".suggestion-name {\n",
       "font-weight: bold;\n",
       "}\n",
       "</style><div class=\"suggestion-name\" style=\"clear:both;\">Redundant bracket</div><div class=\"suggestion-row\" style=\"float: left;\"><div class=\"suggestion-warning\">Found:</div><div class=\"highlight-code\" id=\"haskell\">(atan ((snd result) !! 4)) * 2</div></div><div class=\"suggestion-row\" style=\"float: left;\"><div class=\"suggestion-warning\">Why Not:</div><div class=\"highlight-code\" id=\"haskell\">atan ((snd result) !! 4) * 2</div></div><div class=\"suggestion-name\" style=\"clear:both;\">Redundant bracket</div><div class=\"suggestion-row\" style=\"float: left;\"><div class=\"suggestion-warning\">Found:</div><div class=\"highlight-code\" id=\"haskell\">(snd result) !! 4</div></div><div class=\"suggestion-row\" style=\"float: left;\"><div class=\"suggestion-warning\">Why Not:</div><div class=\"highlight-code\" id=\"haskell\">snd result !! 4</div></div>"
      ],
      "text/plain": [
       "Line 1: Redundant bracket\n",
       "Found:\n",
       "(atan ((snd result) !! 4)) * 2\n",
       "Why not:\n",
       "atan ((snd result) !! 4) * 2Line 1: Redundant bracket\n",
       "Found:\n",
       "(snd result) !! 4\n",
       "Why not:\n",
       "snd result !! 4"
      ]
     },
     "metadata": {},
     "output_type": "display_data"
    },
    {
     "ename": "",
     "evalue": "",
     "header": "MessageHeader {mhIdentifiers = [\"04ce06a5-0476-4de1-92e0-35aca653c3aa\"], mhParentHeader = Just (MessageHeader {mhIdentifiers = [\"04ce06a5-0476-4de1-92e0-35aca653c3aa\"], mhParentHeader = Nothing, mhMetadata = Metadata (fromList [(\"recordTiming\",Bool False),(\"deletedCells\",Array []),(\"cellId\",String \"ceed6ef4-47b4-4ca8-a715-eaad65bd01cd\")]), mhMessageId = UUID {uuidToString = \"d2cc3715-89d1-4e19-b510-3cf2820ebbcb\"}, mhSessionId = UUID {uuidToString = \"04ce06a5-0476-4de1-92e0-35aca653c3aa\"}, mhUsername = \"\", mhMsgType = ExecuteRequestMessage, mhBuffers = []}), mhMetadata = Metadata (fromList []), mhMessageId = UUID {uuidToString = \"53deaabe-ddb9-4158-b552-e233ecaf1cb8\"}, mhSessionId = UUID {uuidToString = \"04ce06a5-0476-4de1-92e0-35aca653c3aa\"}, mhUsername = \"\", mhMsgType = ExecuteErrorMessage, mhBuffers = []}",
     "output_type": "error",
     "traceback": [
      "<interactive>:1:13: error: Variable not in scope: result :: (a0, [a])"
     ]
    }
   ],
   "source": [
    "(atan ((snd result)!!4)) * 2 / pi"
   ]
  },
  {
   "cell_type": "code",
   "execution_count": null,
   "metadata": {
    "collapsed": false,
    "jupyter": {
     "outputs_hidden": false
    }
   },
   "outputs": [],
   "source": []
  }
 ],
 "metadata": {
  "kernelspec": {
   "display_name": "Haskell - ihaskell-data-env",
   "language": "haskell",
   "name": "ihaskell-data-env"
  },
  "language_info": {
   "codemirror_mode": "ihaskell",
   "file_extension": ".hs",
   "name": "haskell",
   "pygments_lexer": "Haskell",
   "version": "8.8.3"
  },
  "name": "TestHaskellAndInlineR.ipynb"
 },
 "nbformat": 4,
 "nbformat_minor": 4
}
